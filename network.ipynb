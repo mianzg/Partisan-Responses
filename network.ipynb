{
  "nbformat": 4,
  "nbformat_minor": 0,
  "metadata": {
    "colab": {
      "name": "network.ipynb",
      "provenance": [],
      "collapsed_sections": [],
      "authorship_tag": "ABX9TyMSefcXzJtSUUT1Mw7LSLp2",
      "include_colab_link": true
    },
    "kernelspec": {
      "name": "python3",
      "display_name": "Python 3"
    }
  },
  "cells": [
    {
      "cell_type": "markdown",
      "metadata": {
        "id": "view-in-github",
        "colab_type": "text"
      },
      "source": [
        "<a href=\"https://colab.research.google.com/github/rostro36/Partisan-Responses/blob/master/network.ipynb\" target=\"_parent\"><img src=\"https://colab.research.google.com/assets/colab-badge.svg\" alt=\"Open In Colab\"/></a>"
      ]
    },
    {
      "cell_type": "markdown",
      "metadata": {
        "id": "0fxtENPmd7KX",
        "colab_type": "text"
      },
      "source": [
        "# Networking\n",
        "## Pipeline\n",
        "- Take pair [[[(subject,predicate,object)]],\"dem\"/\"rep\"]\n",
        "- Lemmatize predicate\n",
        "- subject/object\n",
        "  - remove stop words\n",
        "  - take USE\n",
        "  - search for nearest neighbor\n",
        "    - if neighbor near enough, use neighbor\n",
        "    - else create new node\n",
        "- add edge (subject,object,predicate)\n",
        "- update weights to party+=1, not_party=not_party\n",
        "\n",
        "## ToDo\n",
        "- Fiddling with the correct distance threshold\n",
        "- Test for small scale\n",
        "- Do Sentiment Propagation"
      ]
    },
    {
      "cell_type": "code",
      "metadata": {
        "id": "8yaaC-92ZT3R",
        "colab_type": "code",
        "colab": {
          "base_uri": "https://localhost:8080/",
          "height": 72
        },
        "outputId": "460870cf-bb71-48f2-a713-64c88c022c68"
      },
      "source": [
        "!pip install hnswlib\n",
        "#https://github.com/nmslib/hnswlib\n",
        "import hnswlib\n",
        "phrase_corpus_length=1\n",
        "node_index=None\n",
        "phrase_corpus=[]\n",
        "import networkx as nx\n",
        "#https://networkx.github.io/documentation/stable/reference/classes/multigraph.html#methods\n",
        "MG=nx.MultiGraph()\n",
        "import matplotlib.pyplot as plt\n",
        "import spacy\n",
        "sp = spacy.load('en')\n",
        "import tensorflow_hub as hub\n",
        "#https://colab.research.google.com/github/tensorflow/hub/blob/master/examples/colab/semantic_similarity_with_tf_hub_universal_encoder.ipynb#scrollTo=W-q2r7jyZGb7\n",
        "\n",
        "\n",
        "module_url = \"https://tfhub.dev/google/universal-sentence-encoder/4\"\n",
        "model = hub.load(module_url)"
      ],
      "execution_count": 1,
      "outputs": [
        {
          "output_type": "stream",
          "text": [
            "Requirement already satisfied: hnswlib in /usr/local/lib/python3.6/dist-packages (0.3.4)\n",
            "Requirement already satisfied: pybind11>=2.0 in /usr/local/lib/python3.6/dist-packages (from hnswlib) (2.5.0)\n",
            "Requirement already satisfied: numpy in /usr/local/lib/python3.6/dist-packages (from hnswlib) (1.18.5)\n"
          ],
          "name": "stdout"
        }
      ]
    },
    {
      "cell_type": "code",
      "metadata": {
        "id": "ClxjvT1NygLd",
        "colab_type": "code",
        "colab": {}
      },
      "source": [
        "def lemmatize(phrase):\n",
        "    return \" \".join([word.lemma_ for word in sp(phrase)])\n",
        "\n",
        "distance_threshold=0.5\n",
        "\n",
        "def add_node(phrase):\n",
        "  global phrase_corpus_length\n",
        "  phrase_corpus_length=phrase_corpus_length+1\n",
        "  global phrase_corpus\n",
        "  phrase_corpus.append(phrase)\n",
        "  if phrase_corpus_length>2:\n",
        "    global node_index\n",
        "    del node_index\n",
        "  node_index=hnswlib.Index('cosine', 512)\n",
        "  node_index.init_index(phrase_corpus_length, ef_construction = 200, M = 48, random_seed = 36)\n",
        "  if phrase_corpus_length>2:\n",
        "    node_index.load_index(\"node_index\",max_elements=phrase_corpus_length)\n",
        "  node_index.add_items(model([phrase]))\n",
        "  node_index.save_index(\"node_index\")\n",
        "  return\n",
        "\n",
        "def return_node(phrase):\n",
        "  non_stop_phrase=' '.join([token.text for token in sp(phrase) if not token.is_stop])\n",
        "  if len(non_stop_phrase)>1:\n",
        "    phrase=non_stop_phrase\n",
        "  if node_index is None:\n",
        "    add_node(phrase)\n",
        "  nearest_neighbor=node_index.knn_query(model([phrase]))\n",
        "  if nearest_neighbor!=[]:\n",
        "    closest_neighbor,closest_distance=nearest_neighbor\n",
        "  if closest_neighbor[0]==[]:\n",
        "    add_node(phrase)\n",
        "    return phrase\n",
        "  if closest_distance[0][0]>distance_threshold:\n",
        "    add_node(phrase)\n",
        "    return phrase\n",
        "  return phrase_corpus[closest_neighbor[0][0]]"
      ],
      "execution_count": 0,
      "outputs": []
    },
    {
      "cell_type": "code",
      "metadata": {
        "id": "Q4h82dqDZHdV",
        "colab_type": "code",
        "colab": {}
      },
      "source": [
        "sample=[[[],[('I','like','ice cream')],[('I', 'introducing','the College Opportunity Tax Credit Act of 2009')],[('This legislation','creates','a new tax credit that will put the cost of higher education in reach for American families'),('a new tax credit','put','the cost of higher education')]],'dem']\n",
        "\n",
        "def other(partisanship):\n",
        "  if partisanship =='rep':\n",
        "    return 'dem'\n",
        "  if partisanship =='dem':\n",
        "    return 'rep'\n",
        "  print(partisanship)\n",
        "  return None\n",
        "\n",
        "def add_edges(preprocess_output):\n",
        "  sentences=preprocess_output[0]\n",
        "  partisanship=preprocess_output[1]\n",
        "  for sentence in sentences:\n",
        "    for phrase in sentence:\n",
        "      subject=return_node(phrase[0])\n",
        "      objekt=return_node(phrase[2])\n",
        "      predicate=lemmatize(phrase[1])\n",
        "      attributes=MG.get_edge_data(subject,objekt,predicate)\n",
        "      if attributes:\n",
        "        MG.remove_edge(subject,objekt,predicate)\n",
        "        weight=attributes['weight']+1\n",
        "        if partisanship in ('dem','rep'):\n",
        "          attributes[partisanship]=attributes[partisanship]+1\n",
        "        dem=attributes['dem']\n",
        "        rep=attributes['rep']\n",
        "      else:\n",
        "        weight=1\n",
        "        dem=0\n",
        "        rep=0\n",
        "        if partisanship=='dem':\n",
        "          dem=1\n",
        "        elif partisanship=='rep':\n",
        "          rep=1\n",
        "      MG.add_edge(subject,objekt, key=predicate, weight=weight,dem=dem,rep=rep)"
      ],
      "execution_count": 0,
      "outputs": []
    },
    {
      "cell_type": "code",
      "metadata": {
        "id": "NOYT7Oxgbhme",
        "colab_type": "code",
        "outputId": "48885a12-e24d-40b6-bd8e-fe3e59538d30",
        "colab": {
          "base_uri": "https://localhost:8080/",
          "height": 468
        }
      },
      "source": [
        "add_edges(sample)\n",
        "\n",
        "nx.draw(MG, with_labels=True, font_weight='bold')\n",
        "print(\"Output for an edge that exists: e.g. ('I','ice cream','like')\")\n",
        "print(MG.get_edge_data('I','ice cream','like'))\n",
        "print(\"Output for an edge that does not exist: e.g. ('I','ice')\")\n",
        "print(MG.get_edge_data('I','ice'))\n",
        "print('All edges')\n",
        "print(MG.edges)"
      ],
      "execution_count": 4,
      "outputs": [
        {
          "output_type": "stream",
          "text": [
            "/usr/local/lib/python3.6/dist-packages/ipykernel_launcher.py:31: DeprecationWarning: The truth value of an empty array is ambiguous. Returning False, but in future this will result in an error. Use `array.size > 0` to check that an array is not empty.\n"
          ],
          "name": "stderr"
        },
        {
          "output_type": "stream",
          "text": [
            "Output for an edge that exists: e.g. ('I','ice cream','like')\n",
            "{'weight': 1, 'dem': 1, 'rep': 0}\n",
            "Output for an edge that does not exist: e.g. ('I','ice')\n",
            "None\n",
            "All edges\n",
            "[('I', 'ice cream', 'like'), ('I', 'College Opportunity Tax Credit Act 2009', 'introduce'), ('College Opportunity Tax Credit Act 2009', 'legislation', 'create'), ('College Opportunity Tax Credit Act 2009', 'cost higher education', 'put')]\n"
          ],
          "name": "stdout"
        },
        {
          "output_type": "display_data",
          "data": {
            "image/png": "[encoded data removed]",
            "text/plain": [
              "<Figure size 432x288 with 1 Axes>"
            ]
          },
          "metadata": {
            "tags": []
          }
        }
      ]
    }
  ]
}