{
  "nbformat": 4,
  "nbformat_minor": 0,
  "metadata": {
    "colab": {
      "name": "network.ipynb",
      "provenance": [],
      "collapsed_sections": [],
      "authorship_tag": "ABX9TyMSNA+ZVLlVYs6qMDdVj/xa",
      "include_colab_link": true
    },
    "kernelspec": {
      "name": "python3",
      "display_name": "Python 3"
    }
  },
  "cells": [
    {
      "cell_type": "markdown",
      "metadata": {
        "id": "view-in-github",
        "colab_type": "text"
      },
      "source": [
        "<a href=\"https://colab.research.google.com/github/rostro36/Partisan-Responses/blob/master/network.ipynb\" target=\"_parent\"><img src=\"https://colab.research.google.com/assets/colab-badge.svg\" alt=\"Open In Colab\"/></a>"
      ]
    },
    {
      "cell_type": "code",
      "metadata": {
        "id": "8yaaC-92ZT3R",
        "colab_type": "code",
        "colab": {
          "base_uri": "https://localhost:8080/",
          "height": 72
        },
        "outputId": "a4d9adf3-61cf-4881-fe4a-2ff935ae2b1e"
      },
      "source": [
        "!pip install hnswlib\n",
        "#https://github.com/nmslib/hnswlib\n",
        "import hnswlib\n",
        "phrase_corpus_length=1\n",
        "node_index=None\n",
        "phrase_corpus=[]\n",
        "import networkx as nx\n",
        "#https://networkx.github.io/documentation/stable/reference/classes/multigraph.html#methods\n",
        "MG=nx.MultiGraph()\n",
        "import matplotlib.pyplot as plt\n",
        "import spacy\n",
        "sp = spacy.load('en')\n",
        "import tensorflow as tf\n",
        "import tensorflow_hub as hub\n",
        "#https://colab.research.google.com/github/tensorflow/hub/blob/master/examples/colab/semantic_similarity_with_tf_hub_universal_encoder.ipynb#scrollTo=W-q2r7jyZGb7\n",
        "import numpy as np\n",
        "import math\n",
        "\n",
        "module_url = \"https://tfhub.dev/google/universal-sentence-encoder/4\"\n",
        "model = hub.load(module_url)"
      ],
      "execution_count": 1,
      "outputs": [
        {
          "output_type": "stream",
          "text": [
            "Requirement already satisfied: hnswlib in /usr/local/lib/python3.6/dist-packages (0.3.4)\n",
            "Requirement already satisfied: pybind11>=2.0 in /usr/local/lib/python3.6/dist-packages (from hnswlib) (2.5.0)\n",
            "Requirement already satisfied: numpy in /usr/local/lib/python3.6/dist-packages (from hnswlib) (1.18.5)\n"
          ],
          "name": "stdout"
        }
      ]
    },
    {
      "cell_type": "code",
      "metadata": {
        "id": "ClxjvT1NygLd",
        "colab_type": "code",
        "colab": {}
      },
      "source": [
        "def lemmatize(phrase):\n",
        "    return \" \".join([word.lemma_ for word in sp(phrase)])\n",
        "\n",
        "similarity_threshold=0.5\n",
        "\n",
        "def add_node(phrase):\n",
        "  global phrase_corpus_length\n",
        "  phrase_corpus_length=phrase_corpus_length+1\n",
        "  global phrase_corpus\n",
        "  phrase_corpus.append(phrase)\n",
        "  if phrase_corpus_length>2:\n",
        "    global node_index\n",
        "    del node_index\n",
        "  node_index=hnswlib.Index('cosine', 512)\n",
        "  node_index.init_index(phrase_corpus_length, ef_construction = 200, M = 16, random_seed = 36)\n",
        "  if phrase_corpus_length>2:\n",
        "    node_index.load_index(\"node_index\",max_elements=phrase_corpus_length)\n",
        "  node_index.add_items(model([phrase]))\n",
        "  node_index.save_index(\"node_index\")\n",
        "  return\n",
        "\n",
        "def return_node(phrase):\n",
        "  print(phrase)\n",
        "  non_stop_phrase=' '.join([token.text for token in sp(phrase) if not token.is_stop])\n",
        "  if len(non_stop_phrase)>1:\n",
        "    phrase=non_stop_phrase\n",
        "  if node_index is None:\n",
        "    add_node(phrase)\n",
        "  nearest_neighbor=node_index.knn_query(model([phrase]))\n",
        "  if nearest_neighbor!=[]:\n",
        "    closest_neighbor,closest_distance=nearest_neighbor\n",
        "    print('hi')\n",
        "  if closest_neighbor[0]==[]:\n",
        "    add_node(phrase)\n",
        "    return phrase\n",
        "  print(closest_distance[0][0])\n",
        "  if closest_distance[0][0]>similarity_threshold:\n",
        "    add_node(phrase)\n",
        "    return phrase\n",
        "  return phrase_corpus[closest_neighbor[0][0]]"
      ],
      "execution_count": 0,
      "outputs": []
    },
    {
      "cell_type": "code",
      "metadata": {
        "id": "Q4h82dqDZHdV",
        "colab_type": "code",
        "colab": {}
      },
      "source": [
        "sample=[[[],[('I','like','ice cream')],[('I', 'introducing','the College Opportunity Tax Credit Act of 2009')],[('This legislation','creates','a new tax credit that will put the cost of higher education in reach for American families'),('a new tax credit','put','the cost of higher education')]],'dem']\n",
        "\n",
        "def other(partisanship):\n",
        "  if partisanship =='rep':\n",
        "    return 'dem'\n",
        "  if partisanship =='dem':\n",
        "    return 'rep'\n",
        "  print(partisanship)\n",
        "  return None\n",
        "\n",
        "def add_edge(preprocess_output):\n",
        "  sentences=preprocess_output[0]\n",
        "  partisanship=preprocess_output[1]\n",
        "  for sentence in sentences:\n",
        "    for phrase in sentence:\n",
        "      subject=return_node(phrase[0])\n",
        "      objekt=return_node(phrase[2])\n",
        "      predicate=lemmatize(phrase[1])\n",
        "      attributes=MG.get_edge_data(subject,objekt,predicate)\n",
        "      if attributes:\n",
        "        MG.remove_edge(subject,objekt,predicate)\n",
        "        weight=attributes['weight']+1\n",
        "        if partisanship in ('dem','rep'):\n",
        "          attributes[partisanship]=attributes[partisanship]+1\n",
        "        dem=attributes['dem']\n",
        "        rep=attributes['rep']\n",
        "      else:\n",
        "        weight=1\n",
        "        dem=0\n",
        "        rep=0\n",
        "        if partisanship=='dem':\n",
        "          dem=1\n",
        "        elif partisanship=='rep':\n",
        "          rep=1\n",
        "      MG.add_edge(subject,objekt, key=predicate, weight=weight,dem=dem,rep=rep)"
      ],
      "execution_count": 0,
      "outputs": []
    },
    {
      "cell_type": "code",
      "metadata": {
        "id": "NOYT7Oxgbhme",
        "colab_type": "code",
        "outputId": "958cfb4a-c1e8-47af-8448-19d823f23013",
        "colab": {
          "base_uri": "https://localhost:8080/",
          "height": 853
        }
      },
      "source": [
        "add_edge(sample)\n",
        "\n",
        "nx.draw(MG, with_labels=True, font_weight='bold')\n",
        "print(MG.get_edge_data('I','ice cream','like'))\n",
        "print(MG.get_edge_data('I','ice'))\n",
        "print(MG.edges)"
      ],
      "execution_count": 4,
      "outputs": [
        {
          "output_type": "stream",
          "text": [
            "I\n",
            "hi\n",
            "1.7881393e-07\n",
            "ice cream\n",
            "hi\n",
            "0.90004796\n",
            "I\n",
            "hi\n",
            "1.7881393e-07\n",
            "the College Opportunity Tax Credit Act of 2009\n",
            "hi\n",
            "1.0398072\n",
            "This legislation\n",
            "hi\n",
            "0.77302694\n",
            "a new tax credit that will put the cost of higher education in reach for American families\n",
            "hi\n",
            "0.48616505\n",
            "a new tax credit\n",
            "hi\n",
            "0.35999382\n",
            "the cost of higher education\n",
            "hi\n",
            "0.8048136\n",
            "{'weight': 1, 'dem': 1, 'rep': 0}\n",
            "None\n",
            "[('I', 'ice cream', 'like'), ('I', 'College Opportunity Tax Credit Act 2009', 'introduce'), ('College Opportunity Tax Credit Act 2009', 'legislation', 'create'), ('College Opportunity Tax Credit Act 2009', 'cost higher education', 'put')]\n"
          ],
          "name": "stdout"
        },
        {
          "output_type": "stream",
          "text": [
            "/usr/local/lib/python3.6/dist-packages/ipykernel_launcher.py:33: DeprecationWarning: The truth value of an empty array is ambiguous. Returning False, but in future this will result in an error. Use `array.size > 0` to check that an array is not empty.\n"
          ],
          "name": "stderr"
        },
        {
          "output_type": "display_data",
          "data": {
            "image/png": "[encoded data removed]",
            "text/plain": [
              "<Figure size 432x288 with 1 Axes>"
            ]
          },
          "metadata": {
            "tags": []
          }
        }
      ]
    },
    {
      "cell_type": "code",
      "metadata": {
        "id": "Sd1iA8ujH4Sd",
        "colab_type": "code",
        "colab": {}
      },
      "source": [
        ""
      ],
      "execution_count": 0,
      "outputs": []
    },
    {
      "cell_type": "code",
      "metadata": {
        "id": "CaakMj9IIHEk",
        "colab_type": "code",
        "colab": {}
      },
      "source": [
        ""
      ],
      "execution_count": 0,
      "outputs": []
    }
  ]
}