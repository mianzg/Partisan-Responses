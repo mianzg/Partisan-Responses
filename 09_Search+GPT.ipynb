{
 "cells": [
  {
   "cell_type": "markdown",
   "metadata": {
    "colab_type": "text",
    "id": "view-in-github"
   },
   "source": [
    "<a href=\"https://colab.research.google.com/github/rostro36/Partisan-Responses/blob/master/8.Search%2BGPT.ipynb\" target=\"_parent\"><img src=\"https://colab.research.google.com/assets/colab-badge.svg\" alt=\"Open In Colab\"/></a>"
   ]
  },
  {
   "cell_type": "code",
   "execution_count": 2,
   "metadata": {
    "colab": {
     "base_uri": "https://localhost:8080/",
     "height": 35
    },
    "colab_type": "code",
    "id": "vmCthZqgCf6N",
    "outputId": "8821bd76-77a4-40c9-dd48-5e8a9ac59fe4"
   },
   "outputs": [
    {
     "name": "stdout",
     "output_type": "stream",
     "text": [
      "Drive already mounted at /content/drive; to attempt to forcibly remount, call drive.mount(\"/content/drive\", force_remount=True).\n"
     ]
    }
   ],
   "source": [
    "from google.colab import drive\n",
    "drive.mount('/content/drive')\n",
    "\n",
    "import os\n",
    "os.chdir('/content/drive/My Drive/Partisan-Responses-master')"
   ]
  },
  {
   "cell_type": "code",
   "execution_count": 4,
   "metadata": {
    "colab": {
     "base_uri": "https://localhost:8080/",
     "height": 1000
    },
    "colab_type": "code",
    "id": "bTX7NlwGoTeO",
    "outputId": "b6f71ab0-5db4-4d04-a85f-eccab158b8cf"
   },
   "outputs": [
    {
     "name": "stdout",
     "output_type": "stream",
     "text": [
      "Looking in links: https://download.pytorch.org/whl/torch_stable.html\n",
      "Requirement already satisfied: transformers in /usr/local/lib/python3.6/dist-packages (2.11.0)\n",
      "Requirement already satisfied: wandb in /usr/local/lib/python3.6/dist-packages (0.9.5)\n",
      "Requirement already satisfied: neuralcoref in /usr/local/lib/python3.6/dist-packages (4.0)\n",
      "Requirement already satisfied: allennlp in /usr/local/lib/python3.6/dist-packages (1.0.0)\n",
      "Requirement already satisfied: hnswlib in /usr/local/lib/python3.6/dist-packages (0.4.0)\n",
      "Requirement already satisfied: allennlp-models in /usr/local/lib/python3.6/dist-packages (1.0.0)\n",
      "Collecting torch==1.5.0+cu101\n",
      "\u001b[?25l  Downloading https://download.pytorch.org/whl/cu101/torch-1.5.0%2Bcu101-cp36-cp36m-linux_x86_64.whl (703.8MB)\n",
      "\u001b[K     |████████████████████████████████| 703.8MB 23kB/s \n",
      "\u001b[?25hRequirement already satisfied: packaging in /usr/local/lib/python3.6/dist-packages (from transformers) (20.4)\n",
      "Requirement already satisfied: tqdm>=4.27 in /usr/local/lib/python3.6/dist-packages (from transformers) (4.41.1)\n",
      "Requirement already satisfied: dataclasses; python_version < \"3.7\" in /usr/local/lib/python3.6/dist-packages (from transformers) (0.7)\n",
      "Requirement already satisfied: sentencepiece in /usr/local/lib/python3.6/dist-packages (from transformers) (0.1.91)\n",
      "Requirement already satisfied: requests in /usr/local/lib/python3.6/dist-packages (from transformers) (2.23.0)\n",
      "Requirement already satisfied: sacremoses in /usr/local/lib/python3.6/dist-packages (from transformers) (0.0.43)\n",
      "Requirement already satisfied: tokenizers==0.7.0 in /usr/local/lib/python3.6/dist-packages (from transformers) (0.7.0)\n",
      "Requirement already satisfied: filelock in /usr/local/lib/python3.6/dist-packages (from transformers) (3.0.12)\n",
      "Requirement already satisfied: numpy in /usr/local/lib/python3.6/dist-packages (from transformers) (1.18.5)\n",
      "Requirement already satisfied: regex!=2019.12.17 in /usr/local/lib/python3.6/dist-packages (from transformers) (2019.12.20)\n",
      "Requirement already satisfied: PyYAML>=3.10 in /usr/local/lib/python3.6/dist-packages (from wandb) (3.13)\n",
      "Requirement already satisfied: configparser>=3.8.1 in /usr/local/lib/python3.6/dist-packages (from wandb) (5.0.0)\n",
      "Requirement already satisfied: GitPython>=1.0.0 in /usr/local/lib/python3.6/dist-packages (from wandb) (3.1.7)\n",
      "Requirement already satisfied: six>=1.10.0 in /usr/local/lib/python3.6/dist-packages (from wandb) (1.15.0)\n",
      "Requirement already satisfied: docker-pycreds>=0.4.0 in /usr/local/lib/python3.6/dist-packages (from wandb) (0.4.0)\n",
      "Requirement already satisfied: watchdog>=0.8.3 in /usr/local/lib/python3.6/dist-packages (from wandb) (0.10.3)\n",
      "Requirement already satisfied: gql==0.2.0 in /usr/local/lib/python3.6/dist-packages (from wandb) (0.2.0)\n",
      "Requirement already satisfied: psutil>=5.0.0 in /usr/local/lib/python3.6/dist-packages (from wandb) (5.4.8)\n",
      "Requirement already satisfied: subprocess32>=3.5.3 in /usr/local/lib/python3.6/dist-packages (from wandb) (3.5.4)\n",
      "Requirement already satisfied: shortuuid>=0.5.0 in /usr/local/lib/python3.6/dist-packages (from wandb) (1.0.1)\n",
      "Requirement already satisfied: nvidia-ml-py3>=7.352.0 in /usr/local/lib/python3.6/dist-packages (from wandb) (7.352.0)\n",
      "Requirement already satisfied: python-dateutil>=2.6.1 in /usr/local/lib/python3.6/dist-packages (from wandb) (2.8.1)\n",
      "Requirement already satisfied: sentry-sdk>=0.4.0 in /usr/local/lib/python3.6/dist-packages (from wandb) (0.16.5)\n",
      "Requirement already satisfied: Click>=7.0 in /usr/local/lib/python3.6/dist-packages (from wandb) (7.1.2)\n",
      "Requirement already satisfied: spacy>=2.1.0 in /usr/local/lib/python3.6/dist-packages (from neuralcoref) (2.2.4)\n",
      "Requirement already satisfied: boto3 in /usr/local/lib/python3.6/dist-packages (from neuralcoref) (1.14.37)\n",
      "Requirement already satisfied: scikit-learn in /usr/local/lib/python3.6/dist-packages (from allennlp) (0.22.2.post1)\n",
      "Requirement already satisfied: overrides==3.0.0 in /usr/local/lib/python3.6/dist-packages (from allennlp) (3.0.0)\n",
      "Requirement already satisfied: nltk in /usr/local/lib/python3.6/dist-packages (from allennlp) (3.2.5)\n",
      "Requirement already satisfied: tensorboardX>=1.2 in /usr/local/lib/python3.6/dist-packages (from allennlp) (2.1)\n",
      "Requirement already satisfied: jsonnet>=0.10.0; sys_platform != \"win32\" in /usr/local/lib/python3.6/dist-packages (from allennlp) (0.16.0)\n",
      "Requirement already satisfied: pytest in /usr/local/lib/python3.6/dist-packages (from allennlp) (3.6.4)\n",
      "Requirement already satisfied: h5py in /usr/local/lib/python3.6/dist-packages (from allennlp) (2.10.0)\n",
      "Requirement already satisfied: jsonpickle in /usr/local/lib/python3.6/dist-packages (from allennlp) (1.4.1)\n",
      "Requirement already satisfied: scipy in /usr/local/lib/python3.6/dist-packages (from allennlp) (1.4.1)\n",
      "Requirement already satisfied: pybind11>=2.0 in /usr/local/lib/python3.6/dist-packages (from hnswlib) (2.5.0)\n",
      "Requirement already satisfied: py-rouge==1.1 in /usr/local/lib/python3.6/dist-packages (from allennlp-models) (1.1)\n",
      "Requirement already satisfied: word2number>=1.1 in /usr/local/lib/python3.6/dist-packages (from allennlp-models) (1.1)\n",
      "Requirement already satisfied: conllu==3.0 in /usr/local/lib/python3.6/dist-packages (from allennlp-models) (3.0)\n",
      "Requirement already satisfied: future in /usr/local/lib/python3.6/dist-packages (from torch==1.5.0+cu101) (0.16.0)\n",
      "Requirement already satisfied: pyparsing>=2.0.2 in /usr/local/lib/python3.6/dist-packages (from packaging->transformers) (2.4.7)\n",
      "Requirement already satisfied: chardet<4,>=3.0.2 in /usr/local/lib/python3.6/dist-packages (from requests->transformers) (3.0.4)\n",
      "Requirement already satisfied: certifi>=2017.4.17 in /usr/local/lib/python3.6/dist-packages (from requests->transformers) (2020.6.20)\n",
      "Requirement already satisfied: idna<3,>=2.5 in /usr/local/lib/python3.6/dist-packages (from requests->transformers) (2.10)\n",
      "Requirement already satisfied: urllib3!=1.25.0,!=1.25.1,<1.26,>=1.21.1 in /usr/local/lib/python3.6/dist-packages (from requests->transformers) (1.24.3)\n",
      "Requirement already satisfied: joblib in /usr/local/lib/python3.6/dist-packages (from sacremoses->transformers) (0.16.0)\n",
      "Requirement already satisfied: gitdb<5,>=4.0.1 in /usr/local/lib/python3.6/dist-packages (from GitPython>=1.0.0->wandb) (4.0.5)\n",
      "Requirement already satisfied: pathtools>=0.1.1 in /usr/local/lib/python3.6/dist-packages (from watchdog>=0.8.3->wandb) (0.1.2)\n",
      "Requirement already satisfied: graphql-core<2,>=0.5.0 in /usr/local/lib/python3.6/dist-packages (from gql==0.2.0->wandb) (1.1)\n",
      "Requirement already satisfied: promise<3,>=2.0 in /usr/local/lib/python3.6/dist-packages (from gql==0.2.0->wandb) (2.3)\n",
      "Requirement already satisfied: catalogue<1.1.0,>=0.0.7 in /usr/local/lib/python3.6/dist-packages (from spacy>=2.1.0->neuralcoref) (1.0.0)\n",
      "Requirement already satisfied: plac<1.2.0,>=0.9.6 in /usr/local/lib/python3.6/dist-packages (from spacy>=2.1.0->neuralcoref) (1.1.3)\n",
      "Requirement already satisfied: setuptools in /usr/local/lib/python3.6/dist-packages (from spacy>=2.1.0->neuralcoref) (49.2.0)\n",
      "Requirement already satisfied: thinc==7.4.0 in /usr/local/lib/python3.6/dist-packages (from spacy>=2.1.0->neuralcoref) (7.4.0)\n",
      "Requirement already satisfied: cymem<2.1.0,>=2.0.2 in /usr/local/lib/python3.6/dist-packages (from spacy>=2.1.0->neuralcoref) (2.0.3)\n",
      "Requirement already satisfied: blis<0.5.0,>=0.4.0 in /usr/local/lib/python3.6/dist-packages (from spacy>=2.1.0->neuralcoref) (0.4.1)\n",
      "Requirement already satisfied: srsly<1.1.0,>=1.0.2 in /usr/local/lib/python3.6/dist-packages (from spacy>=2.1.0->neuralcoref) (1.0.2)\n",
      "Requirement already satisfied: wasabi<1.1.0,>=0.4.0 in /usr/local/lib/python3.6/dist-packages (from spacy>=2.1.0->neuralcoref) (0.7.1)\n",
      "Requirement already satisfied: preshed<3.1.0,>=3.0.2 in /usr/local/lib/python3.6/dist-packages (from spacy>=2.1.0->neuralcoref) (3.0.2)\n",
      "Requirement already satisfied: murmurhash<1.1.0,>=0.28.0 in /usr/local/lib/python3.6/dist-packages (from spacy>=2.1.0->neuralcoref) (1.0.2)\n",
      "Requirement already satisfied: s3transfer<0.4.0,>=0.3.0 in /usr/local/lib/python3.6/dist-packages (from boto3->neuralcoref) (0.3.3)\n",
      "Requirement already satisfied: botocore<1.18.0,>=1.17.37 in /usr/local/lib/python3.6/dist-packages (from boto3->neuralcoref) (1.17.37)\n",
      "Requirement already satisfied: jmespath<1.0.0,>=0.7.1 in /usr/local/lib/python3.6/dist-packages (from boto3->neuralcoref) (0.10.0)\n",
      "Requirement already satisfied: protobuf>=3.8.0 in /usr/local/lib/python3.6/dist-packages (from tensorboardX>=1.2->allennlp) (3.12.4)\n",
      "Requirement already satisfied: pluggy<0.8,>=0.5 in /usr/local/lib/python3.6/dist-packages (from pytest->allennlp) (0.7.1)\n",
      "Requirement already satisfied: py>=1.5.0 in /usr/local/lib/python3.6/dist-packages (from pytest->allennlp) (1.9.0)\n",
      "Requirement already satisfied: attrs>=17.4.0 in /usr/local/lib/python3.6/dist-packages (from pytest->allennlp) (19.3.0)\n",
      "Requirement already satisfied: more-itertools>=4.0.0 in /usr/local/lib/python3.6/dist-packages (from pytest->allennlp) (8.4.0)\n",
      "Requirement already satisfied: atomicwrites>=1.0 in /usr/local/lib/python3.6/dist-packages (from pytest->allennlp) (1.4.0)\n",
      "Requirement already satisfied: importlib-metadata in /usr/local/lib/python3.6/dist-packages (from jsonpickle->allennlp) (1.7.0)\n",
      "Requirement already satisfied: smmap<4,>=3.0.1 in /usr/local/lib/python3.6/dist-packages (from gitdb<5,>=4.0.1->GitPython>=1.0.0->wandb) (3.0.4)\n",
      "Requirement already satisfied: docutils<0.16,>=0.10 in /usr/local/lib/python3.6/dist-packages (from botocore<1.18.0,>=1.17.37->boto3->neuralcoref) (0.15.2)\n",
      "Requirement already satisfied: zipp>=0.5 in /usr/local/lib/python3.6/dist-packages (from importlib-metadata->jsonpickle->allennlp) (3.1.0)\n",
      "\u001b[31mERROR: torchvision 0.7.0+cu101 has requirement torch==1.6.0, but you'll have torch 1.5.0+cu101 which is incompatible.\u001b[0m\n",
      "Installing collected packages: torch\n",
      "  Found existing installation: torch 1.5.1\n",
      "    Uninstalling torch-1.5.1:\n",
      "      Successfully uninstalled torch-1.5.1\n",
      "Successfully installed torch-1.5.0+cu101\n"
     ]
    },
    {
     "data": {
      "application/vnd.colab-display-data+json": {
       "pip_warning": {
        "packages": [
         "torch"
        ]
       }
      }
     },
     "metadata": {
      "tags": []
     },
     "output_type": "display_data"
    },
    {
     "name": "stdout",
     "output_type": "stream",
     "text": [
      "Collecting spacy==2.1.0\n",
      "\u001b[?25l  Downloading https://files.pythonhosted.org/packages/62/39/4bde5da5f18ab0bdd525760c4fe38808b4bb03907a2aea094000d831afe1/spacy-2.1.0-cp36-cp36m-manylinux1_x86_64.whl (27.7MB)\n",
      "\u001b[K     |████████████████████████████████| 27.7MB 89kB/s \n",
      "\u001b[?25hCollecting thinc<7.1.0,>=7.0.2\n",
      "\u001b[?25l  Downloading https://files.pythonhosted.org/packages/18/a5/9ace20422e7bb1bdcad31832ea85c52a09900cd4a7ce711246bfb92206ba/thinc-7.0.8-cp36-cp36m-manylinux1_x86_64.whl (2.1MB)\n",
      "\u001b[K     |████████████████████████████████| 2.1MB 52.9MB/s \n",
      "\u001b[?25hCollecting blis<0.3.0,>=0.2.2\n",
      "\u001b[?25l  Downloading https://files.pythonhosted.org/packages/34/46/b1d0bb71d308e820ed30316c5f0a017cb5ef5f4324bcbc7da3cf9d3b075c/blis-0.2.4-cp36-cp36m-manylinux1_x86_64.whl (3.2MB)\n",
      "\u001b[K     |████████████████████████████████| 3.2MB 48.0MB/s \n",
      "\u001b[?25hRequirement already satisfied: cymem<2.1.0,>=2.0.2 in /usr/local/lib/python3.6/dist-packages (from spacy==2.1.0) (2.0.3)\n",
      "Requirement already satisfied: numpy>=1.15.0 in /usr/local/lib/python3.6/dist-packages (from spacy==2.1.0) (1.18.5)\n",
      "Requirement already satisfied: jsonschema<3.0.0,>=2.6.0 in /usr/local/lib/python3.6/dist-packages (from spacy==2.1.0) (2.6.0)\n",
      "Requirement already satisfied: requests<3.0.0,>=2.13.0 in /usr/local/lib/python3.6/dist-packages (from spacy==2.1.0) (2.23.0)\n",
      "Requirement already satisfied: wasabi<1.1.0,>=0.0.12 in /usr/local/lib/python3.6/dist-packages (from spacy==2.1.0) (0.7.1)\n",
      "Requirement already satisfied: murmurhash<1.1.0,>=0.28.0 in /usr/local/lib/python3.6/dist-packages (from spacy==2.1.0) (1.0.2)\n",
      "Collecting plac<1.0.0,>=0.9.6\n",
      "  Downloading https://files.pythonhosted.org/packages/9e/9b/62c60d2f5bc135d2aa1d8c8a86aaf84edb719a59c7f11a4316259e61a298/plac-0.9.6-py2.py3-none-any.whl\n",
      "Collecting preshed<2.1.0,>=2.0.1\n",
      "\u001b[?25l  Downloading https://files.pythonhosted.org/packages/20/93/f222fb957764a283203525ef20e62008675fd0a14ffff8cc1b1490147c63/preshed-2.0.1-cp36-cp36m-manylinux1_x86_64.whl (83kB)\n",
      "\u001b[K     |████████████████████████████████| 92kB 13.7MB/s \n",
      "\u001b[?25hRequirement already satisfied: srsly<1.1.0,>=0.0.5 in /usr/local/lib/python3.6/dist-packages (from spacy==2.1.0) (1.0.2)\n",
      "Requirement already satisfied: tqdm<5.0.0,>=4.10.0 in /usr/local/lib/python3.6/dist-packages (from thinc<7.1.0,>=7.0.2->spacy==2.1.0) (4.41.1)\n",
      "Requirement already satisfied: certifi>=2017.4.17 in /usr/local/lib/python3.6/dist-packages (from requests<3.0.0,>=2.13.0->spacy==2.1.0) (2020.6.20)\n",
      "Requirement already satisfied: chardet<4,>=3.0.2 in /usr/local/lib/python3.6/dist-packages (from requests<3.0.0,>=2.13.0->spacy==2.1.0) (3.0.4)\n",
      "Requirement already satisfied: urllib3!=1.25.0,!=1.25.1,<1.26,>=1.21.1 in /usr/local/lib/python3.6/dist-packages (from requests<3.0.0,>=2.13.0->spacy==2.1.0) (1.24.3)\n",
      "Requirement already satisfied: idna<3,>=2.5 in /usr/local/lib/python3.6/dist-packages (from requests<3.0.0,>=2.13.0->spacy==2.1.0) (2.10)\n",
      "\u001b[31mERROR: en-core-web-sm 2.2.5 has requirement spacy>=2.2.2, but you'll have spacy 2.1.0 which is incompatible.\u001b[0m\n",
      "Installing collected packages: blis, preshed, plac, thinc, spacy\n",
      "  Found existing installation: blis 0.4.1\n",
      "    Uninstalling blis-0.4.1:\n",
      "      Successfully uninstalled blis-0.4.1\n",
      "  Found existing installation: preshed 3.0.2\n",
      "    Uninstalling preshed-3.0.2:\n",
      "      Successfully uninstalled preshed-3.0.2\n",
      "  Found existing installation: plac 1.1.3\n",
      "    Uninstalling plac-1.1.3:\n",
      "      Successfully uninstalled plac-1.1.3\n",
      "  Found existing installation: thinc 7.4.0\n",
      "    Uninstalling thinc-7.4.0:\n",
      "      Successfully uninstalled thinc-7.4.0\n",
      "  Found existing installation: spacy 2.2.4\n",
      "    Uninstalling spacy-2.2.4:\n",
      "      Successfully uninstalled spacy-2.2.4\n",
      "Successfully installed blis-0.2.4 plac-0.9.6 preshed-2.0.1 spacy-2.1.0 thinc-7.0.8\n"
     ]
    },
    {
     "data": {
      "application/vnd.colab-display-data+json": {
       "pip_warning": {
        "packages": [
         "blis",
         "plac",
         "plac_core",
         "plac_ext",
         "preshed",
         "spacy",
         "thinc"
        ]
       }
      }
     },
     "metadata": {
      "tags": []
     },
     "output_type": "display_data"
    },
    {
     "name": "stdout",
     "output_type": "stream",
     "text": [
      "Collecting en_core_web_sm==2.1.0\n",
      "\u001b[?25l  Downloading https://github.com/explosion/spacy-models/releases/download/en_core_web_sm-2.1.0/en_core_web_sm-2.1.0.tar.gz (11.1MB)\n",
      "\u001b[K     |████████████████████████████████| 11.1MB 598kB/s \n",
      "\u001b[?25hBuilding wheels for collected packages: en-core-web-sm\n",
      "  Building wheel for en-core-web-sm (setup.py) ... \u001b[?25l\u001b[?25hdone\n",
      "  Created wheel for en-core-web-sm: filename=en_core_web_sm-2.1.0-cp36-none-any.whl size=11074435 sha256=6e3fe258507488018416ba7842e27ad6438787836e85fd440058d2fc2887a33b\n",
      "  Stored in directory: /tmp/pip-ephem-wheel-cache-u_becdh8/wheels/39/ea/3b/507f7df78be8631a7a3d7090962194cf55bc1158572c0be77f\n",
      "Successfully built en-core-web-sm\n",
      "Installing collected packages: en-core-web-sm\n",
      "  Found existing installation: en-core-web-sm 2.2.5\n",
      "    Uninstalling en-core-web-sm-2.2.5:\n",
      "      Successfully uninstalled en-core-web-sm-2.2.5\n",
      "Successfully installed en-core-web-sm-2.1.0\n",
      "\u001b[38;5;2m✔ Download and installation successful\u001b[0m\n",
      "You can now load the model via spacy.load('en_core_web_sm')\n",
      "\u001b[38;5;2m✔ Linking successful\u001b[0m\n",
      "/usr/local/lib/python3.6/dist-packages/en_core_web_sm -->\n",
      "/usr/local/lib/python3.6/dist-packages/spacy/data/en\n",
      "You can now load the model via spacy.load('en')\n"
     ]
    }
   ],
   "source": [
    "# Install libraries if needed\n",
    "!pip install transformers wandb neuralcoref allennlp hnswlib allennlp-models torch==1.5.0+cu101 -f https://download.pytorch.org/whl/torch_stable.html\n",
    "!pip install spacy==2.1.0\n",
    "!python -m spacy download en"
   ]
  },
  {
   "cell_type": "markdown",
   "metadata": {
    "colab_type": "text",
    "id": "LCuXIdqmE5df"
   },
   "source": [
    "Import all libraries"
   ]
  },
  {
   "cell_type": "code",
   "execution_count": 3,
   "metadata": {
    "colab": {
     "base_uri": "https://localhost:8080/",
     "height": 352,
     "referenced_widgets": [
      "6bae3f8fffd640d1889e434feba3574b",
      "c89af3408e70486eb005979dc3fbd269",
      "0ceca73d367b4ac6840bda583bde184e",
      "74f7451130bd471db5e5a53f0be78e9e",
      "82325c90f5c74f01a8b1bce46331e615",
      "f132870f6c5e4580b186f08dbff6ec01",
      "fa111d2bc4994e9a9fef459dd3f355fc",
      "ad9edd9cf5e445178e0c5199ca7313f2",
      "c28eb67b10244ab8bffc800bbd719b02",
      "87275a1796844175b5bc1b9aafdad49d",
      "57db6323eded4864a4dfa7a692864821",
      "05a657a926a2403281636e907377e742",
      "51867e51bb8d40a78bee3e3c1f45565d",
      "e7b31aa6041f488aa4bf8abd01768700",
      "adb9746ace8d4d9685580dd999e5e2b0",
      "bc4eee30376848d09d32090dd1b9d4e6",
      "3afcd50cf19248a38c3b8d711818cf7d",
      "99191153dd2448198f43e26640f064b0",
      "f6bc765cbaff4d3882080c16d4dcf5e7",
      "1831984cf8ce48d8a2ab2e82a002855c",
      "24e0617ec7984569a5d51856b3f70fb4",
      "1b4e6b742cf641599abc1e75fb64ab68",
      "c9a5289c91744e11b2563218ead06085",
      "1aa5dc497c714eeb9f089bfe880bdfe1"
     ]
    },
    "colab_type": "code",
    "id": "Zunm7WJ8EC-7",
    "outputId": "84483179-a19a-4980-ab72-f029618a90b3"
   },
   "outputs": [
    {
     "name": "stderr",
     "output_type": "stream",
     "text": [
      "INFO:absl:Using /tmp/tfhub_modules to cache modules.\n"
     ]
    },
    {
     "name": "stdout",
     "output_type": "stream",
     "text": [
      "[nltk_data] Downloading package punkt to /root/nltk_data...\n",
      "[nltk_data]   Unzipping tokenizers/punkt.zip.\n",
      "[nltk_data] Downloading package wordnet to /root/nltk_data...\n",
      "[nltk_data]   Unzipping corpora/wordnet.zip.\n"
     ]
    },
    {
     "name": "stderr",
     "output_type": "stream",
     "text": [
      "100%|██████████| 54185577/54185577 [00:01<00:00, 53999886.99B/s]\n",
      "100%|██████████| 1345947288/1345947288 [00:20<00:00, 64755101.13B/s]\n"
     ]
    },
    {
     "data": {
      "application/vnd.jupyter.widget-view+json": {
       "model_id": "6bae3f8fffd640d1889e434feba3574b",
       "version_major": 2,
       "version_minor": 0
      },
      "text/plain": [
       "HBox(children=(FloatProgress(value=0.0, description='Downloading', max=414.0, style=ProgressStyle(description_…"
      ]
     },
     "metadata": {
      "tags": []
     },
     "output_type": "display_data"
    },
    {
     "name": "stdout",
     "output_type": "stream",
     "text": [
      "\n"
     ]
    },
    {
     "data": {
      "application/vnd.jupyter.widget-view+json": {
       "model_id": "c28eb67b10244ab8bffc800bbd719b02",
       "version_major": 2,
       "version_minor": 0
      },
      "text/plain": [
       "HBox(children=(FloatProgress(value=0.0, description='Downloading', max=665132540.0, style=ProgressStyle(descri…"
      ]
     },
     "metadata": {
      "tags": []
     },
     "output_type": "display_data"
    },
    {
     "name": "stdout",
     "output_type": "stream",
     "text": [
      "\n"
     ]
    },
    {
     "data": {
      "application/vnd.jupyter.widget-view+json": {
       "model_id": "3afcd50cf19248a38c3b8d711818cf7d",
       "version_major": 2,
       "version_minor": 0
      },
      "text/plain": [
       "HBox(children=(FloatProgress(value=0.0, description='Downloading', max=213450.0, style=ProgressStyle(descripti…"
      ]
     },
     "metadata": {
      "tags": []
     },
     "output_type": "display_data"
    },
    {
     "name": "stdout",
     "output_type": "stream",
     "text": [
      "\n"
     ]
    },
    {
     "name": "stderr",
     "output_type": "stream",
     "text": [
      "WARNING:allennlp.nn.initializers:Did not use initialization regex that was passed: _context_layer._module.weight_hh.*\n",
      "WARNING:allennlp.nn.initializers:Did not use initialization regex that was passed: _context_layer._module.weight_ih.*\n",
      "100%|██████████| 40155833/40155833 [00:01<00:00, 21226886.49B/s]\n"
     ]
    }
   ],
   "source": [
    "import numpy as np\n",
    "import pandas as pd\n",
    "import spacy\n",
    "import pickle\n",
    "import torch\n",
    "import torch.nn.functional as F\n",
    "from itertools import islice\n",
    "from transformers import pipeline, GPT2LMHeadModel, GPT2Tokenizer\n",
    "from sklearn.feature_extraction.text import TfidfVectorizer\n",
    "import nltk\n",
    "from nltk.tokenize import word_tokenize\n",
    "from nltk.stem import PorterStemmer\n",
    "from Search import Search\n",
    "from Answer import Answer\n",
    "from Speech import Speech\n",
    "from KnowledgeGraph import KnowledgeGraph\n",
    "import neuralcoref\n",
    "import re\n",
    "import gc\n",
    "import utils"
   ]
  },
  {
   "cell_type": "code",
   "execution_count": 4,
   "metadata": {
    "colab": {
     "base_uri": "https://localhost:8080/",
     "height": 72
    },
    "colab_type": "code",
    "id": "lyIxP4uSGgzD",
    "outputId": "e1539032-f2ce-4ab4-9d41-df106ac9fb7b"
   },
   "outputs": [
    {
     "name": "stdout",
     "output_type": "stream",
     "text": [
      "[nltk_data] Downloading package punkt to /root/nltk_data...\n",
      "[nltk_data]   Package punkt is already up-to-date!\n"
     ]
    },
    {
     "data": {
      "text/plain": [
       "True"
      ]
     },
     "execution_count": 4,
     "metadata": {
      "tags": []
     },
     "output_type": "execute_result"
    }
   ],
   "source": [
    "nltk.download('punkt')"
   ]
  },
  {
   "cell_type": "markdown",
   "metadata": {
    "colab_type": "text",
    "id": "CWzSZ_3aE8eu"
   },
   "source": [
    "Load data & search\n",
    "\n",
    "You can download \"tfidf_data.pkl\" from [here](https://drive.google.com/file/d/18cyDjtEo-N5DvRL6cNTSUEgtz5A1RuK9/view?usp=sharing)."
   ]
  },
  {
   "cell_type": "code",
   "execution_count": 5,
   "metadata": {
    "colab": {
     "base_uri": "https://localhost:8080/",
     "height": 110
    },
    "colab_type": "code",
    "id": "LCFQRbwCDjC-",
    "outputId": "bb56eab0-7b57-4a75-c399-d6accb8ac533"
   },
   "outputs": [
    {
     "name": "stderr",
     "output_type": "stream",
     "text": [
      "/usr/local/lib/python3.6/dist-packages/sklearn/base.py:318: UserWarning: Trying to unpickle estimator TfidfTransformer from version 0.23.1 when using version 0.22.2.post1. This might lead to breaking code or invalid results. Use at your own risk.\n",
      "  UserWarning)\n",
      "/usr/local/lib/python3.6/dist-packages/sklearn/base.py:318: UserWarning: Trying to unpickle estimator TfidfVectorizer from version 0.23.1 when using version 0.22.2.post1. This might lead to breaking code or invalid results. Use at your own risk.\n",
      "  UserWarning)\n"
     ]
    }
   ],
   "source": [
    "with open(\"tfidf_data.pkl\", \"rb\") as file:\n",
    "    data = pickle.load(file)"
   ]
  },
  {
   "cell_type": "code",
   "execution_count": 6,
   "metadata": {
    "colab": {},
    "colab_type": "code",
    "id": "5TToRwu9FD9-"
   },
   "outputs": [],
   "source": [
    "# Manual Questions (not from corpus)\n",
    "questions = [\"Should abortion be illegal?\",\n",
    "             \"What do you believe about tax increases?\",\n",
    "             \"Should same-sex marriage be legal?\",\n",
    "             \"Is climate change real?\",\n",
    "             \"Should immigrants be allowed to obtain citizenship?\",\n",
    "             \"Who should be given voting rights?\",\n",
    "             \"Should we have higher taxes for higher incomes?\",\n",
    "             \"Should we allow death penalty?\",\n",
    "             \"Should we have universal healthcare?\",\n",
    "             \"Do government regulations hinder free market capitalism?\",\n",
    "             \"What do you think about the current president?\",\n",
    "             \"Should we reduce national debt?\",\n",
    "             \"Should we increase spending on healthcare?\",\n",
    "             \"Should we increase spending on education?\",\n",
    "             \"Should every American have equal opportunities regardless of sex, age and race?\",\n",
    "             \"Should be introduce more gun control measures?\",\n",
    "             \"What do you think about the current president?\",\n",
    "             \"Should Americans be free?\",\n",
    "             \"What party do you support?\",\n",
    "             \"What is the biggest threat to America?\"\n",
    "             ]"
   ]
  },
  {
   "cell_type": "code",
   "execution_count": 7,
   "metadata": {
    "colab": {},
    "colab_type": "code",
    "id": "52xl4jenDlXh"
   },
   "outputs": [],
   "source": [
    "# create Search object\n",
    "search = Search(rep_speeches=data['rep_speeches'],\n",
    "                    dem_speeches=data['dem_speeches'],\n",
    "                    rep_vectorizer=data['rep_vectorizer'],\n",
    "                    dem_vectorizer=data['dem_vectorizer'],\n",
    "                    rep_tfidf=data['rep_tfidf'],\n",
    "                    dem_tfidf=data['dem_tfidf'])\n",
    "\n",
    "NUM = 3\n",
    "results = {}\n",
    "\n",
    "# search for responses\n",
    "for question in questions:\n",
    "  results[question] = {}\n",
    "  for party in ['R', 'D']:\n",
    "    r = search.search(question, party, topk=NUM)\n",
    "    results[question][party] = r.Questions.tolist()\n"
   ]
  },
  {
   "cell_type": "code",
   "execution_count": 9,
   "metadata": {
    "colab": {},
    "colab_type": "code",
    "id": "BoX0l6W8kY5E"
   },
   "outputs": [],
   "source": [
    "df=pd.DataFrame.from_dict(results)\n",
    "df.to_pickle(\"partisan_search_results.pkl\")"
   ]
  },
  {
   "cell_type": "markdown",
   "metadata": {
    "colab_type": "text",
    "id": "Qw2bej-rGIoK"
   },
   "source": [
    "Generate answers to question with GPT-2"
   ]
  },
  {
   "cell_type": "code",
   "execution_count": null,
   "metadata": {
    "colab": {},
    "colab_type": "code",
    "id": "XLeDBLVxKuZS"
   },
   "outputs": [],
   "source": [
    "tokenizer = GPT2Tokenizer.from_pretrained(\"gpt2\")\n",
    "model = GPT2LMHeadModel.from_pretrained('gpt2')"
   ]
  },
  {
   "cell_type": "code",
   "execution_count": null,
   "metadata": {
    "colab": {
     "base_uri": "https://localhost:8080/",
     "height": 1000
    },
    "colab_type": "code",
    "id": "UhCPNvFGN3xp",
    "outputId": "2bead479-2717-466a-bd9a-61d776708532"
   },
   "outputs": [
    {
     "name": "stdout",
     "output_type": "stream",
     "text": [
      "Question: Should abortion be illegal?\n",
      "GPT-2 generation: \n",
      "Should abortion be illegal?\n",
      "\n",
      "The Supreme Court has ruled that abortion is illegal under the Fourteenth Amendment. The Supreme Court has ruled that abortion is illegal under the Fourteenth Amendment.\n",
      "\n",
      "The Supreme Court has ruled that abortion is illegal under the Fourteenth Amendment.\n",
      "\n",
      "The Supreme Court has ruled that abortion is illegal under the Fourteenth Amendment.\n",
      "\n",
      "The Supreme Court has ruled that abortion is illegal under the Fourteenth Amendment.\n",
      "\n",
      "The Supreme Court has ruled that abortion is illegal under the Fourteenth Amendment.\n",
      "Question: What do you believe about tax increases?\n",
      "GPT-2 generation: \n",
      "What do you believe about tax increases?\n",
      "\n",
      "I think that the tax increases are going to be very good for the economy. I think that the tax increases are going to be very good for the middle class. I think that the middle class is going to be very happy. I think that the middle class is going to be very happy.\n",
      "\n",
      "I think that the middle class is going to be very happy. I think that the middle class is going to be very happy.\n",
      "\n",
      "I think that the middle class is going to\n",
      "Question: Should same-sex marriage be legal?\n",
      "GPT-2 generation: \n",
      "Should same-sex marriage be legal?\n",
      "\n",
      "The Supreme Court has ruled that same-sex marriage is legal in the United States.\n",
      "\n",
      "The Supreme Court ruled that same-sex marriage is legal in the United States.\n",
      "\n",
      "The Supreme Court ruled that same-sex marriage is legal in the United States.\n",
      "\n",
      "The Supreme Court ruled that same-sex marriage is legal in the United States.\n",
      "\n",
      "The Supreme Court ruled that same-sex marriage is legal in the United States.\n",
      "\n",
      "The Supreme Court ruled that same-\n",
      "Question: Is climate change real?\n",
      "GPT-2 generation: \n",
      "Is climate change real?\n",
      "\n",
      "The answer is no.\n",
      "\n",
      "The IPCC's latest report, released on Tuesday, says that global warming is \"likely to continue to increase over the next century.\"\n",
      "\n",
      "The report, which is based on a series of studies, says that the average temperature increase over the past century is about 1.5 degrees Celsius (3.6 degrees Fahrenheit) higher than the average for the last century.\n",
      "\n",
      "The report also says that the average temperature increase over the past century is about 1\n",
      "Question: Should immigrants be allowed to obtain citizenship?\n",
      "GPT-2 generation: \n",
      "Should immigrants be allowed to obtain citizenship?\n",
      "\n",
      "The answer is yes.\n",
      "\n",
      "The U.S. Supreme Court has ruled that the right to vote is not a fundamental right.\n",
      "\n",
      "The Supreme Court has ruled that the right to vote is not a fundamental right.\n",
      "\n",
      "The Supreme Court has ruled that the right to vote is not a fundamental right.\n",
      "\n",
      "The Supreme Court has ruled that the right to vote is not a fundamental right.\n",
      "\n",
      "The Supreme Court has ruled that the right to vote is not a fundamental right\n",
      "Question: Who should be given voting rights?\n",
      "GPT-2 generation: \n",
      "Who should be given voting rights?\n",
      "\n",
      "The Supreme Court has ruled that the right to vote is not a fundamental right. The right to vote is not a right to be a citizen of the United States. It is a right to be a citizen of the United States.\n",
      "\n",
      "The right to vote is not a right to be a citizen of the United States. It is a right to be a citizen of the United States.\n",
      "\n",
      "The right to vote is not a right to be a citizen of the United States. It\n",
      "Question: Should we have higher taxes for higher incomes?\n",
      "GPT-2 generation: \n",
      "Should we have higher taxes for higher incomes?\n",
      "\n",
      "The answer is yes.\n",
      "\n",
      "The Tax Policy Center, a nonpartisan think tank, has found that the tax rate on the top 1 percent of earners has increased by more than 10 percentage points since the 1970s.\n",
      "\n",
      "The Tax Policy Center's analysis of the tax code shows that the top 1 percent of earners have paid more in taxes than the bottom 90 percent of Americans.\n",
      "\n",
      "The Tax Policy Center's analysis of the tax code shows that the top 1 percent of earners have paid\n",
      "Question: Should we allow death penalty?\n",
      "GPT-2 generation: \n",
      "Should we allow death penalty?\n",
      "\n",
      "The Supreme Court has ruled that the death penalty is unconstitutional. The Supreme Court has ruled that the death penalty is unconstitutional.\n",
      "\n",
      "The Supreme Court has ruled that the death penalty is unconstitutional.\n",
      "\n",
      "The Supreme Court has ruled that the death penalty is unconstitutional.\n",
      "\n",
      "The Supreme Court has ruled that the death penalty is unconstitutional.\n",
      "\n",
      "The Supreme Court has ruled that the death penalty is unconstitutional.\n",
      "\n",
      "The Supreme Court has ruled that the death penalty is unconstitutional.\n",
      "\n",
      "The Supreme\n",
      "Question: Should we have universal healthcare?\n",
      "GPT-2 generation: \n",
      "Should we have universal healthcare?\n",
      "\n",
      "The answer is yes.\n",
      "\n",
      "The Affordable Care Act (ACA) is a law that allows Americans to buy insurance through the federal government. The ACA is a law that allows Americans to buy insurance through the federal government.\n",
      "\n",
      "The ACA is a law that allows Americans to buy insurance through the federal government.\n",
      "\n",
      "The ACA is a law that allows Americans to buy insurance through the federal government.\n",
      "\n",
      "The ACA is a law that allows Americans to buy insurance through the federal government.\n",
      "Question: Do government regulations hinder free market capitalism?\n",
      "GPT-2 generation: \n",
      "Do government regulations hinder free market capitalism?\n",
      "\n",
      "The answer is yes.\n",
      "\n",
      "The government regulates the free market, but it does not regulate the free market.\n",
      "\n",
      "The government regulates the free market, but it does not regulate the free market.\n",
      "\n",
      "The government regulates the free market, but it does not regulate the free market.\n",
      "\n",
      "The government regulates the free market, but it does not regulate the free market.\n",
      "\n",
      "The government regulates the free market, but it does not regulate the free market.\n",
      "\n",
      "The\n",
      "Question: What do you think about the current president?\n",
      "GPT-2 generation: \n",
      "What do you think about the current president?\n",
      "\n",
      "I think he's a very good president. I think he's a very good president. I think he's a very good president. I think he's a very good president. I think he's a very good president. I think he's a very good president. I think he's a very good president. I think he's a very good president. I think he's a very good president. I think he's a very good president. I think he's a very good president\n",
      "Question: Should we reduce national debt?\n",
      "GPT-2 generation: \n",
      "Should we reduce national debt?\n",
      "\n",
      "The answer is no. The debt ceiling is a temporary measure that will not be lifted until the next Congress passes a budget resolution. The debt ceiling is a temporary measure that will not be lifted until the next Congress passes a budget resolution.\n",
      "\n",
      "The debt ceiling is a temporary measure that will not be lifted until the next Congress passes a budget resolution.\n",
      "\n",
      "The debt ceiling is a temporary measure that will not be lifted until the next Congress passes a budget resolution.\n",
      "\n",
      "The debt ceiling\n",
      "Question: Should we increase spending on healthcare?\n",
      "GPT-2 generation: \n",
      "Should we increase spending on healthcare?\n",
      "\n",
      "The answer is no.\n",
      "\n",
      "The government has already announced that it will increase spending on healthcare by $1.5 billion over the next five years.\n",
      "\n",
      "The government has also announced that it will increase spending on health care by $1.5 billion over the next five years.\n",
      "\n",
      "The government has already announced that it will increase spending on healthcare by $1.5 billion over the next five years.\n",
      "\n",
      "The government has already announced that it will increase spending on healthcare\n",
      "Question: Should we increase spending on education?\n",
      "GPT-2 generation: \n",
      "Should we increase spending on education?\n",
      "\n",
      "The answer is no.\n",
      "\n",
      "The government has spent $1.5 billion on education since 2009, and the government has spent $1.5 billion on education since 2010.\n",
      "\n",
      "The government has spent $1.5 billion on education since 2009, and the government has spent $1.5 billion on education since 2010.\n",
      "\n",
      "The government has spent $1.5 billion on education since 2009, and the government has spent $1.5 billion on education since 2010.\n",
      "Question: Should every American have equal opportunities regardless of sex, age and race?\n",
      "GPT-2 generation: \n",
      "Should every American have equal opportunities regardless of sex, age and race?\n",
      "\n",
      "The answer is yes.\n",
      "\n",
      "The Supreme Court has ruled that the right to equal access to abortion is a fundamental right. The Court has also ruled that the right to abortion is a fundamental right.\n",
      "\n",
      "The Supreme Court has ruled that the right to abortion is a fundamental right.\n",
      "\n",
      "The Supreme Court has ruled that the right to abortion is a fundamental right.\n",
      "\n",
      "The Supreme Court has ruled that the right to abortion is a fundamental right.\n",
      "\n",
      "The Supreme Court has ruled\n",
      "Question: Should be introduce more gun control measures?\n",
      "GPT-2 generation: \n",
      "Should be introduce more gun control measures?\n",
      "\n",
      "The NRA has been pushing for more gun control measures since the Newtown, Conn., school shooting.\n",
      "\n",
      "The group has been pushing for more gun control measures since the Newtown, Conn., school shooting.\n",
      "\n",
      "The group has been pushing for more gun control measures since the Newtown, Conn., school shooting.\n",
      "\n",
      "The group has been pushing for more gun control measures since the Newtown, Conn., school shooting.\n",
      "\n",
      "The group has been pushing for more gun control measures since the Newtown,\n",
      "Question: What do you think about the current president?\n",
      "GPT-2 generation: \n",
      "What do you think about the current president?\n",
      "\n",
      "I think he's a very good president. I think he's a very good president. I think he's a very good president. I think he's a very good president. I think he's a very good president. I think he's a very good president. I think he's a very good president. I think he's a very good president. I think he's a very good president. I think he's a very good president. I think he's a very good president\n",
      "Question: Should Americans be free?\n",
      "GPT-2 generation: \n",
      "Should Americans be free?\n",
      "\n",
      "The answer is no.\n",
      "\n",
      "The American people are free to choose their own government.\n",
      "\n",
      "The American people are free to choose their own government.\n",
      "\n",
      "The American people are free to choose their own government.\n",
      "\n",
      "The American people are free to choose their own government.\n",
      "\n",
      "The American people are free to choose their own government.\n",
      "\n",
      "The American people are free to choose their own government.\n",
      "\n",
      "The American people are free to choose their own government.\n",
      "\n",
      "\n",
      "Question: What party do you support?\n",
      "GPT-2 generation: \n",
      "What party do you support?\n",
      "\n",
      "I'm a Democrat. I'm a Republican. I'm a Republican. I'm a Republican. I'm a Republican. I'm a Republican. I'm a Republican. I'm a Republican. I'm a Republican. I'm a Republican. I'm a Republican. I'm a Republican. I'm a Republican. I'm a Republican. I'm a Republican. I'm a Republican. I'm a Republican. I'm a Republican. I'm a Republican. I'm a\n",
      "Question: What is the biggest threat to America?\n",
      "GPT-2 generation: \n",
      "What is the biggest threat to America?\n",
      "\n",
      "The biggest threat to America is the threat of terrorism. The biggest threat to America is the threat of terrorism.\n",
      "\n",
      "The biggest threat to America is the threat of terrorism. The biggest threat to America is the threat of terrorism.\n",
      "\n",
      "The biggest threat to America is the threat of terrorism. The biggest threat to America is the threat of terrorism.\n",
      "\n",
      "The biggest threat to America is the threat of terrorism. The biggest threat to America is the threat of terrorism.\n",
      "\n",
      "The biggest\n"
     ]
    }
   ],
   "source": [
    "for question in questions:\n",
    "    print(\"Question: {}\".format(question))\n",
    "    print(\"GPT-2 generation: \")\n",
    "    generated = tokenizer.encode(question)\n",
    "    context = torch.tensor([generated])\n",
    "    past = None\n",
    "\n",
    "    for i in range(100):\n",
    "        output, past = model(context, past=past)\n",
    "        token = torch.argmax(output[..., -1, :])\n",
    "\n",
    "        generated += [token.tolist()]\n",
    "        context = token.unsqueeze(0)\n",
    "\n",
    "    sequence = tokenizer.decode(generated)\n",
    "\n",
    "    print(sequence)"
   ]
  }
 ],
 "metadata": {
  "accelerator": "GPU",
  "colab": {
   "collapsed_sections": [],
   "include_colab_link": true,
   "name": "QA_Pipeline.ipynb",
   "provenance": []
  },
  "kernelspec": {
   "display_name": "Python 3",
   "language": "python",
   "name": "python3"
  },
  "language_info": {
   "codemirror_mode": {
    "name": "ipython",
    "version": 3
   },
   "file_extension": ".py",
   "mimetype": "text/x-python",
   "name": "python",
   "nbconvert_exporter": "python",
   "pygments_lexer": "ipython3",
   "version": "3.7.4"
  },
  "widgets": {
   "application/vnd.jupyter.widget-state+json": {
    "05a657a926a2403281636e907377e742": {
     "model_module": "@jupyter-widgets/controls",
     "model_name": "HTMLModel",
     "state": {
      "_dom_classes": [],
      "_model_module": "@jupyter-widgets/controls",
      "_model_module_version": "1.5.0",
      "_model_name": "HTMLModel",
      "_view_count": null,
      "_view_module": "@jupyter-widgets/controls",
      "_view_module_version": "1.5.0",
      "_view_name": "HTMLView",
      "description": "",
      "description_tooltip": null,
      "layout": "IPY_MODEL_bc4eee30376848d09d32090dd1b9d4e6",
      "placeholder": "​",
      "style": "IPY_MODEL_adb9746ace8d4d9685580dd999e5e2b0",
      "value": " 665M/665M [00:15&lt;00:00, 43.0MB/s]"
     }
    },
    "0ceca73d367b4ac6840bda583bde184e": {
     "model_module": "@jupyter-widgets/controls",
     "model_name": "FloatProgressModel",
     "state": {
      "_dom_classes": [],
      "_model_module": "@jupyter-widgets/controls",
      "_model_module_version": "1.5.0",
      "_model_name": "FloatProgressModel",
      "_view_count": null,
      "_view_module": "@jupyter-widgets/controls",
      "_view_module_version": "1.5.0",
      "_view_name": "ProgressView",
      "bar_style": "success",
      "description": "Downloading: 100%",
      "description_tooltip": null,
      "layout": "IPY_MODEL_f132870f6c5e4580b186f08dbff6ec01",
      "max": 414,
      "min": 0,
      "orientation": "horizontal",
      "style": "IPY_MODEL_82325c90f5c74f01a8b1bce46331e615",
      "value": 414
     }
    },
    "1831984cf8ce48d8a2ab2e82a002855c": {
     "model_module": "@jupyter-widgets/controls",
     "model_name": "HTMLModel",
     "state": {
      "_dom_classes": [],
      "_model_module": "@jupyter-widgets/controls",
      "_model_module_version": "1.5.0",
      "_model_name": "HTMLModel",
      "_view_count": null,
      "_view_module": "@jupyter-widgets/controls",
      "_view_module_version": "1.5.0",
      "_view_name": "HTMLView",
      "description": "",
      "description_tooltip": null,
      "layout": "IPY_MODEL_1aa5dc497c714eeb9f089bfe880bdfe1",
      "placeholder": "​",
      "style": "IPY_MODEL_c9a5289c91744e11b2563218ead06085",
      "value": " 213k/213k [00:04&lt;00:00, 53.0kB/s]"
     }
    },
    "1aa5dc497c714eeb9f089bfe880bdfe1": {
     "model_module": "@jupyter-widgets/base",
     "model_name": "LayoutModel",
     "state": {
      "_model_module": "@jupyter-widgets/base",
      "_model_module_version": "1.2.0",
      "_model_name": "LayoutModel",
      "_view_count": null,
      "_view_module": "@jupyter-widgets/base",
      "_view_module_version": "1.2.0",
      "_view_name": "LayoutView",
      "align_content": null,
      "align_items": null,
      "align_self": null,
      "border": null,
      "bottom": null,
      "display": null,
      "flex": null,
      "flex_flow": null,
      "grid_area": null,
      "grid_auto_columns": null,
      "grid_auto_flow": null,
      "grid_auto_rows": null,
      "grid_column": null,
      "grid_gap": null,
      "grid_row": null,
      "grid_template_areas": null,
      "grid_template_columns": null,
      "grid_template_rows": null,
      "height": null,
      "justify_content": null,
      "justify_items": null,
      "left": null,
      "margin": null,
      "max_height": null,
      "max_width": null,
      "min_height": null,
      "min_width": null,
      "object_fit": null,
      "object_position": null,
      "order": null,
      "overflow": null,
      "overflow_x": null,
      "overflow_y": null,
      "padding": null,
      "right": null,
      "top": null,
      "visibility": null,
      "width": null
     }
    },
    "1b4e6b742cf641599abc1e75fb64ab68": {
     "model_module": "@jupyter-widgets/base",
     "model_name": "LayoutModel",
     "state": {
      "_model_module": "@jupyter-widgets/base",
      "_model_module_version": "1.2.0",
      "_model_name": "LayoutModel",
      "_view_count": null,
      "_view_module": "@jupyter-widgets/base",
      "_view_module_version": "1.2.0",
      "_view_name": "LayoutView",
      "align_content": null,
      "align_items": null,
      "align_self": null,
      "border": null,
      "bottom": null,
      "display": null,
      "flex": null,
      "flex_flow": null,
      "grid_area": null,
      "grid_auto_columns": null,
      "grid_auto_flow": null,
      "grid_auto_rows": null,
      "grid_column": null,
      "grid_gap": null,
      "grid_row": null,
      "grid_template_areas": null,
      "grid_template_columns": null,
      "grid_template_rows": null,
      "height": null,
      "justify_content": null,
      "justify_items": null,
      "left": null,
      "margin": null,
      "max_height": null,
      "max_width": null,
      "min_height": null,
      "min_width": null,
      "object_fit": null,
      "object_position": null,
      "order": null,
      "overflow": null,
      "overflow_x": null,
      "overflow_y": null,
      "padding": null,
      "right": null,
      "top": null,
      "visibility": null,
      "width": null
     }
    },
    "24e0617ec7984569a5d51856b3f70fb4": {
     "model_module": "@jupyter-widgets/controls",
     "model_name": "ProgressStyleModel",
     "state": {
      "_model_module": "@jupyter-widgets/controls",
      "_model_module_version": "1.5.0",
      "_model_name": "ProgressStyleModel",
      "_view_count": null,
      "_view_module": "@jupyter-widgets/base",
      "_view_module_version": "1.2.0",
      "_view_name": "StyleView",
      "bar_color": null,
      "description_width": "initial"
     }
    },
    "3afcd50cf19248a38c3b8d711818cf7d": {
     "model_module": "@jupyter-widgets/controls",
     "model_name": "HBoxModel",
     "state": {
      "_dom_classes": [],
      "_model_module": "@jupyter-widgets/controls",
      "_model_module_version": "1.5.0",
      "_model_name": "HBoxModel",
      "_view_count": null,
      "_view_module": "@jupyter-widgets/controls",
      "_view_module_version": "1.5.0",
      "_view_name": "HBoxView",
      "box_style": "",
      "children": [
       "IPY_MODEL_f6bc765cbaff4d3882080c16d4dcf5e7",
       "IPY_MODEL_1831984cf8ce48d8a2ab2e82a002855c"
      ],
      "layout": "IPY_MODEL_99191153dd2448198f43e26640f064b0"
     }
    },
    "51867e51bb8d40a78bee3e3c1f45565d": {
     "model_module": "@jupyter-widgets/controls",
     "model_name": "ProgressStyleModel",
     "state": {
      "_model_module": "@jupyter-widgets/controls",
      "_model_module_version": "1.5.0",
      "_model_name": "ProgressStyleModel",
      "_view_count": null,
      "_view_module": "@jupyter-widgets/base",
      "_view_module_version": "1.2.0",
      "_view_name": "StyleView",
      "bar_color": null,
      "description_width": "initial"
     }
    },
    "57db6323eded4864a4dfa7a692864821": {
     "model_module": "@jupyter-widgets/controls",
     "model_name": "FloatProgressModel",
     "state": {
      "_dom_classes": [],
      "_model_module": "@jupyter-widgets/controls",
      "_model_module_version": "1.5.0",
      "_model_name": "FloatProgressModel",
      "_view_count": null,
      "_view_module": "@jupyter-widgets/controls",
      "_view_module_version": "1.5.0",
      "_view_name": "ProgressView",
      "bar_style": "success",
      "description": "Downloading: 100%",
      "description_tooltip": null,
      "layout": "IPY_MODEL_e7b31aa6041f488aa4bf8abd01768700",
      "max": 665132540,
      "min": 0,
      "orientation": "horizontal",
      "style": "IPY_MODEL_51867e51bb8d40a78bee3e3c1f45565d",
      "value": 665132540
     }
    },
    "6bae3f8fffd640d1889e434feba3574b": {
     "model_module": "@jupyter-widgets/controls",
     "model_name": "HBoxModel",
     "state": {
      "_dom_classes": [],
      "_model_module": "@jupyter-widgets/controls",
      "_model_module_version": "1.5.0",
      "_model_name": "HBoxModel",
      "_view_count": null,
      "_view_module": "@jupyter-widgets/controls",
      "_view_module_version": "1.5.0",
      "_view_name": "HBoxView",
      "box_style": "",
      "children": [
       "IPY_MODEL_0ceca73d367b4ac6840bda583bde184e",
       "IPY_MODEL_74f7451130bd471db5e5a53f0be78e9e"
      ],
      "layout": "IPY_MODEL_c89af3408e70486eb005979dc3fbd269"
     }
    },
    "74f7451130bd471db5e5a53f0be78e9e": {
     "model_module": "@jupyter-widgets/controls",
     "model_name": "HTMLModel",
     "state": {
      "_dom_classes": [],
      "_model_module": "@jupyter-widgets/controls",
      "_model_module_version": "1.5.0",
      "_model_name": "HTMLModel",
      "_view_count": null,
      "_view_module": "@jupyter-widgets/controls",
      "_view_module_version": "1.5.0",
      "_view_name": "HTMLView",
      "description": "",
      "description_tooltip": null,
      "layout": "IPY_MODEL_ad9edd9cf5e445178e0c5199ca7313f2",
      "placeholder": "​",
      "style": "IPY_MODEL_fa111d2bc4994e9a9fef459dd3f355fc",
      "value": " 414/414 [00:21&lt;00:00, 19.4B/s]"
     }
    },
    "82325c90f5c74f01a8b1bce46331e615": {
     "model_module": "@jupyter-widgets/controls",
     "model_name": "ProgressStyleModel",
     "state": {
      "_model_module": "@jupyter-widgets/controls",
      "_model_module_version": "1.5.0",
      "_model_name": "ProgressStyleModel",
      "_view_count": null,
      "_view_module": "@jupyter-widgets/base",
      "_view_module_version": "1.2.0",
      "_view_name": "StyleView",
      "bar_color": null,
      "description_width": "initial"
     }
    },
    "87275a1796844175b5bc1b9aafdad49d": {
     "model_module": "@jupyter-widgets/base",
     "model_name": "LayoutModel",
     "state": {
      "_model_module": "@jupyter-widgets/base",
      "_model_module_version": "1.2.0",
      "_model_name": "LayoutModel",
      "_view_count": null,
      "_view_module": "@jupyter-widgets/base",
      "_view_module_version": "1.2.0",
      "_view_name": "LayoutView",
      "align_content": null,
      "align_items": null,
      "align_self": null,
      "border": null,
      "bottom": null,
      "display": null,
      "flex": null,
      "flex_flow": null,
      "grid_area": null,
      "grid_auto_columns": null,
      "grid_auto_flow": null,
      "grid_auto_rows": null,
      "grid_column": null,
      "grid_gap": null,
      "grid_row": null,
      "grid_template_areas": null,
      "grid_template_columns": null,
      "grid_template_rows": null,
      "height": null,
      "justify_content": null,
      "justify_items": null,
      "left": null,
      "margin": null,
      "max_height": null,
      "max_width": null,
      "min_height": null,
      "min_width": null,
      "object_fit": null,
      "object_position": null,
      "order": null,
      "overflow": null,
      "overflow_x": null,
      "overflow_y": null,
      "padding": null,
      "right": null,
      "top": null,
      "visibility": null,
      "width": null
     }
    },
    "99191153dd2448198f43e26640f064b0": {
     "model_module": "@jupyter-widgets/base",
     "model_name": "LayoutModel",
     "state": {
      "_model_module": "@jupyter-widgets/base",
      "_model_module_version": "1.2.0",
      "_model_name": "LayoutModel",
      "_view_count": null,
      "_view_module": "@jupyter-widgets/base",
      "_view_module_version": "1.2.0",
      "_view_name": "LayoutView",
      "align_content": null,
      "align_items": null,
      "align_self": null,
      "border": null,
      "bottom": null,
      "display": null,
      "flex": null,
      "flex_flow": null,
      "grid_area": null,
      "grid_auto_columns": null,
      "grid_auto_flow": null,
      "grid_auto_rows": null,
      "grid_column": null,
      "grid_gap": null,
      "grid_row": null,
      "grid_template_areas": null,
      "grid_template_columns": null,
      "grid_template_rows": null,
      "height": null,
      "justify_content": null,
      "justify_items": null,
      "left": null,
      "margin": null,
      "max_height": null,
      "max_width": null,
      "min_height": null,
      "min_width": null,
      "object_fit": null,
      "object_position": null,
      "order": null,
      "overflow": null,
      "overflow_x": null,
      "overflow_y": null,
      "padding": null,
      "right": null,
      "top": null,
      "visibility": null,
      "width": null
     }
    },
    "ad9edd9cf5e445178e0c5199ca7313f2": {
     "model_module": "@jupyter-widgets/base",
     "model_name": "LayoutModel",
     "state": {
      "_model_module": "@jupyter-widgets/base",
      "_model_module_version": "1.2.0",
      "_model_name": "LayoutModel",
      "_view_count": null,
      "_view_module": "@jupyter-widgets/base",
      "_view_module_version": "1.2.0",
      "_view_name": "LayoutView",
      "align_content": null,
      "align_items": null,
      "align_self": null,
      "border": null,
      "bottom": null,
      "display": null,
      "flex": null,
      "flex_flow": null,
      "grid_area": null,
      "grid_auto_columns": null,
      "grid_auto_flow": null,
      "grid_auto_rows": null,
      "grid_column": null,
      "grid_gap": null,
      "grid_row": null,
      "grid_template_areas": null,
      "grid_template_columns": null,
      "grid_template_rows": null,
      "height": null,
      "justify_content": null,
      "justify_items": null,
      "left": null,
      "margin": null,
      "max_height": null,
      "max_width": null,
      "min_height": null,
      "min_width": null,
      "object_fit": null,
      "object_position": null,
      "order": null,
      "overflow": null,
      "overflow_x": null,
      "overflow_y": null,
      "padding": null,
      "right": null,
      "top": null,
      "visibility": null,
      "width": null
     }
    },
    "adb9746ace8d4d9685580dd999e5e2b0": {
     "model_module": "@jupyter-widgets/controls",
     "model_name": "DescriptionStyleModel",
     "state": {
      "_model_module": "@jupyter-widgets/controls",
      "_model_module_version": "1.5.0",
      "_model_name": "DescriptionStyleModel",
      "_view_count": null,
      "_view_module": "@jupyter-widgets/base",
      "_view_module_version": "1.2.0",
      "_view_name": "StyleView",
      "description_width": ""
     }
    },
    "bc4eee30376848d09d32090dd1b9d4e6": {
     "model_module": "@jupyter-widgets/base",
     "model_name": "LayoutModel",
     "state": {
      "_model_module": "@jupyter-widgets/base",
      "_model_module_version": "1.2.0",
      "_model_name": "LayoutModel",
      "_view_count": null,
      "_view_module": "@jupyter-widgets/base",
      "_view_module_version": "1.2.0",
      "_view_name": "LayoutView",
      "align_content": null,
      "align_items": null,
      "align_self": null,
      "border": null,
      "bottom": null,
      "display": null,
      "flex": null,
      "flex_flow": null,
      "grid_area": null,
      "grid_auto_columns": null,
      "grid_auto_flow": null,
      "grid_auto_rows": null,
      "grid_column": null,
      "grid_gap": null,
      "grid_row": null,
      "grid_template_areas": null,
      "grid_template_columns": null,
      "grid_template_rows": null,
      "height": null,
      "justify_content": null,
      "justify_items": null,
      "left": null,
      "margin": null,
      "max_height": null,
      "max_width": null,
      "min_height": null,
      "min_width": null,
      "object_fit": null,
      "object_position": null,
      "order": null,
      "overflow": null,
      "overflow_x": null,
      "overflow_y": null,
      "padding": null,
      "right": null,
      "top": null,
      "visibility": null,
      "width": null
     }
    },
    "c28eb67b10244ab8bffc800bbd719b02": {
     "model_module": "@jupyter-widgets/controls",
     "model_name": "HBoxModel",
     "state": {
      "_dom_classes": [],
      "_model_module": "@jupyter-widgets/controls",
      "_model_module_version": "1.5.0",
      "_model_name": "HBoxModel",
      "_view_count": null,
      "_view_module": "@jupyter-widgets/controls",
      "_view_module_version": "1.5.0",
      "_view_name": "HBoxView",
      "box_style": "",
      "children": [
       "IPY_MODEL_57db6323eded4864a4dfa7a692864821",
       "IPY_MODEL_05a657a926a2403281636e907377e742"
      ],
      "layout": "IPY_MODEL_87275a1796844175b5bc1b9aafdad49d"
     }
    },
    "c89af3408e70486eb005979dc3fbd269": {
     "model_module": "@jupyter-widgets/base",
     "model_name": "LayoutModel",
     "state": {
      "_model_module": "@jupyter-widgets/base",
      "_model_module_version": "1.2.0",
      "_model_name": "LayoutModel",
      "_view_count": null,
      "_view_module": "@jupyter-widgets/base",
      "_view_module_version": "1.2.0",
      "_view_name": "LayoutView",
      "align_content": null,
      "align_items": null,
      "align_self": null,
      "border": null,
      "bottom": null,
      "display": null,
      "flex": null,
      "flex_flow": null,
      "grid_area": null,
      "grid_auto_columns": null,
      "grid_auto_flow": null,
      "grid_auto_rows": null,
      "grid_column": null,
      "grid_gap": null,
      "grid_row": null,
      "grid_template_areas": null,
      "grid_template_columns": null,
      "grid_template_rows": null,
      "height": null,
      "justify_content": null,
      "justify_items": null,
      "left": null,
      "margin": null,
      "max_height": null,
      "max_width": null,
      "min_height": null,
      "min_width": null,
      "object_fit": null,
      "object_position": null,
      "order": null,
      "overflow": null,
      "overflow_x": null,
      "overflow_y": null,
      "padding": null,
      "right": null,
      "top": null,
      "visibility": null,
      "width": null
     }
    },
    "c9a5289c91744e11b2563218ead06085": {
     "model_module": "@jupyter-widgets/controls",
     "model_name": "DescriptionStyleModel",
     "state": {
      "_model_module": "@jupyter-widgets/controls",
      "_model_module_version": "1.5.0",
      "_model_name": "DescriptionStyleModel",
      "_view_count": null,
      "_view_module": "@jupyter-widgets/base",
      "_view_module_version": "1.2.0",
      "_view_name": "StyleView",
      "description_width": ""
     }
    },
    "e7b31aa6041f488aa4bf8abd01768700": {
     "model_module": "@jupyter-widgets/base",
     "model_name": "LayoutModel",
     "state": {
      "_model_module": "@jupyter-widgets/base",
      "_model_module_version": "1.2.0",
      "_model_name": "LayoutModel",
      "_view_count": null,
      "_view_module": "@jupyter-widgets/base",
      "_view_module_version": "1.2.0",
      "_view_name": "LayoutView",
      "align_content": null,
      "align_items": null,
      "align_self": null,
      "border": null,
      "bottom": null,
      "display": null,
      "flex": null,
      "flex_flow": null,
      "grid_area": null,
      "grid_auto_columns": null,
      "grid_auto_flow": null,
      "grid_auto_rows": null,
      "grid_column": null,
      "grid_gap": null,
      "grid_row": null,
      "grid_template_areas": null,
      "grid_template_columns": null,
      "grid_template_rows": null,
      "height": null,
      "justify_content": null,
      "justify_items": null,
      "left": null,
      "margin": null,
      "max_height": null,
      "max_width": null,
      "min_height": null,
      "min_width": null,
      "object_fit": null,
      "object_position": null,
      "order": null,
      "overflow": null,
      "overflow_x": null,
      "overflow_y": null,
      "padding": null,
      "right": null,
      "top": null,
      "visibility": null,
      "width": null
     }
    },
    "f132870f6c5e4580b186f08dbff6ec01": {
     "model_module": "@jupyter-widgets/base",
     "model_name": "LayoutModel",
     "state": {
      "_model_module": "@jupyter-widgets/base",
      "_model_module_version": "1.2.0",
      "_model_name": "LayoutModel",
      "_view_count": null,
      "_view_module": "@jupyter-widgets/base",
      "_view_module_version": "1.2.0",
      "_view_name": "LayoutView",
      "align_content": null,
      "align_items": null,
      "align_self": null,
      "border": null,
      "bottom": null,
      "display": null,
      "flex": null,
      "flex_flow": null,
      "grid_area": null,
      "grid_auto_columns": null,
      "grid_auto_flow": null,
      "grid_auto_rows": null,
      "grid_column": null,
      "grid_gap": null,
      "grid_row": null,
      "grid_template_areas": null,
      "grid_template_columns": null,
      "grid_template_rows": null,
      "height": null,
      "justify_content": null,
      "justify_items": null,
      "left": null,
      "margin": null,
      "max_height": null,
      "max_width": null,
      "min_height": null,
      "min_width": null,
      "object_fit": null,
      "object_position": null,
      "order": null,
      "overflow": null,
      "overflow_x": null,
      "overflow_y": null,
      "padding": null,
      "right": null,
      "top": null,
      "visibility": null,
      "width": null
     }
    },
    "f6bc765cbaff4d3882080c16d4dcf5e7": {
     "model_module": "@jupyter-widgets/controls",
     "model_name": "FloatProgressModel",
     "state": {
      "_dom_classes": [],
      "_model_module": "@jupyter-widgets/controls",
      "_model_module_version": "1.5.0",
      "_model_name": "FloatProgressModel",
      "_view_count": null,
      "_view_module": "@jupyter-widgets/controls",
      "_view_module_version": "1.5.0",
      "_view_name": "ProgressView",
      "bar_style": "success",
      "description": "Downloading: 100%",
      "description_tooltip": null,
      "layout": "IPY_MODEL_1b4e6b742cf641599abc1e75fb64ab68",
      "max": 213450,
      "min": 0,
      "orientation": "horizontal",
      "style": "IPY_MODEL_24e0617ec7984569a5d51856b3f70fb4",
      "value": 213450
     }
    },
    "fa111d2bc4994e9a9fef459dd3f355fc": {
     "model_module": "@jupyter-widgets/controls",
     "model_name": "DescriptionStyleModel",
     "state": {
      "_model_module": "@jupyter-widgets/controls",
      "_model_module_version": "1.5.0",
      "_model_name": "DescriptionStyleModel",
      "_view_count": null,
      "_view_module": "@jupyter-widgets/base",
      "_view_module_version": "1.2.0",
      "_view_name": "StyleView",
      "description_width": ""
     }
    }
   }
  }
 },
 "nbformat": 4,
 "nbformat_minor": 1
}
