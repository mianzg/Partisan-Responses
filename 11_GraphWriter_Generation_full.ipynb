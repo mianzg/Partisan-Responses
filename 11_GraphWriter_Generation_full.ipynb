{
 "cells": [
  {
   "cell_type": "markdown",
   "metadata": {
    "colab_type": "text",
    "id": "view-in-github"
   },
   "source": [
    "<a href=\"https://colab.research.google.com/github/rostro36/Partisan-Responses/blob/master/09_GraphWriter_Generation_full.ipynb\" target=\"_parent\"><img src=\"https://colab.research.google.com/assets/colab-badge.svg\" alt=\"Open In Colab\"/></a>"
   ]
  },
  {
   "cell_type": "markdown",
   "metadata": {
    "colab_type": "text",
    "id": "I_lpeRFa34jd"
   },
   "source": [
    "Mount Google Drive"
   ]
  },
  {
   "cell_type": "code",
   "execution_count": null,
   "metadata": {
    "colab": {},
    "colab_type": "code",
    "id": "2_JcyaEJb7BY"
   },
   "outputs": [],
   "source": [
    "from google.colab import drive\n",
    "drive.mount('/content/drive')\n",
    "\n",
    "import os\n",
    "os.chdir('/content/drive/My Drive/Partisan-Responses-master')"
   ]
  },
  {
   "cell_type": "markdown",
   "metadata": {
    "colab_type": "text",
    "id": "-dFdfU1a38rz"
   },
   "source": [
    "Install all requirements."
   ]
  },
  {
   "cell_type": "code",
   "execution_count": null,
   "metadata": {
    "colab": {},
    "colab_type": "code",
    "id": "48m_6NnTcA_R"
   },
   "outputs": [],
   "source": [
    "!pip install wandb neuralcoref allennlp hnswlib allennlp-models spacy==2.1.0 torchtext==0.6.0 torch==1.5.0+cu101 -f https://download.pytorch.org/whl/torch_stable.html\n",
    "!python -m spacy download en"
   ]
  },
  {
   "cell_type": "markdown",
   "metadata": {
    "colab_type": "text",
    "id": "xqzaqs5Q68sV"
   },
   "source": [
    "Import everything"
   ]
  },
  {
   "cell_type": "code",
   "execution_count": null,
   "metadata": {
    "colab": {},
    "colab_type": "code",
    "id": "1Ygv1emO4Ki0"
   },
   "outputs": [],
   "source": [
    "import neuralcoref\n",
    "import spacy\n",
    "import re\n",
    "import pickle\n",
    "import pandas as pd\n",
    "import gc\n",
    "from Answer import Answer\n",
    "import utils"
   ]
  },
  {
   "cell_type": "markdown",
   "metadata": {
    "colab_type": "text",
    "id": "2HgEqZW8BNUp"
   },
   "source": [
    "Load corefferenced data\n",
    "You can download it from [here](https://drive.google.com/file/d/1rCPn8OrPJsKtInuUlhuiRGoBOzthwapN/view?usp=sharing)."
   ]
  },
  {
   "cell_type": "code",
   "execution_count": 4,
   "metadata": {
    "colab": {
     "base_uri": "https://localhost:8080/",
     "height": 206
    },
    "colab_type": "code",
    "id": "JKZijOCs7gQF",
    "outputId": "89166959-f046-466f-ee02-1b2be4b4af53"
   },
   "outputs": [
    {
     "data": {
      "text/html": [
       "<div>\n",
       "<style scoped>\n",
       "    .dataframe tbody tr th:only-of-type {\n",
       "        vertical-align: middle;\n",
       "    }\n",
       "\n",
       "    .dataframe tbody tr th {\n",
       "        vertical-align: top;\n",
       "    }\n",
       "\n",
       "    .dataframe thead th {\n",
       "        text-align: right;\n",
       "    }\n",
       "</style>\n",
       "<table border=\"1\" class=\"dataframe\">\n",
       "  <thead>\n",
       "    <tr style=\"text-align: right;\">\n",
       "      <th></th>\n",
       "      <th>question</th>\n",
       "      <th>party</th>\n",
       "      <th>speech</th>\n",
       "    </tr>\n",
       "  </thead>\n",
       "  <tbody>\n",
       "    <tr>\n",
       "      <th>0</th>\n",
       "      <td>Should abortion be illegal?</td>\n",
       "      <td>R</td>\n",
       "      <td>Mr. Speaker. Congress now has an opportunity t...</td>\n",
       "    </tr>\n",
       "    <tr>\n",
       "      <th>1</th>\n",
       "      <td>Should abortion be illegal?</td>\n",
       "      <td>R</td>\n",
       "      <td>I rise today to express my opposition to both ...</td>\n",
       "    </tr>\n",
       "    <tr>\n",
       "      <th>2</th>\n",
       "      <td>Should abortion be illegal?</td>\n",
       "      <td>R</td>\n",
       "      <td>I am glad to follow my colleague from Utah, I ...</td>\n",
       "    </tr>\n",
       "    <tr>\n",
       "      <th>3</th>\n",
       "      <td>Should abortion be illegal?</td>\n",
       "      <td>D</td>\n",
       "      <td>I rise in reluctant support of the Greenwood A...</td>\n",
       "    </tr>\n",
       "    <tr>\n",
       "      <th>4</th>\n",
       "      <td>Should abortion be illegal?</td>\n",
       "      <td>D</td>\n",
       "      <td>my lead cosponsor. Senator HATCH, will appear ...</td>\n",
       "    </tr>\n",
       "  </tbody>\n",
       "</table>\n",
       "</div>"
      ],
      "text/plain": [
       "                      question  ...                                             speech\n",
       "0  Should abortion be illegal?  ...  Mr. Speaker. Congress now has an opportunity t...\n",
       "1  Should abortion be illegal?  ...  I rise today to express my opposition to both ...\n",
       "2  Should abortion be illegal?  ...  I am glad to follow my colleague from Utah, I ...\n",
       "3  Should abortion be illegal?  ...  I rise in reluctant support of the Greenwood A...\n",
       "4  Should abortion be illegal?  ...  my lead cosponsor. Senator HATCH, will appear ...\n",
       "\n",
       "[5 rows x 3 columns]"
      ]
     },
     "execution_count": 4,
     "metadata": {
      "tags": []
     },
     "output_type": "execute_result"
    }
   ],
   "source": [
    "df = pd.read_pickle(\"answers.pkl\")\n",
    "df.head()"
   ]
  },
  {
   "cell_type": "markdown",
   "metadata": {
    "colab_type": "text",
    "id": "xcG4Kx3i89Ar"
   },
   "source": [
    "Setup for parsing"
   ]
  },
  {
   "cell_type": "code",
   "execution_count": 14,
   "metadata": {
    "colab": {},
    "colab_type": "code",
    "id": "-NOPFTwb7vyD"
   },
   "outputs": [],
   "source": [
    "def parse_entry(entry,verb_dict,verb_list):\n",
    "    result=dict()\n",
    "    result['question']=' '.join([token.text for token in utils.sp(entry['question'])])\n",
    "    phrase_corpus, triplet_id, parsed_text,parsed=Answer(entry['speech']).create_test(verb_dict,verb_list)\n",
    "    result['corpus']=' ; '.join(phrase_corpus)\n",
    "    result['tags']=' '.join(['<phrase>']*len(phrase_corpus))\n",
    "    result['triplet_id']=' ; '.join([re.sub('\\,','',str(x))[1:-1] for x in triplet_id])\n",
    "    result['parsed_text']=parsed_text\n",
    "    result['parsed']=' '.join([str(x) for x in parsed])\n",
    "    return result\n",
    "\n",
    "def load_pickles(identifier, checkpoint):\n",
    "  if os.path.exists(\"verb_dict\"+identifier+str(checkpoint)+\".pickle\"):\n",
    "    with open('verb_dict'+identifier+str(checkpoint)+'.pickle', 'rb') as handle:\n",
    "      verb_dict = pickle.load(handle)\n",
    "    with open('verb_list'+identifier+str(checkpoint)+'.pickle', 'rb') as handle:\n",
    "      verb_list = pickle.load(handle)\n",
    "    with open('result'+identifier+str(checkpoint)+'.pickle', 'rb') as handle:\n",
    "      result = pickle.load(handle)\n",
    "  else:\n",
    "    print('File does not exist yet.')\n",
    "    verb_dict=dict()\n",
    "    verb_list=[]\n",
    "    result=[]\n",
    "  return verb_dict, verb_list, result\n",
    "\n",
    "def dump_pickles(identifier, checkpoint, verb_dict, verb_list, result):\n",
    "  with open(\"verb_dict\"+identifier+str(checkpoint)+\".pickle\", 'wb') as handle:\n",
    "      pickle.dump(verb_dict, handle, protocol=pickle.HIGHEST_PROTOCOL)\n",
    "  with open(\"verb_list\"+identifier+str(checkpoint)+\".pickle\", 'wb') as handle:\n",
    "      pickle.dump(verb_list, handle, protocol=pickle.HIGHEST_PROTOCOL)\n",
    "  with open(\"result\"+identifier+str(checkpoint)+\".pickle\", 'wb') as handle:\n",
    "      pickle.dump(result, handle, protocol=pickle.HIGHEST_PROTOCOL)\n",
    "  return \n",
    "\n",
    "verb_dict = pickle.load(open(\"verb_dict.pickle\", \"rb\"))\n",
    "verb_list = None"
   ]
  },
  {
   "cell_type": "markdown",
   "metadata": {
    "colab_type": "text",
    "id": "KFSGYiCU9gat"
   },
   "source": [
    "Process data"
   ]
  },
  {
   "cell_type": "code",
   "execution_count": 15,
   "metadata": {
    "colab": {
     "base_uri": "https://localhost:8080/",
     "height": 294
    },
    "colab_type": "code",
    "id": "q0om52TA9et4",
    "outputId": "7645abe6-2701-49bf-af88-35724f8c708d"
   },
   "outputs": [
    {
     "name": "stderr",
     "output_type": "stream",
     "text": [
      "/usr/local/lib/python3.6/dist-packages/ipykernel_launcher.py:76: DeprecationWarning: The truth value of an empty array is ambiguous. Returning False, but in future this will result in an error. Use `array.size > 0` to check that an array is not empty.\n"
     ]
    },
    {
     "name": "stdout",
     "output_type": "stream",
     "text": [
      "DO\n",
      "DO\n",
      "DO\n",
      "DO\n",
      "DISFAVOR\n",
      "NEE\n",
      "DO\n",
      "DO\n",
      "DO\n",
      "DO\n",
      "DO\n",
      "NEE\n",
      "COOK\n"
     ]
    }
   ],
   "source": [
    "result = []\n",
    "df = df[df['speech'].apply(lambda x: len(x)) < 1000]\n",
    "df.apply(lambda x: result.append(parse_entry(x,verb_dict,verb_list)), axis=1)\n",
    "dump_pickles(identifier,1+df.shape[0]/step_size,verb_dict,verb_list,result)"
   ]
  },
  {
   "cell_type": "markdown",
   "metadata": {
    "colab_type": "text",
    "id": "JxmENzAm8Z5a"
   },
   "source": [
    "Post-processing of data"
   ]
  },
  {
   "cell_type": "code",
   "execution_count": 19,
   "metadata": {
    "colab": {},
    "colab_type": "code",
    "id": "cN-zxpPs8ZKk"
   },
   "outputs": [],
   "source": [
    "df=pd.DataFrame(result)\n",
    "df=df[df.iloc[:,2].apply(lambda x: len(x)>1)]\n",
    "df=df.dropna(axis=0, how='any')"
   ]
  },
  {
   "cell_type": "markdown",
   "metadata": {
    "colab_type": "text",
    "id": "L1wsMNkf8PHk"
   },
   "source": [
    "Write to variables"
   ]
  },
  {
   "cell_type": "code",
   "execution_count": 20,
   "metadata": {
    "colab": {},
    "colab_type": "code",
    "id": "aKhXCZ6r8OKG"
   },
   "outputs": [],
   "source": [
    "identifier='../GraphWriter-master/data/preprocessed'\n",
    "df.to_csv(\"/content/drive/My Drive/GraphWriter-master/data/preprocessed.test.tsv\", sep='\\t', index=False, header=False)"
   ]
  },
  {
   "cell_type": "markdown",
   "metadata": {
    "colab_type": "text",
    "id": "5zC3KRld2_YH"
   },
   "source": [
    "Use file with lowest vloss in the folder \"full_speeches\" of GraphWriter-master to generate responses on test data, you can download a weight from [here](https://drive.google.com/drive/folders/1oM4XnLVWPx_5pSdG9VneuppQ7rI802sh?usp=sharing) and also some data including a \"relations.vocab\" from [here](https://drive.google.com/drive/folders/1UdYt6teIMhx6OaIrFyhZCwQIHU7c0YXg?usp=sharing).\n",
    "\n",
    "You have to create an according file in the folder GraphWriter-master/outputs called \"name of lowest vloss\".inputs.beam_predictions.cmdline.\n",
    "\n",
    "E.g. in the next cell \"9.vloss-3.980539.lr-0.1\" was used.\n",
    "And /content/drive/My Drive/GraphWriter-master/outputs/9.vloss-3.980539.lr-0.1.inputs.beam_predictions.cmdline was created"
   ]
  },
  {
   "cell_type": "code",
   "execution_count": 21,
   "metadata": {
    "colab": {
     "base_uri": "https://localhost:8080/",
     "height": 1000
    },
    "colab_type": "code",
    "id": "Ek1BF81C7h1T",
    "outputId": "9c937780-6e0d-4858-d5d1-2738132e0e32"
   },
   "outputs": [
    {
     "name": "stdout",
     "output_type": "stream",
     "text": [
      "2020-08-23 19:56:08.348633: I tensorflow/stream_executor/platform/default/dso_loader.cc:48] Successfully opened dynamic library libcudart.so.10.1\n",
      "\u001b[34m\u001b[1mwandb\u001b[0m: \u001b[33mWARNING\u001b[0m W&B installed but not logged in.  Run `wandb login` or set the WANDB_API_KEY env variable.\n",
      "Loading Data from  data/preprocessed.train.tsv\n",
      "building vocab\n",
      "Vocab sizes:\n",
      "src 4\n",
      "ent 19591\n",
      "nerd 4\n",
      "rel 17893\n",
      "out 11284\n",
      "graph\n",
      "0 25\n",
      "/content/drive/My Drive/GraphWriter-master/models/newmodel.py:153: UserWarning: To copy construct from a tensor, it is recommended to use sourceTensor.clone().detach() or sourceTensor.clone().detach().requires_grad_(True), rather than torch.tensor(sourceTensor).\n",
      "  cx = torch.tensor(hx)\n",
      "CONGRESS now has an opportunity to put AN END to one of the most barbaric acts known to mankind . <unk> , this barbaric act is perfectly legal in the United States of America , this barbaric act is called partialbirth abortion . Actually this barbaric act is a procedure in which a baby is partially delivered , THE DOCTOR actually reaches in and turns A BABY for a <unk> birth , and then is killed in a procedure too horrible to describe . CONGRESS has voted twice to make IT ILLEGAL , but THE PREVIOUS PRESIDENT vetoed IT both times . Today we have THE PREVIOUS PRESIDENT who will do the right thing and make PARTIALBIRTH ABORTION ILLEGAL , but first IT have to send THE PREVIOUS PRESIDENT , WE IN THE HOUSE will have the chance to vote ON THE BILL later this summer , and we will do the right thing . It will be up to the other body to act . No one knows what they will do . It is time to make partialbirth abortion illegal . It should have been illegal long ago . \n",
      "I rise in strong support of this legislation , I rise in strong support of the PERSON amendment , I rise in strong support of the PERSON amendment , I rise in strong support of this resolution , I rise in strong support of the PERSON amendment to the resolution before us today , I rise in strong support of the resolution , I would like to thank the gentleman from New York for his leadership on this issue , I rise in strong support of this legislation , I rise in strong support of this legislation , I rise in strong support of the resolution , I would like to thank the gentleman from New York for the gentleman leadership on this issue , I rise in strong support of this legislation , I rise in strong support of the legislation before us today , I would like to thank the gentleman from New York for the gentleman leadership on this issue , I rise in strong support of this legislation , I rise in strong support of this bill , I rise in strong support of the gentleman from Indiana ( Chairman PERSON ) and the gentleman from\n",
      "\n",
      "1 25\n",
      "I yield myself THE BALANCE OF MY TIME , I would say to the gentleman from Virginia we have enjoyed working with you and your Members , but I do nt agree with you , I do nt believe there is a tax increase In this bill , I have looked AT THIS BILL , I am a CPA , and I think I can say AT THIS BILL either way , but I do nt believe this bill is a tax increase . The $ 60 billion did come out of baseline not because ANYBODY cut AT THIS BILL , but because the program worked the way the program is supposed to . <unk> are up and spending went down , I are missing THE MONEY , but it was nt because ANYBODY cut THE MONEY , I have AT THIS BILL , and I encourage ALL MEMBERS to support AT THIS BILL . \n",
      "I rise in strong opposition to this amendment . I the Senator from California is correct . I , as the gentleman from California pointed out , I the gentleman from New York and the gentleman from California and the gentleman from California and the gentleman from California and the gentleman from California and the gentleman from California and the gentleman from California and the gentleman from California and the gentleman from California and the gentleman from California and the gentleman from California and the gentleman from California and the gentleman from California and the gentleman from New York for his leadership on this issue , and I the gentleman from New York for his leadership on this issue , and I the gentleman from New York for his leadership on this issue , and I the gentleman from New York and the gentleman from California and the gentleman from California and the gentleman from New York for his leadership on this issue , and I the gentleman from New York and the gentleman from California and the gentleman from California and the gentleman from California and the gentleman from California and the gentleman from California and the gentleman from\n",
      "\n",
      "2 25\n",
      "I would like to clarify the actual <unk> of what this bill does , THIS BILL does not favor or <unk> ANY PARTICULAR RESULT OR ANY GROUP OF PEOPLE , this bill is motivated by a desire to preserve for the States the authority to decide whether the shield Congress enacted to protect them from having to accept same sex marriage licenses issued out of State will hold . There is no ill will here toward anyone . It does not dictate the results , either . It only places final authority over whether the States the States must accept same sex marriage licenses granted in other States in the hands of the States , this bill should be supported , by any Member who supports the proposition that lifetime appointed Federal judges must not be allowed to rewrite marriage policies for the States , I yield 4 MINUTES to the gentleman from Tennessee . \n",
      "I rise in strong support of the motion to instruct conferees on the motion to instruct conferees on the motion to instruct conferees on the motion to instruct conferees on the Committee on Energy and Natural Resources , I ask unanimous consent that THIS BILL be printed in the RECORD .\n",
      "\n",
      "3 25\n",
      "So when the Democrats , in 1993 , said . \" THE DEMOCRATS have now fixed THE TAX CODE : THE DEMOCRATS have now changed THE TAX CODE so higher income individuals are going to pay more of so higher income individuals fair SHARE\"-I think THAT was the <unk> that \" THAT have THE TAX CODE heard THAT OVER AND OVER AGAINWHAT THE SENATOR is suggesting is that THAT are going to make IT EVEN FAIRER by shifting THE BURDEN even more , and the argument on the other side is that is nt fair enough . Their argument is that THAT need to increase TAXES even more on higher income individuals . \n",
      "I rise in strong support of this amendment , I rise in strong support of this amendment , I rise in strong support of the amendment . This is a good bill , and THE DEMOCRATS the gentleman from New York and the gentleman from New York , the gentleman from New York , the gentleman from New York , the gentleman from New York , the gentleman from New York , the gentleman from New York , the gentleman from New York and the gentleman from New York and the gentleman from New York and the gentleman from New York and the gentleman from New York and the gentleman from New York and the gentleman from New York and the gentleman from New York and the gentleman from New York and the gentleman from New York and the gentleman from New York and the gentleman from New York and the gentleman from New York and the gentleman from New York and the gentleman from New York and the gentleman from New York and the gentleman from New York and the gentleman from New York and the gentleman from New York and the gentleman from New York and the gentleman from\n",
      "\n",
      "4 25\n",
      "That s correct . WHAT WE are seeing is a vehicle being called \" tax reform \" being used as a <unk> to drive higher taxes , higher revenues , and higher spending levels . This is an attempt in the name of fiscal responsibility to take more from the American economy , more from American working families , more from the public at the expense of the private economy . \n",
      "I rise in strong support of the PERSON amendment . The gentleman from Illinois is correct . The gentleman from New York is correct . The gentleman from Illinois is correct . The gentleman from Illinois is correct . The gentleman from Illinois is correct . The gentleman from Illinois is correct . The gentleman from New York is correct . The gentleman from Texas ( Chairman PERSON ) and the gentleman from New York ( Chairman PERSON ) and the gentleman from Illinois ( Chairman PERSON ) and the gentleman from New York ( Chairman PERSON ) and the gentleman from Illinois ( Chairman PERSON ) and the gentleman from New York ( Chairman PERSON ) and the gentleman from New York ( Chairman PERSON ) and the gentleman from Illinois ( Chairman PERSON ) and the gentleman from New York ( Chairman PERSON ) and the gentleman from New York ( Chairman PERSON ) and the gentleman from New York ( Chairman PERSON ) and the gentleman from New York ( Chairman PERSON ) and the gentleman from New York ( Chairman PERSON ) and the gentleman from New York ( Chairman PERSON ) and the gentleman from\n",
      "\n",
      "5 25\n",
      "today I stand for a commitment to making PUBLIC HEALTHCARE A PRIORITY , I stand for universal healthcare as a universal right , I stand to support H. RES , 1381 . \" expressing the sense of the House that there should be an increased Federal commitment <unk> prevention and public health for all people in the United States . \" I thank MY COLLEAGUE . Representative <unk> for introducing THIS IMPORTANT RESOLUTION , I would be remiss if I did not also thank MY COLLEAGUE . Chairman of Judiciary , and Congressman JOHN CONYERS , for his tireless work on <unk> healthcare in this Congress , his <unk> meetings to bring together the healthcare community , congressional Members and staff , and other stakeholders , speaks to his commitment to making universal healthcare a priority . Sadly , the United States is THE ONLY WEALTHY , INDUSTRIALIZED NATION that does not have A UNIVERSAL HEALTH CARE SYSTEM . Some of the other disturbing healthcare statistics are that : \n",
      "I rise in strong support of the amendment by Senator PERSON . Senator PERSON , for his leadership on this issue , I rise in strong support of this amendment , I rise in strong support of this amendment , I rise in strong support of this amendment , I rise in strong support of the amendment by the gentleman from California and the gentleman from New York and the gentleman from New York and the gentleman from New York , the gentleman from New York , the gentleman from New York , the gentleman from New York , the gentleman from New York , the gentleman from New York , the gentleman from New York , the gentleman from New York , the gentleman from New York , the gentleman from New York , the gentleman from New York , the gentleman from New York , the gentleman from New York , the gentleman from New York , the gentleman from New York , the gentleman from New York and the gentleman from New York and the gentleman from New York , the gentleman from Indiana , the gentleman from New York , the gentleman from New York ,\n",
      "\n",
      "6 25\n",
      "We want A MIDDLE CLASS to have HIGHER WAGE JOBS , to earn the money higher wage jobs need , to not just educate HIGHER WAGE JOBS , to begin to save for A RETIREMENT THAT so far higher wage jobs have NT had , and that can only happen with manufacturing jobs . But how can ANY CORPORATION ON WALL STREET OR MAIN STREET compete WITH A GOVERNMENT ? What s really going on in the world today is the idea , the free market <unk> idea that grew up our middle \n",
      "I rise in strong support of the PERSON amendment , I rise in strong support of the PERSON amendment , I rise in strong support of the PERSON amendment , I rise today in strong support of the PERSON amendment , I rise today in strong support of the PERSON amendment , I would like to remind my colleagues that the gentleman from California would like to engage in a colloquy with the gentleman from Texas , the gentleman from Texas , the gentleman from Texas , the gentleman from California , the gentleman from California and the gentleman from Texas , the gentleman from Texas , the gentleman from Texas , the gentleman from Texas , the gentleman from California and the gentleman from Texas , the gentleman from Texas , the gentleman from Texas , the gentleman from Texas , the gentleman from California and the gentleman from Texas , the gentleman from California and the gentleman from Texas , the gentleman from Texas , the gentleman from Texas , the gentleman from Texas , the gentleman from Texas , the gentleman from Texas , the gentleman from Texas , the gentleman from California and the gentleman from\n",
      "\n",
      "7 25\n",
      "This is without a doubt . And I m glad YOU mentioned SECTION 179 , I think under current law , section <unk> , of course is that section of the Internal Revenue Code which does allow A SMALL BUSINESS to expense A CERTAIN AMOUNT OF CAPITAL IMPROVEMENT OR EQUIPMENT PURCHASE in the very first year . But its limited under current law , I <unk> \n",
      "I rise in strong support of the PERSON amendment , I ask unanimous consent that the following be printed in the RECORD . The hearing will take place on Tuesday . The hearing will take place on Tuesday . The purpose of the hearing is to receive testimony on the motion to proceed to the United Nations , and YOU the following : ( 1 ) the following : ( 1 ) the following : ( 1 ) the following : ( 1 ) the following : ( 1 ) the following : ( 1 ) the following : ( 1 ) the following : ( 1 ) the following : ( 1 ) the following : ( 1 ) the following : ( 1 ) the following : ( 1 ) the following : ( 1 ) the following : ( 1 ) the following : ( 1 ) the following : ( 1 ) the following : ( 1 ) the following : ( 1 ) the following : ( 1 ) the following : ( 1 ) the following : ( 1 ) the following : ( 1 ) the following : ( 1 ) ) the\n",
      "\n",
      "8 25\n",
      "That is correct . What we are trying to do is restate in simple , easy to understand language THE BALANCE that THE COURTS , have properly struck between <unk> THE PURPOSE OF THE 21ST AMENDMENT and at the same time making sure that WE do not <unk> in any way FROM THE INTERSTATE COMMERCE CLAUSE , both are both parts of the Constitution , both read together , I think that THE CURRENT CASE LAW that WE have cited and that WE repeat in the statute expresses it as <unk> and simply as it can be expressed . \n",
      "I would like to point out to the gentleman from New York , the gentleman from New York and the gentleman from New York and the gentleman from New York and the gentleman from New York and the gentleman from New York and the gentleman from New York and the gentleman from New York and the gentleman from New York and the gentleman from New York and the gentleman from New York and the gentleman from New York and the gentleman from New York and the gentleman from New York and the gentleman from New York and the gentleman from New York and the gentleman from New York and the gentleman from New York and the gentleman from New York and the gentleman from New York and the gentleman from New York and the gentleman from New York and the gentleman from New York and the gentleman from New York and the gentleman from New York and the gentleman from New York and the gentleman from New York and the gentleman from New York and the gentleman from New York and the gentleman from New York and the gentleman from New York and the gentleman from New York and the\n",
      "\n",
      "9 25\n",
      "I appreciate THE SENATOR YIELDING , I would like to ask A COUPLE OF QUESTIONS , maybe with a comment . We , have a disagreement with a distinguished colleague of ours who offers A FARM BILL that really is not much of a farm bill at all and certainly offers NO HOPE TO FAMILY FARMERS . But is nt the origin of this idea coming from people who really think the current farm program , which has nearly <unk> the rest of the family farmers who are still <unk> have believed this current farm program has been just <unk> , that this current farm program works just <unk> ? Is nt the origin of this idea from people who really think this current farm program has worked for family farmers ? \n",
      "I rise in strong opposition to the pending amendment . Senator PERSON and I introduced the Senator from New York and the Senator from New York and the Senator from New York and the Senator from New York and the ranking member of the Judiciary Committee on the Judiciary Committee on the Judiciary Committee on the Judiciary Committee on the Judiciary Committee on the Judiciary on the Judiciary Committee on the Judiciary Committee on the Judiciary Committee on the Judiciary Committee on the Judiciary Committee on the Judiciary on the Judiciary Committee on the Judiciary Committee on the Judiciary Committee on the Judiciary Committee on the Judiciary Committee on the Judiciary on the Judiciary Committee on the Judiciary Committee on the Judiciary on the Judiciary Committee on the Judiciary Committee on the Judiciary Committee on the Judiciary Committee on the Judiciary Committee on the Judiciary Committee on the Judiciary Committee and the ranking member of the Judiciary Committee on the Judiciary Committee on the Judiciary Committee on the Judiciary Committee on the Judiciary on the Judiciary Committee on the Judiciary Committee on the Judiciary Committee on the Judiciary on the Judiciary Committee on the Judiciary Committee on the Judiciary Committee\n",
      "\n",
      "10 25\n",
      "So it is unbelievable to think exactly where we are and THE LACK OF LEADERSHIP that WE have here . On THAT ONE POSTER WE just had up . President Bush said the economy is benefiting all Americans , WE find THAT INTERESTING , WE had SOME STEELWORKERS in my office just today from all over Ohio , and some steelworkers in my office certainly do nt think that THE ECONOMY is benefiting ALL AMERICANS , that is for sure . \n",
      "I rise in opposition to the legislation before the House today , and I rise in opposition to the legislation before the House today , and WE the gentleman from New York and the gentleman from New York and the gentleman from New York and the gentleman from California and the gentleman from California and the gentleman from California and the gentleman from California and the gentleman from California and the gentleman from California and the gentleman from California and the gentleman from New York and the gentleman from New York and the gentleman from New York and the gentleman from New York and the gentleman from New York and the gentleman from New York for the gentleman leadership on this legislation , and WE the gentleman from New York and the gentleman from New York and the gentleman from California and the gentleman from New York for the gentleman from New York and the gentleman from New York and the gentleman from California and the gentleman from California and the gentleman from California and the gentleman from California and the gentleman from California and the gentleman from California and the gentleman from California and the gentleman from New York\n",
      "\n",
      "11 25\n",
      "the Senator from Wyoming talked about the commitment to pay down the national debt , but on page 5 , the national debt is listed beginning on line 20 , fiscal year 2000 , as $ <unk> trillion going up to , on page 6 . Here is the Senators commitment to reducing the national debt . There is NO COMMITMENT that I have seen , I ask unanimous consent to print in the RECORD a listing of the national debt as unanimous consent has gone up since the days of President Truman . \n",
      "I rise in strong support of the PERSON amendment . PERSON , the gentleman from Illinois ( Chairman PERSON ) and the gentleman from Illinois ( Chairman PERSON ) and the gentleman from New York ( Chairman PERSON ) and the gentleman from New York ( Chairman PERSON ) and the gentleman from Texas ( Chairman PERSON ) and the gentleman from Texas ( Chairman PERSON ) and the gentleman from New York ( Chairman PERSON ) and the gentleman from New York ( Chairman PERSON ) and the gentleman from Illinois ( Chairman PERSON ) and the gentleman from Illinois ( Chairman PERSON ) and the gentleman from Illinois ( Chairman PERSON ) and the gentleman from Illinois ( Chairman PERSON ) and the gentleman from New York ( Chairman PERSON ) and the gentleman from Illinois ( Chairman PERSON ) and the ranking member of the House Committee on Energy and Natural Resources on the floor of the House of Representatives to the gentleman from California California for the gentleman from New York ( Chairman PERSON ) and the gentleman from Illinois ( Chairman PERSON ) and the gentleman from Texas ( Chairman PERSON ) and the gentleman\n",
      "\n",
      "12 25\n",
      "I yield MYSELF 10 seconds , I rest MY CASE . We are seeing the plan develop before We very eyes . THE GENTLEMAN said I . Get We out of office , raise taxes and then increase spending . <unk> taxes , increase spending , increase taxes , increase spending . Here We go again . Do not tell me MY COLLEAGUES do not have A PLAN , MY COLLEAGUES have got A PLAN . It is called tax and spend . \n",
      "I rise in strong support of the PERSON amendment to the gentleman from California and the gentleman from New York and the gentleman from New York and the gentleman from New York and the gentleman from New York and the gentleman from New York and the gentleman from New York and the gentleman from New York and the gentleman from New York and the gentleman from New York and the gentleman from New York and the gentleman from New York and the gentleman from New York and the gentleman from New York and the gentleman from New York and the gentleman from New York and the gentleman from New York and the gentleman from New York and the gentleman from New York and the gentleman from New York and the gentleman from New York and the gentleman from New York and the gentleman from New York and the gentleman from New York and the gentleman from New York and the gentleman from New York and the gentleman from New York and the gentleman from New York and the gentleman from New York and the gentleman from New York and the gentleman from New York and the gentleman from New York\n",
      "\n",
      "13 25\n",
      "today I stand for a commitment to making PUBLIC HEALTHCARE A PRIORITY , I stand for universal healthcare as a universal right , I stand to support H. RES , 1381 . \" expressing the sense of the House that there should be an increased Federal commitment <unk> prevention and public health for all people in the United States . \" I thank MY COLLEAGUE . Representative <unk> for introducing THIS IMPORTANT RESOLUTION , I would be remiss if I did not also thank MY COLLEAGUE . Chairman of Judiciary , and Congressman JOHN CONYERS , for his tireless work on <unk> healthcare in this Congress , his <unk> meetings to bring together the healthcare community , congressional Members and staff , and other stakeholders , speaks to his commitment to making universal healthcare a priority . Sadly , the United States is THE ONLY WEALTHY , INDUSTRIALIZED NATION that does not have A UNIVERSAL HEALTH CARE SYSTEM . Some of the other disturbing healthcare statistics are that : \n",
      "I rise in strong support of this amendment , I rise in strong support of this amendment , I rise in strong support of this amendment , I rise in strong support of the amendment by the gentleman from New York , the gentleman from Indiana , the gentleman from New York , the gentleman from New York , the gentleman from Indiana , the gentleman from Indiana , the gentleman from Indiana , the gentleman from Indiana , the gentleman from Indiana , the gentleman from California and the gentleman from New York , the gentleman from Indiana , the gentleman from Indiana , the gentleman from New York , the gentleman from New York , the gentleman from New York , the gentleman from New York , the gentleman from Indiana , the gentleman from Indiana , the gentleman from Indiana , the gentleman from Indiana , the gentleman from Indiana , the gentleman from Indiana , the gentleman from Indiana , the gentleman from Indiana , the gentleman from Indiana , the gentleman from California and the gentleman from New York , the gentleman from Indiana , the gentleman from Indiana , the gentleman from New York\n",
      "\n",
      "14 25\n",
      "THE BUDGET RESOLUTION provides A GENEROUS INCREASE IN SPENDING IN EDUCATION , just as the FY 2000 education appropriations bill did . Basically , THE BUDGET RESOLUTION says THE BUDGET RESOLUTION . IDEA should be given priority . WE have increased A GENEROUS INCREASE IN SPENDING IN EDUCATION 100 percent during the last 10 years , but during that same period , the most We have spent is <unk> percent of the cost of IDEA , and We are supposed to be spending 40 percent , THE BUDGET RESOLUTION gives PRIORITY to IDEA without spending another $ 31 billion over the next 5 years , as suggested in the underlying amendment . SEVERAL SENATORS addressed THE CHAIR . \n",
      "I rise in strong support of the PERSON amendment , I want to thank the chairman and the ranking member for yielding me this time , and I rise in strong support of this legislation , I want to thank the gentleman from New York for the distinguished chairman of the Committee on Ways and Means , I would like to point out to the gentleman that the gentleman from New York and the gentleman from New York and the gentleman from New York and the gentleman from New York and the gentleman from New York , the gentleman from New York , the gentleman from New York , the gentleman from New York , the gentleman from New York , the gentleman from New York and the gentleman from New York , the distinguished chairman of the Committee on Ways and Means , the gentleman from New York , the gentleman from New York , the gentleman from New York , the gentleman from New York , the gentleman from New York , the gentleman from New York , the gentleman from New York , the gentleman from New York , the gentleman from New York and the gentleman\n",
      "\n",
      "15 25\n",
      "I yield MYSELF 10 seconds , I rest MY CASE . We are seeing the plan develop before We very eyes . THE GENTLEMAN said I . Get We out of office , raise taxes and then increase spending . <unk> taxes , increase spending , increase taxes , increase spending . Here We go again . Do not tell me MY COLLEAGUES do not have A PLAN , MY COLLEAGUES have got A PLAN . It is called tax and spend . \n",
      "I rise in strong opposition to the amendment . THE GENTLEMAN the gentleman from Texas to the gentleman from Texas , the gentleman from New York and the gentleman from New York and the gentleman from New York and the gentleman from New York for his leadership on the other side of the aisle to the gentleman from California for the gentleman leadership on the other side of the aisle to the gentleman from California for the gentleman leadership on the other side of the aisle , I the gentleman from New York and the gentleman from New York for his leadership on the other side of the aisle to the gentleman from Washington , the gentleman from New York and the gentleman from New York and the gentleman from New York for his leadership on the other side of the aisle to the gentleman from New York for the gentleman leadership on the issue of the gentleman from California and the gentleman from New York and the gentleman from New York and the gentleman from New York and the gentleman from New York and the gentleman from New York and the gentleman from New York and the gentleman from New\n",
      "\n",
      "16 25\n",
      "If I could ask ONE MORE QUESTION , I spoke to the American Legion today . Prior to my going to the <unk> to speak , the American Legion national security director gave a long speech about the need for increased spending on the military and national missile defense . When I spoke ABOUT A NUMBER OF ISSUES , I said : All of you out there have to understand that I should have A TAX CUT , but I should have A TAX CUT cut should be a modest tax cut , I have heard the Senator from Illinois say that , I think WE ALL agree WITH THAT , WE ALL also have to pay down THE DEBT . If WE ALL are going to have ADDITIONAL SPENDING FOR THE MILITARY and WE ALL want A PRESCRIPTION DRUG BENEFIT FOR SENIORS , if WE ALL want to increase SPENDING FOR EDUCATION , does the Senator from Illinois agree WE ALL are going to have to save SOME OF THAT SURPLUS for some of THESE THINGS that OUR COUNTRY badly needs ? \n",
      "I rise in strong support of the PERSON amendment , I rise in strong support of the PERSON amendment , I rise in strong support of the PERSON amendment , I rise in strong support of the PERSON amendment , I the gentleman from California and the gentleman from New York and the gentleman from New York and the gentleman from New York and the gentleman from New York and the gentleman from New York and the gentleman from New York and the gentleman from New York and the gentleman from New York and the gentleman from New York and the gentleman from New York and the gentleman from New York and the gentleman from New York and the gentleman from New York and the gentleman from New York and the gentleman from New York and the gentleman from New York and the gentleman from New York and the gentleman from New York and the gentleman from New York and the gentleman from New York and the gentleman from New York and the gentleman from New York and the gentleman from New York and the gentleman from New York and the gentleman from New York and the gentleman from New\n",
      "\n",
      "17 25\n",
      "I make no <unk> make no <unk> WE have not increased SPENDING OVER THE PRESIDENTS PROPOSAL . Certainly , we do because WE have MORE SPENDING FOR THIS NATIONS VETERANS AND FOR HEALTH CARE FOR THIS NATIONS VETERANS . WE have MORE SPENDING FOR CHILDRENS HEALTH CARE . WE have MORE SPENDING FOR CHILDRENS HEALTH CARE . WE have MORE MONEY FOR LAW ENFORCEMENT . Because THE PRESIDENT cut THE COPS PROGRAM 94 PERCENTTHE COPS PROGRAM to put 100.000 POLICE OFFICERS on the streets , the President says : <unk> it <unk> do not agree with that , the President says we are not going to have the funding for we Nations veterans , which this Nations veterans say is essential , WE ask FOR THE TIME CIRCUMSTANCE on both sides . \n",
      "I rise in strong support of this legislation , and WE the gentleman from New York and the gentleman from New York and the gentleman from New York and the gentleman from New York and the gentleman from New York and the gentleman from New York and the gentleman from New York and the gentleman from New York and the gentleman from New York and the gentleman from New York and the gentleman from New York and the gentleman from New York and the gentleman from New York and the gentleman from New York and the gentleman from New York and the gentleman from New York and the gentleman from New York and the gentleman from New York and the gentleman from New York and the gentleman from New York and the gentleman from New York and the gentleman from New York and the gentleman from New York and the gentleman from New York and the gentleman from New York and the gentleman from New York and the gentleman from New York and the gentleman from New York and the gentleman from New York and the gentleman from New York and the gentleman from New York and the gentleman from\n",
      "\n",
      "18 25\n",
      "how much longer do families have to live in fear before Congress acts ? HOW MANY MORE MEMORIALS must THE NATION have before CONGRESS passes SENSIBLE GUN CONTROL ? Those are the questions . It appears that the answer is that some politicians would rather have the National <unk> Association invest in some politicians than for our Congress to invest in our childrens future , investing with a sensible gun control measure . Millions of families across the Nation agree that WE need to tighten SENSIBLE GUN CONTROL . So it is time for the House to act , the House has done the right thing . Now the House must do the same . If that means coming to the floor every day demanding that THE REPUBLICAN LEADERSHIP bring DEBATE ON CHILD SAFETY LOCKS AND A PROHIBITION ON THE IMPORT OF , on background checks at gun shows , DEBATE ON CHILD SAFETY LOCKS AND A PROHIBITION ON THE IMPORT OF large magazines , so be it , we are going to do it , WE must pass SENSIBLE GUN CONTROL , WE must make WE SCHOOLS SAFE , and we must do gun safety legislation now . \n",
      "I rise in strong support of the PERSON amendment , I rise in strong support of the PERSON amendment , I rise in strong support of the PERSON amendment , I rise in strong support of the PERSON amendment , I rise in strong support of the PERSON amendment , I rise in strong support of the PERSON amendment , I rise in strong support of the PERSON amendment , WE the gentleman from New York and the gentleman from New York and the gentleman from New York and the gentleman from New York and the gentleman from New York and the gentleman from New York and the gentleman from New York and the gentleman from New York and the gentleman from New York and the gentleman from New York and the gentleman from New York and the gentleman from New York and the gentleman from New York and the gentleman from New York and the gentleman from New York and the gentleman from New York and the gentleman from New York and the gentleman from New York and the gentleman from New York and the gentleman from New York and the gentleman from New York and the gentleman from\n",
      "\n",
      "19 25\n",
      "THE WHITE HOUSE wants MORE GUN CONTROL . JANET RENO wants MORE GUN CONTROL . But something just does not add up . In the last 5 years , prosecution of gun <unk> dropped 50 percent . MORE GUN CONTROL serve 25 PERCENT LESS TIME IN JAIL , and many <unk> were granted for gun <unk> . Now think about it . FEWER PROSECUTIONS , EARLY RELEASES , PARDONS , BUT THE WHITE HOUSE wants MORE GUN CONTROL . Beam me up . America does not need more gun control . America needs the White House to enforce MORE GUN CONTROL AMERICA already have , I yield back ALL THE CODDLING OF THESE GUN VIOLATORS BY THIS ADMINISTRATION . \n",
      "I rise in strong support of the PERSON amendment , I rise in strong support of the PERSON amendment , I rise in strong support of the PERSON amendment to H.R , 1402 , the Department of Veterans Affairs and the Department of Veterans Affairs and the Department of the Interior Appropriations bill for fiscal year 2000 , I would like to announce for the gentleman from New York ( Chairman PERSON ) and the gentleman from New York , the gentleman from New York , the gentleman from New York , the gentleman from New York , the gentleman from New York , the gentleman from New York , the gentleman from New York , the gentleman from New York , the gentleman from New York , the ranking member of the Committee on Energy and Natural Resources , the gentleman from New York , the gentleman from New York , the gentleman from New York , the gentleman from New York , the ranking member of the Committee on Energy and Natural Resources , the gentleman from New York , the gentleman from New York , the ranking member of the Committee on Energy and Natural Resources ,\n",
      "\n",
      "20 25\n",
      "we have had some <unk> people who <unk> the books , aided by ACCOUNTANTS who <unk> THEIR PROFESSION . That is fraud , and fraud should go to jail for it . Now WE are going to tighten down SOME OF THE RULES OF THE SYSTEM to make sure that this can not happen again , and to restore confidence in the American system of free enterprise , WE support AMERICAN FREE ENTERPRISE , and because WE support AMERICAN FREE ENTERPRISE , we need to crack down on PEOPLE who would break THE LAW and steal PEOPLES RETIREMENT SECURITY and THE AMOUNT OF MONEY THEIR PROFESSION are saving for they kids education . It is a good step forward , and WE commend THE COMMITTEE for their hard work and for sending a clear message to the American people . We are a country of free enterprise , and We will not tolerate PEOPLE who break THE LAW . \n",
      "I rise today in strong support of the PERSON amendment , I rise today in strong support of the PERSON amendment , I rise in strong support of the PERSON amendment , I rise in strong support of the PERSON amendment , I rise in strong support of the PERSON amendment , I would like to thank the gentleman from New York for the gentleman leadership on this issue , I would like to thank the gentleman from New York for the gentleman leadership on this issue , I would like to point out to the gentleman from Texas , the gentleman from Texas , the gentleman from Texas , the gentleman from California and the gentleman from California and the gentleman from Indiana , the gentleman from California and the gentleman from California and the gentleman from California and the gentleman from Indiana , the gentleman from California and the gentleman from Indiana , the gentleman from California and the gentleman from California and the gentleman from Indiana , the gentleman from California and the gentleman from Indiana , the gentleman from California and the gentleman from Indiana , the gentleman from California and the gentleman from California and\n",
      "\n",
      "21 25\n",
      "If the gentleman would yield , and just inquire as YOU were working THROUGH THAT BUDGET last night , WHAT KIND OF MESSAGE did YOU get from the majority party on how much support there was for the Department of Defense budget and how much support for military spending ? YOU are having THIS DEBATE HERE ON THE FLOOR today and starting again tomorrow morning . Did you sense that there was a commitment to support We military financially , We troops , and our military mission ? \n",
      "I rise in strong support of the PERSON amendment , and I rise in strong support of the PERSON amendment , I rise in strong support of the PERSON amendment , I rise in strong support of the PERSON amendment , YOU the gentleman from New York and the gentleman from New York and the gentleman from New York and the gentleman from New York and the gentleman from New York and the gentleman from New York and the gentleman from New York and the gentleman from New York and the gentleman from New York and the gentleman from New York and the gentleman from New York and the gentleman from New York and the gentleman from New York and the gentleman from New York and the gentleman from New York and the gentleman from New York and the gentleman from New York and the gentleman from New York and the gentleman from New York and the gentleman from New York and the gentleman from New York and the gentleman from New York and the gentleman from New York and the gentleman from New York and the gentleman from New York and the gentleman from New York and the gentleman\n",
      "\n",
      "22 25\n",
      "I yield MYSELF the remaining time , I thank THE CHAIRMAN for the chairman support and ask all of my colleagues in both parties to be supportive of his support . Just to point out ONE LAST THING , I appreciate the chairman pointing out that I authorizes THE PROGRAM , and forgive I for not making THAT POINT CLEAR , as well as the fact that THE EPA will administer THE PROGRAM . Finally , as my colleagues know , THE BUDGET MEASURE that PRESIDENT BUSH proposed would grant about $ 7 billion , a little over $ 7 billion , in tax breaks , and a good 70 percent of that would go towards energy efficiency and alternative sources of energy , I believe that this amendment advances that goal , not only for President Bush but , for the country . \n",
      "I rise in strong support of the amendment of the gentleman from California and the gentleman from New York and the gentleman from New York and the gentleman from New York and the gentleman from New York and the gentleman from New York and the gentleman from New York and the gentleman from New York and the gentleman from New York and the gentleman from New York and the gentleman from New York and the gentleman from New York and the gentleman from New York and the gentleman from New York and the gentleman from New York and the gentleman from New York and the gentleman from California and the gentleman from New Jersey , the gentleman from New York , the gentleman from California and the gentleman from California and the gentleman from California and the gentleman from New York and the gentleman from California and the gentleman from New York and the gentleman from New York , the gentleman from New York , the gentleman from California and the gentleman from Indiana , the gentleman from California and the gentleman from California and the gentleman from California and the gentleman from California and the gentleman from New York\n",
      "\n",
      "23 25\n",
      "I want to introduce into the RECORD a <unk> poll that revealed that 59 percent of <unk> view as <unk> biggest threat , and that 67 percent of <unk> <unk> were opposed to military operations in 59 percent of <unk> view as their biggest threat , and that 67 percent of <unk> <unk> were country . Now , if putting OUR TROOPS inside the borders of Afghanistan , if were not putting our troops in a hostile environment , with those poll results , I do nt know what would be hostile . \n",
      "I rise in strong support of the pending amendment , I rise in strong support of the pending amendment . As a result of the Department of the Energy and Commerce Committee , I would like to engage in a colloquy with the chairman of the subcommittee , I the gentleman from Florida ( Chairman PERSON ) and the gentleman from Florida ( Chairman PERSON ) and the gentleman from Florida ( Chairman PERSON ) and the gentleman from Florida ( Chairman PERSON ) and the gentleman from Florida ( Chairman PERSON ) and the gentleman from Florida ( Chairman PERSON ) and the gentleman from Florida ( Chairman PERSON ) and the gentleman from New York ( Chairman PERSON ) and the gentleman from Florida ( Chairman PERSON ) and the gentleman from Indiana ( Chairman PERSON ) and the gentleman from Florida ( Chairman PERSON ) and the gentleman from New York ( Chairman PERSON ) and the gentleman from Florida ( Chairman PERSON ) and the gentleman from Florida ( Chairman PERSON ) and the gentleman from Florida ( Chairman PERSON ) and the gentleman from Florida ( Chairman PERSON ) and the gentleman from Florida (\n",
      "\n",
      "24 25\n",
      "WE have before the Senate THE FISCAL YEAR 2006 DEPARTMENT OF DEFENSE APPROPRIATIONS BILL . H.R , <unk> makes a valuable contribution to we Nations efforts to enhance the quality of life for our soldiers , sailors , airmen and marines as well as while continuing to transform we military forces to ensure that OUR MILITARY FORCES are capable of meeting THE THREATS TO AMERICAS SECURITY now and in the future . \n",
      "I rise in strong support of the PERSON amendment , I rise in strong support of the legislation before us today . THE FISCAL YEAR 2006 DEPARTMENT OF DEFENSE APPROPRIATIONS BILL the United States of the United States of the United States of America has been a strong advocate for the people of the United States and around the world . In fact , the United States has been more than ever since . The President of the United States of the United States has been more than ever since since January of 2001 . The President of the United States has more than a year ago . The first time in the last Congress , the United Nations has been a strong advocate for the people of the United States and the people of the United States of America . WE , and the people of the United States , the people of the United States and the people of the United States of the United States of America has been a leader in the United States . The President of the United States of the United States of America has been a strong advocate for the American people to stand with the people of the United\n",
      "\n"
     ]
    }
   ],
   "source": [
    "os.chdir('/content/drive/My Drive/GraphWriter-master')\n",
    "!python generator.py -save=full_speeches/12.vloss-4.299755.lr-0.1"
   ]
  },
  {
   "cell_type": "code",
   "execution_count": 28,
   "metadata": {
    "colab": {},
    "colab_type": "code",
    "id": "_ArVGcxzRyLX"
   },
   "outputs": [],
   "source": [
    "with open(\"/content/drive/My Drive/GraphWriter-master/outputs/12.vloss-4.299755.lr-0.1.inputs.beam_predictions.cmdline\") as f:\n",
    "  gw_gen_answers = f.readlines()  "
   ]
  },
  {
   "cell_type": "code",
   "execution_count": 30,
   "metadata": {
    "colab": {},
    "colab_type": "code",
    "id": "GQNO2fE2hW7x"
   },
   "outputs": [],
   "source": [
    "df['GW_ANS'] = gw_gen_answers"
   ]
  },
  {
   "cell_type": "code",
   "execution_count": 31,
   "metadata": {
    "colab": {
     "base_uri": "https://localhost:8080/",
     "height": 1000
    },
    "colab_type": "code",
    "id": "56Gy-RDs6B91",
    "outputId": "88d834fb-f37c-41f8-ae52-dc6ee188ed9f"
   },
   "outputs": [
    {
     "data": {
      "text/html": [
       "<div>\n",
       "<style scoped>\n",
       "    .dataframe tbody tr th:only-of-type {\n",
       "        vertical-align: middle;\n",
       "    }\n",
       "\n",
       "    .dataframe tbody tr th {\n",
       "        vertical-align: top;\n",
       "    }\n",
       "\n",
       "    .dataframe thead th {\n",
       "        text-align: right;\n",
       "    }\n",
       "</style>\n",
       "<table border=\"1\" class=\"dataframe\">\n",
       "  <thead>\n",
       "    <tr style=\"text-align: right;\">\n",
       "      <th></th>\n",
       "      <th>question</th>\n",
       "      <th>corpus</th>\n",
       "      <th>tags</th>\n",
       "      <th>triplet_id</th>\n",
       "      <th>parsed_text</th>\n",
       "      <th>parsed</th>\n",
       "      <th>GW_ANS</th>\n",
       "    </tr>\n",
       "  </thead>\n",
       "  <tbody>\n",
       "    <tr>\n",
       "      <th>0</th>\n",
       "      <td>Should abortion be illegal ?</td>\n",
       "      <td>Congress ; an end ; the doctor ; a baby ; it i...</td>\n",
       "      <td>&lt;phrase&gt; &lt;phrase&gt; &lt;phrase&gt; &lt;phrase&gt; &lt;phrase&gt; &lt;...</td>\n",
       "      <td>0 76 1 ; 2 8056 3 ; 0 4 4 ; 5 2133 6 ; 5 4 7 ;...</td>\n",
       "      <td>&lt;phrase_0&gt; now has an opportunity to put &lt;phra...</td>\n",
       "      <td>10 -1 0 1 11 10 -1 10 -1 2 3 12 10 -1 4 13 5 6...</td>\n",
       "      <td>i rise in strong support of this legislation ,...</td>\n",
       "    </tr>\n",
       "    <tr>\n",
       "      <th>2</th>\n",
       "      <td>What do you believe about tax increases ?</td>\n",
       "      <td>I ; the balance of my time ; at this bill ; an...</td>\n",
       "      <td>&lt;phrase&gt; &lt;phrase&gt; &lt;phrase&gt; &lt;phrase&gt; &lt;phrase&gt; &lt;...</td>\n",
       "      <td>0 145 1 ; 0 383 2 ; 0 8310 2 ; 3 97 2 ; 0 3471...</td>\n",
       "      <td>&lt;phrase_0&gt; yield myself &lt;phrase_1&gt; , I would s...</td>\n",
       "      <td>0 1 7 2 8 9 6 -1 3 10 6 -1 4 11 12 13 5 14 15 ...</td>\n",
       "      <td>i rise in strong opposition to this amendment ...</td>\n",
       "    </tr>\n",
       "    <tr>\n",
       "      <th>3</th>\n",
       "      <td>Should same - sex marriage be legal ?</td>\n",
       "      <td>this bill ; any particular result or any group...</td>\n",
       "      <td>&lt;phrase&gt; &lt;phrase&gt; &lt;phrase&gt; &lt;phrase&gt;</td>\n",
       "      <td>0 1512 1 ; 2 145 3</td>\n",
       "      <td>I would like to clarify the actual wording of ...</td>\n",
       "      <td>0 1 5 4 -1 4 -1 4 -1 2 3 6 4 -1</td>\n",
       "      <td>i rise in strong support of the motion to inst...</td>\n",
       "    </tr>\n",
       "    <tr>\n",
       "      <th>4</th>\n",
       "      <td>Should we have higher taxes for higher incomes ?</td>\n",
       "      <td>the Democrats ; the Tax Code ; share\"-I ; that...</td>\n",
       "      <td>&lt;phrase&gt; &lt;phrase&gt; &lt;phrase&gt; &lt;phrase&gt; &lt;phrase&gt; &lt;...</td>\n",
       "      <td>0 82 1 ; 0 237 1 ; 2 15 3 ; 3 5158 1 ; 1 565 3...</td>\n",
       "      <td>So when the Democrats , in 1993 , said . \" &lt;ph...</td>\n",
       "      <td>9 -1 0 1 10 11 2 3 12 13 14 4 5 15 6 16 7 17 9...</td>\n",
       "      <td>i rise in strong support of this amendment , i...</td>\n",
       "    </tr>\n",
       "    <tr>\n",
       "      <th>5</th>\n",
       "      <td>Should we have higher taxes for higher incomes ?</td>\n",
       "      <td>we ; What</td>\n",
       "      <td>&lt;phrase&gt; &lt;phrase&gt;</td>\n",
       "      <td>0 4201 1</td>\n",
       "      <td>That s correct . &lt;phrase_1&gt; &lt;phrase_0&gt; are see...</td>\n",
       "      <td>2 -1 0 1 3 2 -1 2 -1</td>\n",
       "      <td>i rise in strong support of the person amendme...</td>\n",
       "    </tr>\n",
       "    <tr>\n",
       "      <th>6</th>\n",
       "      <td>Should we have universal healthcare ?</td>\n",
       "      <td>I ; public healthcare a priority ; H. Res , 13...</td>\n",
       "      <td>&lt;phrase&gt; &lt;phrase&gt; &lt;phrase&gt; &lt;phrase&gt; &lt;phrase&gt; &lt;...</td>\n",
       "      <td>0 4 1 ; 0 386 2 ; 0 4918 3 ; 0 540 4 ; 5 5158 6</td>\n",
       "      <td>today &lt;phrase_0&gt; stand for a commitment to mak...</td>\n",
       "      <td>0 1 8 2 9 7 -1 7 -1 3 10 7 -1 4 11 7 -1 7 -1 5...</td>\n",
       "      <td>i rise in strong support of the amendment by s...</td>\n",
       "    </tr>\n",
       "    <tr>\n",
       "      <th>7</th>\n",
       "      <td>Do government regulations hinder free market c...</td>\n",
       "      <td>a middle class ; higher wage jobs ; nt ; a ret...</td>\n",
       "      <td>&lt;phrase&gt; &lt;phrase&gt; &lt;phrase&gt; &lt;phrase&gt; &lt;phrase&gt; &lt;...</td>\n",
       "      <td>0 5158 1 ; 0 1525 1 ; 2 5158 3 ; 4 337 5</td>\n",
       "      <td>We want &lt;phrase_0&gt; to have &lt;phrase_1&gt; , to ear...</td>\n",
       "      <td>0 1 7 8 2 3 9 6 -1 4 5 10 6 -1 6 -1</td>\n",
       "      <td>i rise in strong support of the person amendme...</td>\n",
       "    </tr>\n",
       "    <tr>\n",
       "      <th>8</th>\n",
       "      <td>What do you think about the current president ?</td>\n",
       "      <td>you ; section 179 ; a small business ; a certa...</td>\n",
       "      <td>&lt;phrase&gt; &lt;phrase&gt; &lt;phrase&gt; &lt;phrase&gt;</td>\n",
       "      <td>0 1596 1 ; 2 9154 3</td>\n",
       "      <td>This is without a doubt . And I m glad &lt;phrase...</td>\n",
       "      <td>4 -1 0 1 5 2 3 6 4 -1 4 -1</td>\n",
       "      <td>i rise in strong support of the person amendme...</td>\n",
       "    </tr>\n",
       "    <tr>\n",
       "      <th>9</th>\n",
       "      <td>What do you think about the current president ?</td>\n",
       "      <td>the courts ; the balance ; the purpose of the ...</td>\n",
       "      <td>&lt;phrase&gt; &lt;phrase&gt; &lt;phrase&gt; &lt;phrase&gt; &lt;phrase&gt; &lt;...</td>\n",
       "      <td>0 252 1 ; 0 500 2 ; 3 7406 4 ; 3 1388 5 ; 3 12...</td>\n",
       "      <td>That is correct . What we are trying to do is ...</td>\n",
       "      <td>6 -1 0 1 7 2 8 3 4 9 5 10 11 6 -1</td>\n",
       "      <td>i would like to point out to the gentleman fro...</td>\n",
       "    </tr>\n",
       "    <tr>\n",
       "      <th>10</th>\n",
       "      <td>What do you think about the current president ?</td>\n",
       "      <td>I ; the Senator yielding ; a couple of questio...</td>\n",
       "      <td>&lt;phrase&gt; &lt;phrase&gt; &lt;phrase&gt; &lt;phrase&gt; &lt;phrase&gt;</td>\n",
       "      <td>0 2153 1 ; 0 7347 2 ; 3 1004 4</td>\n",
       "      <td>&lt;phrase_0&gt; appreciate &lt;phrase_1&gt; , &lt;phrase_0&gt; ...</td>\n",
       "      <td>0 1 6 2 7 5 -1 3 4 8 5 -1 5 -1 5 -1</td>\n",
       "      <td>i rise in strong opposition to the pending ame...</td>\n",
       "    </tr>\n",
       "    <tr>\n",
       "      <th>11</th>\n",
       "      <td>What do you think about the current president ?</td>\n",
       "      <td>we ; the lack of leadership ; that one poster ...</td>\n",
       "      <td>&lt;phrase&gt; &lt;phrase&gt; &lt;phrase&gt; &lt;phrase&gt; &lt;phrase&gt; &lt;...</td>\n",
       "      <td>0 5158 1 ; 0 5158 2 ; 0 357 3 ; 0 5158 4 ; 5 5...</td>\n",
       "      <td>So it is unbelievable to think exactly where w...</td>\n",
       "      <td>0 1 8 7 -1 2 9 7 -1 3 10 4 11 5 6 12 7 -1</td>\n",
       "      <td>i rise in opposition to the legislation before...</td>\n",
       "    </tr>\n",
       "    <tr>\n",
       "      <th>12</th>\n",
       "      <td>Should we reduce national debt ?</td>\n",
       "      <td>I ; no commitment</td>\n",
       "      <td>&lt;phrase&gt; &lt;phrase&gt;</td>\n",
       "      <td>0 4201 1</td>\n",
       "      <td>the Senator from Wyoming talked about the comm...</td>\n",
       "      <td>2 -1 2 -1 2 -1 0 1 3 2 -1</td>\n",
       "      <td>i rise in strong support of the person amendme...</td>\n",
       "    </tr>\n",
       "    <tr>\n",
       "      <th>13</th>\n",
       "      <td>Should we increase spending on healthcare ?</td>\n",
       "      <td>I ; myself ; my case ; The gentleman ; my coll...</td>\n",
       "      <td>&lt;phrase&gt; &lt;phrase&gt; &lt;phrase&gt; &lt;phrase&gt; &lt;phrase&gt; &lt;...</td>\n",
       "      <td>0 145 1 ; 0 478 2 ; 3 8310 0 ; 4 5158 5 ; 4 617 5</td>\n",
       "      <td>&lt;phrase_0&gt; yield &lt;phrase_1&gt; 10 seconds , &lt;phra...</td>\n",
       "      <td>0 1 7 2 8 6 -1 6 -1 3 9 6 -1 6 -1 6 -1 6 -1 4 ...</td>\n",
       "      <td>i rise in strong support of the person amendme...</td>\n",
       "    </tr>\n",
       "    <tr>\n",
       "      <th>14</th>\n",
       "      <td>Should we increase spending on healthcare ?</td>\n",
       "      <td>I ; public healthcare a priority ; H. Res , 13...</td>\n",
       "      <td>&lt;phrase&gt; &lt;phrase&gt; &lt;phrase&gt; &lt;phrase&gt; &lt;phrase&gt; &lt;...</td>\n",
       "      <td>0 4 1 ; 0 386 2 ; 0 4918 3 ; 0 540 4 ; 5 5158 6</td>\n",
       "      <td>today &lt;phrase_0&gt; stand for a commitment to mak...</td>\n",
       "      <td>0 1 8 2 9 7 -1 7 -1 3 10 7 -1 4 11 7 -1 7 -1 5...</td>\n",
       "      <td>i rise in strong support of this amendment , i...</td>\n",
       "    </tr>\n",
       "    <tr>\n",
       "      <th>15</th>\n",
       "      <td>Should we increase spending on education ?</td>\n",
       "      <td>the budget resolution ; a generous increase in...</td>\n",
       "      <td>&lt;phrase&gt; &lt;phrase&gt; &lt;phrase&gt; &lt;phrase&gt; &lt;phrase&gt; &lt;...</td>\n",
       "      <td>0 7557 1 ; 0 8310 0 ; 2 3906 1 ; 0 3863 3 ; 4 ...</td>\n",
       "      <td>&lt;phrase_0&gt; provides &lt;phrase_1&gt; , just as the F...</td>\n",
       "      <td>0 1 7 6 -1 8 6 -1 6 -1 2 9 3 10 6 -1 4 5 11 6 -1</td>\n",
       "      <td>i rise in strong support of the person amendme...</td>\n",
       "    </tr>\n",
       "    <tr>\n",
       "      <th>16</th>\n",
       "      <td>Should we increase spending on education ?</td>\n",
       "      <td>I ; myself ; my case ; The gentleman ; my coll...</td>\n",
       "      <td>&lt;phrase&gt; &lt;phrase&gt; &lt;phrase&gt; &lt;phrase&gt; &lt;phrase&gt; &lt;...</td>\n",
       "      <td>0 145 1 ; 0 478 2 ; 3 8310 0 ; 4 5158 5 ; 4 617 5</td>\n",
       "      <td>&lt;phrase_0&gt; yield &lt;phrase_1&gt; 10 seconds , &lt;phra...</td>\n",
       "      <td>0 1 7 2 8 6 -1 6 -1 3 9 6 -1 6 -1 6 -1 6 -1 4 ...</td>\n",
       "      <td>i rise in strong opposition to the amendment ....</td>\n",
       "    </tr>\n",
       "    <tr>\n",
       "      <th>17</th>\n",
       "      <td>Should we increase spending on education ?</td>\n",
       "      <td>I ; one more question ; about a number of issu...</td>\n",
       "      <td>&lt;phrase&gt; &lt;phrase&gt; &lt;phrase&gt; &lt;phrase&gt; &lt;phrase&gt; &lt;...</td>\n",
       "      <td>0 7347 1 ; 0 611 2 ; 0 5158 3 ; 4 285 5 ; 4 30...</td>\n",
       "      <td>If &lt;phrase_0&gt; could ask &lt;phrase_1&gt; , I spoke t...</td>\n",
       "      <td>0 1 14 13 -1 13 -1 2 15 3 16 4 5 17 6 18 13 -1...</td>\n",
       "      <td>i rise in strong support of the person amendme...</td>\n",
       "    </tr>\n",
       "    <tr>\n",
       "      <th>18</th>\n",
       "      <td>Should we increase spending on education ?</td>\n",
       "      <td>we ; spending over the Presidents proposal ; m...</td>\n",
       "      <td>&lt;phrase&gt; &lt;phrase&gt; &lt;phrase&gt; &lt;phrase&gt; &lt;phrase&gt; &lt;...</td>\n",
       "      <td>0 3906 1 ; 0 5158 2 ; 0 5158 3 ; 0 5158 4 ; 5 ...</td>\n",
       "      <td>I make no assertionI make no assertionthat &lt;ph...</td>\n",
       "      <td>0 1 10 9 -1 2 11 9 -1 3 12 9 -1 9 -1 4 13 9 -1...</td>\n",
       "      <td>i rise in strong support of this legislation ,...</td>\n",
       "    </tr>\n",
       "    <tr>\n",
       "      <th>19</th>\n",
       "      <td>Should be introduce more gun control measures ?</td>\n",
       "      <td>the Nation ; How many more memorials ; Congres...</td>\n",
       "      <td>&lt;phrase&gt; &lt;phrase&gt; &lt;phrase&gt; &lt;phrase&gt; &lt;phrase&gt; &lt;...</td>\n",
       "      <td>0 5158 1 ; 2 4023 3 ; 4 6529 3 ; 5 6919 6 ; 4 ...</td>\n",
       "      <td>how much longer do families have to live in fe...</td>\n",
       "      <td>8 -1 0 1 9 2 3 10 8 -1 8 -1 8 -1 4 11 8 -1 8 -...</td>\n",
       "      <td>i rise in strong support of the person amendme...</td>\n",
       "    </tr>\n",
       "    <tr>\n",
       "      <th>20</th>\n",
       "      <td>Should be introduce more gun control measures ?</td>\n",
       "      <td>the White House ; more gun control ; Janet Ren...</td>\n",
       "      <td>&lt;phrase&gt; &lt;phrase&gt; &lt;phrase&gt; &lt;phrase&gt; &lt;phrase&gt; &lt;...</td>\n",
       "      <td>0 287 1 ; 2 287 1 ; 1 2228 3 ; 4 287 1 ; 5 515...</td>\n",
       "      <td>&lt;phrase_0&gt; wants &lt;phrase_1&gt; . &lt;phrase_2&gt; wants...</td>\n",
       "      <td>0 1 9 8 -1 2 10 8 -1 8 -1 8 -1 3 11 8 -1 8 -1 ...</td>\n",
       "      <td>i rise in strong support of the person amendme...</td>\n",
       "    </tr>\n",
       "    <tr>\n",
       "      <th>21</th>\n",
       "      <td>Should Americans be free ?</td>\n",
       "      <td>accountants ; their profession ; we ; some of ...</td>\n",
       "      <td>&lt;phrase&gt; &lt;phrase&gt; &lt;phrase&gt; &lt;phrase&gt; &lt;phrase&gt; &lt;...</td>\n",
       "      <td>0 908 1 ; 2 6529 3 ; 2 386 4 ; 5 1177 6 ; 5 24...</td>\n",
       "      <td>we have had some greedy people who cooked the ...</td>\n",
       "      <td>0 1 11 10 -1 10 -1 2 3 12 4 13 5 6 14 7 15 8 1...</td>\n",
       "      <td>i rise today in strong support of the person a...</td>\n",
       "    </tr>\n",
       "    <tr>\n",
       "      <th>22</th>\n",
       "      <td>What party do you support ?</td>\n",
       "      <td>you ; through that budget ; what kind of messa...</td>\n",
       "      <td>&lt;phrase&gt; &lt;phrase&gt; &lt;phrase&gt; &lt;phrase&gt;</td>\n",
       "      <td>0 5002 1 ; 0 617 2 ; 0 5158 3</td>\n",
       "      <td>If the gentleman would yield , and just inquir...</td>\n",
       "      <td>0 1 5 2 6 4 -1 3 7 4 -1 4 -1</td>\n",
       "      <td>i rise in strong support of the person amendme...</td>\n",
       "    </tr>\n",
       "    <tr>\n",
       "      <th>23</th>\n",
       "      <td>What party do you support ?</td>\n",
       "      <td>I ; myself ; the chairman ; one last thing ; t...</td>\n",
       "      <td>&lt;phrase&gt; &lt;phrase&gt; &lt;phrase&gt; &lt;phrase&gt; &lt;phrase&gt; &lt;...</td>\n",
       "      <td>0 145 1 ; 0 4918 2 ; 0 1800 3 ; 0 1067 4 ; 0 4...</td>\n",
       "      <td>&lt;phrase_0&gt; yield &lt;phrase_1&gt; the remaining time...</td>\n",
       "      <td>0 1 10 2 11 9 -1 3 12 4 13 5 14 6 15 9 -1 7 8 ...</td>\n",
       "      <td>i rise in strong support of the amendment of t...</td>\n",
       "    </tr>\n",
       "    <tr>\n",
       "      <th>24</th>\n",
       "      <td>What is the biggest threat to America ?</td>\n",
       "      <td>I ; our troops</td>\n",
       "      <td>&lt;phrase&gt; &lt;phrase&gt;</td>\n",
       "      <td>0 76 1</td>\n",
       "      <td>I want to introduce into the RECORD a Gallup p...</td>\n",
       "      <td>2 -1 0 1 3 2 -1 2 -1 2 -1</td>\n",
       "      <td>i rise in strong support of the pending amendm...</td>\n",
       "    </tr>\n",
       "    <tr>\n",
       "      <th>25</th>\n",
       "      <td>What is the biggest threat to America ?</td>\n",
       "      <td>we ; the fiscal year 2006 Department of Defens...</td>\n",
       "      <td>&lt;phrase&gt; &lt;phrase&gt; &lt;phrase&gt; &lt;phrase&gt;</td>\n",
       "      <td>0 5158 1 ; 2 1105 3</td>\n",
       "      <td>&lt;phrase_0&gt; have before the Senate &lt;phrase_1&gt; ....</td>\n",
       "      <td>0 1 5 4 -1 4 -1 2 3 6 4 -1</td>\n",
       "      <td>i rise in strong support of the person amendme...</td>\n",
       "    </tr>\n",
       "  </tbody>\n",
       "</table>\n",
       "</div>"
      ],
      "text/plain": [
       "                                             question  ...                                             GW_ANS\n",
       "0                        Should abortion be illegal ?  ...  i rise in strong support of this legislation ,...\n",
       "2           What do you believe about tax increases ?  ...  i rise in strong opposition to this amendment ...\n",
       "3               Should same - sex marriage be legal ?  ...  i rise in strong support of the motion to inst...\n",
       "4    Should we have higher taxes for higher incomes ?  ...  i rise in strong support of this amendment , i...\n",
       "5    Should we have higher taxes for higher incomes ?  ...  i rise in strong support of the person amendme...\n",
       "6               Should we have universal healthcare ?  ...  i rise in strong support of the amendment by s...\n",
       "7   Do government regulations hinder free market c...  ...  i rise in strong support of the person amendme...\n",
       "8     What do you think about the current president ?  ...  i rise in strong support of the person amendme...\n",
       "9     What do you think about the current president ?  ...  i would like to point out to the gentleman fro...\n",
       "10    What do you think about the current president ?  ...  i rise in strong opposition to the pending ame...\n",
       "11    What do you think about the current president ?  ...  i rise in opposition to the legislation before...\n",
       "12                   Should we reduce national debt ?  ...  i rise in strong support of the person amendme...\n",
       "13        Should we increase spending on healthcare ?  ...  i rise in strong support of the person amendme...\n",
       "14        Should we increase spending on healthcare ?  ...  i rise in strong support of this amendment , i...\n",
       "15         Should we increase spending on education ?  ...  i rise in strong support of the person amendme...\n",
       "16         Should we increase spending on education ?  ...  i rise in strong opposition to the amendment ....\n",
       "17         Should we increase spending on education ?  ...  i rise in strong support of the person amendme...\n",
       "18         Should we increase spending on education ?  ...  i rise in strong support of this legislation ,...\n",
       "19    Should be introduce more gun control measures ?  ...  i rise in strong support of the person amendme...\n",
       "20    Should be introduce more gun control measures ?  ...  i rise in strong support of the person amendme...\n",
       "21                         Should Americans be free ?  ...  i rise today in strong support of the person a...\n",
       "22                        What party do you support ?  ...  i rise in strong support of the person amendme...\n",
       "23                        What party do you support ?  ...  i rise in strong support of the amendment of t...\n",
       "24            What is the biggest threat to America ?  ...  i rise in strong support of the pending amendm...\n",
       "25            What is the biggest threat to America ?  ...  i rise in strong support of the person amendme...\n",
       "\n",
       "[25 rows x 7 columns]"
      ]
     },
     "execution_count": 31,
     "metadata": {
      "tags": []
     },
     "output_type": "execute_result"
    }
   ],
   "source": [
    "df.head(25)"
   ]
  }
 ],
 "metadata": {
  "accelerator": "GPU",
  "colab": {
   "collapsed_sections": [],
   "include_colab_link": true,
   "name": "09_GraphWriter_Generation.ipynb",
   "provenance": []
  },
  "kernelspec": {
   "display_name": "Python 3",
   "language": "python",
   "name": "python3"
  },
  "language_info": {
   "codemirror_mode": {
    "name": "ipython",
    "version": 3
   },
   "file_extension": ".py",
   "mimetype": "text/x-python",
   "name": "python",
   "nbconvert_exporter": "python",
   "pygments_lexer": "ipython3",
   "version": "3.7.4"
  }
 },
 "nbformat": 4,
 "nbformat_minor": 1
}
