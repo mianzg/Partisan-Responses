{
  "nbformat": 4,
  "nbformat_minor": 0,
  "metadata": {
    "colab": {
      "name": "Kopie von bert_full_data.ipynb",
      "provenance": [],
      "collapsed_sections": [],
      "include_colab_link": true
    },
    "kernelspec": {
      "name": "python3",
      "display_name": "Python 3"
    },
    "accelerator": "GPU"
  },
  "cells": [
    {
      "cell_type": "markdown",
      "metadata": {
        "id": "view-in-github",
        "colab_type": "text"
      },
      "source": [
        "<a href=\"https://colab.research.google.com/github/rostro36/Partisan-Responses/blob/master/06_RoBERTa_classifier.ipynb\" target=\"_parent\"><img src=\"https://colab.research.google.com/assets/colab-badge.svg\" alt=\"Open In Colab\"/></a>"
      ]
    },
    {
      "cell_type": "markdown",
      "metadata": {
        "id": "iTBMOe--dyir",
        "colab_type": "text"
      },
      "source": [
        "Mount Google Drive"
      ]
    },
    {
      "cell_type": "code",
      "metadata": {
        "id": "FBpOna_rjq4V",
        "colab_type": "code",
        "colab": {}
      },
      "source": [
        "from google.colab import drive\n",
        "drive.mount('/content/drive')\n",
        "\n",
        "import os\n",
        "os.chdir('/content/drive/My Drive/Partisan-Responses-master')"
      ],
      "execution_count": null,
      "outputs": []
    },
    {
      "cell_type": "markdown",
      "metadata": {
        "id": "819jhbWrd3JR",
        "colab_type": "text"
      },
      "source": [
        "Install all necessary libraries"
      ]
    },
    {
      "cell_type": "code",
      "metadata": {
        "id": "W9_dscsShqld",
        "colab_type": "code",
        "colab": {}
      },
      "source": [
        "%%writefile setup.sh\n",
        "\n",
        "git clone https://github.com/NVIDIA/apex\n",
        "pip install -v --no-cache-dir --global-option=\"--cpp_ext\" --global-option=\"--cuda_ext\" ./apex"
      ],
      "execution_count": null,
      "outputs": []
    },
    {
      "cell_type": "code",
      "metadata": {
        "id": "7BI0UjkjhrTa",
        "colab_type": "code",
        "colab": {}
      },
      "source": [
        "!sh setup.sh"
      ],
      "execution_count": null,
      "outputs": []
    },
    {
      "cell_type": "code",
      "metadata": {
        "id": "u28gunXNkW1h",
        "colab_type": "code",
        "colab": {}
      },
      "source": [
        "!pip install -r requirements.txt\n",
        "!pip install simpletransformers"
      ],
      "execution_count": null,
      "outputs": []
    },
    {
      "cell_type": "markdown",
      "metadata": {
        "id": "WGyaobMMd6cN",
        "colab_type": "text"
      },
      "source": [
        "Import all used libraries"
      ]
    },
    {
      "cell_type": "code",
      "metadata": {
        "id": "OvmZ1OPakguw",
        "colab_type": "code",
        "colab": {}
      },
      "source": [
        "from simpletransformers.classification import ClassificationModel, ClassificationArgs\n",
        "import pandas as pd\n",
        "import logging\n",
        "from sklearn.model_selection import train_test_split"
      ],
      "execution_count": null,
      "outputs": []
    },
    {
      "cell_type": "markdown",
      "metadata": {
        "id": "sDbTeoOed_kd",
        "colab_type": "text"
      },
      "source": [
        "Read data"
      ]
    },
    {
      "cell_type": "code",
      "metadata": {
        "id": "yjA1XZlVlUmo",
        "colab_type": "code",
        "colab": {}
      },
      "source": [
        "speech = pd.read_pickle(\"search_dataset_small.pkl\")\n",
        "\n",
        "sp = speech['speech']\n",
        "party = speech['party'].apply(lambda x: 1 if x == 'R' else 0)\n",
        "\n",
        "df = pd.DataFrame({\n",
        "    'text': sp,\n",
        "    'labels': party\n",
        "})\n",
        "\n",
        "train_df, eval_df = train_test_split(df, test_size=0.2)"
      ],
      "execution_count": null,
      "outputs": []
    },
    {
      "cell_type": "markdown",
      "metadata": {
        "id": "Fq5awIT6eCl3",
        "colab_type": "text"
      },
      "source": [
        "Delete data to reduce RAM and VRAM footprint"
      ]
    },
    {
      "cell_type": "code",
      "metadata": {
        "id": "v9IRT3Rm0E9I",
        "colab_type": "code",
        "colab": {}
      },
      "source": [
        "del speech\n",
        "del sp\n",
        "del party\n",
        "del df"
      ],
      "execution_count": null,
      "outputs": []
    },
    {
      "cell_type": "code",
      "metadata": {
        "id": "LHHHZ-Jlkthb",
        "colab_type": "code",
        "colab": {}
      },
      "source": [
        "logging.basicConfig(level=logging.INFO)\n",
        "transformers_logger = logging.getLogger(\"transformers\")\n",
        "transformers_logger.setLevel(logging.WARNING)\n",
        "import gc\n",
        "gc.collect(generation=2)"
      ],
      "execution_count": null,
      "outputs": []
    },
    {
      "cell_type": "markdown",
      "metadata": {
        "id": "BY2Ok1VJeOiS",
        "colab_type": "text"
      },
      "source": [
        "Train model"
      ]
    },
    {
      "cell_type": "code",
      "metadata": {
        "id": "JQpi6JnWkztj",
        "colab_type": "code",
        "colab": {}
      },
      "source": [
        "model_args = ClassificationArgs(num_train_epochs=1, fp16=False, save_eval_checkpoints= False,save_steps=50000)\n",
        "model = ClassificationModel(\n",
        "    \"roberta\", \"roberta-base\", args=model_args\n",
        ")\n",
        "model.train_model(train_df, output_dir='decider')"
      ],
      "execution_count": null,
      "outputs": []
    },
    {
      "cell_type": "markdown",
      "metadata": {
        "id": "UztewuFmeTyp",
        "colab_type": "text"
      },
      "source": [
        "Evaluate model"
      ]
    },
    {
      "cell_type": "code",
      "metadata": {
        "id": "Zf1BiJJIk32v",
        "colab_type": "code",
        "colab": {}
      },
      "source": [
        "result, model_outputs, wrong_predictions = model.eval_model(eval_df)"
      ],
      "execution_count": null,
      "outputs": []
    },
    {
      "cell_type": "code",
      "metadata": {
        "id": "3b62ljS7tbWW",
        "colab_type": "code",
        "colab": {
          "base_uri": "https://localhost:8080/",
          "height": 128
        },
        "outputId": "7820329d-373d-4562-dbb3-bc54f91f15aa"
      },
      "source": [
        "result"
      ],
      "execution_count": null,
      "outputs": [
        {
          "output_type": "execute_result",
          "data": {
            "text/plain": [
              "{'eval_loss': 0.6918607405555822,\n",
              " 'fn': 88392,\n",
              " 'fp': 0,\n",
              " 'mcc': 0.0,\n",
              " 'tn': 97919,\n",
              " 'tp': 0}"
            ]
          },
          "metadata": {
            "tags": []
          },
          "execution_count": 13
        }
      ]
    }
  ]
}