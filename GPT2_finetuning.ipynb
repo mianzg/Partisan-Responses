{
  "nbformat": 4,
  "nbformat_minor": 0,
  "metadata": {
    "colab": {
      "name": "GPT2-finetuning.ipynb",
      "provenance": [],
      "collapsed_sections": [],
      "mount_file_id": "1ACa4mZ15hpOkJGB8hwA5qk3OM4yJYF7t",
      "authorship_tag": "ABX9TyP89ICYIFS72hGPsuw8cXX4",
      "include_colab_link": true
    },
    "kernelspec": {
      "name": "python3",
      "display_name": "Python 3"
    },
    "accelerator": "GPU"
  },
  "cells": [
    {
      "cell_type": "markdown",
      "metadata": {
        "id": "view-in-github",
        "colab_type": "text"
      },
      "source": [
        "<a href=\"https://colab.research.google.com/github/rostro36/Partisan-Responses/blob/master/GPT2_finetuning.ipynb\" target=\"_parent\"><img src=\"https://colab.research.google.com/assets/colab-badge.svg\" alt=\"Open In Colab\"/></a>"
      ]
    },
    {
      "cell_type": "code",
      "metadata": {
        "id": "Ssvoo9mA4UQ_",
        "colab_type": "code",
        "colab": {
          "base_uri": "https://localhost:8080/",
          "height": 124
        },
        "outputId": "13208c6a-1e1a-4101-e6fc-f3a4b5994b05"
      },
      "source": [
        "from google.colab import drive\n",
        "drive.mount('/content/drive')\n",
        "\n",
        "import os\n",
        "os.chdir('/content/drive/My Drive')"
      ],
      "execution_count": null,
      "outputs": [
        {
          "output_type": "stream",
          "text": [
            "Go to this URL in a browser: https://accounts.google.com/o/oauth2/auth?client_id=947318989803-6bn6qk8qdgf4n4g3pfee6491hc0brc4i.apps.googleusercontent.com&redirect_uri=urn%3aietf%3awg%3aoauth%3a2.0%3aoob&scope=email%20https%3a%2f%2fwww.googleapis.com%2fauth%2fdocs.test%20https%3a%2f%2fwww.googleapis.com%2fauth%2fdrive%20https%3a%2f%2fwww.googleapis.com%2fauth%2fdrive.photos.readonly%20https%3a%2f%2fwww.googleapis.com%2fauth%2fpeopleapi.readonly&response_type=code\n",
            "\n",
            "Enter your authorization code:\n",
            "··········\n",
            "Mounted at /content/drive\n"
          ],
          "name": "stdout"
        }
      ]
    },
    {
      "cell_type": "code",
      "metadata": {
        "id": "kbWDARPU4-j5",
        "colab_type": "code",
        "colab": {
          "base_uri": "https://localhost:8080/",
          "height": 173
        },
        "outputId": "e5dba953-f282-4683-ec02-b5bc99a37926"
      },
      "source": [
        "%tensorflow_version 1.x\n",
        "#!pip install -q gpt-2-simple\n",
        "import gpt_2_simple as gpt2\n",
        "from datetime import datetime\n",
        "from google.colab import files"
      ],
      "execution_count": null,
      "outputs": [
        {
          "output_type": "stream",
          "text": [
            "TensorFlow 1.x selected.\n",
            "WARNING:tensorflow:\n",
            "The TensorFlow contrib module will not be included in TensorFlow 2.0.\n",
            "For more information, please see:\n",
            "  * https://github.com/tensorflow/community/blob/master/rfcs/20180907-contrib-sunset.md\n",
            "  * https://github.com/tensorflow/addons\n",
            "  * https://github.com/tensorflow/io (for I/O related ops)\n",
            "If you depend on functionality not listed there, please file an issue.\n",
            "\n"
          ],
          "name": "stdout"
        }
      ]
    },
    {
      "cell_type": "code",
      "metadata": {
        "id": "eLeInesF50Tf",
        "colab_type": "code",
        "colab": {
          "base_uri": "https://localhost:8080/",
          "height": 35
        },
        "outputId": "60f9c472-893a-40ed-c984-c3a2718fbf0e"
      },
      "source": [
        "import pandas as pd\n",
        "speeches = pd.read_pickle(\"search_dataset_111.pkl\")\n",
        "\n",
        "# make train and eval split\n",
        "speeches_train = speeches.iloc[:-10000]\n",
        "speeches_eval = speeches.iloc[-10000:]\n",
        "print(len(speeches_train), len(speeches_eval))"
      ],
      "execution_count": null,
      "outputs": [
        {
          "output_type": "stream",
          "text": [
            "45439 10000\n"
          ],
          "name": "stdout"
        }
      ]
    },
    {
      "cell_type": "code",
      "metadata": {
        "id": "x67S3fVR90pC",
        "colab_type": "code",
        "colab": {
          "base_uri": "https://localhost:8080/",
          "height": 198
        },
        "outputId": "2ea2c8c5-fa99-413c-e607-f6079bfafc50"
      },
      "source": [
        "speeches_train.head()"
      ],
      "execution_count": null,
      "outputs": [
        {
          "output_type": "execute_result",
          "data": {
            "text/html": [
              "<div>\n",
              "<style scoped>\n",
              "    .dataframe tbody tr th:only-of-type {\n",
              "        vertical-align: middle;\n",
              "    }\n",
              "\n",
              "    .dataframe tbody tr th {\n",
              "        vertical-align: top;\n",
              "    }\n",
              "\n",
              "    .dataframe thead th {\n",
              "        text-align: right;\n",
              "    }\n",
              "</style>\n",
              "<table border=\"1\" class=\"dataframe\">\n",
              "  <thead>\n",
              "    <tr style=\"text-align: right;\">\n",
              "      <th></th>\n",
              "      <th>speech</th>\n",
              "      <th>party</th>\n",
              "      <th>stemmed_speech</th>\n",
              "      <th>year</th>\n",
              "    </tr>\n",
              "  </thead>\n",
              "  <tbody>\n",
              "    <tr>\n",
              "      <th>876114</th>\n",
              "      <td>Our democracy renews itself every 2 years as M...</td>\n",
              "      <td>D</td>\n",
              "      <td>our democraci renew itself everi 2 year as mem...</td>\n",
              "      <td>111</td>\n",
              "    </tr>\n",
              "    <tr>\n",
              "      <th>876115</th>\n",
              "      <td>Madam Speaker. Leader HOYER, fellow Members, a...</td>\n",
              "      <td>R</td>\n",
              "      <td>madam speaker . leader hoyer , fellow member ,...</td>\n",
              "      <td>111</td>\n",
              "    </tr>\n",
              "    <tr>\n",
              "      <th>876116</th>\n",
              "      <td>Thank you very much. Leader BOEHNER. Together,...</td>\n",
              "      <td>D</td>\n",
              "      <td>thank you veri much . leader boehner . togeth ...</td>\n",
              "      <td>111</td>\n",
              "    </tr>\n",
              "    <tr>\n",
              "      <th>876117</th>\n",
              "      <td>for your nomination this morning. Thank you to...</td>\n",
              "      <td>D</td>\n",
              "      <td>for your nomin thi morn . thank you to the mem...</td>\n",
              "      <td>111</td>\n",
              "    </tr>\n",
              "    <tr>\n",
              "      <th>876118</th>\n",
              "      <td>Mr. Speaker, for purposes of debate only, I yi...</td>\n",
              "      <td>D</td>\n",
              "      <td>mr. speaker , for purpos of debat onli , i yie...</td>\n",
              "      <td>111</td>\n",
              "    </tr>\n",
              "  </tbody>\n",
              "</table>\n",
              "</div>"
            ],
            "text/plain": [
              "                                                   speech  ... year\n",
              "876114  Our democracy renews itself every 2 years as M...  ...  111\n",
              "876115  Madam Speaker. Leader HOYER, fellow Members, a...  ...  111\n",
              "876116  Thank you very much. Leader BOEHNER. Together,...  ...  111\n",
              "876117  for your nomination this morning. Thank you to...  ...  111\n",
              "876118  Mr. Speaker, for purposes of debate only, I yi...  ...  111\n",
              "\n",
              "[5 rows x 4 columns]"
            ]
          },
          "metadata": {
            "tags": []
          },
          "execution_count": 18
        }
      ]
    },
    {
      "cell_type": "code",
      "metadata": {
        "id": "LX-D2sn56czc",
        "colab_type": "code",
        "colab": {}
      },
      "source": [
        "# make separate txt files for republicans and democrats, both for train and eval\n",
        "with open(\"rep_speeches_train.txt\", 'w') as f1, open(\"dem_speeches_train.txt\", 'w') as f2:\n",
        "  for i in range(len(speeches_train)):\n",
        "    speech = speeches_train.iloc[i].speech\n",
        "    party = speeches_train.iloc[i].party\n",
        "    if party == 'R':\n",
        "      f1.write(speech + '\\n')\n",
        "    else:\n",
        "      f2.write(speech + '\\n')\n",
        "\n",
        "with open(\"rep_speeches_eval.txt\", 'w') as f1, open(\"dem_speeches_eval.txt\", 'w') as f2:\n",
        "  for i in range(len(speeches_eval)):\n",
        "    speech = speeches_eval.iloc[i].speech\n",
        "    party = speeches_eval.iloc[i].party\n",
        "    if party == 'R':\n",
        "      f1.write(speech + '\\n')\n",
        "    else:\n",
        "      f2.write(speech + '\\n')"
      ],
      "execution_count": null,
      "outputs": []
    },
    {
      "cell_type": "code",
      "metadata": {
        "id": "j40Dd4Nj8Fhd",
        "colab_type": "code",
        "colab": {
          "base_uri": "https://localhost:8080/",
          "height": 210
        },
        "outputId": "a317d6eb-8622-4689-8290-435551f8ae3b"
      },
      "source": [
        "# check files \n",
        "with open('rep_speeches_train.txt', 'r') as f:\n",
        "  lines = f.readlines()\n",
        "  for line in lines[:5]:\n",
        "    print(line)"
      ],
      "execution_count": null,
      "outputs": [
        {
          "output_type": "stream",
          "text": [
            "Madam Speaker. Leader HOYER, fellow Members, and a special welcome to our new Members and their families and friends who are here today. We begin this new Congress at a great time of challenge for the American people. This winter, working families are struggling to pay their bills and keep their homes, small businesses are being forced to choose between cutting jobs and closing their doors, health costs are rising, college savings funds and 401(k)s have declined in value substantially, parents are deeply worried about their childrens future, I think its a time of anxiety for millions of Americans, some of whom face economic challenges not seen in this country for generations. When things are at their worst for the American people, we owe them our best. This Congress must rise to the occasion. Two weeks from today, we will inaugurate a new President. Presidentelect Obama has expressed a desire to govern from the center and put the needs of our country first, I think all of you know Washington is a difficult town, and it wont always be easy for him to do these things. But when our new President extends his hand across the aisle to do what is right for our country. Republicans will extend ours in return. During the 111th Congress. Republicans will strive not to be the party of opposition, but the party of better solutions. Presidentelect Obamas calls for inclusiveness are already being put to the test. Hes called on Congress to move quickly and in a bipartisan fashion on legislation to help our economy. And at this time of economic anxiety, the American people deserve open debate and transparency in their Congressa key ingredient needed to produce good legislation. And my hope is we will adopt a Rules package for the new Congress that encourages transparency and debate and helps ensure our institution is accountable to the people it serves. Our Nation has faced adversity before, and we have never failed to meet the challenge. This is because America is a land of limitless potential, and when we harness the will of the American people, commit ourselves to making the most of the blessings God has bestowed on this great country, and bring all of these gifts to bear on a common goal, there is no obstacle that we cannot overcome. Americas potential is unlimited, but governments potential is not. And we must not confuse the two. We cant simply spend our way back to prosperity. Our responsibilities as elected leaders in a flagging economy is to craft policies that allow our countrys potential to be unleashed. America runs on freedom. Its the fuel of our economy, and it is the fuel of our democracy. The more we spend and the more we tax, the less freedom we will have left. So we need to take responsible action together to help put our economy back on a path toward prosperity. The months ahead can be a time of hope and renewal in America. The American people are giving their best. Here in Congress, we need to do the same. Madam Speaker, as we start the new Congress, we stand ready to work with you and your fellow Democrats for genuine solutions, for real reforms that put the needs of our country first and bring the blessings of liberty fully to bear on the challenges the American people face. In that spirit, it is my privilege to present to you the gavel of the 111th Congress.\n",
            "\n",
            "Mr. Speaker, let me just say that the spirit of the debate here, refusal to yield, is indicative of exactly what this rules package consists of. With that. Mr. Speaker, I would like to yield 2 minutes to our very good friend from Springfield. Missouri .\n",
            "\n",
            "Mr. Speaker, I thank the gentleman for yielding, 16 CONGR Mr. Speaker, I think we are here today on the minority side as perhaps victims of our own success in the last Congress. We clearly were able to use this as the only tool that we often had available to us, and we used it with great success. We used it with great success that didnt destroy the legislative process. In fact, many days the legislative process had already been destroyed. There was no committee markup. There was no hearing. Often the bills came from somewhere, the leaders office, the Speakers office. We didnt know where they came from because we didnt see them until the day they were headed to the floor or the day before they were headed to the floor. We werent given amendments, we werent given substitutes, but we were given 100 years ago these tools in the motions to recommit. The majority would probably argue that somehow this makes the process unworkable. But there are a number of examples in the last Congress where the process was very workable. The Public Housing Management Act that was brought to the floor February 26 by Mr. SIRES. Mrs. BACHMANN offered a motion to recommit to block the Federal Government from restricting possession of otherwise legal firearms for these residents. When she offered the motion, the bill was pulled. The committee then met, as the motion would have required them to do, added that provision to the bill, and brought it back to the floor a few days later. The AmeriCorps bill to authorize and expand AmeriCorps was considered in March of 2008. Mr. KUHL made a motion to recommit that was prompt in nature to prohibit sex offenders and murderers from receiving these grants. The bill was pulled. Six days later, the same bill was brought up including Mr. KUHLs language. The idea that this ruins the process or the idea that a bill that you have never seen before the day it is coming to the floor or the day before it is coming to the floor, we dont need to have tools to bring new ideas to the floor, is just wrong, I urge that this rules package be defeated.\n",
            "\n",
            "Mr. Speaker, I thank the gentleman. Mr. Speaker, you dont have to look far to see that families across this country are gripped with a tremendous amount of fear and uncertainty. They fear for their jobs, if they have one. They fear for their future as they see their 401(k)s, their college savings accounts collapse. They fear that their elected leaders dont get it. They fear that this Congress may very well be incapable of change, incapable of producing the kind of results that they want and to get it right. Under existing House rules, when a bill is brought to the floor that includes a tax increase, the minority has a right to offer a motion to strike that increase, and the Republican minority had done that on nearly half a dozen occasions over the past 2 years. With this rule change now, though. House Democrats are trying to push through what we Republicans will no longer have, the ability to say \"no\" to higher taxes. We will not be able to simply strike a tax increase and demand an up or down vote. In fact, the only option we will have would be to replace one tax increase with another. There will be no ability for us to cut taxes to lighten the burden on the middleclass families that are hurting right now. One can see that this rule change makes it a lot easier for the Democrat majority to In fact hide tax increases inside other larger bills. In fact, that is why all of us are sitting here scratching our heads. If the House Democrats feel a tax increase is necessary, then why wouldnt they allow for a full and open debate? Why not let the American people have a say? Why not let the hardworking people of this country hear why Washington is once again looking to take more of their hard earned money? Either way, what is clear, this type of partisan rules change flies in the face of a new era of openness and transparency that Presidentelect Obama has promised, I take the Presidentelect at his word, I believe he wants transparency, openness, and debate, I believe he wants Washington to begin to do business differently, I believe he is serious in wanting Congress to work together for the good of all of our constituents. But apparently that word hasnt made its way down to the leadership of the House.\n",
            "\n",
            "I thank the gentleman very much. Mr. Speaker, I am beginning my 31st year here, and one of the things that I have learned both being in the majority and being in the minority is that procedural fairness is the antithesis to partisanship, I want to repeat that: Procedural fairness is the antithesis to partisanship. This rules package, and particularly the changes in the motion to recommit, will bring about more partisanship, and I would ask my friends on the majority side to reconsider what they are proposing here. The previous speakers on the Republican side have stated instances in the last 2 years where it has resulted in excessive partisanship because of changes that have been made to the motions to recommit on an ad hoc basis allowing the majority to pull the bill, their choice, not ours, because they set the schedule, not having motions to recommit on certain bills and not allowing to strike proposed tax Increases. What is wrong with debating these issues? And what is wrong if the majority of this House of Representatives, which is 21 seats more Democratic than the one that just expired, agrees with the Republican minority every once in awhile? What are you afraid of? Are you afraid of losing a few more motions to recommit? If that is the motivation behind this, shame on you, because you are shutting down the process and you are going to result in more partisanship, not less. You are going to result in having the country even more divided, not less, and that goes exactly against what our new President has been trying to do with practically everything he said since he won the election 2 months ago.\n",
            "\n"
          ],
          "name": "stdout"
        }
      ]
    },
    {
      "cell_type": "markdown",
      "metadata": {
        "id": "xhe9n_5zCmHz",
        "colab_type": "text"
      },
      "source": [
        "####Generate without fine tuning"
      ]
    },
    {
      "cell_type": "code",
      "metadata": {
        "id": "6xcQGLhn5Qf-",
        "colab_type": "code",
        "colab": {
          "base_uri": "https://localhost:8080/",
          "height": 210
        },
        "outputId": "a74ec5eb-341b-4bbd-bd97-4384c6ae7583"
      },
      "source": [
        "import logging\n",
        "from simpletransformers.language_generation import LanguageGenerationModel\n",
        "\n",
        "logging.basicConfig(level=logging.INFO)\n",
        "transformers_logger = logging.getLogger(\"transformers\")\n",
        "transformers_logger.setLevel(logging.WARNING)\n",
        "\n",
        "model = LanguageGenerationModel(\"gpt2\", \"gpt2\", args={\"length\": 256})\n",
        "\n",
        "prompts = [\n",
        "   \"What do you believe about tax increases?\",\n",
        "   \"Should abortion be illegal?\",\n",
        "   \"Is climate change real?\",\n",
        "   \"Should we have higher taxes for higher incomes?\"\n",
        "]\n",
        "\n",
        "for prompt in prompts:\n",
        "    generated = model.generate(prompt, verbose=False)\n",
        "\n",
        "    #generated = '.'.join(generated[0].split('.')[:-1]) + '.'\n",
        "    print(generated)"
      ],
      "execution_count": null,
      "outputs": [
        {
          "output_type": "stream",
          "text": [
            "WARNING:transformers.modeling_utils:Some weights of GPT2LMHeadModel were not initialized from the model checkpoint at gpt2 and are newly initialized: ['h.0.attn.masked_bias', 'h.1.attn.masked_bias', 'h.2.attn.masked_bias', 'h.3.attn.masked_bias', 'h.4.attn.masked_bias', 'h.5.attn.masked_bias', 'h.6.attn.masked_bias', 'h.7.attn.masked_bias', 'h.8.attn.masked_bias', 'h.9.attn.masked_bias', 'h.10.attn.masked_bias', 'h.11.attn.masked_bias', 'lm_head.weight']\n",
            "You should probably TRAIN this model on a down-stream task to be able to use it for predictions and inference.\n",
            "WARNING:transformers.generation_utils:Setting `pad_token_id` to 50256 (first `eos_token_id`) to generate sequence\n",
            "WARNING:transformers.generation_utils:Setting `pad_token_id` to 50256 (first `eos_token_id`) to generate sequence\n"
          ],
          "name": "stderr"
        },
        {
          "output_type": "stream",
          "text": [
            "['What do you believe about tax increases?\\n\\nThe tax increases are already happening because Congress and the president agreed on the debt ceiling increase.']\n"
          ],
          "name": "stdout"
        },
        {
          "output_type": "stream",
          "text": [
            "WARNING:transformers.generation_utils:Setting `pad_token_id` to 50256 (first `eos_token_id`) to generate sequence\n"
          ],
          "name": "stderr"
        },
        {
          "output_type": "stream",
          "text": [
            "['Should abortion be illegal? (The Supreme Court has not heard any arguments on such a case.)\\n\\nIn 2006, the']\n"
          ],
          "name": "stdout"
        },
        {
          "output_type": "stream",
          "text": [
            "WARNING:transformers.generation_utils:Setting `pad_token_id` to 50256 (first `eos_token_id`) to generate sequence\n"
          ],
          "name": "stderr"
        },
        {
          "output_type": "stream",
          "text": [
            "['Is climate change real?\\n\\n\"It\\'s so hard, the climate is changing for so long, they\\'re not really']\n",
            "['Should we have higher taxes for higher incomes?\\n\\nI do not believe that this is a one way or the other of raising taxes to pay']\n"
          ],
          "name": "stdout"
        }
      ]
    },
    {
      "cell_type": "markdown",
      "metadata": {
        "id": "dz_QnKpYCpbo",
        "colab_type": "text"
      },
      "source": [
        "###Fine tuning"
      ]
    },
    {
      "cell_type": "code",
      "metadata": {
        "id": "CntxXErpa9aS",
        "colab_type": "code",
        "colab": {
          "base_uri": "https://localhost:8080/",
          "height": 138
        },
        "outputId": "d78edaf5-8fbb-42ad-9c4e-d8d0f3879b5e"
      },
      "source": [
        "gpt2.download_gpt2(model_name=\"124M\")"
      ],
      "execution_count": null,
      "outputs": [
        {
          "output_type": "stream",
          "text": [
            "Fetching checkpoint: 1.05Mit [00:00, 476Mit/s]                                                      \n",
            "Fetching encoder.json: 1.05Mit [00:00, 15.5Mit/s]                                                   \n",
            "Fetching hparams.json: 1.05Mit [00:00, 745Mit/s]                                                    \n",
            "Fetching model.ckpt.data-00000-of-00001: 498Mit [00:03, 131Mit/s]                                   \n",
            "Fetching model.ckpt.index: 1.05Mit [00:00, 342Mit/s]                                                \n",
            "Fetching model.ckpt.meta: 1.05Mit [00:00, 143Mit/s]                                                 \n",
            "Fetching vocab.bpe: 1.05Mit [00:00, 172Mit/s]                                                       \n"
          ],
          "name": "stderr"
        }
      ]
    },
    {
      "cell_type": "code",
      "metadata": {
        "id": "LXw14pG1b94X",
        "colab_type": "code",
        "colab": {
          "base_uri": "https://localhost:8080/",
          "height": 55
        },
        "outputId": "3e4c94c1-7a2d-4ae9-b9b0-c63a28668ef9"
      },
      "source": [
        "gpt2.mount_gdrive()"
      ],
      "execution_count": null,
      "outputs": [
        {
          "output_type": "stream",
          "text": [
            "Drive already mounted at /content/drive; to attempt to forcibly remount, call drive.mount(\"/content/drive\", force_remount=True).\n"
          ],
          "name": "stdout"
        }
      ]
    },
    {
      "cell_type": "code",
      "metadata": {
        "id": "k8MwSsHsfQ7f",
        "colab_type": "code",
        "colab": {
          "base_uri": "https://localhost:8080/",
          "height": 35
        },
        "outputId": "e4fadba5-ce80-45a2-d9c7-2ef1b7b3af78"
      },
      "source": [
        "!pwd"
      ],
      "execution_count": null,
      "outputs": [
        {
          "output_type": "stream",
          "text": [
            "/content\n"
          ],
          "name": "stdout"
        }
      ]
    },
    {
      "cell_type": "code",
      "metadata": {
        "id": "SdpWfnzicHlr",
        "colab_type": "code",
        "colab": {}
      },
      "source": [
        "file_name = \"rep_speeches_train.txt\""
      ],
      "execution_count": null,
      "outputs": []
    },
    {
      "cell_type": "code",
      "metadata": {
        "id": "QnSj8xGEfdit",
        "colab_type": "code",
        "colab": {}
      },
      "source": [
        "gpt2.copy_file_from_gdrive(file_name)"
      ],
      "execution_count": null,
      "outputs": []
    },
    {
      "cell_type": "code",
      "metadata": {
        "id": "PjrX_GtqcSAm",
        "colab_type": "code",
        "colab": {
          "base_uri": "https://localhost:8080/",
          "height": 1000
        },
        "outputId": "83010b99-b072-44d9-b5fe-c632b0ef1f1e"
      },
      "source": [
        "sess = gpt2.start_tf_sess()\n",
        "\n",
        "gpt2.finetune(sess,\n",
        "              dataset=file_name,\n",
        "              model_name='124M',\n",
        "              steps=1000,\n",
        "              restore_from='fresh',\n",
        "              run_name='run1',\n",
        "              print_every=10,\n",
        "              sample_every=200,\n",
        "              save_every=500\n",
        "              )"
      ],
      "execution_count": null,
      "outputs": [
        {
          "output_type": "stream",
          "text": [
            "WARNING:tensorflow:From /usr/local/lib/python3.6/dist-packages/gpt_2_simple/src/sample.py:17: where (from tensorflow.python.ops.array_ops) is deprecated and will be removed in a future version.\n",
            "Instructions for updating:\n",
            "Use tf.where in 2.0, which has the same broadcast rule as np.where\n",
            "Loading checkpoint models/124M/model.ckpt\n",
            "INFO:tensorflow:Restoring parameters from models/124M/model.ckpt\n"
          ],
          "name": "stdout"
        },
        {
          "output_type": "stream",
          "text": [
            "\r  0%|          | 0/1 [00:00<?, ?it/s]"
          ],
          "name": "stderr"
        },
        {
          "output_type": "stream",
          "text": [
            "Loading dataset...\n"
          ],
          "name": "stdout"
        },
        {
          "output_type": "stream",
          "text": [
            "100%|██████████| 1/1 [00:33<00:00, 33.94s/it]\n"
          ],
          "name": "stderr"
        },
        {
          "output_type": "stream",
          "text": [
            "dataset has 7245447 tokens\n",
            "Training...\n",
            "[10 | 27.91] loss=3.09 avg=3.09\n",
            "[20 | 49.52] loss=3.07 avg=3.08\n",
            "[30 | 71.34] loss=3.06 avg=3.07\n",
            "[40 | 93.36] loss=2.94 avg=3.04\n",
            "[50 | 115.48] loss=3.00 avg=3.03\n",
            "[60 | 137.78] loss=2.87 avg=3.00\n",
            "[70 | 160.24] loss=3.09 avg=3.02\n",
            "[80 | 182.79] loss=2.96 avg=3.01\n",
            "[90 | 205.42] loss=2.98 avg=3.01\n",
            "[100 | 228.10] loss=2.92 avg=3.00\n",
            "[110 | 250.85] loss=2.85 avg=2.98\n",
            "[120 | 273.64] loss=2.93 avg=2.98\n",
            "[130 | 296.47] loss=3.01 avg=2.98\n",
            "[140 | 319.34] loss=3.07 avg=2.99\n",
            "[150 | 342.22] loss=2.94 avg=2.98\n",
            "[160 | 365.14] loss=2.92 avg=2.98\n",
            "[170 | 388.07] loss=2.93 avg=2.98\n",
            "[180 | 411.03] loss=2.94 avg=2.97\n",
            "[190 | 434.05] loss=2.78 avg=2.96\n",
            "[200 | 457.09] loss=2.96 avg=2.96\n",
            "======== SAMPLE 1 ========\n",
            " of Congress, I am also pleased that my colleague from Maryland is in the process of submitting a letter to the other ranking members, which says: I am not satisfied with the approach proposed by the gentleman from Louisiana and the gentleman from Maryland. And I look forward to the opportunity to work with him, along with his constituents, to come up with proposals to improve this process, I yield back to the gentleman from Florida.\n",
            "I thank the gentleman for yielding me time. My question is. Senator BAUER asked me about the budget. When were the budget made available?\n",
            "I was in my workroom right here on the floor, and I had some ideas. Senator BAUER told me something about something that had happened to him, something I really didnt want to talk about. Senator BAURER said, very shortly before the Presidents last budget went through that it stated that the budget would spend $3 trillion, about $20 trillion more than the President had said. And the President said that budget deficit would grow by over $18 trillion, and I agree with that because I have been a member of Congress for over a year. But I think when the President said that budget would be in this country for $20 trillion. President Obamas budget has now grown to include about $120.000 billion more in spending, and it says the President has to meet $30 billion in additional spending. If that was President Obamas budget, I mean, you can call it a budget. What Senator BAUER said was actually accurate. President Obamas budget stated $120 billion in additional spending for the Federal Government. Of course, the President said that would put $12 billion in additional spending. Senator BAUER said. It doesnt mean the President has to meet this additional spending. It means the President has to meet this additional spending. In other words, it wont cover expenses I guess that is what Senator BAUER and my colleagues in the other House have proposed.\n",
            "And the budget is not actually spending $12 billion in addition to $30 billion in increases over the Presidents budget. Senator BAUER said. That may be something the President has to meet, but he also said that President Obamas budget will not cover any additional spending, I dont think the President has to meet this additional spending. If the President met his $30 billion goal. The budget hasnt changed, it remains intact. But we are getting close as a House that has no political will left to continue to pass a budget that is on a cliff.\n",
            "Senator BAUDER had what I would call a very sober perspective on the budget that comes out of all of this spending, and certainly not through the Republican leaderships budget. What he has asked for is less debt than the President has said it amounts to. In fact, the President stated this budget will only take $23 trillion from the U.S. Treasury and it will be the second largest spending item on the Presidents second budget request of $21 trillion. There are three things the President has asked for: $2.4 trillion in health care reform, $200 billion in the deficit, and even $350 billion more in spending and borrowing. The President has not stated what he desires. Senator BAUER said. \"This budget will also raise taxes on American small businesses for years, a policy which will harm small businesses.\" Well, what President Obamas budget says we need more governmentrun health care, not more governmentrun education. If we have a budget and we cannot say that we dont want more governmentrun health care, I know that the CBO is working a bit better than the Presidents budget has, I know that the CBO has a little bit more information that the President has not. But the President has offered more money than the President wants, I know that I have never been a proponent of health care reform. But with that said, that the President has said they want it reform. What the President has requested, I dont know what the CBO says, I am sure the American people want reform. But I ask unanimous consent that I go through some of the items that the majority leader has proposed. The President has proposed two bills. A version of the President version which he said is \"the tax code, the cost of the goods and services provided to the American consumer, the burden borne by taxpayers, and a version containing reforms of health care reform which I believe would make Americans pay for this massive expansion of government over our lives.\" That, again, is what the President has said. So if he is going to bring in a bill that is more governmentrun health care by forcing people to buy health insurance and that is on one side, in the other, what has been proposed, then why would I go through that in the first bill, when I was running the White House last year, when I was on a health care plan, and yet I have offered another bill? Why?\n",
            "I just want to say that in my view the way that we are doing it is to cut taxes on a large part of\n",
            "\n",
            "[210 | 493.20] loss=2.87 avg=2.96\n",
            "[220 | 516.21] loss=2.94 avg=2.96\n",
            "[230 | 539.22] loss=2.91 avg=2.95\n",
            "[240 | 562.22] loss=2.86 avg=2.95\n",
            "[250 | 585.23] loss=2.92 avg=2.95\n",
            "[260 | 608.25] loss=2.91 avg=2.95\n",
            "[270 | 631.27] loss=2.87 avg=2.94\n",
            "[280 | 654.34] loss=2.92 avg=2.94\n",
            "[290 | 677.35] loss=2.92 avg=2.94\n",
            "[300 | 700.39] loss=2.96 avg=2.94\n",
            "[310 | 723.44] loss=2.88 avg=2.94\n",
            "[320 | 746.51] loss=2.84 avg=2.94\n",
            "[330 | 769.55] loss=2.94 avg=2.94\n",
            "[340 | 792.61] loss=2.78 avg=2.93\n",
            "[350 | 815.63] loss=2.81 avg=2.93\n",
            "[360 | 838.68] loss=2.97 avg=2.93\n",
            "[370 | 861.90] loss=2.75 avg=2.92\n",
            "[380 | 885.22] loss=2.89 avg=2.92\n",
            "[390 | 908.42] loss=2.92 avg=2.92\n",
            "[400 | 931.59] loss=2.85 avg=2.92\n",
            "======== SAMPLE 1 ========\n",
            " we just had all the same concerns and concerns we had regarding his job performance. This is not a simple economic issue in this country. There is a lot that we cant do with the job security that we have, I believe that the Congress will address this issue. But it is important to know that the issue of job security is one that we all share with the Congress. To date, the Senate has not yet done its job of addressing the important issues in the health care law. Let me say, on the other side of the aisle, this bill that we have introduced in both the House and the Senate has been a very, very positive job creation legislation. It is also one that I am very proud of. It is the one that we all share with the Senate and the American people. That is the goal that this body is very proud to be bringing to the Senate on this issue that is one that the American people have been asking for all along. And we will see that for many years in this country.\n",
            "I thank the Senator for yielding. Mr. Chairman, I think it is very important for this body that in this bill, as we approach the year of 2019, when we will begin to be able to talk about this, to take the opportunity to address a number of the important issues facing our country, I believe that it is the most important issue of our time, and I believe that this body, in this body, is well intentioned in taking such a look at this issue, I strongly believe that it is a serious question of how much health care reform we can bring to the Senate as well as other legislative issues, I want to yield back to the chairman.\n",
            "Mr. Chairman, I yield myself such time as I may consume. Mr. Chairman. Its something that just happens to have a lot of interesting things to do this year, but I will just have to close by and wish the chairman the very best of luck in what we do, I will continue to take this time as we go through this year. We have talked a great deal about the importance of providing some flexibility to government agencies, as we begin to see some improvements in those agencies. We will see a lot of changes to those agencies and the way that they will function, particularly with regard to their role, I will yield back to the chairman.\n",
            "Mr. Chairman, I yield myself such time as I may consume. Mr. Chairman. Its something that just happens to have a lot of interesting things to do this year, but I will just have to leave this time for the question as to what the bill weve introduced this week is going to be the next year and what its going to be the next budget year. We will continue to be very concerned, very concerned to have had this body not have taken a look at some of these things but I will just have to move some of the time that we should have been working on. We would have had that discussion, I will just have to move to the next week, and in the interim, for now I will be working on the bill that I would like to proceed through.\n",
            "Mr. Chairman, I yield myself such time as I may consume, I first came to this, I have a number of amendments that were offered on Monday, but I will have to move them to this time as well. My amendment, we were hoping to have a proposal that would address this particular issue, I have some amendments, a number of which, I will be moving forward on. My amendment. Mr. Chairman, is the amendment that was agreed to during the markup of the bill. Senator MCCASAN was the author. In addition, we would have an amendment to correct a number of other provisions of the bill. We were not able to settle on a resolution but I believe we could. There are many people that would not be interested in this topic or not have any interest, but what were trying to get across was that Senator MCCASAN put through a resolution that was agreed to after he had brought it to the floor, I had the benefit of being able to offer many of my other amendments, along with Senator WARDI, I can talk about what we were able to work through a number of them, but there are a number of amendments that have had great agreement to do so that the Senate could consider them. The amendment that I would like to talk about, the amendment that we were able to work through was simply the amendment that was agreed to during the markup over the past 4 or 5 days. It was the following day that we had a hearing on whether we should have done this so that we could address it. In addition, we were trying to improve the bill, as we were dealing with Senator WARDII and Senator THOMPSON. We could do a little bit better. We could have a small amendment put forward. Our colleague from Wyoming was able to work through that and try to work a little better than we could have done in that regard, so I am glad that\n",
            "\n",
            "[410 | 965.97] loss=2.84 avg=2.92\n",
            "[420 | 989.21] loss=2.79 avg=2.91\n",
            "[430 | 1012.42] loss=2.83 avg=2.91\n",
            "[440 | 1035.65] loss=2.86 avg=2.91\n",
            "[450 | 1058.90] loss=3.20 avg=2.92\n",
            "[460 | 1082.12] loss=2.93 avg=2.92\n",
            "[470 | 1105.34] loss=2.58 avg=2.91\n",
            "[480 | 1128.56] loss=2.87 avg=2.91\n",
            "[490 | 1151.78] loss=2.79 avg=2.91\n",
            "[500 | 1174.96] loss=2.82 avg=2.90\n",
            "Saving checkpoint/run1/model-500\n",
            "[510 | 1201.11] loss=2.71 avg=2.90\n",
            "[520 | 1224.25] loss=2.88 avg=2.90\n",
            "[530 | 1247.40] loss=2.91 avg=2.90\n",
            "[540 | 1270.55] loss=2.72 avg=2.89\n",
            "[550 | 1293.69] loss=2.88 avg=2.89\n",
            "[560 | 1316.81] loss=2.93 avg=2.89\n",
            "[570 | 1339.89] loss=2.84 avg=2.89\n",
            "[580 | 1362.99] loss=2.78 avg=2.89\n",
            "[590 | 1386.09] loss=2.77 avg=2.89\n",
            "[600 | 1409.17] loss=2.97 avg=2.89\n",
            "======== SAMPLE 1 ========\n",
            " the time and also to be on the Web site for the time of the President and our colleagues so that we can tell them what they need to know. What Congress did is they tried to ensure that when the President came to Capitol Hill for hearings on the health bill he would report directly to Congress the results. This is what were seeing in the House and other places now, and that is a real concern, when Members come to the Congress to debate health care under this health care billthey should know what they need to know. That way all Members get a fair return on their time and dollars that will go to make sense of the American people and they dont need to be embarrassed. What we need is a bill that does not allow insurance companies to deduct from consumers taxes they have already paid. That is something that has the potential to be very good for the American taxpayer, and the good news is that the Democratic majority is bringing this bill to the floor and moving up that bill without any amendments, so that the American people are not going to get scared and they want not to be embarrassed by the Democrats health care bill, I hope this is not the only bill out there that is out there. It certainly is one that has merit.\n",
            "Just over an hour ago, again, you and I met on the Web site and were having a good bit of discussion. You saw a couple of comments, maybe about health care, and were wondering, I know it will be taken up, Ive listened to you talk about this. This might have a little bit of an impact, I guess thats a little bit of a shock. This is something thats needed a bipartisan effort. This is actually going to give voice in some areas. Theyre going to get our vote. We will get some kind of bipartisan agreement on some things, but we are going to continue our work. This bill doesnt allow insurers to take away their tax deduction for any amount of health services they have already paid and theyre paying, and it cuts benefits. So what you need to do is look at this and talk about things that maybe in the other side of the aisle would like to be able to use that kind of language on todays floor. We can talk about the jobs. These people I talked to today who have lost their jobs over Memorial Day know, I mean they got an $8.000bonus. They had a family of four, they had an average income of $85.000. They had a home worth $800.000. They had a family of 8 kids. They had a family. What weve got in this bill is an $8.000 reduction in the taxes for health insurance premiums in States all over America, I do want to talk, because I think this bill could probably be done in 30 states. Youve got a bunch of people doing all over this country, and you look at their individual health plans, theyve got all kinds of different kinds of insurance, but then lets get to States and States and States and States, this is an allpayer plan, with no taxpayerfunded health insurance, no health care, no taxes on insurance companies. How do we do that? Youve got to make sure that all those costs have their cost in order, not only are the people under these plans a lot cheaper than the people who dont have insurance, but when all that costs go up. The good news is, this is a commonsense and commonsense approach to get into the health care debate, I know you like to talk about all types of health care policies to get in, but I think this bill goes beyond that. Theyre really bringing the debate to public attention that we dont have. It might just become one more thing about how theyre going to be taken out of the way of health care coverage. Its a little disconcerting to see as we are dealing with this budget for the first time that people are talking about all kinds of different kinds of different programs, and theres this massive governmentrun program, all kinds of stuff that doesnt make sense. You go and ask this question, when are we going to get the American people talking about it? Well, I think we dont get it. We dont have anybody who is not on an employer or who is not on an individual employer who said it doesnt make sense to just tax people who dont have insurance to be able to get healthy insurance. In my State of Mississippi, for instance, you look at what we have: 40 percent of the people who are insured in Mississippi. We have a couple of people who dont have their employers or who dont have an employer who said \"no plan to the employer plan.\" that might mean you would get a tax deduction, but as a State of Mississippi, you might get some deduction for tax deductible claims if you have employer based coverage. These are, of course, taxes, but it doesnt make sense to get them covered. People who dont have employerbased coverage are not covered under the law. What weve got here is a public option, I think\n",
            "\n",
            "[610 | 1443.93] loss=2.97 avg=2.89\n",
            "[620 | 1466.99] loss=2.79 avg=2.89\n",
            "[630 | 1490.09] loss=2.84 avg=2.89\n",
            "[640 | 1513.15] loss=2.81 avg=2.89\n",
            "[650 | 1536.19] loss=2.87 avg=2.89\n",
            "[660 | 1559.23] loss=2.70 avg=2.88\n",
            "[670 | 1582.28] loss=2.72 avg=2.88\n",
            "[680 | 1605.34] loss=2.93 avg=2.88\n",
            "[690 | 1628.38] loss=2.75 avg=2.88\n",
            "[700 | 1651.45] loss=2.62 avg=2.87\n",
            "[710 | 1674.50] loss=2.78 avg=2.87\n",
            "[720 | 1697.52] loss=2.72 avg=2.87\n",
            "[730 | 1720.57] loss=2.77 avg=2.87\n",
            "[740 | 1743.63] loss=2.91 avg=2.87\n",
            "[750 | 1766.69] loss=2.81 avg=2.86\n",
            "[760 | 1789.76] loss=2.93 avg=2.87\n",
            "[770 | 1812.91] loss=2.76 avg=2.86\n",
            "[780 | 1836.19] loss=2.73 avg=2.86\n",
            "[790 | 1859.40] loss=2.82 avg=2.86\n",
            "[800 | 1882.57] loss=2.85 avg=2.86\n",
            "======== SAMPLE 1 ========\n",
            "cher and his team will not be permitted to continue to engage in the procurement of military hardware. On December 1, 1974. General James C. McGovern, who commanded U.S. Pacific in the Pacific Theater, had the first military hardware failure in the area. Shortly thereafter. James McGovern was killed by his own party. After his death. General McGuffey oversaw the completion of the acquisition of the Navy SEALs, a unit which eventually led to a major victory in 1975, thereby enabling the U.S. Navy to gain the title of the second largest naval procurement system in the world. It is therefore with great regret that I rise today to express my deep regret that General McGuffey was not granted the Congressional Medal of Honor for his service in the United States Navy. On December 8, 1974. General McGuffey personally addressed some of my concerns, and it may have been difficult at first, but we have been able to resolve the issues now, I hope we can finally resolve General McGees claim for the U.S. Navy for the very reason we believe to be the proper time to do so. He knew he was going to have his case heard, of course, but he also knew he was going to have his legal opinions heard. And I was told that he would have had his opinions heard. This wasnt the right time, however. Since our side was facing a military death penalty, we have done some deliberation on a number of questions about the death penalty and the constitutionality and if it is appropriate for a trial, I had concerns about the fairness of our deliberations, and I spoke to him several times. Some questions were not made by the military authorities, and that was not the way it was at this time. This was not the right time for a trial. As General McGuffey testified. \"the military tribunal has its place. As a military tribunal, I felt at all times and, in every area, as a matter of practice, a better place for an impartial system of justice. For the most part it was right to exercise our judgment.\" Yet, because General McGuffey was a Navy and Marine and, thus, the only person with a real legal basis to testify to the military commission we have here, I have had concerns for years and years that, in my judgment, he would not have been allowed an opportunity to present his defense. We all know if it becomes necessary to seek a military commission, I believe there would be a fair process in which one could testify by witnesses and, to the best of our knowledge, there would be a fair trial, I do not think that would happen, and we want to know what would happen with another person who was unable to testify by military law as a military defendant, I know that is difficult to achieve, and I also know that the military commission process is not yet a viable avenue for a trial. In my mind that would be to take the military commission process, which was very, very difficult to get, to a legal procedure, I think that that is the right process for a trial. Yet, because I think they wouldnt be permitted to have a civilian military commission, there would be some disagreement over who the civilian witnesses and military witnesses would be, I would like to ask my colleague from Illinois how he feels about that process. And I want to also ask a question: What kind of a system is it to say if you have no military commission? I think that would be a cruel system. If youre a civilian, then youre entitled to a military commission. It doesnt mean that you have to go somewhere, as it usually is, to give me a military tribunal, and that is a way to deal with your issues. But it is not our experience at the Naval Academy, I think, with a civilian military commission, it is something we can achieve, and we shouldnt give up this process, I have never seen a military tribunal in my life. It is not the process that is being proposed today. This issue has passed, and this bill is not going to change that.\n",
            "I thank the Senator. It may be a great time to serve on the floor, as my colleague from Arizona did during the hearing here in committee, in discussing that in a straightforward way, as I had hoped he would, and there is a time and a place for that as well, I want to thank the distinguished ranking member for his amendment, and as I indicated earlier, the majority party wanted to try to resolve the case, but at the direction of the President, they were unsuccessful. We have had very limited opportunities in the past to do so, and I am sure there are other things that should not come up and not be discussed because we may be in this body with a very limited opportunity. This amendment does not address this issue, but my hope is that we will be able to resolve the issue of military commission proceedings and military tribunal proceedings in one place at the appropriate time. It Is an issue that I\n",
            "\n",
            "[810 | 1917.80] loss=2.87 avg=2.86\n",
            "[820 | 1941.02] loss=2.68 avg=2.86\n",
            "[830 | 1964.26] loss=2.77 avg=2.86\n",
            "[840 | 1987.51] loss=2.76 avg=2.85\n",
            "[850 | 2010.73] loss=2.71 avg=2.85\n",
            "[860 | 2033.94] loss=3.01 avg=2.85\n",
            "[870 | 2057.14] loss=2.72 avg=2.85\n",
            "[880 | 2080.34] loss=2.82 avg=2.85\n",
            "[890 | 2103.49] loss=2.68 avg=2.85\n",
            "[900 | 2126.66] loss=2.68 avg=2.85\n",
            "[910 | 2149.91] loss=2.79 avg=2.85\n",
            "[920 | 2173.08] loss=2.63 avg=2.84\n",
            "[930 | 2196.25] loss=2.86 avg=2.84\n",
            "[940 | 2219.46] loss=2.65 avg=2.84\n",
            "[950 | 2242.67] loss=2.89 avg=2.84\n",
            "[960 | 2265.91] loss=2.83 avg=2.84\n",
            "[970 | 2289.17] loss=2.86 avg=2.84\n",
            "[980 | 2312.46] loss=2.87 avg=2.84\n",
            "[990 | 2335.75] loss=2.72 avg=2.84\n",
            "[1000 | 2358.96] loss=2.69 avg=2.84\n",
            "Saving checkpoint/run1/model-1000\n",
            "WARNING:tensorflow:From /tensorflow-1.15.2/python3.6/tensorflow_core/python/training/saver.py:963: remove_checkpoint (from tensorflow.python.training.checkpoint_management) is deprecated and will be removed in a future version.\n",
            "Instructions for updating:\n",
            "Use standard file APIs to delete files with this prefix.\n"
          ],
          "name": "stdout"
        }
      ]
    },
    {
      "cell_type": "code",
      "metadata": {
        "id": "m-It91kVf-ar",
        "colab_type": "code",
        "colab": {
          "base_uri": "https://localhost:8080/",
          "height": 52
        },
        "outputId": "a0deba40-bfbb-4248-91b7-ed32c98496ff"
      },
      "source": [
        "sess = gpt2.start_tf_sess()\n",
        "gpt2.load_gpt2(sess, run_name='run1')"
      ],
      "execution_count": null,
      "outputs": [
        {
          "output_type": "stream",
          "text": [
            "Loading checkpoint checkpoint/run1/model-1000\n",
            "INFO:tensorflow:Restoring parameters from checkpoint/run1/model-1000\n"
          ],
          "name": "stdout"
        }
      ]
    },
    {
      "cell_type": "code",
      "metadata": {
        "id": "2RnW63fngFPs",
        "colab_type": "code",
        "colab": {
          "base_uri": "https://localhost:8080/",
          "height": 55
        },
        "outputId": "c85fe042-ae9e-45d3-900c-dcd29bb5e603"
      },
      "source": [
        "gpt2.generate(sess,\n",
        "              length=250,\n",
        "              temperature=0.7,\n",
        "              prefix=\"Is climate change real?\",\n",
        "              nsamples=1,\n",
        "              batch_size=1\n",
        "              )"
      ],
      "execution_count": null,
      "outputs": [
        {
          "output_type": "stream",
          "text": [
            "Is climate change real? Is it a category higher than the one that is a national security threat? Are we going to say we are addressing climate change? Are we going to say we are raising the cap that will be on carbon emissions, or are we going to say we are going to do something about that. Are we going to say we are going to do something about that? I think it is clear we have no idea. It does raise the question. We are not talking about climate change. We are talking about climate change. It is not very big a category. At the same time, it is not a national security threat. And, again, I would say that with the cap, the cap is going to be on this, and this is a national security threat, and it Is going to be a national security threat. So I suggest we dont have the answers and we are going to ignore it. By the way, I am saying it is a national security threat because we are doing something about it. But what we are not doing is addressing climate change. Climate change is a national security threat. And, again, there is no question that the cap is going to be on it, and I do not know where it is, but I think\n"
          ],
          "name": "stdout"
        }
      ]
    },
    {
      "cell_type": "code",
      "metadata": {
        "id": "9QAkuoEvgfV0",
        "colab_type": "code",
        "colab": {
          "base_uri": "https://localhost:8080/",
          "height": 72
        },
        "outputId": "cbb57e80-47aa-4e70-a498-b7928797133a"
      },
      "source": [
        "gpt2.generate(sess,\n",
        "              length=250,\n",
        "              temperature=0.7,\n",
        "              prefix=\"Should abortion be illegal?\",\n",
        "              nsamples=1,\n",
        "              batch_size=1\n",
        "              )"
      ],
      "execution_count": null,
      "outputs": [
        {
          "output_type": "stream",
          "text": [
            "Should abortion be illegal? Are the laws of most other nations clear? Should we be respecting their wishes? What about their religious beliefs? The question is, in this country, the answer is not only no. No, there are no laws or even judicial precedents on the issue of abortion, they dont even have any. The question is, in this country, what are the areas of the law that are clear? I am not the only one to question whether the U.S, should have the right to allow a woman who has had her womb destroyed to have the right to choose her own life, I havent seen any. The U.S, has the right to have the right to choose a child within a family, to choose a mother or father, to choose who does the household chores. The U.S, should have the right to make sure that their own family is taken care of. The U.S, should be able to make a decision on whether or not they want to have a child within their own family, I dont think that is the way the U.S, should be.\n",
            "Mr. Speaker, I yield myself the balance of my time. Mr. Speaker, I rise to claim the time in opposition to H.\n"
          ],
          "name": "stdout"
        }
      ]
    },
    {
      "cell_type": "code",
      "metadata": {
        "id": "vkLP6j9BhUzG",
        "colab_type": "code",
        "colab": {
          "base_uri": "https://localhost:8080/",
          "height": 72
        },
        "outputId": "7aca141e-9443-438b-cffe-a3ac7aeabad2"
      },
      "source": [
        "gpt2.generate(sess,\n",
        "              length=250,\n",
        "              temperature=0.7,\n",
        "              prefix=\"Should we have universal healthcare?\",\n",
        "              nsamples=1,\n",
        "              batch_size=1\n",
        "              )"
      ],
      "execution_count": null,
      "outputs": [
        {
          "output_type": "stream",
          "text": [
            "Should we have universal healthcare? No. But we should have both. So I will be voting for the bill, if they pass it, and I hope to vote against it. So we have a bill, and I hope we can vote on it. And I hope that we can vote on it.\n",
            "Mr. Speaker, I rise to honor the life and service of our great House colleague. Congressman Robert J. Rogers. He is a native of Savannah. GA, who served in the Georgia House of Representatives for the past two years. Rogers served on the United States House of Representatives for the past 10 years. He served his seat as the majority leader in the Georgia House of Representatives. He was chairman of the Georgia Subcommittee on Health. Public Health. He is a graduate of St. Augustine High School. He was elected to the Georgia House of Representatives in the State legislature in 2003. After that, he served as the majority whip at the state legislature until being elected in 2007. He has served in the Georgia State House of Representatives since 2007. He holds a bachelor of science degree in economics from the University of Georgia. He has been a member of the Georgia Rotary Club and the Georgia Historical Society. Jr, and he has been a member of the Georgia State Fair\n"
          ],
          "name": "stdout"
        }
      ]
    }
  ]
}