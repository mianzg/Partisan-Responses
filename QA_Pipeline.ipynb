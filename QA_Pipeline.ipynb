{
  "nbformat": 4,
  "nbformat_minor": 0,
  "metadata": {
    "colab": {
      "name": "QA_Pipeline.ipynb",
      "provenance": [],
      "collapsed_sections": [],
      "authorship_tag": "ABX9TyOsICPK9ABeS4IbDmPtaAyd",
      "include_colab_link": true
    },
    "kernelspec": {
      "name": "python3",
      "display_name": "Python 3"
    },
    "widgets": {
      "application/vnd.jupyter.widget-state+json": {
        "1ac2d8b0e31042cbaec10f2f61a59771": {
          "model_module": "@jupyter-widgets/controls",
          "model_name": "HBoxModel",
          "state": {
            "_view_name": "HBoxView",
            "_dom_classes": [],
            "_model_name": "HBoxModel",
            "_view_module": "@jupyter-widgets/controls",
            "_model_module_version": "1.5.0",
            "_view_count": null,
            "_view_module_version": "1.5.0",
            "box_style": "",
            "layout": "IPY_MODEL_1b5c048fbf4a4145995cfea609fde0bc",
            "_model_module": "@jupyter-widgets/controls",
            "children": [
              "IPY_MODEL_e5d2eb0f80c24ec09a76c2ddeecfebae",
              "IPY_MODEL_1e4172d5622741819a743c28c7bd7139"
            ]
          }
        },
        "1b5c048fbf4a4145995cfea609fde0bc": {
          "model_module": "@jupyter-widgets/base",
          "model_name": "LayoutModel",
          "state": {
            "_view_name": "LayoutView",
            "grid_template_rows": null,
            "right": null,
            "justify_content": null,
            "_view_module": "@jupyter-widgets/base",
            "overflow": null,
            "_model_module_version": "1.2.0",
            "_view_count": null,
            "flex_flow": null,
            "width": null,
            "min_width": null,
            "border": null,
            "align_items": null,
            "bottom": null,
            "_model_module": "@jupyter-widgets/base",
            "top": null,
            "grid_column": null,
            "overflow_y": null,
            "overflow_x": null,
            "grid_auto_flow": null,
            "grid_area": null,
            "grid_template_columns": null,
            "flex": null,
            "_model_name": "LayoutModel",
            "justify_items": null,
            "grid_row": null,
            "max_height": null,
            "align_content": null,
            "visibility": null,
            "align_self": null,
            "height": null,
            "min_height": null,
            "padding": null,
            "grid_auto_rows": null,
            "grid_gap": null,
            "max_width": null,
            "order": null,
            "_view_module_version": "1.2.0",
            "grid_template_areas": null,
            "object_position": null,
            "object_fit": null,
            "grid_auto_columns": null,
            "margin": null,
            "display": null,
            "left": null
          }
        },
        "e5d2eb0f80c24ec09a76c2ddeecfebae": {
          "model_module": "@jupyter-widgets/controls",
          "model_name": "FloatProgressModel",
          "state": {
            "_view_name": "ProgressView",
            "style": "IPY_MODEL_cda2baac40344af2947b8884492291e3",
            "_dom_classes": [],
            "description": "Downloading: 100%",
            "_model_name": "FloatProgressModel",
            "bar_style": "success",
            "max": 1042301,
            "_view_module": "@jupyter-widgets/controls",
            "_model_module_version": "1.5.0",
            "value": 1042301,
            "_view_count": null,
            "_view_module_version": "1.5.0",
            "orientation": "horizontal",
            "min": 0,
            "description_tooltip": null,
            "_model_module": "@jupyter-widgets/controls",
            "layout": "IPY_MODEL_42e34b5ad27149e3b35126e7d8ec53bc"
          }
        },
        "1e4172d5622741819a743c28c7bd7139": {
          "model_module": "@jupyter-widgets/controls",
          "model_name": "HTMLModel",
          "state": {
            "_view_name": "HTMLView",
            "style": "IPY_MODEL_287d9bdb92b8428c8b6ced4506d280cd",
            "_dom_classes": [],
            "description": "",
            "_model_name": "HTMLModel",
            "placeholder": "​",
            "_view_module": "@jupyter-widgets/controls",
            "_model_module_version": "1.5.0",
            "value": " 1.04M/1.04M [00:00&lt;00:00, 3.78MB/s]",
            "_view_count": null,
            "_view_module_version": "1.5.0",
            "description_tooltip": null,
            "_model_module": "@jupyter-widgets/controls",
            "layout": "IPY_MODEL_67a81fbcb5584f308136a1482b6d690a"
          }
        },
        "cda2baac40344af2947b8884492291e3": {
          "model_module": "@jupyter-widgets/controls",
          "model_name": "ProgressStyleModel",
          "state": {
            "_view_name": "StyleView",
            "_model_name": "ProgressStyleModel",
            "description_width": "initial",
            "_view_module": "@jupyter-widgets/base",
            "_model_module_version": "1.5.0",
            "_view_count": null,
            "_view_module_version": "1.2.0",
            "bar_color": null,
            "_model_module": "@jupyter-widgets/controls"
          }
        },
        "42e34b5ad27149e3b35126e7d8ec53bc": {
          "model_module": "@jupyter-widgets/base",
          "model_name": "LayoutModel",
          "state": {
            "_view_name": "LayoutView",
            "grid_template_rows": null,
            "right": null,
            "justify_content": null,
            "_view_module": "@jupyter-widgets/base",
            "overflow": null,
            "_model_module_version": "1.2.0",
            "_view_count": null,
            "flex_flow": null,
            "width": null,
            "min_width": null,
            "border": null,
            "align_items": null,
            "bottom": null,
            "_model_module": "@jupyter-widgets/base",
            "top": null,
            "grid_column": null,
            "overflow_y": null,
            "overflow_x": null,
            "grid_auto_flow": null,
            "grid_area": null,
            "grid_template_columns": null,
            "flex": null,
            "_model_name": "LayoutModel",
            "justify_items": null,
            "grid_row": null,
            "max_height": null,
            "align_content": null,
            "visibility": null,
            "align_self": null,
            "height": null,
            "min_height": null,
            "padding": null,
            "grid_auto_rows": null,
            "grid_gap": null,
            "max_width": null,
            "order": null,
            "_view_module_version": "1.2.0",
            "grid_template_areas": null,
            "object_position": null,
            "object_fit": null,
            "grid_auto_columns": null,
            "margin": null,
            "display": null,
            "left": null
          }
        },
        "287d9bdb92b8428c8b6ced4506d280cd": {
          "model_module": "@jupyter-widgets/controls",
          "model_name": "DescriptionStyleModel",
          "state": {
            "_view_name": "StyleView",
            "_model_name": "DescriptionStyleModel",
            "description_width": "",
            "_view_module": "@jupyter-widgets/base",
            "_model_module_version": "1.5.0",
            "_view_count": null,
            "_view_module_version": "1.2.0",
            "_model_module": "@jupyter-widgets/controls"
          }
        },
        "67a81fbcb5584f308136a1482b6d690a": {
          "model_module": "@jupyter-widgets/base",
          "model_name": "LayoutModel",
          "state": {
            "_view_name": "LayoutView",
            "grid_template_rows": null,
            "right": null,
            "justify_content": null,
            "_view_module": "@jupyter-widgets/base",
            "overflow": null,
            "_model_module_version": "1.2.0",
            "_view_count": null,
            "flex_flow": null,
            "width": null,
            "min_width": null,
            "border": null,
            "align_items": null,
            "bottom": null,
            "_model_module": "@jupyter-widgets/base",
            "top": null,
            "grid_column": null,
            "overflow_y": null,
            "overflow_x": null,
            "grid_auto_flow": null,
            "grid_area": null,
            "grid_template_columns": null,
            "flex": null,
            "_model_name": "LayoutModel",
            "justify_items": null,
            "grid_row": null,
            "max_height": null,
            "align_content": null,
            "visibility": null,
            "align_self": null,
            "height": null,
            "min_height": null,
            "padding": null,
            "grid_auto_rows": null,
            "grid_gap": null,
            "max_width": null,
            "order": null,
            "_view_module_version": "1.2.0",
            "grid_template_areas": null,
            "object_position": null,
            "object_fit": null,
            "grid_auto_columns": null,
            "margin": null,
            "display": null,
            "left": null
          }
        },
        "c50be62bba4e4768b88e0c0c9deaf3bc": {
          "model_module": "@jupyter-widgets/controls",
          "model_name": "HBoxModel",
          "state": {
            "_view_name": "HBoxView",
            "_dom_classes": [],
            "_model_name": "HBoxModel",
            "_view_module": "@jupyter-widgets/controls",
            "_model_module_version": "1.5.0",
            "_view_count": null,
            "_view_module_version": "1.5.0",
            "box_style": "",
            "layout": "IPY_MODEL_1d68803f962748b7abf3b232a2a7ef20",
            "_model_module": "@jupyter-widgets/controls",
            "children": [
              "IPY_MODEL_a34148d6646749d39f49d00bd54fb9bf",
              "IPY_MODEL_17442e38755344348011240fd28f92a7"
            ]
          }
        },
        "1d68803f962748b7abf3b232a2a7ef20": {
          "model_module": "@jupyter-widgets/base",
          "model_name": "LayoutModel",
          "state": {
            "_view_name": "LayoutView",
            "grid_template_rows": null,
            "right": null,
            "justify_content": null,
            "_view_module": "@jupyter-widgets/base",
            "overflow": null,
            "_model_module_version": "1.2.0",
            "_view_count": null,
            "flex_flow": null,
            "width": null,
            "min_width": null,
            "border": null,
            "align_items": null,
            "bottom": null,
            "_model_module": "@jupyter-widgets/base",
            "top": null,
            "grid_column": null,
            "overflow_y": null,
            "overflow_x": null,
            "grid_auto_flow": null,
            "grid_area": null,
            "grid_template_columns": null,
            "flex": null,
            "_model_name": "LayoutModel",
            "justify_items": null,
            "grid_row": null,
            "max_height": null,
            "align_content": null,
            "visibility": null,
            "align_self": null,
            "height": null,
            "min_height": null,
            "padding": null,
            "grid_auto_rows": null,
            "grid_gap": null,
            "max_width": null,
            "order": null,
            "_view_module_version": "1.2.0",
            "grid_template_areas": null,
            "object_position": null,
            "object_fit": null,
            "grid_auto_columns": null,
            "margin": null,
            "display": null,
            "left": null
          }
        },
        "a34148d6646749d39f49d00bd54fb9bf": {
          "model_module": "@jupyter-widgets/controls",
          "model_name": "FloatProgressModel",
          "state": {
            "_view_name": "ProgressView",
            "style": "IPY_MODEL_1a403517d4cd49339e76d2b289f3da63",
            "_dom_classes": [],
            "description": "Downloading: 100%",
            "_model_name": "FloatProgressModel",
            "bar_style": "success",
            "max": 456318,
            "_view_module": "@jupyter-widgets/controls",
            "_model_module_version": "1.5.0",
            "value": 456318,
            "_view_count": null,
            "_view_module_version": "1.5.0",
            "orientation": "horizontal",
            "min": 0,
            "description_tooltip": null,
            "_model_module": "@jupyter-widgets/controls",
            "layout": "IPY_MODEL_9b48d7ccc73f4b7a9162acb3ace9e36d"
          }
        },
        "17442e38755344348011240fd28f92a7": {
          "model_module": "@jupyter-widgets/controls",
          "model_name": "HTMLModel",
          "state": {
            "_view_name": "HTMLView",
            "style": "IPY_MODEL_868958544d904cacb5ea116c8c0f7691",
            "_dom_classes": [],
            "description": "",
            "_model_name": "HTMLModel",
            "placeholder": "​",
            "_view_module": "@jupyter-widgets/controls",
            "_model_module_version": "1.5.0",
            "value": " 456k/456k [00:00&lt;00:00, 3.02MB/s]",
            "_view_count": null,
            "_view_module_version": "1.5.0",
            "description_tooltip": null,
            "_model_module": "@jupyter-widgets/controls",
            "layout": "IPY_MODEL_044bec5142d14ae8a11fc72adca26586"
          }
        },
        "1a403517d4cd49339e76d2b289f3da63": {
          "model_module": "@jupyter-widgets/controls",
          "model_name": "ProgressStyleModel",
          "state": {
            "_view_name": "StyleView",
            "_model_name": "ProgressStyleModel",
            "description_width": "initial",
            "_view_module": "@jupyter-widgets/base",
            "_model_module_version": "1.5.0",
            "_view_count": null,
            "_view_module_version": "1.2.0",
            "bar_color": null,
            "_model_module": "@jupyter-widgets/controls"
          }
        },
        "9b48d7ccc73f4b7a9162acb3ace9e36d": {
          "model_module": "@jupyter-widgets/base",
          "model_name": "LayoutModel",
          "state": {
            "_view_name": "LayoutView",
            "grid_template_rows": null,
            "right": null,
            "justify_content": null,
            "_view_module": "@jupyter-widgets/base",
            "overflow": null,
            "_model_module_version": "1.2.0",
            "_view_count": null,
            "flex_flow": null,
            "width": null,
            "min_width": null,
            "border": null,
            "align_items": null,
            "bottom": null,
            "_model_module": "@jupyter-widgets/base",
            "top": null,
            "grid_column": null,
            "overflow_y": null,
            "overflow_x": null,
            "grid_auto_flow": null,
            "grid_area": null,
            "grid_template_columns": null,
            "flex": null,
            "_model_name": "LayoutModel",
            "justify_items": null,
            "grid_row": null,
            "max_height": null,
            "align_content": null,
            "visibility": null,
            "align_self": null,
            "height": null,
            "min_height": null,
            "padding": null,
            "grid_auto_rows": null,
            "grid_gap": null,
            "max_width": null,
            "order": null,
            "_view_module_version": "1.2.0",
            "grid_template_areas": null,
            "object_position": null,
            "object_fit": null,
            "grid_auto_columns": null,
            "margin": null,
            "display": null,
            "left": null
          }
        },
        "868958544d904cacb5ea116c8c0f7691": {
          "model_module": "@jupyter-widgets/controls",
          "model_name": "DescriptionStyleModel",
          "state": {
            "_view_name": "StyleView",
            "_model_name": "DescriptionStyleModel",
            "description_width": "",
            "_view_module": "@jupyter-widgets/base",
            "_model_module_version": "1.5.0",
            "_view_count": null,
            "_view_module_version": "1.2.0",
            "_model_module": "@jupyter-widgets/controls"
          }
        },
        "044bec5142d14ae8a11fc72adca26586": {
          "model_module": "@jupyter-widgets/base",
          "model_name": "LayoutModel",
          "state": {
            "_view_name": "LayoutView",
            "grid_template_rows": null,
            "right": null,
            "justify_content": null,
            "_view_module": "@jupyter-widgets/base",
            "overflow": null,
            "_model_module_version": "1.2.0",
            "_view_count": null,
            "flex_flow": null,
            "width": null,
            "min_width": null,
            "border": null,
            "align_items": null,
            "bottom": null,
            "_model_module": "@jupyter-widgets/base",
            "top": null,
            "grid_column": null,
            "overflow_y": null,
            "overflow_x": null,
            "grid_auto_flow": null,
            "grid_area": null,
            "grid_template_columns": null,
            "flex": null,
            "_model_name": "LayoutModel",
            "justify_items": null,
            "grid_row": null,
            "max_height": null,
            "align_content": null,
            "visibility": null,
            "align_self": null,
            "height": null,
            "min_height": null,
            "padding": null,
            "grid_auto_rows": null,
            "grid_gap": null,
            "max_width": null,
            "order": null,
            "_view_module_version": "1.2.0",
            "grid_template_areas": null,
            "object_position": null,
            "object_fit": null,
            "grid_auto_columns": null,
            "margin": null,
            "display": null,
            "left": null
          }
        },
        "9c40cb6b3fc34ab8b3910e7b833610ab": {
          "model_module": "@jupyter-widgets/controls",
          "model_name": "HBoxModel",
          "state": {
            "_view_name": "HBoxView",
            "_dom_classes": [],
            "_model_name": "HBoxModel",
            "_view_module": "@jupyter-widgets/controls",
            "_model_module_version": "1.5.0",
            "_view_count": null,
            "_view_module_version": "1.5.0",
            "box_style": "",
            "layout": "IPY_MODEL_1ac291694cf240608e17d5ef3528bd95",
            "_model_module": "@jupyter-widgets/controls",
            "children": [
              "IPY_MODEL_365f9df28b414585a3cb9807d719edcd",
              "IPY_MODEL_562d9453bc014e07b0cdb0fd6041e51b"
            ]
          }
        },
        "1ac291694cf240608e17d5ef3528bd95": {
          "model_module": "@jupyter-widgets/base",
          "model_name": "LayoutModel",
          "state": {
            "_view_name": "LayoutView",
            "grid_template_rows": null,
            "right": null,
            "justify_content": null,
            "_view_module": "@jupyter-widgets/base",
            "overflow": null,
            "_model_module_version": "1.2.0",
            "_view_count": null,
            "flex_flow": null,
            "width": null,
            "min_width": null,
            "border": null,
            "align_items": null,
            "bottom": null,
            "_model_module": "@jupyter-widgets/base",
            "top": null,
            "grid_column": null,
            "overflow_y": null,
            "overflow_x": null,
            "grid_auto_flow": null,
            "grid_area": null,
            "grid_template_columns": null,
            "flex": null,
            "_model_name": "LayoutModel",
            "justify_items": null,
            "grid_row": null,
            "max_height": null,
            "align_content": null,
            "visibility": null,
            "align_self": null,
            "height": null,
            "min_height": null,
            "padding": null,
            "grid_auto_rows": null,
            "grid_gap": null,
            "max_width": null,
            "order": null,
            "_view_module_version": "1.2.0",
            "grid_template_areas": null,
            "object_position": null,
            "object_fit": null,
            "grid_auto_columns": null,
            "margin": null,
            "display": null,
            "left": null
          }
        },
        "365f9df28b414585a3cb9807d719edcd": {
          "model_module": "@jupyter-widgets/controls",
          "model_name": "FloatProgressModel",
          "state": {
            "_view_name": "ProgressView",
            "style": "IPY_MODEL_5e2357bfca204f68a957b51c2611b21e",
            "_dom_classes": [],
            "description": "Downloading: 100%",
            "_model_name": "FloatProgressModel",
            "bar_style": "success",
            "max": 665,
            "_view_module": "@jupyter-widgets/controls",
            "_model_module_version": "1.5.0",
            "value": 665,
            "_view_count": null,
            "_view_module_version": "1.5.0",
            "orientation": "horizontal",
            "min": 0,
            "description_tooltip": null,
            "_model_module": "@jupyter-widgets/controls",
            "layout": "IPY_MODEL_801d43f5d9bf4bae956245a56ca59f74"
          }
        },
        "562d9453bc014e07b0cdb0fd6041e51b": {
          "model_module": "@jupyter-widgets/controls",
          "model_name": "HTMLModel",
          "state": {
            "_view_name": "HTMLView",
            "style": "IPY_MODEL_7c18d87f459943e29359ddb1d2665c01",
            "_dom_classes": [],
            "description": "",
            "_model_name": "HTMLModel",
            "placeholder": "​",
            "_view_module": "@jupyter-widgets/controls",
            "_model_module_version": "1.5.0",
            "value": " 665/665 [02:24&lt;00:00, 4.60B/s]",
            "_view_count": null,
            "_view_module_version": "1.5.0",
            "description_tooltip": null,
            "_model_module": "@jupyter-widgets/controls",
            "layout": "IPY_MODEL_891a816f12b348d690ec14ebf8b24dea"
          }
        },
        "5e2357bfca204f68a957b51c2611b21e": {
          "model_module": "@jupyter-widgets/controls",
          "model_name": "ProgressStyleModel",
          "state": {
            "_view_name": "StyleView",
            "_model_name": "ProgressStyleModel",
            "description_width": "initial",
            "_view_module": "@jupyter-widgets/base",
            "_model_module_version": "1.5.0",
            "_view_count": null,
            "_view_module_version": "1.2.0",
            "bar_color": null,
            "_model_module": "@jupyter-widgets/controls"
          }
        },
        "801d43f5d9bf4bae956245a56ca59f74": {
          "model_module": "@jupyter-widgets/base",
          "model_name": "LayoutModel",
          "state": {
            "_view_name": "LayoutView",
            "grid_template_rows": null,
            "right": null,
            "justify_content": null,
            "_view_module": "@jupyter-widgets/base",
            "overflow": null,
            "_model_module_version": "1.2.0",
            "_view_count": null,
            "flex_flow": null,
            "width": null,
            "min_width": null,
            "border": null,
            "align_items": null,
            "bottom": null,
            "_model_module": "@jupyter-widgets/base",
            "top": null,
            "grid_column": null,
            "overflow_y": null,
            "overflow_x": null,
            "grid_auto_flow": null,
            "grid_area": null,
            "grid_template_columns": null,
            "flex": null,
            "_model_name": "LayoutModel",
            "justify_items": null,
            "grid_row": null,
            "max_height": null,
            "align_content": null,
            "visibility": null,
            "align_self": null,
            "height": null,
            "min_height": null,
            "padding": null,
            "grid_auto_rows": null,
            "grid_gap": null,
            "max_width": null,
            "order": null,
            "_view_module_version": "1.2.0",
            "grid_template_areas": null,
            "object_position": null,
            "object_fit": null,
            "grid_auto_columns": null,
            "margin": null,
            "display": null,
            "left": null
          }
        },
        "7c18d87f459943e29359ddb1d2665c01": {
          "model_module": "@jupyter-widgets/controls",
          "model_name": "DescriptionStyleModel",
          "state": {
            "_view_name": "StyleView",
            "_model_name": "DescriptionStyleModel",
            "description_width": "",
            "_view_module": "@jupyter-widgets/base",
            "_model_module_version": "1.5.0",
            "_view_count": null,
            "_view_module_version": "1.2.0",
            "_model_module": "@jupyter-widgets/controls"
          }
        },
        "891a816f12b348d690ec14ebf8b24dea": {
          "model_module": "@jupyter-widgets/base",
          "model_name": "LayoutModel",
          "state": {
            "_view_name": "LayoutView",
            "grid_template_rows": null,
            "right": null,
            "justify_content": null,
            "_view_module": "@jupyter-widgets/base",
            "overflow": null,
            "_model_module_version": "1.2.0",
            "_view_count": null,
            "flex_flow": null,
            "width": null,
            "min_width": null,
            "border": null,
            "align_items": null,
            "bottom": null,
            "_model_module": "@jupyter-widgets/base",
            "top": null,
            "grid_column": null,
            "overflow_y": null,
            "overflow_x": null,
            "grid_auto_flow": null,
            "grid_area": null,
            "grid_template_columns": null,
            "flex": null,
            "_model_name": "LayoutModel",
            "justify_items": null,
            "grid_row": null,
            "max_height": null,
            "align_content": null,
            "visibility": null,
            "align_self": null,
            "height": null,
            "min_height": null,
            "padding": null,
            "grid_auto_rows": null,
            "grid_gap": null,
            "max_width": null,
            "order": null,
            "_view_module_version": "1.2.0",
            "grid_template_areas": null,
            "object_position": null,
            "object_fit": null,
            "grid_auto_columns": null,
            "margin": null,
            "display": null,
            "left": null
          }
        },
        "c002df20da03457c90062a4b28088b59": {
          "model_module": "@jupyter-widgets/controls",
          "model_name": "HBoxModel",
          "state": {
            "_view_name": "HBoxView",
            "_dom_classes": [],
            "_model_name": "HBoxModel",
            "_view_module": "@jupyter-widgets/controls",
            "_model_module_version": "1.5.0",
            "_view_count": null,
            "_view_module_version": "1.5.0",
            "box_style": "",
            "layout": "IPY_MODEL_b9f9f24fde5c4ac58ff795fdbc77aec3",
            "_model_module": "@jupyter-widgets/controls",
            "children": [
              "IPY_MODEL_c7b542e3b78f4553a19865c6c2eb525c",
              "IPY_MODEL_e324f8d143654a409ef0071c451f42b7"
            ]
          }
        },
        "b9f9f24fde5c4ac58ff795fdbc77aec3": {
          "model_module": "@jupyter-widgets/base",
          "model_name": "LayoutModel",
          "state": {
            "_view_name": "LayoutView",
            "grid_template_rows": null,
            "right": null,
            "justify_content": null,
            "_view_module": "@jupyter-widgets/base",
            "overflow": null,
            "_model_module_version": "1.2.0",
            "_view_count": null,
            "flex_flow": null,
            "width": null,
            "min_width": null,
            "border": null,
            "align_items": null,
            "bottom": null,
            "_model_module": "@jupyter-widgets/base",
            "top": null,
            "grid_column": null,
            "overflow_y": null,
            "overflow_x": null,
            "grid_auto_flow": null,
            "grid_area": null,
            "grid_template_columns": null,
            "flex": null,
            "_model_name": "LayoutModel",
            "justify_items": null,
            "grid_row": null,
            "max_height": null,
            "align_content": null,
            "visibility": null,
            "align_self": null,
            "height": null,
            "min_height": null,
            "padding": null,
            "grid_auto_rows": null,
            "grid_gap": null,
            "max_width": null,
            "order": null,
            "_view_module_version": "1.2.0",
            "grid_template_areas": null,
            "object_position": null,
            "object_fit": null,
            "grid_auto_columns": null,
            "margin": null,
            "display": null,
            "left": null
          }
        },
        "c7b542e3b78f4553a19865c6c2eb525c": {
          "model_module": "@jupyter-widgets/controls",
          "model_name": "FloatProgressModel",
          "state": {
            "_view_name": "ProgressView",
            "style": "IPY_MODEL_4a161a6372394280b5a1d49ec9b9c5f3",
            "_dom_classes": [],
            "description": "Downloading: 100%",
            "_model_name": "FloatProgressModel",
            "bar_style": "success",
            "max": 548118077,
            "_view_module": "@jupyter-widgets/controls",
            "_model_module_version": "1.5.0",
            "value": 548118077,
            "_view_count": null,
            "_view_module_version": "1.5.0",
            "orientation": "horizontal",
            "min": 0,
            "description_tooltip": null,
            "_model_module": "@jupyter-widgets/controls",
            "layout": "IPY_MODEL_3cec96575f384603836a1885d1ac063c"
          }
        },
        "e324f8d143654a409ef0071c451f42b7": {
          "model_module": "@jupyter-widgets/controls",
          "model_name": "HTMLModel",
          "state": {
            "_view_name": "HTMLView",
            "style": "IPY_MODEL_9a1b98c2419b420dbff4cf1f3f1a82ac",
            "_dom_classes": [],
            "description": "",
            "_model_name": "HTMLModel",
            "placeholder": "​",
            "_view_module": "@jupyter-widgets/controls",
            "_model_module_version": "1.5.0",
            "value": " 548M/548M [00:39&lt;00:00, 13.9MB/s]",
            "_view_count": null,
            "_view_module_version": "1.5.0",
            "description_tooltip": null,
            "_model_module": "@jupyter-widgets/controls",
            "layout": "IPY_MODEL_ebd2221385c74a478ec847af0842d15c"
          }
        },
        "4a161a6372394280b5a1d49ec9b9c5f3": {
          "model_module": "@jupyter-widgets/controls",
          "model_name": "ProgressStyleModel",
          "state": {
            "_view_name": "StyleView",
            "_model_name": "ProgressStyleModel",
            "description_width": "initial",
            "_view_module": "@jupyter-widgets/base",
            "_model_module_version": "1.5.0",
            "_view_count": null,
            "_view_module_version": "1.2.0",
            "bar_color": null,
            "_model_module": "@jupyter-widgets/controls"
          }
        },
        "3cec96575f384603836a1885d1ac063c": {
          "model_module": "@jupyter-widgets/base",
          "model_name": "LayoutModel",
          "state": {
            "_view_name": "LayoutView",
            "grid_template_rows": null,
            "right": null,
            "justify_content": null,
            "_view_module": "@jupyter-widgets/base",
            "overflow": null,
            "_model_module_version": "1.2.0",
            "_view_count": null,
            "flex_flow": null,
            "width": null,
            "min_width": null,
            "border": null,
            "align_items": null,
            "bottom": null,
            "_model_module": "@jupyter-widgets/base",
            "top": null,
            "grid_column": null,
            "overflow_y": null,
            "overflow_x": null,
            "grid_auto_flow": null,
            "grid_area": null,
            "grid_template_columns": null,
            "flex": null,
            "_model_name": "LayoutModel",
            "justify_items": null,
            "grid_row": null,
            "max_height": null,
            "align_content": null,
            "visibility": null,
            "align_self": null,
            "height": null,
            "min_height": null,
            "padding": null,
            "grid_auto_rows": null,
            "grid_gap": null,
            "max_width": null,
            "order": null,
            "_view_module_version": "1.2.0",
            "grid_template_areas": null,
            "object_position": null,
            "object_fit": null,
            "grid_auto_columns": null,
            "margin": null,
            "display": null,
            "left": null
          }
        },
        "9a1b98c2419b420dbff4cf1f3f1a82ac": {
          "model_module": "@jupyter-widgets/controls",
          "model_name": "DescriptionStyleModel",
          "state": {
            "_view_name": "StyleView",
            "_model_name": "DescriptionStyleModel",
            "description_width": "",
            "_view_module": "@jupyter-widgets/base",
            "_model_module_version": "1.5.0",
            "_view_count": null,
            "_view_module_version": "1.2.0",
            "_model_module": "@jupyter-widgets/controls"
          }
        },
        "ebd2221385c74a478ec847af0842d15c": {
          "model_module": "@jupyter-widgets/base",
          "model_name": "LayoutModel",
          "state": {
            "_view_name": "LayoutView",
            "grid_template_rows": null,
            "right": null,
            "justify_content": null,
            "_view_module": "@jupyter-widgets/base",
            "overflow": null,
            "_model_module_version": "1.2.0",
            "_view_count": null,
            "flex_flow": null,
            "width": null,
            "min_width": null,
            "border": null,
            "align_items": null,
            "bottom": null,
            "_model_module": "@jupyter-widgets/base",
            "top": null,
            "grid_column": null,
            "overflow_y": null,
            "overflow_x": null,
            "grid_auto_flow": null,
            "grid_area": null,
            "grid_template_columns": null,
            "flex": null,
            "_model_name": "LayoutModel",
            "justify_items": null,
            "grid_row": null,
            "max_height": null,
            "align_content": null,
            "visibility": null,
            "align_self": null,
            "height": null,
            "min_height": null,
            "padding": null,
            "grid_auto_rows": null,
            "grid_gap": null,
            "max_width": null,
            "order": null,
            "_view_module_version": "1.2.0",
            "grid_template_areas": null,
            "object_position": null,
            "object_fit": null,
            "grid_auto_columns": null,
            "margin": null,
            "display": null,
            "left": null
          }
        }
      }
    }
  },
  "cells": [
    {
      "cell_type": "markdown",
      "metadata": {
        "id": "view-in-github",
        "colab_type": "text"
      },
      "source": [
        "<a href=\"https://colab.research.google.com/github/rostro36/Partisan-Responses/blob/master/QA_Pipeline.ipynb\" target=\"_parent\"><img src=\"https://colab.research.google.com/assets/colab-badge.svg\" alt=\"Open In Colab\"/></a>"
      ]
    },
    {
      "cell_type": "code",
      "metadata": {
        "id": "vmCthZqgCf6N",
        "colab_type": "code",
        "colab": {
          "base_uri": "https://localhost:8080/",
          "height": 124
        },
        "outputId": "896f32e7-a436-47c8-a534-ef6404f758bd"
      },
      "source": [
        "from google.colab import drive\n",
        "drive.mount('/content/drive')\n",
        "\n",
        "import os\n",
        "os.chdir('/content/drive/My Drive')\n"
      ],
      "execution_count": 1,
      "outputs": [
        {
          "output_type": "stream",
          "text": [
            "Go to this URL in a browser: https://accounts.google.com/o/oauth2/auth?client_id=947318989803-6bn6qk8qdgf4n4g3pfee6491hc0brc4i.apps.googleusercontent.com&redirect_uri=urn%3aietf%3awg%3aoauth%3a2.0%3aoob&response_type=code&scope=email%20https%3a%2f%2fwww.googleapis.com%2fauth%2fdocs.test%20https%3a%2f%2fwww.googleapis.com%2fauth%2fdrive%20https%3a%2f%2fwww.googleapis.com%2fauth%2fdrive.photos.readonly%20https%3a%2f%2fwww.googleapis.com%2fauth%2fpeopleapi.readonly\n",
            "\n",
            "Enter your authorization code:\n",
            "··········\n",
            "Mounted at /content/drive\n"
          ],
          "name": "stdout"
        }
      ]
    },
    {
      "cell_type": "markdown",
      "metadata": {
        "id": "LCuXIdqmE5df",
        "colab_type": "text"
      },
      "source": [
        "Import all libraries"
      ]
    },
    {
      "cell_type": "code",
      "metadata": {
        "id": "Zunm7WJ8EC-7",
        "colab_type": "code",
        "colab": {}
      },
      "source": [
        "import numpy as np\n",
        "import pandas as pd\n",
        "import spacy\n",
        "import pickle\n",
        "import torch\n",
        "import torch.nn.functional as F\n",
        "from itertools import islice\n",
        "from transformers import pipeline\n",
        "from transformers import pipeline, GPT2LMHeadModel, GPT2Tokenizer\n",
        "from sklearn.feature_extraction.text import TfidfVectorizer\n",
        "import nltk\n",
        "from nltk.tokenize import word_tokenize\n",
        "from nltk.stem import PorterStemmer\n",
        "from Search import Search\n",
        "from Answer import Answer\n",
        "import neuralcoref\n",
        "import re\n",
        "import gc\n",
        "import utils"
      ],
      "execution_count": null,
      "outputs": []
    },
    {
      "cell_type": "code",
      "metadata": {
        "id": "lyIxP4uSGgzD",
        "colab_type": "code",
        "colab": {
          "base_uri": "https://localhost:8080/",
          "height": 69
        },
        "outputId": "987425e6-a51c-45fb-fd92-3d6d89de1c73"
      },
      "source": [
        "nltk.download('punkt')"
      ],
      "execution_count": 18,
      "outputs": [
        {
          "output_type": "stream",
          "text": [
            "[nltk_data] Downloading package punkt to /root/nltk_data...\n",
            "[nltk_data]   Unzipping tokenizers/punkt.zip.\n"
          ],
          "name": "stdout"
        },
        {
          "output_type": "execute_result",
          "data": {
            "text/plain": [
              "True"
            ]
          },
          "metadata": {
            "tags": []
          },
          "execution_count": 18
        }
      ]
    },
    {
      "cell_type": "markdown",
      "metadata": {
        "id": "CWzSZ_3aE8eu",
        "colab_type": "text"
      },
      "source": [
        "Load data"
      ]
    },
    {
      "cell_type": "code",
      "metadata": {
        "id": "2Axk6n8hEOq-",
        "colab_type": "code",
        "colab": {}
      },
      "source": [
        "file_name = 'search_dataset_111.pkl'\n",
        "speeches = pd.read_pickle(file_name)"
      ],
      "execution_count": 13,
      "outputs": []
    },
    {
      "cell_type": "code",
      "metadata": {
        "id": "pCSvIO-5Erlg",
        "colab_type": "code",
        "colab": {
          "base_uri": "https://localhost:8080/",
          "height": 198
        },
        "outputId": "ff572fee-3921-4b65-a9b5-2f8cd492878f"
      },
      "source": [
        "speeches.head()"
      ],
      "execution_count": 14,
      "outputs": [
        {
          "output_type": "execute_result",
          "data": {
            "text/html": [
              "<div>\n",
              "<style scoped>\n",
              "    .dataframe tbody tr th:only-of-type {\n",
              "        vertical-align: middle;\n",
              "    }\n",
              "\n",
              "    .dataframe tbody tr th {\n",
              "        vertical-align: top;\n",
              "    }\n",
              "\n",
              "    .dataframe thead th {\n",
              "        text-align: right;\n",
              "    }\n",
              "</style>\n",
              "<table border=\"1\" class=\"dataframe\">\n",
              "  <thead>\n",
              "    <tr style=\"text-align: right;\">\n",
              "      <th></th>\n",
              "      <th>speech</th>\n",
              "      <th>party</th>\n",
              "      <th>stemmed_speech</th>\n",
              "      <th>year</th>\n",
              "    </tr>\n",
              "  </thead>\n",
              "  <tbody>\n",
              "    <tr>\n",
              "      <th>876114</th>\n",
              "      <td>Our democracy renews itself every 2 years as M...</td>\n",
              "      <td>D</td>\n",
              "      <td>our democraci renew itself everi 2 year as mem...</td>\n",
              "      <td>111</td>\n",
              "    </tr>\n",
              "    <tr>\n",
              "      <th>876115</th>\n",
              "      <td>Madam Speaker. Leader HOYER, fellow Members, a...</td>\n",
              "      <td>R</td>\n",
              "      <td>madam speaker . leader hoyer , fellow member ,...</td>\n",
              "      <td>111</td>\n",
              "    </tr>\n",
              "    <tr>\n",
              "      <th>876116</th>\n",
              "      <td>Thank you very much. Leader BOEHNER. Together,...</td>\n",
              "      <td>D</td>\n",
              "      <td>thank you veri much . leader boehner . togeth ...</td>\n",
              "      <td>111</td>\n",
              "    </tr>\n",
              "    <tr>\n",
              "      <th>876117</th>\n",
              "      <td>for your nomination this morning. Thank you to...</td>\n",
              "      <td>D</td>\n",
              "      <td>for your nomin thi morn . thank you to the mem...</td>\n",
              "      <td>111</td>\n",
              "    </tr>\n",
              "    <tr>\n",
              "      <th>876118</th>\n",
              "      <td>Mr. Speaker, for purposes of debate only, I yi...</td>\n",
              "      <td>D</td>\n",
              "      <td>mr. speaker , for purpos of debat onli , i yie...</td>\n",
              "      <td>111</td>\n",
              "    </tr>\n",
              "  </tbody>\n",
              "</table>\n",
              "</div>"
            ],
            "text/plain": [
              "                                                   speech  ... year\n",
              "876114  Our democracy renews itself every 2 years as M...  ...  111\n",
              "876115  Madam Speaker. Leader HOYER, fellow Members, a...  ...  111\n",
              "876116  Thank you very much. Leader BOEHNER. Together,...  ...  111\n",
              "876117  for your nomination this morning. Thank you to...  ...  111\n",
              "876118  Mr. Speaker, for purposes of debate only, I yi...  ...  111\n",
              "\n",
              "[5 rows x 4 columns]"
            ]
          },
          "metadata": {
            "tags": []
          },
          "execution_count": 14
        }
      ]
    },
    {
      "cell_type": "markdown",
      "metadata": {
        "id": "m_Ix4WeKFBgE",
        "colab_type": "text"
      },
      "source": [
        "Create search"
      ]
    },
    {
      "cell_type": "code",
      "metadata": {
        "id": "fs5jCQYTEuiA",
        "colab_type": "code",
        "colab": {
          "base_uri": "https://localhost:8080/",
          "height": 52
        },
        "outputId": "435417f8-f579-4f50-e613-cedeb7106b3c"
      },
      "source": [
        "search = Search(speeches=speeches)"
      ],
      "execution_count": 15,
      "outputs": [
        {
          "output_type": "stream",
          "text": [
            "republican speeches: 24578\n",
            "democrat speeches: 30861\n"
          ],
          "name": "stdout"
        }
      ]
    },
    {
      "cell_type": "code",
      "metadata": {
        "id": "5TToRwu9FD9-",
        "colab_type": "code",
        "colab": {}
      },
      "source": [
        "questions = [\"What reforms were adopted by the 110th Congress?\",\n",
        "             \"What do you believe about tax increases?\"]"
      ],
      "execution_count": 16,
      "outputs": []
    },
    {
      "cell_type": "markdown",
      "metadata": {
        "id": "ejzc2QxBKbE4",
        "colab_type": "text"
      },
      "source": [
        "Graph construction"
      ]
    },
    {
      "cell_type": "markdown",
      "metadata": {
        "id": "Qw2bej-rGIoK",
        "colab_type": "text"
      },
      "source": [
        "Generate answers to question with GPT-2"
      ]
    },
    {
      "cell_type": "code",
      "metadata": {
        "id": "XLeDBLVxKuZS",
        "colab_type": "code",
        "colab": {
          "base_uri": "https://localhost:8080/",
          "height": 268,
          "referenced_widgets": [
            "1ac2d8b0e31042cbaec10f2f61a59771",
            "1b5c048fbf4a4145995cfea609fde0bc",
            "e5d2eb0f80c24ec09a76c2ddeecfebae",
            "1e4172d5622741819a743c28c7bd7139",
            "cda2baac40344af2947b8884492291e3",
            "42e34b5ad27149e3b35126e7d8ec53bc",
            "287d9bdb92b8428c8b6ced4506d280cd",
            "67a81fbcb5584f308136a1482b6d690a",
            "c50be62bba4e4768b88e0c0c9deaf3bc",
            "1d68803f962748b7abf3b232a2a7ef20",
            "a34148d6646749d39f49d00bd54fb9bf",
            "17442e38755344348011240fd28f92a7",
            "1a403517d4cd49339e76d2b289f3da63",
            "9b48d7ccc73f4b7a9162acb3ace9e36d",
            "868958544d904cacb5ea116c8c0f7691",
            "044bec5142d14ae8a11fc72adca26586",
            "9c40cb6b3fc34ab8b3910e7b833610ab",
            "1ac291694cf240608e17d5ef3528bd95",
            "365f9df28b414585a3cb9807d719edcd",
            "562d9453bc014e07b0cdb0fd6041e51b",
            "5e2357bfca204f68a957b51c2611b21e",
            "801d43f5d9bf4bae956245a56ca59f74",
            "7c18d87f459943e29359ddb1d2665c01",
            "891a816f12b348d690ec14ebf8b24dea",
            "c002df20da03457c90062a4b28088b59",
            "b9f9f24fde5c4ac58ff795fdbc77aec3",
            "c7b542e3b78f4553a19865c6c2eb525c",
            "e324f8d143654a409ef0071c451f42b7",
            "4a161a6372394280b5a1d49ec9b9c5f3",
            "3cec96575f384603836a1885d1ac063c",
            "9a1b98c2419b420dbff4cf1f3f1a82ac",
            "ebd2221385c74a478ec847af0842d15c"
          ]
        },
        "outputId": "2778266a-2966-4b90-a5d2-6c5590fca05e"
      },
      "source": [
        "tokenizer = GPT2Tokenizer.from_pretrained(\"gpt2\")\n",
        "model = GPT2LMHeadModel.from_pretrained('gpt2')"
      ],
      "execution_count": 24,
      "outputs": [
        {
          "output_type": "display_data",
          "data": {
            "application/vnd.jupyter.widget-view+json": {
              "model_id": "1ac2d8b0e31042cbaec10f2f61a59771",
              "version_minor": 0,
              "version_major": 2
            },
            "text/plain": [
              "HBox(children=(FloatProgress(value=0.0, description='Downloading', max=1042301.0, style=ProgressStyle(descript…"
            ]
          },
          "metadata": {
            "tags": []
          }
        },
        {
          "output_type": "stream",
          "text": [
            "\n"
          ],
          "name": "stdout"
        },
        {
          "output_type": "display_data",
          "data": {
            "application/vnd.jupyter.widget-view+json": {
              "model_id": "c50be62bba4e4768b88e0c0c9deaf3bc",
              "version_minor": 0,
              "version_major": 2
            },
            "text/plain": [
              "HBox(children=(FloatProgress(value=0.0, description='Downloading', max=456318.0, style=ProgressStyle(descripti…"
            ]
          },
          "metadata": {
            "tags": []
          }
        },
        {
          "output_type": "stream",
          "text": [
            "\n"
          ],
          "name": "stdout"
        },
        {
          "output_type": "display_data",
          "data": {
            "application/vnd.jupyter.widget-view+json": {
              "model_id": "9c40cb6b3fc34ab8b3910e7b833610ab",
              "version_minor": 0,
              "version_major": 2
            },
            "text/plain": [
              "HBox(children=(FloatProgress(value=0.0, description='Downloading', max=665.0, style=ProgressStyle(description_…"
            ]
          },
          "metadata": {
            "tags": []
          }
        },
        {
          "output_type": "stream",
          "text": [
            "\n"
          ],
          "name": "stdout"
        },
        {
          "output_type": "display_data",
          "data": {
            "application/vnd.jupyter.widget-view+json": {
              "model_id": "c002df20da03457c90062a4b28088b59",
              "version_minor": 0,
              "version_major": 2
            },
            "text/plain": [
              "HBox(children=(FloatProgress(value=0.0, description='Downloading', max=548118077.0, style=ProgressStyle(descri…"
            ]
          },
          "metadata": {
            "tags": []
          }
        },
        {
          "output_type": "stream",
          "text": [
            "\n"
          ],
          "name": "stdout"
        },
        {
          "output_type": "stream",
          "text": [
            "Some weights of GPT2LMHeadModel were not initialized from the model checkpoint at gpt2 and are newly initialized: ['h.0.attn.masked_bias', 'h.1.attn.masked_bias', 'h.2.attn.masked_bias', 'h.3.attn.masked_bias', 'h.4.attn.masked_bias', 'h.5.attn.masked_bias', 'h.6.attn.masked_bias', 'h.7.attn.masked_bias', 'h.8.attn.masked_bias', 'h.9.attn.masked_bias', 'h.10.attn.masked_bias', 'h.11.attn.masked_bias', 'lm_head.weight']\n",
            "You should probably TRAIN this model on a down-stream task to be able to use it for predictions and inference.\n"
          ],
          "name": "stderr"
        }
      ]
    },
    {
      "cell_type": "code",
      "metadata": {
        "id": "UhCPNvFGN3xp",
        "colab_type": "code",
        "colab": {
          "base_uri": "https://localhost:8080/",
          "height": 314
        },
        "outputId": "eb489630-02cf-4647-cac8-f659f109f5f7"
      },
      "source": [
        "for question in questions:\n",
        "    print(\"Question: {}\".format(question))\n",
        "    print(\"GPT-2 generation: \")\n",
        "    generated = tokenizer.encode(question)\n",
        "    context = torch.tensor([generated])\n",
        "    past = None\n",
        "\n",
        "    for i in range(100):\n",
        "        output, past = model(context, past=past)\n",
        "        token = torch.argmax(output[..., -1, :])\n",
        "\n",
        "        generated += [token.tolist()]\n",
        "        context = token.unsqueeze(0)\n",
        "\n",
        "    sequence = tokenizer.decode(generated)\n",
        "\n",
        "    print(sequence)"
      ],
      "execution_count": 35,
      "outputs": [
        {
          "output_type": "stream",
          "text": [
            "Question: What reforms were adopted by the 110th Congress?\n",
            "GPT-2 generation: \n",
            "What reforms were adopted by the 110th Congress?\n",
            "\n",
            "The first was the introduction of the National Defense Authorization Act of 2012 (NDAA), which authorized the Pentagon to spend $1.5 trillion over the next decade to increase the military's budget by $1.5 trillion. The second was the enactment of the National Defense Authorization Act of 2015 (NDAA), which authorized the Pentagon to spend $1.5 trillion over the next decade to increase the military's budget by $1.5 trillion.\n",
            "\n",
            "The third was the enactment of\n",
            "Question: What do you believe about tax increases?\n",
            "GPT-2 generation: \n",
            "What do you believe about tax increases?\n",
            "\n",
            "I think that the tax increases are going to be very good for the economy. I think that the tax increases are going to be very good for the middle class. I think that the middle class is going to be very happy. I think that the middle class is going to be very happy.\n",
            "\n",
            "I think that the middle class is going to be very happy. I think that the middle class is going to be very happy.\n",
            "\n",
            "I think that the middle class is going to\n"
          ],
          "name": "stdout"
        }
      ]
    },
    {
      "cell_type": "markdown",
      "metadata": {
        "id": "IiXntHFtPkLd",
        "colab_type": "text"
      },
      "source": [
        "Search"
      ]
    },
    {
      "cell_type": "code",
      "metadata": {
        "id": "swv1FEggFN14",
        "colab_type": "code",
        "colab": {
          "base_uri": "https://localhost:8080/",
          "height": 555
        },
        "outputId": "1d7dddb7-0c94-48bf-beea-75b548fa5b33"
      },
      "source": [
        "for question in questions:\n",
        "  print(\"Question: {}\".format(question))\n",
        "  for party in ['R', 'D']:\n",
        "    print(\"Party: {}\".format(party))\n",
        "    results = search.search(question, party, topk=3)\n",
        "    for res in results['speech']:\n",
        "      print(res + '\\n')"
      ],
      "execution_count": 36,
      "outputs": [
        {
          "output_type": "stream",
          "text": [
            "Question: What reforms were adopted by the 110th Congress?\n",
            "Party: R\n",
            "Madam President, pursuant to section 204(a) of the 2008 budget resolution. S. Con. Res, 21, of the 110th Congress, I raise a point of order against the emergency designation in section 5(a) of the conference report.\n",
            "\n",
            "Mr. Speaker, I am pleased to rise today in support of H. Res, 1648, a resolution that recognizes the importance of federal efforts to encourage adoption, and honors National Adoption Day and Month. As an avid adoption supporter, I believe that Congress must continue to promote the adoption of children into safe and loving homes. Through our work in 1997 as part of the Adoption and Safe Families Act, and more recently through the Fostering Connections to Success and Increasing Adoptions Act of 2008. Congress made significant advances in providing more options for children in need. Yet, far too many children, about 114.000, are waiting in foster care programs throughout our country for families to adopt them. These children should be given every opportunity to lead successful lives, and one way to make that happen is to increase the adoption of these children into safe, permanent, loving homes. That is why National Adoption Day and Month are so important. This year. National Adoption Day will take place on November 20, 2010, and is designed for communities around the country to highlight adoptions. Over the last decade, these events have grown more and more successful. Last year there were events in all 50 states during which the adoptions of 4.800 children were finalized. Since its inception, more than 30.000 adoptions have been finalized on National Adoption Day, I have been honored to participate in National Adoption Day over the past several years. To be part of such a special occasion reinforces the need for further efforts to move kids into adoptive homes, I would also like to highlight the efforts of the Congressional Coalition on Adoption Institute (CCAI) to promote adoption through its annual Angels in Adoption Awards Ceremony, held in October. This event also highlights those that have opened their hearts and their homes. These initiatives are critically important to not only recognizing those who have promoted adoption, but also to highlight the need for greater action on this important topic. Before I close, I would like to recognize the efforts of Representative JIM OBERSTAR, the sponsor of this resolution, for his work on behalf of adoption and children in foster care. JiM and I worked closely together on these important issues as cochairs of Congressional Coalition on Adoption Institute. As an adoptive parent himself, he knows firsthand how lifechanging adoption is, and with his experiences he has been an effective and tireless leader for children who need loving homes. His expertise will be missed, but his contributions in support of adoption will be lasting, I would also like to congratulate and publicly thank Representative GINNY BROWNWAITE for her role in promoting adoption and the wellbeing of all children. As a Member of the Ways and Means Committee, she has been an active supporter of efforts to promote adoption and child wellbeing, continuing her prior work as a member of the Congressional Coalition on Adoption Institute. GINNY is retiring at the end of this Congress, and her deep compassion for and active efforts on behalf of children who have been or are awaiting adoption will continue to inspire those of us she leaves behind, I wish both JIM and GINNY all the best in the years ahead and thank both of them for their distinguished service to our families and country.\n",
            "\n",
            "Mr. Speaker, I am pleased to rise today in support of H. Res, 831, a resolution that recognizes the successes of federal efforts to encourage adoption, and honors National Adoption Day and Month. As an avid adoption supporter, I believe that Congress must continue to promote the adoption of children into safe and loving homes. Through our work in 1997 as part of the Adoption and Safe Families Act, and more recently through the Fostering Connections to Success and Increasing Adoptions Act of 2008. Congress has made significant advances in providing more options for children in need. Yet, far too many children, nearly 130.000, are waiting in foster care programs throughout our country for families to adopt them. These children should be given every opportunity to lead successful lives, and one way to make that happen is to increase the adoption of these children into safe, permanent, loving homes. That is why National Adoption Day and Month are so important. This year. National Adoption Day will take place on November 21, and is designed for communities around the country to highlight adoptions. Last year there were events in all 50 states during which the adoptions of 4.000 children were finalized. This year is especially important, as the National Adoption Day is celebrating its 10year anniversary. This is a significant achievement from its humble beginnings, when Los Angeles County Judge Michael Nash started \"Adoption Saturdays\" to help facilitate the adoption of foster children, I have been honored to participate in National Adoption Day over the past several years. To be part of such a special occasion reinforces the need for further efforts to move kids into adoptive homes, I would also like to highlight the efforts of the Congressional Coalition on Adoption Institute to promote adoption through its annual Angels in Adoption Awards Ceremony, held in September. This event also highlights those that have opened their hearts and their homes. This year, I was honored to nominate Sarah and Steve Rosinski, from Traverse City. Michigan, as Angels in Adoption. Steve and Sarah became foster parents when a young boy name Logan was placed in their home. Coming from a difficult family. Logan needed special attention and care. The Rosinskis gave him the love and support he needed to thrive and made him a permanent addition to their family by adopting him in 2007. They now are fostering a baby girl, also coming to them with early challengesagain, putting the childs best interests first, they are working on a reunification plan with her family. The Rosinksis have never asked for recognition for what they have done, they have simply done what is right. This is what National Adoption Day is all about, I first got involved by helping families with their adoption proceedings as their attorney, I strongly believe that we have the ability and the opportunity to help encourage adoption and help those in the foster care system. That is why it is so important to recognize the families who make extraordinary efforts to welcome children into their family and highlight the importance of National Adoption Day and Month.\n",
            "\n",
            "Party: D\n",
            "Madam Speaker, let me congratulate you for your reelection as Speaker of the House. It is an honor that you tave served with great distinction and verve, I look forward to more of your continued leadership in the 111th Congress. Mr. Speaker, I rise today in support of H. Res, 5. Adopting the rules for the One Hundred Eleventh Congress. The House Rules Package provides commonsense reforms that will enable Congress to work more efficiently for America. In the 110th Congress. Democrats put forth critical measures to restore integrity and accountability to the House. These reforms were the most sweeping ethics and lobbying reforms since Watergate and has changed the way Congress does business in Washington. The reforms adopted by the 110th Congress included banning gifts from lobbyists, prohibiting the use of corporate jets, mandating ethics training for all House employees, establishing a new, independent Office of Congressional Ethics, and ensuring transparency for budget earmarks by requiring the full disclosure of earmarks in all bills and conference reports. The Rule Package for the 111th Congress builds upon these reforms to further strengthen the integrity of Congress. Key provisions include closing the loophole regarding \"lameduck\" Members negotiating postCongressional employment, codifying additional earmark reforms adopted in midterm in the 1 10th Congress, continuing the Office of Congressional Ethics, maintaining strong PAYGO rules, and improving Congresss effectiveness by removing an abusive practice where popular measures are killed through unrelated. \"gotcha\" amendments on motions to recommit. On this last point, noted Congressional scholar Norm Ornstein pointed out in the Roll Call. August 13, 2007. \"Using promptly . . , is a subterfuge, a way to kill bills, and reflects a desire not to legislate but embarrass vulnerable majority Members through a \"gotcha\" process. The Rules Package protects the minority and still preserves its ability to recommit. Specifically, the minority can offer a motion to recommit \"forthwith.\" where the GOP amendment is immediately voted upon and, if adopted, is added to the bill. Additionally, the minority can offer a straight motion to recommit the bill to committee (in which case the vote occurs on the merits of the bill itself). Mr. Speaker, the Rules Package removes term limits for Committee Chairmen from House Rules. Instead, each party should determine its own rules on the tenure of Committee Chairs and/or Ranking Membersand they should be reflected in Democratic Caucus Rules and Republican Conference Rules. In practice, term limits have resulted in the creation of a \"paytoplay\" system, where the chief criterion for being selected as a new Chair has in many instances been a Members fundraising prowess. This had the effect of focusing upon fundraising and undermining the integrity of Congress and the legislative process. Lastly, I am pleased that the Select Committee on Energy independence and Global Warming, the Tom Lantos Human Rights Commission, and the House Democracy Assistance Commission will be continued. These entities have done tremendous work, I urge my colleagues to support the Rules Package, I believe this package restores integrity and accountability.\n",
            "\n",
            "Mr. Speaker, I rise today in support of H. Res, 1648, the annual National Adoption Day and National Adoption month resolution, I would like to thank my colleagues on the House Ways and Means Committee for their work to bring this resolution to the Floor, and I want to commend in particular, my friend JIM MCDERMOTT, the Chairman of the Income Security and Family Support Subcommittee, for his leadership on adoption, foster care and child welfare issues. Adoption has been an essential part of my life and legislative service since 1968, when my late wife. Jo, unsuccessful in our hope for biological children, turned enthusiastically to adoption. Like all prospective adoptive parents, we completed the paperwork and the home study processwhich every adoptive parent can remember. We were overjoyed to welcome home our adorable 3week old son Ted in 1968. Jo and I had no doubt that since we made the decision to accept as our own, one of Gods children, that He blessed us with Noelle. Annie and Monica. For these past 36 years, I have reveled in wearing my legislative hat, as a Member of Congress, as an advocate for effective public policy to eliminate the barriers to adoption and the need to work on behalf of children and families to promote this lifeaffirming experience. Adoption has made enormous strides in these 36 years. In the late 1970s, I had the opportunity to bend the ear of President Carter with my radical proposal for an adoption deduction that would be equivalent to the cost of childbirth. In the 1980s, I joined with my former colleague. Tom Bliley, to create the Congressional Coalition on Adoption. In the 1990s, we enacted the $5.000 tax credit for adoption and in 2001, we were successful in doubling the adoption tax credit to $10.000. That same year, we created CCAI, the Congressional Coalition on Adoption Institute, to enhance our adoption advocacy. As part of that advocacy. CCAI is one of the sponsoring organizations for National Adoption Day that celebrates the adoption finalization for thousands of families. National Adoption Day also raises awareness for the 114.000 children in foster care who are available for adoption and are seeking their \"forever family.\" I also want to commend the following sponsors for their leadership in promoting National Adoption Day: The Alliance for Childrens Rights. Casey Family services. Childrens Action Network, the Dave Thomas Foundation for Adoption, and the Freddie Mac Foundation, I also want to express my appreciation for the work of my Legislative Director. Chip Gardiner, who has been a great advocate for the cause of adoption for the past 25 years. It is fitting and proper for the House of Representatives to approve this resolution in November which is National Adoption Month and National Adoption Day which will take place this year on Saturday. November 20. As families prepare to celebrate Thanksgiving next week. National Adoption Day is held the Saturday before Thanksgiving as we celebrate this very special day when the dream of family has been realized for so many Americans. This year, more than 350 events will take place across all 50 states and Washington. D.C, to finalize over 4.500 adoptions from foster care. When I have the opportunity to share my personal experience of adoption, I am reminded of the words of the Nobel Prizewinning Chilean poet. Gabriella Mistral. \"We are guilty of many errors and faults, but our worst crime is abandoning children, neglecting the fountain of life. Many things we need can wait, the child cannot. To the child, we cannot answer: Tomorrow The childs name is Today!\" Today, let us reaffirm our support to assist the thousands of children in America in foster care who seek the love, support and stability of a family.\n",
            "\n",
            "Mr. President, in accordance with rule XXVI(2) of the Standing Rules of the Senate. Senator ISAKSON and I ask, unanimous consent that the Rules of Procedure of the Select Committee on Ethics, which were adopted February 23, 1978, and revised November 1999, be printed in the CONGRESSIONAL RECORD for the 111th Congress. The committee procedural rules for the 111th Congress are identical to the procedural rules adopted by the committee for the 110th Congress.\n",
            "\n",
            "Question: What do you believe about tax increases?\n",
            "Party: R\n",
            "So what the gentleman is telling me is that if Congress does nothing, there will automatically be a marriage penalty increase. Child deductions will go down. There will be another death tax increase. There will be a capital gains tax increase, a dividend tax increase. Unless we do something proactive, it will automatically happen.\n",
            "\n",
            "I would say to my friend from Texas. Senator HUTCHISON, that as we have examined this legislation and have looked at its cost and its benefits and how that is distributed over time, it has become clear that what the other side has tried to dothe Democrats have tried to dowith this bill is understate its true cost by frontloading the tax increases and backloading the spending. In other words, the tax increases kick in right away, when much of the benefit of the bill does not kick in for several years. So I want to point something out, just to illustrate what the Senator from Texas has said, that is, the tax Increases in the bill begin on January 1 of this year. So 21 days from now. Americans, individuals, families, and small businesses are going to see their taxes go up. Unfortunately, they are not going to see any benefit come until 1.482 days later. What that, in effect, does is it understates the total cost of this legislation. They have said: We want to get this under $1 trillion. The President said: I need a bill under $1 trillion. So they have tried to come up with a bill that is about $1 trillion. But what they do not tell you is that by delaying the benefits and frontloading the tax increases, you are actually going to have a 4- or 5year period where people are having to experience tax increases. That is going to impact the small businesses because you have a Medicare payroll tax increase, which, by the way, for the first time, will not be used for Medicare but will be used to create a whole new entitlement health care program. You have an employer mandate which is going to hit small businesses. You have the tax on medical device manufacturers, on prescription drugs, on health plans. You have all these taxes that kick in right away. So what happens? These taxes get passed on to the consumers in this country in the form of higher premiums, so people are going to see their premiums go up. Small businesses are going to see their taxes go up immediatelywell, 21 days from now. But Americans are not going to see any benefit from this for 1.482 days. So what we have is a gimmick that has been used to disguise the total cost of this bill, which we all know when fully implemented is not $1 trillion but $2.5 trillion. So the Senator from Texas and I have a motion, which I believe is supported by the Senator from Wyoming, who is in the Chamber, that would delay the tax increases until such time as the benefits begin so we synchronize or align the tax increases and the fees to begin at the same time the benefits do so we will reflect the true cost of this legislation to the American people and not unfairly begin punishing small businesses by raising their taxes before a single dollar of benefit is going to be distributed to the American people.\n",
            "\n",
            "If the gentleman will yield, that means if you dont think putting the alternative minimum tax on $26 million households isnt a tax increase, then maybe youre right. If you dont think raising the dividends tax by 100 percent, the capital gains tax by 33 percent, and income tax rates across the board is not a tax increase, then by your definition that might be a tax cut. What youre doing is youre playing baseline mumbo jumbo. Youre saying were going to assume all these massive tax increases in America. Oh, and ours are going to be a little lower than that, but theyre still going to be up, and its a tax cut. Thats baseline mumbo jumbo. The point is thisthe budget youre bringing to the floor raises taxes.\n",
            "\n",
            "Party: D\n",
            "Madam Speaker, I think someone who sells real estate or teaches school for a living must listen to this budget debate and be befuddled by what he or she is hearing. Thankfully, today there will be a chance for that citizen to hear a wide range of alternatives, a wide range of views as to how we should fix the countrys economic problems. For that, I commend the Rules Committee under Ms. SLAUGHTERs and Mr. MCGOVERNS leadership, and I hope the minority will vote for the procedure that lets that wide range of views be heard. But that person who teaches school or sells real estate has heard consistently from the minority that their household will get a $3.000ayear tax increase. That isnt so. The fact of the matter is that the hypothetical, mythical energy tax that the minority continuously refers to is not in the budget. If there ever were to be such a tax, it would have to come to this floor for a separate vote, a separate debate and separate consideration. The minority habitually says that small businesses and families will have their taxes increase. The fact of the matter is there are instructions to pay for health care that would probably look to repeal the Bush tax cut for the wealthiest 5 percent of people in this country, a platform the President ran on and was elected on. It is absolutely untrue that the 95 percent below that figure have any sort of tax increase. They dont. In fact, there is a $1.7 trillion tax reduction for the bottom 95 percent of people in this country, for middleclass people. We hear that small businesses are going to have their taxes increase. That is not true. Ninetyeight percent of the small businesses in this country file tax returns lower than the adjusted gross income that would be affected by the provisions that would help pay for the health care bill. We hear habitually about deficit and debt, and those on the minority side gnash their teeth and weep that the debt, according to them, will be doubled in 5 years. They know all about that, because that is exactly what they just did. They just doubled the national debt in the last 5 years under their watch.\n",
            "\n",
            "I thank the distinguished Senator. That was one of the more intriguing half hours we have spent in the Senate in a long time, I might add, it is sort of interesting that we are haggling about an amendment which raises one of those great red herrings on the subject of global climate change and cap and trade because we already have a capandtrade system in America. It is not an automatic tax increase. It is not going to, if properly structured, result in a tax increase. We like to tilt against goblins around here sometimes. This is one of those amendments that do that in a very political way, I ask that amendment No, 732 be called up.\n",
            "\n",
            "for her very, very interesting and thoughtful approach to this issue, I associate myself with the remarks she made when she said she doesnt like this measure, I associate myself with her in that in saying I dont like this measure that is before us. Mr. Speaker. But I like even less the idea of our imposing a tax increase on every single American who pays their income taxes, I believe that that would have a deleterious effect to the goal that we as Democrats and Republicans alike share. What is the message that we have gotten over and over and over again and the message that was sent this past November 2? It was create jobs, focus on economic growth, make sure that we can do everything that we possibly can to look at those Americans who are hurting today, and make sure that they have an opportunity to get onto the first rung of the economic ladder. That is the driving message. Obviously, a very important part of that is going to be to reduce the size and scope and reach of the Federal Government, which has undermined the ability for job creation and economic growth to take place. Now, when I say I dont like this measure that is before us, I dont like the fact, and many of my Republican colleagues have raised thisMr. FLAKE just raised concerns about the ethanol subsidies, I dont like the fact that we have unemployment benefits that are extended without being paid for, I dont like a number of the provisions here. But we are in the midst of a very fragile economic recovery at this juncture, and I will tell you, mark my words. Mr. Speaker, beginning in January we are going to focus on cutting spending, I have just come from a meeting with a number of my colleagues, and we are determined to focus on that. That is why it is imperative that today we recognize that the issue that is before us is going to actually be helpful in our quest to deal with job creation and economic growth, I congratulate President Obama for working in a bipartisan way to address this issue. In fact, I said in the last campaign that one of my priorities was to work to make President Obama a better President, I believe the fact that he has moved towards recognizing that a progrowth economic policy has direct ties to the level of taxation imposed on working Americans and job creators is a positive sign, and I believe that moves him in the direction of being a better President, I also have been encouraged by the fact that he wants to create jobs by opening up new markets around the world, I gave a 1minute speech this morning talking about the importance of the key U.S.-Korea free trade agreement the President supports and I hope will send to us very soon. It will be the largest bilateral free trade agreement in the history of the world, when you look at the size of our economies. That is something that the President is supporting and I believe we will be able to work on in a bipartisan way. So. Mr. Speaker, the notion of seeing President Obama shifting to the John F. Kennedy vision and the Ronald Reagan vision on economic growth is a very encouraging indicator to me and many of our colleagues, and should be for the American people as well. Now, again I will say that Ms. SLAUGHTER is absolutely right, we dont like this measure. But the idea of increasing taxes is something that is anathema to the vision of economic growth and job creation. And it is not just conservative economists who say that, it is not just the supplysiders, of which I consider myself to be one. Keynesian economists. Mr. Speaker. Keynesian economists, those who subscribe to the view of John Maynard Keynes, who lived until 1950, recognizing and focusing on the issue of spending, those who subscribe to the Keynesian view recognize that increasing taxes on anyone when you are dealing with slow economic growth is a prescription for exacerbating, exacerbating, the problems that you are trying to address. Mr. Speaker, I have been in the midst of bipartisan discussions over the past several days with a number of my colleagues on the recognition that we have to say that Democrats should recognize that spending cuts need to take place and Republicans need to recognize that tax increases need to take place. It is an interesting discussion, and many argue that that is sort of the giveandtake we have. But I think it is important as we look at this issue to harken back on history. Next month I will begin my fourth decade here, and I will say that there was a study done in my first decade, during the 1980s, by two professors from Ohio University. Professors Vedder and Gallaway. Their study looked at the impact of tax increases in the quest to try to reduce spending and the size and scope of government and deal with the problem that Democrats and Republicans alike regularly decry, that being the expansion of government, 56. Pt, 15 22391 Well, their study was known as the $1.58 Study. What it showed. Mr. Speaker, was that every time there was $1 in taxes increased, the Federal Government increased spending by $1.58. Now, I remember one of the first measures that I voted against was known as the Tax Equity and Fiscal Responsibility Act of 1982, and in that measure they said there would be $3 in spending cuts for every $1 in taxes increased. Mr. Speaker, as we are here today just days before Christmas, going back to 1982 we got the $98.5 billion tax increase included in that, but we are still waiting for those $3 in spending cuts. The VedderGallaway study made it very, very clear, looking on many occasions, the 1990 increase and other studies done since then have shown for every $1 in taxes increased, spending has increased from $1.05 to $1.81, and this is outlined in a piece that was done by Professor Vedder and Stephen Moore in The Wall Street Journal this week. So our notion of saying that increasing taxes is going to deal with the deficit problem is again a specious argument. Now, many argue that the tax that exists on job creators, those at the upper end, will create a great drain on the Federal Treasury. But if we are going to focus again on job creation and economic growth. Mr. Speaker, I am convinced, based on the vision put forth by Professor Arthur Laffer and many others, that the economic growth that will follow keeping those rates low on job creators will actually increase the flow of revenues to the Federal treasury, and keeping those top rates low, capital gains and dividend rates low, will spur the growth that will create jobs, and many people who today are not working and are in fact receiving unemployment benefits will have opportunity, and they will be joining the productive side of the economy and generating that flow of revenues to the Federal Treasury that we obviously desperately need. Mr. Speaker, the American people have been asking us to do this for a long period of time. My colleagues have had an opportunity to do it for a long period of time. Unfortunately, here we are just 2 weeks, just 2 weeks before the end of the year, and 2 weeks before the largest income tax rate increase that we have seen in many a year is scheduled to take place. So while there is much to criticize about this measure, and I could easily vote against it, I believe that the right vote for us to cast is a vote which will ensure that we continue down the road towards job creation and economic growth and allowing the American people to keep more of what theyve earned. Mr. Speaker, I reserve the balance of my time.\n",
            "\n"
          ],
          "name": "stdout"
        }
      ]
    },
    {
      "cell_type": "code",
      "metadata": {
        "id": "CdPdcf-uG3yS",
        "colab_type": "code",
        "colab": {}
      },
      "source": [
        ""
      ],
      "execution_count": null,
      "outputs": []
    }
  ]
}