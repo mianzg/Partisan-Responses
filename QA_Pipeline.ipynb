{
  "nbformat": 4,
  "nbformat_minor": 0,
  "metadata": {
    "colab": {
      "name": "QA_Pipeline.ipynb",
      "provenance": [],
      "collapsed_sections": [],
      "include_colab_link": true
    },
    "kernelspec": {
      "name": "python3",
      "display_name": "Python 3"
    },
    "accelerator": "GPU"
  },
  "cells": [
    {
      "cell_type": "markdown",
      "metadata": {
        "id": "view-in-github",
        "colab_type": "text"
      },
      "source": [
        "<a href=\"https://colab.research.google.com/github/rostro36/Partisan-Responses/blob/master/QA_Pipeline.ipynb\" target=\"_parent\"><img src=\"https://colab.research.google.com/assets/colab-badge.svg\" alt=\"Open In Colab\"/></a>"
      ]
    },
    {
      "cell_type": "code",
      "metadata": {
        "id": "vmCthZqgCf6N",
        "colab_type": "code",
        "colab": {
          "base_uri": "https://localhost:8080/",
          "height": 34
        },
        "outputId": "8297065e-25fb-47fa-f729-5317e3234ec5"
      },
      "source": [
        "from google.colab import drive\n",
        "drive.mount('/content/drive')\n",
        "\n",
        "import os\n",
        "os.chdir('/content/drive/My Drive/Partisan-Responses-master')\n"
      ],
      "execution_count": 1,
      "outputs": [
        {
          "output_type": "stream",
          "text": [
            "Drive already mounted at /content/drive; to attempt to forcibly remount, call drive.mount(\"/content/drive\", force_remount=True).\n"
          ],
          "name": "stdout"
        }
      ]
    },
    {
      "cell_type": "code",
      "metadata": {
        "id": "bTX7NlwGoTeO",
        "colab_type": "code",
        "colab": {
          "base_uri": "https://localhost:8080/",
          "height": 1000
        },
        "outputId": "d5f1e6bf-735b-41eb-d33e-331e5a4925cc"
      },
      "source": [
        "# Install libraries if needed\n",
        "#! pip install transformers\n",
        "#! pip install allennlp allennlp-models\n",
        "#! pip install hnswlib\n",
        "#! pip install wandb\n",
        "#! pip install neuralcoref"
      ],
      "execution_count": 3,
      "outputs": [
        {
          "output_type": "stream",
          "text": [
            "Collecting wandb\n",
            "\u001b[?25l  Downloading https://files.pythonhosted.org/packages/b4/8c/683d6112dfeaca2c6bc47ef6b4a92b60a310e5054df90bd8d920d6c7a275/wandb-0.9.3-py2.py3-none-any.whl (1.4MB)\n",
            "\r\u001b[K     |▎                               | 10kB 16.4MB/s eta 0:00:01\r\u001b[K     |▌                               | 20kB 5.1MB/s eta 0:00:01\r\u001b[K     |▊                               | 30kB 5.5MB/s eta 0:00:01\r\u001b[K     |█                               | 40kB 5.1MB/s eta 0:00:01\r\u001b[K     |█▏                              | 51kB 4.9MB/s eta 0:00:01\r\u001b[K     |█▍                              | 61kB 5.4MB/s eta 0:00:01\r\u001b[K     |█▋                              | 71kB 5.7MB/s eta 0:00:01\r\u001b[K     |█▉                              | 81kB 5.8MB/s eta 0:00:01\r\u001b[K     |██                              | 92kB 5.7MB/s eta 0:00:01\r\u001b[K     |██▎                             | 102kB 5.9MB/s eta 0:00:01\r\u001b[K     |██▌                             | 112kB 5.9MB/s eta 0:00:01\r\u001b[K     |██▊                             | 122kB 5.9MB/s eta 0:00:01\r\u001b[K     |███                             | 133kB 5.9MB/s eta 0:00:01\r\u001b[K     |███▎                            | 143kB 5.9MB/s eta 0:00:01\r\u001b[K     |███▌                            | 153kB 5.9MB/s eta 0:00:01\r\u001b[K     |███▊                            | 163kB 5.9MB/s eta 0:00:01\r\u001b[K     |████                            | 174kB 5.9MB/s eta 0:00:01\r\u001b[K     |████▏                           | 184kB 5.9MB/s eta 0:00:01\r\u001b[K     |████▍                           | 194kB 5.9MB/s eta 0:00:01\r\u001b[K     |████▋                           | 204kB 5.9MB/s eta 0:00:01\r\u001b[K     |████▉                           | 215kB 5.9MB/s eta 0:00:01\r\u001b[K     |█████                           | 225kB 5.9MB/s eta 0:00:01\r\u001b[K     |█████▎                          | 235kB 5.9MB/s eta 0:00:01\r\u001b[K     |█████▌                          | 245kB 5.9MB/s eta 0:00:01\r\u001b[K     |█████▉                          | 256kB 5.9MB/s eta 0:00:01\r\u001b[K     |██████                          | 266kB 5.9MB/s eta 0:00:01\r\u001b[K     |██████▎                         | 276kB 5.9MB/s eta 0:00:01\r\u001b[K     |██████▌                         | 286kB 5.9MB/s eta 0:00:01\r\u001b[K     |██████▊                         | 296kB 5.9MB/s eta 0:00:01\r\u001b[K     |███████                         | 307kB 5.9MB/s eta 0:00:01\r\u001b[K     |███████▏                        | 317kB 5.9MB/s eta 0:00:01\r\u001b[K     |███████▍                        | 327kB 5.9MB/s eta 0:00:01\r\u001b[K     |███████▋                        | 337kB 5.9MB/s eta 0:00:01\r\u001b[K     |███████▉                        | 348kB 5.9MB/s eta 0:00:01\r\u001b[K     |████████                        | 358kB 5.9MB/s eta 0:00:01\r\u001b[K     |████████▎                       | 368kB 5.9MB/s eta 0:00:01\r\u001b[K     |████████▋                       | 378kB 5.9MB/s eta 0:00:01\r\u001b[K     |████████▉                       | 389kB 5.9MB/s eta 0:00:01\r\u001b[K     |█████████                       | 399kB 5.9MB/s eta 0:00:01\r\u001b[K     |█████████▎                      | 409kB 5.9MB/s eta 0:00:01\r\u001b[K     |█████████▌                      | 419kB 5.9MB/s eta 0:00:01\r\u001b[K     |█████████▊                      | 430kB 5.9MB/s eta 0:00:01\r\u001b[K     |██████████                      | 440kB 5.9MB/s eta 0:00:01\r\u001b[K     |██████████▏                     | 450kB 5.9MB/s eta 0:00:01\r\u001b[K     |██████████▍                     | 460kB 5.9MB/s eta 0:00:01\r\u001b[K     |██████████▋                     | 471kB 5.9MB/s eta 0:00:01\r\u001b[K     |██████████▉                     | 481kB 5.9MB/s eta 0:00:01\r\u001b[K     |███████████                     | 491kB 5.9MB/s eta 0:00:01\r\u001b[K     |███████████▍                    | 501kB 5.9MB/s eta 0:00:01\r\u001b[K     |███████████▋                    | 512kB 5.9MB/s eta 0:00:01\r\u001b[K     |███████████▉                    | 522kB 5.9MB/s eta 0:00:01\r\u001b[K     |████████████                    | 532kB 5.9MB/s eta 0:00:01\r\u001b[K     |████████████▎                   | 542kB 5.9MB/s eta 0:00:01\r\u001b[K     |████████████▌                   | 552kB 5.9MB/s eta 0:00:01\r\u001b[K     |████████████▊                   | 563kB 5.9MB/s eta 0:00:01\r\u001b[K     |█████████████                   | 573kB 5.9MB/s eta 0:00:01\r\u001b[K     |█████████████▏                  | 583kB 5.9MB/s eta 0:00:01\r\u001b[K     |█████████████▍                  | 593kB 5.9MB/s eta 0:00:01\r\u001b[K     |█████████████▋                  | 604kB 5.9MB/s eta 0:00:01\r\u001b[K     |█████████████▉                  | 614kB 5.9MB/s eta 0:00:01\r\u001b[K     |██████████████▏                 | 624kB 5.9MB/s eta 0:00:01\r\u001b[K     |██████████████▍                 | 634kB 5.9MB/s eta 0:00:01\r\u001b[K     |██████████████▋                 | 645kB 5.9MB/s eta 0:00:01\r\u001b[K     |██████████████▉                 | 655kB 5.9MB/s eta 0:00:01\r\u001b[K     |███████████████                 | 665kB 5.9MB/s eta 0:00:01\r\u001b[K     |███████████████▎                | 675kB 5.9MB/s eta 0:00:01\r\u001b[K     |███████████████▌                | 686kB 5.9MB/s eta 0:00:01\r\u001b[K     |███████████████▊                | 696kB 5.9MB/s eta 0:00:01\r\u001b[K     |████████████████                | 706kB 5.9MB/s eta 0:00:01\r\u001b[K     |████████████████▏               | 716kB 5.9MB/s eta 0:00:01\r\u001b[K     |████████████████▍               | 727kB 5.9MB/s eta 0:00:01\r\u001b[K     |████████████████▋               | 737kB 5.9MB/s eta 0:00:01\r\u001b[K     |█████████████████               | 747kB 5.9MB/s eta 0:00:01\r\u001b[K     |█████████████████▏              | 757kB 5.9MB/s eta 0:00:01\r\u001b[K     |█████████████████▍              | 768kB 5.9MB/s eta 0:00:01\r\u001b[K     |█████████████████▋              | 778kB 5.9MB/s eta 0:00:01\r\u001b[K     |█████████████████▉              | 788kB 5.9MB/s eta 0:00:01\r\u001b[K     |██████████████████              | 798kB 5.9MB/s eta 0:00:01\r\u001b[K     |██████████████████▎             | 808kB 5.9MB/s eta 0:00:01\r\u001b[K     |██████████████████▌             | 819kB 5.9MB/s eta 0:00:01\r\u001b[K     |██████████████████▊             | 829kB 5.9MB/s eta 0:00:01\r\u001b[K     |███████████████████             | 839kB 5.9MB/s eta 0:00:01\r\u001b[K     |███████████████████▏            | 849kB 5.9MB/s eta 0:00:01\r\u001b[K     |███████████████████▍            | 860kB 5.9MB/s eta 0:00:01\r\u001b[K     |███████████████████▊            | 870kB 5.9MB/s eta 0:00:01\r\u001b[K     |████████████████████            | 880kB 5.9MB/s eta 0:00:01\r\u001b[K     |████████████████████▏           | 890kB 5.9MB/s eta 0:00:01\r\u001b[K     |████████████████████▍           | 901kB 5.9MB/s eta 0:00:01\r\u001b[K     |████████████████████▋           | 911kB 5.9MB/s eta 0:00:01\r\u001b[K     |████████████████████▉           | 921kB 5.9MB/s eta 0:00:01\r\u001b[K     |█████████████████████           | 931kB 5.9MB/s eta 0:00:01\r\u001b[K     |█████████████████████▎          | 942kB 5.9MB/s eta 0:00:01\r\u001b[K     |█████████████████████▌          | 952kB 5.9MB/s eta 0:00:01\r\u001b[K     |█████████████████████▊          | 962kB 5.9MB/s eta 0:00:01\r\u001b[K     |██████████████████████          | 972kB 5.9MB/s eta 0:00:01\r\u001b[K     |██████████████████████▏         | 983kB 5.9MB/s eta 0:00:01\r\u001b[K     |██████████████████████▌         | 993kB 5.9MB/s eta 0:00:01\r\u001b[K     |██████████████████████▊         | 1.0MB 5.9MB/s eta 0:00:01\r\u001b[K     |███████████████████████         | 1.0MB 5.9MB/s eta 0:00:01\r\u001b[K     |███████████████████████▏        | 1.0MB 5.9MB/s eta 0:00:01\r\u001b[K     |███████████████████████▍        | 1.0MB 5.9MB/s eta 0:00:01\r\u001b[K     |███████████████████████▋        | 1.0MB 5.9MB/s eta 0:00:01\r\u001b[K     |███████████████████████▉        | 1.1MB 5.9MB/s eta 0:00:01\r\u001b[K     |████████████████████████        | 1.1MB 5.9MB/s eta 0:00:01\r\u001b[K     |████████████████████████▎       | 1.1MB 5.9MB/s eta 0:00:01\r\u001b[K     |████████████████████████▌       | 1.1MB 5.9MB/s eta 0:00:01\r\u001b[K     |████████████████████████▊       | 1.1MB 5.9MB/s eta 0:00:01\r\u001b[K     |█████████████████████████       | 1.1MB 5.9MB/s eta 0:00:01\r\u001b[K     |█████████████████████████▎      | 1.1MB 5.9MB/s eta 0:00:01\r\u001b[K     |█████████████████████████▌      | 1.1MB 5.9MB/s eta 0:00:01\r\u001b[K     |█████████████████████████▊      | 1.1MB 5.9MB/s eta 0:00:01\r\u001b[K     |██████████████████████████      | 1.1MB 5.9MB/s eta 0:00:01\r\u001b[K     |██████████████████████████▏     | 1.2MB 5.9MB/s eta 0:00:01\r\u001b[K     |██████████████████████████▍     | 1.2MB 5.9MB/s eta 0:00:01\r\u001b[K     |██████████████████████████▋     | 1.2MB 5.9MB/s eta 0:00:01\r\u001b[K     |██████████████████████████▉     | 1.2MB 5.9MB/s eta 0:00:01\r\u001b[K     |███████████████████████████     | 1.2MB 5.9MB/s eta 0:00:01\r\u001b[K     |███████████████████████████▎    | 1.2MB 5.9MB/s eta 0:00:01\r\u001b[K     |███████████████████████████▌    | 1.2MB 5.9MB/s eta 0:00:01\r\u001b[K     |███████████████████████████▊    | 1.2MB 5.9MB/s eta 0:00:01\r\u001b[K     |████████████████████████████    | 1.2MB 5.9MB/s eta 0:00:01\r\u001b[K     |████████████████████████████▎   | 1.2MB 5.9MB/s eta 0:00:01\r\u001b[K     |████████████████████████████▌   | 1.3MB 5.9MB/s eta 0:00:01\r\u001b[K     |████████████████████████████▊   | 1.3MB 5.9MB/s eta 0:00:01\r\u001b[K     |█████████████████████████████   | 1.3MB 5.9MB/s eta 0:00:01\r\u001b[K     |█████████████████████████████▏  | 1.3MB 5.9MB/s eta 0:00:01\r\u001b[K     |█████████████████████████████▍  | 1.3MB 5.9MB/s eta 0:00:01\r\u001b[K     |█████████████████████████████▋  | 1.3MB 5.9MB/s eta 0:00:01\r\u001b[K     |█████████████████████████████▉  | 1.3MB 5.9MB/s eta 0:00:01\r\u001b[K     |██████████████████████████████  | 1.3MB 5.9MB/s eta 0:00:01\r\u001b[K     |██████████████████████████████▎ | 1.3MB 5.9MB/s eta 0:00:01\r\u001b[K     |██████████████████████████████▌ | 1.4MB 5.9MB/s eta 0:00:01\r\u001b[K     |██████████████████████████████▉ | 1.4MB 5.9MB/s eta 0:00:01\r\u001b[K     |███████████████████████████████ | 1.4MB 5.9MB/s eta 0:00:01\r\u001b[K     |███████████████████████████████▎| 1.4MB 5.9MB/s eta 0:00:01\r\u001b[K     |███████████████████████████████▌| 1.4MB 5.9MB/s eta 0:00:01\r\u001b[K     |███████████████████████████████▊| 1.4MB 5.9MB/s eta 0:00:01\r\u001b[K     |████████████████████████████████| 1.4MB 5.9MB/s eta 0:00:01\r\u001b[K     |████████████████████████████████| 1.4MB 5.9MB/s \n",
            "\u001b[?25hCollecting shortuuid>=0.5.0\n",
            "  Downloading https://files.pythonhosted.org/packages/25/a6/2ecc1daa6a304e7f1b216f0896b26156b78e7c38e1211e9b798b4716c53d/shortuuid-1.0.1-py3-none-any.whl\n",
            "Collecting subprocess32>=3.5.3\n",
            "\u001b[?25l  Downloading https://files.pythonhosted.org/packages/32/c8/564be4d12629b912ea431f1a50eb8b3b9d00f1a0b1ceff17f266be190007/subprocess32-3.5.4.tar.gz (97kB)\n",
            "\u001b[K     |████████████████████████████████| 102kB 11.4MB/s \n",
            "\u001b[?25hRequirement already satisfied: PyYAML>=3.10 in /usr/local/lib/python3.6/dist-packages (from wandb) (3.13)\n",
            "Requirement already satisfied: requests>=2.0.0 in /usr/local/lib/python3.6/dist-packages (from wandb) (2.23.0)\n",
            "Requirement already satisfied: six>=1.10.0 in /usr/local/lib/python3.6/dist-packages (from wandb) (1.15.0)\n",
            "Collecting GitPython>=1.0.0\n",
            "\u001b[?25l  Downloading https://files.pythonhosted.org/packages/f9/1e/a45320cab182bf1c8656107b3d4c042e659742822fc6bff150d769a984dd/GitPython-3.1.7-py3-none-any.whl (158kB)\n",
            "\u001b[K     |████████████████████████████████| 163kB 29.8MB/s \n",
            "\u001b[?25hRequirement already satisfied: nvidia-ml-py3>=7.352.0 in /usr/local/lib/python3.6/dist-packages (from wandb) (7.352.0)\n",
            "Collecting sentry-sdk>=0.4.0\n",
            "\u001b[?25l  Downloading https://files.pythonhosted.org/packages/19/2a/5461e1fe0026d6eab10571f81d052894328e97f15614abb6a576c65bc82d/sentry_sdk-0.16.2-py2.py3-none-any.whl (109kB)\n",
            "\u001b[K     |████████████████████████████████| 112kB 30.8MB/s \n",
            "\u001b[?25hCollecting gql==0.2.0\n",
            "  Downloading https://files.pythonhosted.org/packages/c4/6f/cf9a3056045518f06184e804bae89390eb706168349daa9dff8ac609962a/gql-0.2.0.tar.gz\n",
            "Requirement already satisfied: psutil>=5.0.0 in /usr/local/lib/python3.6/dist-packages (from wandb) (5.4.8)\n",
            "Collecting docker-pycreds>=0.4.0\n",
            "  Downloading https://files.pythonhosted.org/packages/f5/e8/f6bd1eee09314e7e6dee49cbe2c5e22314ccdb38db16c9fc72d2fa80d054/docker_pycreds-0.4.0-py2.py3-none-any.whl\n",
            "Requirement already satisfied: Click>=7.0 in /usr/local/lib/python3.6/dist-packages (from wandb) (7.1.2)\n",
            "Collecting configparser>=3.8.1\n",
            "  Downloading https://files.pythonhosted.org/packages/4b/6b/01baa293090240cf0562cc5eccb69c6f5006282127f2b846fad011305c79/configparser-5.0.0-py3-none-any.whl\n",
            "Requirement already satisfied: python-dateutil>=2.6.1 in /usr/local/lib/python3.6/dist-packages (from wandb) (2.8.1)\n",
            "Collecting watchdog>=0.8.3\n",
            "\u001b[?25l  Downloading https://files.pythonhosted.org/packages/0e/06/121302598a4fc01aca942d937f4a2c33430b7181137b35758913a8db10ad/watchdog-0.10.3.tar.gz (94kB)\n",
            "\u001b[K     |████████████████████████████████| 102kB 11.1MB/s \n",
            "\u001b[?25hRequirement already satisfied: certifi>=2017.4.17 in /usr/local/lib/python3.6/dist-packages (from requests>=2.0.0->wandb) (2020.6.20)\n",
            "Requirement already satisfied: chardet<4,>=3.0.2 in /usr/local/lib/python3.6/dist-packages (from requests>=2.0.0->wandb) (3.0.4)\n",
            "Requirement already satisfied: idna<3,>=2.5 in /usr/local/lib/python3.6/dist-packages (from requests>=2.0.0->wandb) (2.10)\n",
            "Requirement already satisfied: urllib3!=1.25.0,!=1.25.1,<1.26,>=1.21.1 in /usr/local/lib/python3.6/dist-packages (from requests>=2.0.0->wandb) (1.24.3)\n",
            "Collecting gitdb<5,>=4.0.1\n",
            "\u001b[?25l  Downloading https://files.pythonhosted.org/packages/48/11/d1800bca0a3bae820b84b7d813ad1eff15a48a64caea9c823fc8c1b119e8/gitdb-4.0.5-py3-none-any.whl (63kB)\n",
            "\u001b[K     |████████████████████████████████| 71kB 7.9MB/s \n",
            "\u001b[?25hCollecting graphql-core<2,>=0.5.0\n",
            "\u001b[?25l  Downloading https://files.pythonhosted.org/packages/b0/89/00ad5e07524d8c523b14d70c685e0299a8b0de6d0727e368c41b89b7ed0b/graphql-core-1.1.tar.gz (70kB)\n",
            "\u001b[K     |████████████████████████████████| 71kB 8.1MB/s \n",
            "\u001b[?25hRequirement already satisfied: promise<3,>=2.0 in /usr/local/lib/python3.6/dist-packages (from gql==0.2.0->wandb) (2.3)\n",
            "Collecting pathtools>=0.1.1\n",
            "  Downloading https://files.pythonhosted.org/packages/e7/7f/470d6fcdf23f9f3518f6b0b76be9df16dcc8630ad409947f8be2eb0ed13a/pathtools-0.1.2.tar.gz\n",
            "Collecting smmap<4,>=3.0.1\n",
            "  Downloading https://files.pythonhosted.org/packages/b0/9a/4d409a6234eb940e6a78dfdfc66156e7522262f5f2fecca07dc55915952d/smmap-3.0.4-py2.py3-none-any.whl\n",
            "Building wheels for collected packages: subprocess32, gql, watchdog, graphql-core, pathtools\n",
            "  Building wheel for subprocess32 (setup.py) ... \u001b[?25l\u001b[?25hdone\n",
            "  Created wheel for subprocess32: filename=subprocess32-3.5.4-cp36-none-any.whl size=6489 sha256=a23745b2f7fe37af7859f052218c52d9e5b7c9dbc3e64b4334aaee5183a85881\n",
            "  Stored in directory: /root/.cache/pip/wheels/68/39/1a/5e402bdfdf004af1786c8b853fd92f8c4a04f22aad179654d1\n",
            "  Building wheel for gql (setup.py) ... \u001b[?25l\u001b[?25hdone\n",
            "  Created wheel for gql: filename=gql-0.2.0-cp36-none-any.whl size=7630 sha256=6ba1a7beb9f36d8272a9d1591f2f1dfff0b1ef88da903c7888d07c72e608eb51\n",
            "  Stored in directory: /root/.cache/pip/wheels/ce/0e/7b/58a8a5268655b3ad74feef5aa97946f0addafb3cbb6bd2da23\n",
            "  Building wheel for watchdog (setup.py) ... \u001b[?25l\u001b[?25hdone\n",
            "  Created wheel for watchdog: filename=watchdog-0.10.3-cp36-none-any.whl size=73870 sha256=de798bb37377a548ae585192eb069b6cc7228a12d562ba3c2b4036542a378ceb\n",
            "  Stored in directory: /root/.cache/pip/wheels/a8/1d/38/2c19bb311f67cc7b4d07a2ec5ea36ab1a0a0ea50db994a5bc7\n",
            "  Building wheel for graphql-core (setup.py) ... \u001b[?25l\u001b[?25hdone\n",
            "  Created wheel for graphql-core: filename=graphql_core-1.1-cp36-none-any.whl size=104650 sha256=2d4023cf69bf349bedf01199747f12e619987324e89fa61e0302186d887c013e\n",
            "  Stored in directory: /root/.cache/pip/wheels/45/99/d7/c424029bb0fe910c63b68dbf2aa20d3283d023042521bcd7d5\n",
            "  Building wheel for pathtools (setup.py) ... \u001b[?25l\u001b[?25hdone\n",
            "  Created wheel for pathtools: filename=pathtools-0.1.2-cp36-none-any.whl size=8784 sha256=b9347619d925811366db4dfe773e0a613987425430ab640a29e078b12baf5035\n",
            "  Stored in directory: /root/.cache/pip/wheels/0b/04/79/c3b0c3a0266a3cb4376da31e5bfe8bba0c489246968a68e843\n",
            "Successfully built subprocess32 gql watchdog graphql-core pathtools\n",
            "Installing collected packages: shortuuid, subprocess32, smmap, gitdb, GitPython, sentry-sdk, graphql-core, gql, docker-pycreds, configparser, pathtools, watchdog, wandb\n",
            "Successfully installed GitPython-3.1.7 configparser-5.0.0 docker-pycreds-0.4.0 gitdb-4.0.5 gql-0.2.0 graphql-core-1.1 pathtools-0.1.2 sentry-sdk-0.16.2 shortuuid-1.0.1 smmap-3.0.4 subprocess32-3.5.4 wandb-0.9.3 watchdog-0.10.3\n"
          ],
          "name": "stdout"
        },
        {
          "output_type": "display_data",
          "data": {
            "application/vnd.colab-display-data+json": {
              "pip_warning": {
                "packages": [
                  "configparser",
                  "wandb"
                ]
              }
            }
          },
          "metadata": {
            "tags": []
          }
        },
        {
          "output_type": "stream",
          "text": [
            "Requirement already satisfied: neuralcoref in /usr/local/lib/python3.6/dist-packages (4.0)\n",
            "Requirement already satisfied: numpy>=1.15.0 in /usr/local/lib/python3.6/dist-packages (from neuralcoref) (1.18.5)\n",
            "Requirement already satisfied: boto3 in /usr/local/lib/python3.6/dist-packages (from neuralcoref) (1.14.22)\n",
            "Requirement already satisfied: spacy>=2.1.0 in /usr/local/lib/python3.6/dist-packages (from neuralcoref) (2.2.4)\n",
            "Requirement already satisfied: requests<3.0.0,>=2.13.0 in /usr/local/lib/python3.6/dist-packages (from neuralcoref) (2.23.0)\n",
            "Requirement already satisfied: s3transfer<0.4.0,>=0.3.0 in /usr/local/lib/python3.6/dist-packages (from boto3->neuralcoref) (0.3.3)\n",
            "Requirement already satisfied: botocore<1.18.0,>=1.17.22 in /usr/local/lib/python3.6/dist-packages (from boto3->neuralcoref) (1.17.22)\n",
            "Requirement already satisfied: jmespath<1.0.0,>=0.7.1 in /usr/local/lib/python3.6/dist-packages (from boto3->neuralcoref) (0.10.0)\n",
            "Requirement already satisfied: preshed<3.1.0,>=3.0.2 in /usr/local/lib/python3.6/dist-packages (from spacy>=2.1.0->neuralcoref) (3.0.2)\n",
            "Requirement already satisfied: cymem<2.1.0,>=2.0.2 in /usr/local/lib/python3.6/dist-packages (from spacy>=2.1.0->neuralcoref) (2.0.3)\n",
            "Requirement already satisfied: murmurhash<1.1.0,>=0.28.0 in /usr/local/lib/python3.6/dist-packages (from spacy>=2.1.0->neuralcoref) (1.0.2)\n",
            "Requirement already satisfied: tqdm<5.0.0,>=4.38.0 in /usr/local/lib/python3.6/dist-packages (from spacy>=2.1.0->neuralcoref) (4.41.1)\n",
            "Requirement already satisfied: plac<1.2.0,>=0.9.6 in /usr/local/lib/python3.6/dist-packages (from spacy>=2.1.0->neuralcoref) (1.1.3)\n",
            "Requirement already satisfied: wasabi<1.1.0,>=0.4.0 in /usr/local/lib/python3.6/dist-packages (from spacy>=2.1.0->neuralcoref) (0.7.1)\n",
            "Requirement already satisfied: blis<0.5.0,>=0.4.0 in /usr/local/lib/python3.6/dist-packages (from spacy>=2.1.0->neuralcoref) (0.4.1)\n",
            "Requirement already satisfied: setuptools in /usr/local/lib/python3.6/dist-packages (from spacy>=2.1.0->neuralcoref) (49.1.0)\n",
            "Requirement already satisfied: catalogue<1.1.0,>=0.0.7 in /usr/local/lib/python3.6/dist-packages (from spacy>=2.1.0->neuralcoref) (1.0.0)\n",
            "Requirement already satisfied: thinc==7.4.0 in /usr/local/lib/python3.6/dist-packages (from spacy>=2.1.0->neuralcoref) (7.4.0)\n",
            "Requirement already satisfied: srsly<1.1.0,>=1.0.2 in /usr/local/lib/python3.6/dist-packages (from spacy>=2.1.0->neuralcoref) (1.0.2)\n",
            "Requirement already satisfied: urllib3!=1.25.0,!=1.25.1,<1.26,>=1.21.1 in /usr/local/lib/python3.6/dist-packages (from requests<3.0.0,>=2.13.0->neuralcoref) (1.24.3)\n",
            "Requirement already satisfied: idna<3,>=2.5 in /usr/local/lib/python3.6/dist-packages (from requests<3.0.0,>=2.13.0->neuralcoref) (2.10)\n",
            "Requirement already satisfied: certifi>=2017.4.17 in /usr/local/lib/python3.6/dist-packages (from requests<3.0.0,>=2.13.0->neuralcoref) (2020.6.20)\n",
            "Requirement already satisfied: chardet<4,>=3.0.2 in /usr/local/lib/python3.6/dist-packages (from requests<3.0.0,>=2.13.0->neuralcoref) (3.0.4)\n",
            "Requirement already satisfied: python-dateutil<3.0.0,>=2.1 in /usr/local/lib/python3.6/dist-packages (from botocore<1.18.0,>=1.17.22->boto3->neuralcoref) (2.8.1)\n",
            "Requirement already satisfied: docutils<0.16,>=0.10 in /usr/local/lib/python3.6/dist-packages (from botocore<1.18.0,>=1.17.22->boto3->neuralcoref) (0.15.2)\n",
            "Requirement already satisfied: importlib-metadata>=0.20; python_version < \"3.8\" in /usr/local/lib/python3.6/dist-packages (from catalogue<1.1.0,>=0.0.7->spacy>=2.1.0->neuralcoref) (1.7.0)\n",
            "Requirement already satisfied: six>=1.5 in /usr/local/lib/python3.6/dist-packages (from python-dateutil<3.0.0,>=2.1->botocore<1.18.0,>=1.17.22->boto3->neuralcoref) (1.15.0)\n",
            "Requirement already satisfied: zipp>=0.5 in /usr/local/lib/python3.6/dist-packages (from importlib-metadata>=0.20; python_version < \"3.8\"->catalogue<1.1.0,>=0.0.7->spacy>=2.1.0->neuralcoref) (3.1.0)\n"
          ],
          "name": "stdout"
        }
      ]
    },
    {
      "cell_type": "markdown",
      "metadata": {
        "id": "LCuXIdqmE5df",
        "colab_type": "text"
      },
      "source": [
        "Import all libraries"
      ]
    },
    {
      "cell_type": "code",
      "metadata": {
        "id": "Zunm7WJ8EC-7",
        "colab_type": "code",
        "colab": {
          "base_uri": "https://localhost:8080/",
          "height": 207
        },
        "outputId": "08e61472-b056-474e-c48e-161c50dc332a"
      },
      "source": [
        "import numpy as np\n",
        "import pandas as pd\n",
        "import spacy\n",
        "import pickle\n",
        "import torch\n",
        "import torch.nn.functional as F\n",
        "from itertools import islice\n",
        "from transformers import pipeline, GPT2LMHeadModel, GPT2Tokenizer\n",
        "from sklearn.feature_extraction.text import TfidfVectorizer\n",
        "import nltk\n",
        "from nltk.tokenize import word_tokenize\n",
        "from nltk.stem import PorterStemmer\n",
        "from Search import Search\n",
        "from Answer import Answer\n",
        "from Speech import Speech\n",
        "from KnowledgeGraph import KnowledgeGraph\n",
        "import neuralcoref\n",
        "import re\n",
        "import gc\n",
        "import utils"
      ],
      "execution_count": 2,
      "outputs": [
        {
          "output_type": "stream",
          "text": [
            "\u001b[34m\u001b[1mwandb\u001b[0m: \u001b[33mWARNING\u001b[0m W&B installed but not logged in.  Run `wandb login` or set the WANDB_API_KEY env variable.\n",
            "INFO:absl:Using /tmp/tfhub_modules to cache modules.\n",
            "WARNING:allennlp.nn.initializers:Did not use initialization regex that was passed: _context_layer._module.weight_hh.*\n",
            "WARNING:allennlp.nn.initializers:Did not use initialization regex that was passed: _context_layer._module.weight_ih.*\n",
            "/usr/lib/python3.6/importlib/_bootstrap.py:219: RuntimeWarning: spacy.morphology.Morphology size changed, may indicate binary incompatibility. Expected 104 from C header, got 112 from PyObject\n",
            "  return f(*args, **kwds)\n",
            "/usr/lib/python3.6/importlib/_bootstrap.py:219: RuntimeWarning: spacy.vocab.Vocab size changed, may indicate binary incompatibility. Expected 96 from C header, got 104 from PyObject\n",
            "  return f(*args, **kwds)\n",
            "/usr/lib/python3.6/importlib/_bootstrap.py:219: RuntimeWarning: spacy.tokens.span.Span size changed, may indicate binary incompatibility. Expected 72 from C header, got 80 from PyObject\n",
            "  return f(*args, **kwds)\n"
          ],
          "name": "stderr"
        }
      ]
    },
    {
      "cell_type": "code",
      "metadata": {
        "id": "lyIxP4uSGgzD",
        "colab_type": "code",
        "colab": {
          "base_uri": "https://localhost:8080/",
          "height": 69
        },
        "outputId": "987425e6-a51c-45fb-fd92-3d6d89de1c73"
      },
      "source": [
        "nltk.download('punkt')"
      ],
      "execution_count": null,
      "outputs": [
        {
          "output_type": "stream",
          "text": [
            "[nltk_data] Downloading package punkt to /root/nltk_data...\n",
            "[nltk_data]   Unzipping tokenizers/punkt.zip.\n"
          ],
          "name": "stdout"
        },
        {
          "output_type": "execute_result",
          "data": {
            "text/plain": [
              "True"
            ]
          },
          "metadata": {
            "tags": []
          },
          "execution_count": 18
        }
      ]
    },
    {
      "cell_type": "markdown",
      "metadata": {
        "id": "CWzSZ_3aE8eu",
        "colab_type": "text"
      },
      "source": [
        "Load data & search"
      ]
    },
    {
      "cell_type": "code",
      "metadata": {
        "id": "2Axk6n8hEOq-",
        "colab_type": "code",
        "colab": {}
      },
      "source": [
        "# Last 14 Congresses\n",
        "file_name = 'search_dataset_small.pkl'\n",
        "speeches = pd.read_pickle(file_name)\n",
        "speeches.head()\n",
        "speeches = speeches.loc[:1000,:]\n",
        "#search = Search(speeches=speeches)"
      ],
      "execution_count": null,
      "outputs": []
    },
    {
      "cell_type": "code",
      "metadata": {
        "id": "pCSvIO-5Erlg",
        "colab_type": "code",
        "colab": {
          "base_uri": "https://localhost:8080/",
          "height": 289
        },
        "outputId": "41a93bf9-76b4-4cfe-f3e4-e251c9946613"
      },
      "source": [
        "search = pickle.load(open(\"search_results.pkl\", \"rb\"))\n",
        "search.head()"
      ],
      "execution_count": 3,
      "outputs": [
        {
          "output_type": "execute_result",
          "data": {
            "text/html": [
              "<div>\n",
              "<style scoped>\n",
              "    .dataframe tbody tr th:only-of-type {\n",
              "        vertical-align: middle;\n",
              "    }\n",
              "\n",
              "    .dataframe tbody tr th {\n",
              "        vertical-align: top;\n",
              "    }\n",
              "\n",
              "    .dataframe thead th {\n",
              "        text-align: right;\n",
              "    }\n",
              "</style>\n",
              "<table border=\"1\" class=\"dataframe\">\n",
              "  <thead>\n",
              "    <tr style=\"text-align: right;\">\n",
              "      <th></th>\n",
              "      <th>question</th>\n",
              "      <th>answer_R</th>\n",
              "      <th>answer_D</th>\n",
              "    </tr>\n",
              "  </thead>\n",
              "  <tbody>\n",
              "    <tr>\n",
              "      <th>0</th>\n",
              "      <td>Should abortion be illegal?</td>\n",
              "      <td>Mr. President, my amendment simply remedies a ...</td>\n",
              "      <td>Will the Senator yield to answer a question so...</td>\n",
              "    </tr>\n",
              "    <tr>\n",
              "      <th>1</th>\n",
              "      <td>What do you believe about tax increases?</td>\n",
              "      <td>Mr. Speaker, I note that the Speaker of the Ho...</td>\n",
              "      <td>Do you remember the other bill that he signed ...</td>\n",
              "    </tr>\n",
              "    <tr>\n",
              "      <th>2</th>\n",
              "      <td>Should same-sex marriage be legal?</td>\n",
              "      <td>Then I will submit all this for the RECORD and...</td>\n",
              "      <td>Mr. Speaker, I yield myself such time as I may...</td>\n",
              "    </tr>\n",
              "    <tr>\n",
              "      <th>3</th>\n",
              "      <td>Is climate change real?</td>\n",
              "      <td>Mr. President, this amendment addresses the la...</td>\n",
              "      <td>Mr. Speaker, I thank the distinguished gentlem...</td>\n",
              "    </tr>\n",
              "    <tr>\n",
              "      <th>4</th>\n",
              "      <td>Should immigrants be allowed to obtain citizen...</td>\n",
              "      <td>Mr. Chairman, as a strong advocate of immigrat...</td>\n",
              "      <td>Mr. President, I am pleased to introduce legis...</td>\n",
              "    </tr>\n",
              "  </tbody>\n",
              "</table>\n",
              "</div>"
            ],
            "text/plain": [
              "                                            question  ...                                           answer_D\n",
              "0                        Should abortion be illegal?  ...  Will the Senator yield to answer a question so...\n",
              "1           What do you believe about tax increases?  ...  Do you remember the other bill that he signed ...\n",
              "2                 Should same-sex marriage be legal?  ...  Mr. Speaker, I yield myself such time as I may...\n",
              "3                            Is climate change real?  ...  Mr. Speaker, I thank the distinguished gentlem...\n",
              "4  Should immigrants be allowed to obtain citizen...  ...  Mr. President, I am pleased to introduce legis...\n",
              "\n",
              "[5 rows x 3 columns]"
            ]
          },
          "metadata": {
            "tags": []
          },
          "execution_count": 3
        }
      ]
    },
    {
      "cell_type": "code",
      "metadata": {
        "id": "5TToRwu9FD9-",
        "colab_type": "code",
        "colab": {}
      },
      "source": [
        "# Manual Questions (not from corpus)\n",
        "questions = [\"Should abortion be illegal?\",\n",
        "             \"What do you believe about tax increases?\",\n",
        "             \"Should same-sex marriage be legal?\",\n",
        "             \"Is climate change real?\",\n",
        "             \"Should immigrants be allowed to obtain citizenship?\",\n",
        "             \"Who should be given voting rights?\",\n",
        "             \"Should we have higher taxes for higher incomes?\",\n",
        "             \"Should we allow death penalty?\",\n",
        "             \"Should we have universal healthcare?\",\n",
        "             \"Do government regulations hinder free market capitalism?\",\n",
        "             \"What do you think about the current president?\",\n",
        "             \"Should we reduce national debt?\",\n",
        "             \"Should we increase spending on healthcare?\",\n",
        "             \"Should we increase spending on education?\",\n",
        "             \"Should every American have equal opportunities regardless of sex, age and race?\",\n",
        "             \"Should be introduce more gun control measures?\",\n",
        "             \"What do you think about the current president?\",\n",
        "             \"Should Americans be free?\",\n",
        "             \"What party do you support?\",\n",
        "             \"What is the biggest threat to America?\"\n",
        "             ]"
      ],
      "execution_count": 4,
      "outputs": []
    },
    {
      "cell_type": "markdown",
      "metadata": {
        "id": "ejzc2QxBKbE4",
        "colab_type": "text"
      },
      "source": [
        "Graph construction"
      ]
    },
    {
      "cell_type": "code",
      "metadata": {
        "id": "5q8aFQfHmfSF",
        "colab_type": "code",
        "colab": {}
      },
      "source": [
        "#from KnowledgeGraph import KnowledgeGraph\n",
        "knowledgeGraphs=dict()\n",
        "for question in questions:\n",
        "  knowledgeGraphs[question]=KnowledgeGraph(question)"
      ],
      "execution_count": 5,
      "outputs": []
    },
    {
      "cell_type": "code",
      "metadata": {
        "id": "Y34yH5-bVfR0",
        "colab_type": "code",
        "colab": {}
      },
      "source": [
        "identifier='coref'\n",
        "checkpoint=12\n",
        "#verb_list_file = \"verb_list\"+identifier+str(checkpoint)+\".pickle\"\n",
        "verb_dict = pickle.load(open(\"verb_dict.pickle\", \"rb\"))\n",
        "verb_list = None #pickle.load(verb_list_file)\n",
        "graphWriterData=[]"
      ],
      "execution_count": 6,
      "outputs": []
    },
    {
      "cell_type": "code",
      "metadata": {
        "id": "X3qYZioDUlpb",
        "colab_type": "code",
        "colab": {}
      },
      "source": [
        "def parse_entry(question,answer,verb_dict,verb_list):\n",
        "    result=dict()\n",
        "    result['question']=' '.join([token.text for token in utils.sp(question)])\n",
        "    phrase_corpus, triplet_id, parsed_text,parsed=Answer(answer).create_test(verb_dict,verb_list)\n",
        "    result['corpus']=' ; '.join(phrase_corpus)\n",
        "    result['tags']=' '.join(['<phrase>']*len(phrase_corpus))\n",
        "    result['triplet_id']=' ; '.join([re.sub('\\,','',str(x))[1:-1] for x in triplet_id])\n",
        "    result['parsed_text']=parsed_text\n",
        "    result['parsed']=' '.join([str(x) for x in parsed])\n",
        "    return result"
      ],
      "execution_count": 7,
      "outputs": []
    },
    {
      "cell_type": "markdown",
      "metadata": {
        "id": "Qw2bej-rGIoK",
        "colab_type": "text"
      },
      "source": [
        "Generate answers to question with GPT-2"
      ]
    },
    {
      "cell_type": "code",
      "metadata": {
        "id": "XLeDBLVxKuZS",
        "colab_type": "code",
        "colab": {}
      },
      "source": [
        "tokenizer = GPT2Tokenizer.from_pretrained(\"gpt2\")\n",
        "model = GPT2LMHeadModel.from_pretrained('gpt2')"
      ],
      "execution_count": 8,
      "outputs": []
    },
    {
      "cell_type": "code",
      "metadata": {
        "id": "UhCPNvFGN3xp",
        "colab_type": "code",
        "colab": {
          "base_uri": "https://localhost:8080/",
          "height": 1000
        },
        "outputId": "2bead479-2717-466a-bd9a-61d776708532"
      },
      "source": [
        "for question in questions:\n",
        "    print(\"Question: {}\".format(question))\n",
        "    print(\"GPT-2 generation: \")\n",
        "    generated = tokenizer.encode(question)\n",
        "    context = torch.tensor([generated])\n",
        "    past = None\n",
        "\n",
        "    for i in range(100):\n",
        "        output, past = model(context, past=past)\n",
        "        token = torch.argmax(output[..., -1, :])\n",
        "\n",
        "        generated += [token.tolist()]\n",
        "        context = token.unsqueeze(0)\n",
        "\n",
        "    sequence = tokenizer.decode(generated)\n",
        "\n",
        "    print(sequence)"
      ],
      "execution_count": 9,
      "outputs": [
        {
          "output_type": "stream",
          "text": [
            "Question: Should abortion be illegal?\n",
            "GPT-2 generation: \n",
            "Should abortion be illegal?\n",
            "\n",
            "The Supreme Court has ruled that abortion is illegal under the Fourteenth Amendment. The Supreme Court has ruled that abortion is illegal under the Fourteenth Amendment.\n",
            "\n",
            "The Supreme Court has ruled that abortion is illegal under the Fourteenth Amendment.\n",
            "\n",
            "The Supreme Court has ruled that abortion is illegal under the Fourteenth Amendment.\n",
            "\n",
            "The Supreme Court has ruled that abortion is illegal under the Fourteenth Amendment.\n",
            "\n",
            "The Supreme Court has ruled that abortion is illegal under the Fourteenth Amendment.\n",
            "Question: What do you believe about tax increases?\n",
            "GPT-2 generation: \n",
            "What do you believe about tax increases?\n",
            "\n",
            "I think that the tax increases are going to be very good for the economy. I think that the tax increases are going to be very good for the middle class. I think that the middle class is going to be very happy. I think that the middle class is going to be very happy.\n",
            "\n",
            "I think that the middle class is going to be very happy. I think that the middle class is going to be very happy.\n",
            "\n",
            "I think that the middle class is going to\n",
            "Question: Should same-sex marriage be legal?\n",
            "GPT-2 generation: \n",
            "Should same-sex marriage be legal?\n",
            "\n",
            "The Supreme Court has ruled that same-sex marriage is legal in the United States.\n",
            "\n",
            "The Supreme Court ruled that same-sex marriage is legal in the United States.\n",
            "\n",
            "The Supreme Court ruled that same-sex marriage is legal in the United States.\n",
            "\n",
            "The Supreme Court ruled that same-sex marriage is legal in the United States.\n",
            "\n",
            "The Supreme Court ruled that same-sex marriage is legal in the United States.\n",
            "\n",
            "The Supreme Court ruled that same-\n",
            "Question: Is climate change real?\n",
            "GPT-2 generation: \n",
            "Is climate change real?\n",
            "\n",
            "The answer is no.\n",
            "\n",
            "The IPCC's latest report, released on Tuesday, says that global warming is \"likely to continue to increase over the next century.\"\n",
            "\n",
            "The report, which is based on a series of studies, says that the average temperature increase over the past century is about 1.5 degrees Celsius (3.6 degrees Fahrenheit) higher than the average for the last century.\n",
            "\n",
            "The report also says that the average temperature increase over the past century is about 1\n",
            "Question: Should immigrants be allowed to obtain citizenship?\n",
            "GPT-2 generation: \n",
            "Should immigrants be allowed to obtain citizenship?\n",
            "\n",
            "The answer is yes.\n",
            "\n",
            "The U.S. Supreme Court has ruled that the right to vote is not a fundamental right.\n",
            "\n",
            "The Supreme Court has ruled that the right to vote is not a fundamental right.\n",
            "\n",
            "The Supreme Court has ruled that the right to vote is not a fundamental right.\n",
            "\n",
            "The Supreme Court has ruled that the right to vote is not a fundamental right.\n",
            "\n",
            "The Supreme Court has ruled that the right to vote is not a fundamental right\n",
            "Question: Who should be given voting rights?\n",
            "GPT-2 generation: \n",
            "Who should be given voting rights?\n",
            "\n",
            "The Supreme Court has ruled that the right to vote is not a fundamental right. The right to vote is not a right to be a citizen of the United States. It is a right to be a citizen of the United States.\n",
            "\n",
            "The right to vote is not a right to be a citizen of the United States. It is a right to be a citizen of the United States.\n",
            "\n",
            "The right to vote is not a right to be a citizen of the United States. It\n",
            "Question: Should we have higher taxes for higher incomes?\n",
            "GPT-2 generation: \n",
            "Should we have higher taxes for higher incomes?\n",
            "\n",
            "The answer is yes.\n",
            "\n",
            "The Tax Policy Center, a nonpartisan think tank, has found that the tax rate on the top 1 percent of earners has increased by more than 10 percentage points since the 1970s.\n",
            "\n",
            "The Tax Policy Center's analysis of the tax code shows that the top 1 percent of earners have paid more in taxes than the bottom 90 percent of Americans.\n",
            "\n",
            "The Tax Policy Center's analysis of the tax code shows that the top 1 percent of earners have paid\n",
            "Question: Should we allow death penalty?\n",
            "GPT-2 generation: \n",
            "Should we allow death penalty?\n",
            "\n",
            "The Supreme Court has ruled that the death penalty is unconstitutional. The Supreme Court has ruled that the death penalty is unconstitutional.\n",
            "\n",
            "The Supreme Court has ruled that the death penalty is unconstitutional.\n",
            "\n",
            "The Supreme Court has ruled that the death penalty is unconstitutional.\n",
            "\n",
            "The Supreme Court has ruled that the death penalty is unconstitutional.\n",
            "\n",
            "The Supreme Court has ruled that the death penalty is unconstitutional.\n",
            "\n",
            "The Supreme Court has ruled that the death penalty is unconstitutional.\n",
            "\n",
            "The Supreme\n",
            "Question: Should we have universal healthcare?\n",
            "GPT-2 generation: \n",
            "Should we have universal healthcare?\n",
            "\n",
            "The answer is yes.\n",
            "\n",
            "The Affordable Care Act (ACA) is a law that allows Americans to buy insurance through the federal government. The ACA is a law that allows Americans to buy insurance through the federal government.\n",
            "\n",
            "The ACA is a law that allows Americans to buy insurance through the federal government.\n",
            "\n",
            "The ACA is a law that allows Americans to buy insurance through the federal government.\n",
            "\n",
            "The ACA is a law that allows Americans to buy insurance through the federal government.\n",
            "Question: Do government regulations hinder free market capitalism?\n",
            "GPT-2 generation: \n",
            "Do government regulations hinder free market capitalism?\n",
            "\n",
            "The answer is yes.\n",
            "\n",
            "The government regulates the free market, but it does not regulate the free market.\n",
            "\n",
            "The government regulates the free market, but it does not regulate the free market.\n",
            "\n",
            "The government regulates the free market, but it does not regulate the free market.\n",
            "\n",
            "The government regulates the free market, but it does not regulate the free market.\n",
            "\n",
            "The government regulates the free market, but it does not regulate the free market.\n",
            "\n",
            "The\n",
            "Question: What do you think about the current president?\n",
            "GPT-2 generation: \n",
            "What do you think about the current president?\n",
            "\n",
            "I think he's a very good president. I think he's a very good president. I think he's a very good president. I think he's a very good president. I think he's a very good president. I think he's a very good president. I think he's a very good president. I think he's a very good president. I think he's a very good president. I think he's a very good president. I think he's a very good president\n",
            "Question: Should we reduce national debt?\n",
            "GPT-2 generation: \n",
            "Should we reduce national debt?\n",
            "\n",
            "The answer is no. The debt ceiling is a temporary measure that will not be lifted until the next Congress passes a budget resolution. The debt ceiling is a temporary measure that will not be lifted until the next Congress passes a budget resolution.\n",
            "\n",
            "The debt ceiling is a temporary measure that will not be lifted until the next Congress passes a budget resolution.\n",
            "\n",
            "The debt ceiling is a temporary measure that will not be lifted until the next Congress passes a budget resolution.\n",
            "\n",
            "The debt ceiling\n",
            "Question: Should we increase spending on healthcare?\n",
            "GPT-2 generation: \n",
            "Should we increase spending on healthcare?\n",
            "\n",
            "The answer is no.\n",
            "\n",
            "The government has already announced that it will increase spending on healthcare by $1.5 billion over the next five years.\n",
            "\n",
            "The government has also announced that it will increase spending on health care by $1.5 billion over the next five years.\n",
            "\n",
            "The government has already announced that it will increase spending on healthcare by $1.5 billion over the next five years.\n",
            "\n",
            "The government has already announced that it will increase spending on healthcare\n",
            "Question: Should we increase spending on education?\n",
            "GPT-2 generation: \n",
            "Should we increase spending on education?\n",
            "\n",
            "The answer is no.\n",
            "\n",
            "The government has spent $1.5 billion on education since 2009, and the government has spent $1.5 billion on education since 2010.\n",
            "\n",
            "The government has spent $1.5 billion on education since 2009, and the government has spent $1.5 billion on education since 2010.\n",
            "\n",
            "The government has spent $1.5 billion on education since 2009, and the government has spent $1.5 billion on education since 2010.\n",
            "Question: Should every American have equal opportunities regardless of sex, age and race?\n",
            "GPT-2 generation: \n",
            "Should every American have equal opportunities regardless of sex, age and race?\n",
            "\n",
            "The answer is yes.\n",
            "\n",
            "The Supreme Court has ruled that the right to equal access to abortion is a fundamental right. The Court has also ruled that the right to abortion is a fundamental right.\n",
            "\n",
            "The Supreme Court has ruled that the right to abortion is a fundamental right.\n",
            "\n",
            "The Supreme Court has ruled that the right to abortion is a fundamental right.\n",
            "\n",
            "The Supreme Court has ruled that the right to abortion is a fundamental right.\n",
            "\n",
            "The Supreme Court has ruled\n",
            "Question: Should be introduce more gun control measures?\n",
            "GPT-2 generation: \n",
            "Should be introduce more gun control measures?\n",
            "\n",
            "The NRA has been pushing for more gun control measures since the Newtown, Conn., school shooting.\n",
            "\n",
            "The group has been pushing for more gun control measures since the Newtown, Conn., school shooting.\n",
            "\n",
            "The group has been pushing for more gun control measures since the Newtown, Conn., school shooting.\n",
            "\n",
            "The group has been pushing for more gun control measures since the Newtown, Conn., school shooting.\n",
            "\n",
            "The group has been pushing for more gun control measures since the Newtown,\n",
            "Question: What do you think about the current president?\n",
            "GPT-2 generation: \n",
            "What do you think about the current president?\n",
            "\n",
            "I think he's a very good president. I think he's a very good president. I think he's a very good president. I think he's a very good president. I think he's a very good president. I think he's a very good president. I think he's a very good president. I think he's a very good president. I think he's a very good president. I think he's a very good president. I think he's a very good president\n",
            "Question: Should Americans be free?\n",
            "GPT-2 generation: \n",
            "Should Americans be free?\n",
            "\n",
            "The answer is no.\n",
            "\n",
            "The American people are free to choose their own government.\n",
            "\n",
            "The American people are free to choose their own government.\n",
            "\n",
            "The American people are free to choose their own government.\n",
            "\n",
            "The American people are free to choose their own government.\n",
            "\n",
            "The American people are free to choose their own government.\n",
            "\n",
            "The American people are free to choose their own government.\n",
            "\n",
            "The American people are free to choose their own government.\n",
            "\n",
            "\n",
            "Question: What party do you support?\n",
            "GPT-2 generation: \n",
            "What party do you support?\n",
            "\n",
            "I'm a Democrat. I'm a Republican. I'm a Republican. I'm a Republican. I'm a Republican. I'm a Republican. I'm a Republican. I'm a Republican. I'm a Republican. I'm a Republican. I'm a Republican. I'm a Republican. I'm a Republican. I'm a Republican. I'm a Republican. I'm a Republican. I'm a Republican. I'm a Republican. I'm a Republican. I'm a\n",
            "Question: What is the biggest threat to America?\n",
            "GPT-2 generation: \n",
            "What is the biggest threat to America?\n",
            "\n",
            "The biggest threat to America is the threat of terrorism. The biggest threat to America is the threat of terrorism.\n",
            "\n",
            "The biggest threat to America is the threat of terrorism. The biggest threat to America is the threat of terrorism.\n",
            "\n",
            "The biggest threat to America is the threat of terrorism. The biggest threat to America is the threat of terrorism.\n",
            "\n",
            "The biggest threat to America is the threat of terrorism. The biggest threat to America is the threat of terrorism.\n",
            "\n",
            "The biggest\n"
          ],
          "name": "stdout"
        }
      ]
    },
    {
      "cell_type": "markdown",
      "metadata": {
        "id": "IiXntHFtPkLd",
        "colab_type": "text"
      },
      "source": [
        "Search"
      ]
    },
    {
      "cell_type": "code",
      "metadata": {
        "id": "swv1FEggFN14",
        "colab_type": "code",
        "colab": {
          "base_uri": "https://localhost:8080/",
          "height": 650
        },
        "outputId": "b472b543-c826-47b4-fc38-cafc282a2fc6"
      },
      "source": [
        "from KnowledgeGraph import KnowledgeGraph\n",
        "for i in range(len(search)):\n",
        "    question = search.iloc[i].question\n",
        "    print(\"Question: {}\".format(question))\n",
        "    answer_R = search.iloc[i].answer_R\n",
        "    print(\"Republican Result: {}\".format(answer_R))\n",
        "    answer_D = search.iloc[i].answer_D\n",
        "    print(\"Democrat Result: {}\".format(answer_D))\n",
        "    \n",
        "    res_R = pd.Series({'speech': answer_R, 'party': 'R'})\n",
        "    res_D = pd.Series({'speech': answer_D, 'party': 'D'})\n",
        "    for res in [res_R, res_D]:\n",
        "        print(res)\n",
        "        triplets=Speech(res).create_triplet()\n",
        "        knowledgeGraphs[question].add_edges(triplets)\n",
        "\n",
        "        parsed = parse_entry(question,full_result,verb_dict,verb_list)\n",
        "        graphWriterData.append(parsed)"
      ],
      "execution_count": 19,
      "outputs": [
        {
          "output_type": "stream",
          "text": [
            "Question: Should abortion be illegal?\n",
            "Republican Result: Mr. President, my amendment simply remedies a major defect in this bill by ensuring that it does not cover illegal abortions. Why not limit protections of this bill to lawful abortions? I cannot imagine any rationale that could be used to rabut the import of that question. This whole debate shows how extreme this bill is on the proabortion side, I think it would have a lot more support if it was not so extreme, if it did not rush to support illegal abortions and illegal abortionists, to avoid the mere risk of abusive discovery, which is about the only argument they can make. That is a risk every litigant faces, I have been in all kinds of litigation in my lifetime as an attorney. Every case involves the potential abuse of discovery. But to use that as an excuse to not knock out illegal abortions in this bill shows how extreme this bill is. S, 636 very simply protects illegal abortion. It is that simple. Why is it so difficult to want to knock it out? Why is it the Holy Grail of all abortion legislation, that you cannot knock out illegal abortions? I do not know, but that is all that is involved in this amendment. We are making the bill apply only to lawful abortions. That seems to be fair. It seems to be right. It seems to be legal. It seems to make sense. It certainly is a good argument to make. There is not much more I care to say about it, I am prepared to go to a vote, I am prepared to yield back the remainder of my time. Mr. President, I urge all my colleagues to read Debbies letter describing her experience with two abortions. Abortion is one of the, if not the, most serious violations of human rights that one person can inflict on another. It is the deliberate destruction of the offspring of a human beingwhich is without a doubt a human being. But to literally add insult to injury, abortionists are degrading women and endangering the health of the mothers by not adequately informing them of the risks and nature of abortion. Pregnant women, 4.100 of them each day, are procuring abortions, and most of them will not know the basic facts regarding the gestation of their infant, or the type of abortion procedure to be used. It is imperative that S, 2791, my bill requiring informed consent before abortion, be enacted into law in order to protect the emotional and physical health of this Nations women, I ask, in particular, my colleagues from Massachusetts to heed the plea of Debbie, their constituent, and support informed consent before abortion, I ask that Debbies letter be printed in the RECORD. The letter follows: DEAR SENATOR HUMPHREY: My first abortion was Illegal at the age of 18. That didnt stop the doctor from asking me if I wanted an abortion. That was all the counseling I received. It is tragic that the counseling most woman considering abortion receive is so nearsighted. Those who counsel women at abortion clinics are simply interested in rushing scared women and girls into abortions which many will regret later. It may take months, even years, but once the realization of what abortion is and does sets in, women suffer devastating emotional crises and find it very hard to forgive themselves for the role which they had in killing their own children. The tragedy of killing an unborn child by abortion is compounded by the physical harm done by abortion to many women who undergo the procedure, I myself suffered from a very bad infection after my abortion, an infection which spread throughout my body. Other women I know have been forced to have total hysterectomies or simply rendered barren as the result of extensive scarringall because of an abortion to which they never gave informed consent. Abortion is a very dangerous procedure for the mother and child, both physically and psychologically, I, along with many others, became hateful, angry, bitter and resentful after the abortion, I dwelled on the babys due day for years. My next abortion later was legal and the counselling wasnt any better, I wanted to make up for the first baby I killed. In turn I killed this one also. It saddens me to see how tough and \"prochoice\" I became after the second abortion. The first one devastated me and, in order to handle my feelings, I had to become hard and put up a wall, I didnt know how to deal with murder. Can you imagine how it feels years later to see pictures of aborted babies? I thought I would die, seeing what Id done! I am 100% prolife now. Women should be told all the facts about abortion. \"What you dont know can hurt you!\" It kills babies physically and women spiritually. We, the women who have had abortions, know the physical and emotional pain left in abortions wake. It is and has been our struggle to deal with abortions aftermath, now it is our struggle to tell others the truth about abortion. Please help us in this effort. Sincerely. Mr. President, I call upon my colleagues to support S, 272 and S, 273 which require informed consent for women who undergo abortions. Too many women are caught in a psychological trap when they are faced with this important decision. Because of their vulnerable positions, they often choose to have abortions because they are totally unaware of any other alternatives. They also suffer from the emotional and physical scars that often accompany this major surgical procedure. As Debbie Sotirkys of Massachusetts testifies, women should have all the information they need to make the right choice in their abortion decision, I ask that her letter be printed in the REcoRw. The letter follows: DEAR SENATOR HuMPHREY: My first abortion was illegal at the age of 18. That didnt stop the doctor from asking me if I wanted an abortion. That was all the counseling I received. It is tragic that the counseling most women considering abortion receive is so nearsighted. Those who counsel women at abortion clinics are simply interested in rushing scared women and girls into abortions which many will regret later. It may take months, even years, but once the realization of what abortion is and does set in, women suffer devastating emotional crises and find it very hard to forgive themselves for the role which they had in killing their own children. The tragedy of killing an unborn child by abortion is compounded by the physical harm done by abortion to many women who undergo the procedure, I myself suffered from a very bad infection after my abortion, an infection which spread throughout my body. Other women I know have been forced to have total hysterectomies or were simply rendered barren as the result of extensive scarringall because of an abortion to which they never gave informed consent. Abortion is a very dangerous procedure for the mother of the child, both physically and psychologically, I, along with many others, became hateful, angry, bitter, and resentful after the abortion, I dwelled on the babys due date for years. My next abortion a year later was legal and the counseling wasnt any better, I wanted to make up for the first baby I killed. In turn I killed this one also. It saddens me to see how tough and \"prochoice\" I became after the second abortion. The first one devastated me and, in order to handle my feelings, I had to become hard and put up a wall, I didnt know how to deal with murder. Can you imagine how it feels years later to see pictures of aborted babies? I thought I would die, seeing what Id done! I am 100% prolife now. Women should be told all the facts about abortion. \"What you dont know can hurt you!\" It kills babies physically and women spiritually. We, the women who have had abortions, know the physical and emotional pain left in abortions wake. It has been our struggle to deal with abortions aftermath, now it is our struggle to tell others the truth about abortion. Please help us in this effort. Sincerely.\n",
            "Democrat Result: Will the Senator yield to answer a question so when we debate this, I have an understanding? Like I said, this is the first time the Senator from Oklahoma and I have stood nose to nose on this. Does the Senator believe abortion should be illegal? Can I ask the Senator from Oklahoma. Mr. President, does the Senator from Oklahoma feel the same way about tax deductibility of insurance, that we should strike the right of business to deduct insurance if their employees have an offset against FICA? We are basically subsidizing abortions there, if that is the conclusion that he has reached about Federal employees. Mr. President, I ask the Senator from Oklahoma if the same argument that he used against Federal employees being able to use insurance for, not to subsidize abortion, but to purchase a service that continues to be legalit continues to be legal in the United States of America, I do not know, again, whether the Senator from Oklahoma feels that abortion should be made Illegal, but until a majority of Americans feel abortion should be made illegal, it seems to me our employees should have the option to purchase Insurance that contains it, I ask the Senator, does he think tax deductibility should be eliminated against businesses offsetting FICA? That seems to me, as well, that would be a subsidy. Mr. Speaker, 13 years ago today, the right of women to choose abortion in appropriate circumstances was affirmed by the highest court in the land. Abortion is legal, and the overwhelming majority of Americans want to keep it that way. Nevertheless, a vocal minority continues to threaten this fundamental right with a constant barrage of attacks on abortion rights. We must remain ever vigilant against these misguided efforts As a young prosecutor in New York City charged with investigating and prosecuting illegal abortionists, I witnessed firsthand the tragedy of back alley abortions. No one should want to force anyones loved ones back to the hands of the kind of butchers who performed abortions in those days before Roe versus Wade. Millions of women risked permanent disability as a consequence of procedures used in the home or in the underground network of back alley abortionists. Hundreds of women died annually as a result of botched abortions. On this day of remembrance, we must recommit ourselves to maintaining the right to choose. We must support the Supreme Courts refusal to weaken Roe versus Wade. And we must restore full abortion rights to those who suffer unfairly under legislated restrictions. Making abortions illegal didnt prevent abortion. It just made them dangerous and often lethal. A womans right to choose a safe and legal abortion must remain as sacred as any right American citizens enjoy.\n",
            "speech    Mr. President, my amendment simply remedies a ...\n",
            "party                                                     R\n",
            "dtype: object\n"
          ],
          "name": "stdout"
        },
        {
          "output_type": "error",
          "ename": "RuntimeError",
          "evalue": "ignored",
          "traceback": [
            "\u001b[0;31m---------------------------------------------------------------------------\u001b[0m",
            "\u001b[0;31mRuntimeError\u001b[0m                              Traceback (most recent call last)",
            "\u001b[0;32m<ipython-input-19-8df17c060c38>\u001b[0m in \u001b[0;36m<module>\u001b[0;34m()\u001b[0m\n\u001b[1;32m     12\u001b[0m     \u001b[0;32mfor\u001b[0m \u001b[0mres\u001b[0m \u001b[0;32min\u001b[0m \u001b[0;34m[\u001b[0m\u001b[0mres_R\u001b[0m\u001b[0;34m,\u001b[0m \u001b[0mres_D\u001b[0m\u001b[0;34m]\u001b[0m\u001b[0;34m:\u001b[0m\u001b[0;34m\u001b[0m\u001b[0;34m\u001b[0m\u001b[0m\n\u001b[1;32m     13\u001b[0m         \u001b[0mprint\u001b[0m\u001b[0;34m(\u001b[0m\u001b[0mres\u001b[0m\u001b[0;34m)\u001b[0m\u001b[0;34m\u001b[0m\u001b[0;34m\u001b[0m\u001b[0m\n\u001b[0;32m---> 14\u001b[0;31m         \u001b[0mtriplets\u001b[0m\u001b[0;34m=\u001b[0m\u001b[0mSpeech\u001b[0m\u001b[0;34m(\u001b[0m\u001b[0mres\u001b[0m\u001b[0;34m)\u001b[0m\u001b[0;34m.\u001b[0m\u001b[0mcreate_triplet\u001b[0m\u001b[0;34m(\u001b[0m\u001b[0;34m)\u001b[0m\u001b[0;34m\u001b[0m\u001b[0;34m\u001b[0m\u001b[0m\n\u001b[0m\u001b[1;32m     15\u001b[0m         \u001b[0mknowledgeGraphs\u001b[0m\u001b[0;34m[\u001b[0m\u001b[0mquestion\u001b[0m\u001b[0;34m]\u001b[0m\u001b[0;34m.\u001b[0m\u001b[0madd_edges\u001b[0m\u001b[0;34m(\u001b[0m\u001b[0mtriplets\u001b[0m\u001b[0;34m)\u001b[0m\u001b[0;34m\u001b[0m\u001b[0;34m\u001b[0m\u001b[0m\n\u001b[1;32m     16\u001b[0m \u001b[0;34m\u001b[0m\u001b[0m\n",
            "\u001b[0;32m<ipython-input-16-183387880050>\u001b[0m in \u001b[0;36mcreate_triplet\u001b[0;34m(self)\u001b[0m\n\u001b[1;32m     62\u001b[0m         \u001b[0mtriplets\u001b[0m\u001b[0;34m:\u001b[0m \u001b[0mlist\u001b[0m\u001b[0;34m,\u001b[0m \u001b[0ma\u001b[0m \u001b[0mlist\u001b[0m \u001b[0mof\u001b[0m \u001b[0mtriplet\u001b[0m \u001b[0mtuples\u001b[0m \u001b[0;32mexcept\u001b[0m \u001b[0mthe\u001b[0m \u001b[0mlast\u001b[0m \u001b[0mitem\u001b[0m \u001b[0mbeing\u001b[0m \u001b[0mparty\u001b[0m \u001b[0mstring\u001b[0m\u001b[0;34m\u001b[0m\u001b[0;34m\u001b[0m\u001b[0m\n\u001b[1;32m     63\u001b[0m         \"\"\"\n\u001b[0;32m---> 64\u001b[0;31m         \u001b[0moie_result\u001b[0m\u001b[0;34m=\u001b[0m\u001b[0mself\u001b[0m\u001b[0;34m.\u001b[0m\u001b[0mcreate_oieresult\u001b[0m\u001b[0;34m(\u001b[0m\u001b[0;34m)\u001b[0m\u001b[0;34m\u001b[0m\u001b[0;34m\u001b[0m\u001b[0m\n\u001b[0m\u001b[1;32m     65\u001b[0m         \u001b[0mtriplets\u001b[0m \u001b[0;34m=\u001b[0m \u001b[0mself\u001b[0m\u001b[0;34m.\u001b[0m\u001b[0m_find_triplets\u001b[0m\u001b[0;34m(\u001b[0m\u001b[0moie_result\u001b[0m\u001b[0;34m)\u001b[0m\u001b[0;34m\u001b[0m\u001b[0;34m\u001b[0m\u001b[0m\n\u001b[1;32m     66\u001b[0m         \u001b[0mtriplets\u001b[0m\u001b[0;34m.\u001b[0m\u001b[0mappend\u001b[0m\u001b[0;34m(\u001b[0m\u001b[0mself\u001b[0m\u001b[0;34m.\u001b[0m\u001b[0mparty\u001b[0m\u001b[0;34m)\u001b[0m\u001b[0;34m\u001b[0m\u001b[0;34m\u001b[0m\u001b[0m\n",
            "\u001b[0;32m<ipython-input-16-183387880050>\u001b[0m in \u001b[0;36mcreate_oieresult\u001b[0;34m(self)\u001b[0m\n\u001b[1;32m     68\u001b[0m \u001b[0;34m\u001b[0m\u001b[0m\n\u001b[1;32m     69\u001b[0m     \u001b[0;32mdef\u001b[0m \u001b[0mcreate_oieresult\u001b[0m\u001b[0;34m(\u001b[0m\u001b[0mself\u001b[0m\u001b[0;34m)\u001b[0m\u001b[0;34m:\u001b[0m\u001b[0;34m\u001b[0m\u001b[0;34m\u001b[0m\u001b[0m\n\u001b[0;32m---> 70\u001b[0;31m         \u001b[0mcoref_content\u001b[0m \u001b[0;34m=\u001b[0m \u001b[0mutils\u001b[0m\u001b[0;34m.\u001b[0m\u001b[0mcoref_extractor\u001b[0m\u001b[0;34m.\u001b[0m\u001b[0mcoref_resolved\u001b[0m\u001b[0;34m(\u001b[0m\u001b[0mself\u001b[0m\u001b[0;34m.\u001b[0m\u001b[0mcontent\u001b[0m\u001b[0;34m)\u001b[0m\u001b[0;34m\u001b[0m\u001b[0;34m\u001b[0m\u001b[0m\n\u001b[0m\u001b[1;32m     71\u001b[0m         \u001b[0msents\u001b[0m \u001b[0;34m=\u001b[0m \u001b[0mnltk\u001b[0m\u001b[0;34m.\u001b[0m\u001b[0mtokenize\u001b[0m\u001b[0;34m.\u001b[0m\u001b[0msent_tokenize\u001b[0m\u001b[0;34m(\u001b[0m\u001b[0mcoref_content\u001b[0m\u001b[0;34m)\u001b[0m\u001b[0;34m\u001b[0m\u001b[0;34m\u001b[0m\u001b[0m\n\u001b[1;32m     72\u001b[0m         \u001b[0msents\u001b[0m \u001b[0;34m=\u001b[0m \u001b[0;34m[\u001b[0m\u001b[0;34m{\u001b[0m\u001b[0;34m\"sentence\"\u001b[0m\u001b[0;34m:\u001b[0m\u001b[0ms\u001b[0m\u001b[0;34m}\u001b[0m \u001b[0;32mfor\u001b[0m \u001b[0ms\u001b[0m \u001b[0;32min\u001b[0m \u001b[0msents\u001b[0m\u001b[0;34m]\u001b[0m \u001b[0;31m#Format for oie batch predictor\u001b[0m\u001b[0;34m\u001b[0m\u001b[0;34m\u001b[0m\u001b[0m\n",
            "\u001b[0;32m/usr/local/lib/python3.6/dist-packages/allennlp_models/coref/predictors/coref.py\u001b[0m in \u001b[0;36mcoref_resolved\u001b[0;34m(self, document)\u001b[0m\n\u001b[1;32m    173\u001b[0m \u001b[0;34m\u001b[0m\u001b[0m\n\u001b[1;32m    174\u001b[0m         \u001b[0mspacy_document\u001b[0m \u001b[0;34m=\u001b[0m \u001b[0mself\u001b[0m\u001b[0;34m.\u001b[0m\u001b[0m_spacy\u001b[0m\u001b[0;34m(\u001b[0m\u001b[0mdocument\u001b[0m\u001b[0;34m)\u001b[0m\u001b[0;34m\u001b[0m\u001b[0;34m\u001b[0m\u001b[0m\n\u001b[0;32m--> 175\u001b[0;31m         \u001b[0mclusters\u001b[0m \u001b[0;34m=\u001b[0m \u001b[0mself\u001b[0m\u001b[0;34m.\u001b[0m\u001b[0mpredict\u001b[0m\u001b[0;34m(\u001b[0m\u001b[0mdocument\u001b[0m\u001b[0;34m)\u001b[0m\u001b[0;34m.\u001b[0m\u001b[0mget\u001b[0m\u001b[0;34m(\u001b[0m\u001b[0;34m\"clusters\"\u001b[0m\u001b[0;34m)\u001b[0m\u001b[0;34m\u001b[0m\u001b[0;34m\u001b[0m\u001b[0m\n\u001b[0m\u001b[1;32m    176\u001b[0m \u001b[0;34m\u001b[0m\u001b[0m\n\u001b[1;32m    177\u001b[0m         \u001b[0;31m# Passing a document with no coreferences returns its original form\u001b[0m\u001b[0;34m\u001b[0m\u001b[0;34m\u001b[0m\u001b[0;34m\u001b[0m\u001b[0m\n",
            "\u001b[0;32m/usr/local/lib/python3.6/dist-packages/allennlp_models/coref/predictors/coref.py\u001b[0m in \u001b[0;36mpredict\u001b[0;34m(self, document)\u001b[0m\n\u001b[1;32m     62\u001b[0m         \u001b[0mA\u001b[0m \u001b[0mdictionary\u001b[0m \u001b[0mrepresentation\u001b[0m \u001b[0mof\u001b[0m \u001b[0mthe\u001b[0m \u001b[0mpredicted\u001b[0m \u001b[0mcoreference\u001b[0m \u001b[0mclusters\u001b[0m\u001b[0;34m.\u001b[0m\u001b[0;34m\u001b[0m\u001b[0;34m\u001b[0m\u001b[0m\n\u001b[1;32m     63\u001b[0m         \"\"\"\n\u001b[0;32m---> 64\u001b[0;31m         \u001b[0;32mreturn\u001b[0m \u001b[0mself\u001b[0m\u001b[0;34m.\u001b[0m\u001b[0mpredict_json\u001b[0m\u001b[0;34m(\u001b[0m\u001b[0;34m{\u001b[0m\u001b[0;34m\"document\"\u001b[0m\u001b[0;34m:\u001b[0m \u001b[0mdocument\u001b[0m\u001b[0;34m}\u001b[0m\u001b[0;34m)\u001b[0m\u001b[0;34m\u001b[0m\u001b[0;34m\u001b[0m\u001b[0m\n\u001b[0m\u001b[1;32m     65\u001b[0m \u001b[0;34m\u001b[0m\u001b[0m\n\u001b[1;32m     66\u001b[0m     \u001b[0;32mdef\u001b[0m \u001b[0mpredict_tokenized\u001b[0m\u001b[0;34m(\u001b[0m\u001b[0mself\u001b[0m\u001b[0;34m,\u001b[0m \u001b[0mtokenized_document\u001b[0m\u001b[0;34m:\u001b[0m \u001b[0mList\u001b[0m\u001b[0;34m[\u001b[0m\u001b[0mstr\u001b[0m\u001b[0;34m]\u001b[0m\u001b[0;34m)\u001b[0m \u001b[0;34m->\u001b[0m \u001b[0mJsonDict\u001b[0m\u001b[0;34m:\u001b[0m\u001b[0;34m\u001b[0m\u001b[0;34m\u001b[0m\u001b[0m\n",
            "\u001b[0;32m/usr/local/lib/python3.6/dist-packages/allennlp/predictors/predictor.py\u001b[0m in \u001b[0;36mpredict_json\u001b[0;34m(self, inputs)\u001b[0m\n\u001b[1;32m     46\u001b[0m     \u001b[0;32mdef\u001b[0m \u001b[0mpredict_json\u001b[0m\u001b[0;34m(\u001b[0m\u001b[0mself\u001b[0m\u001b[0;34m,\u001b[0m \u001b[0minputs\u001b[0m\u001b[0;34m:\u001b[0m \u001b[0mJsonDict\u001b[0m\u001b[0;34m)\u001b[0m \u001b[0;34m->\u001b[0m \u001b[0mJsonDict\u001b[0m\u001b[0;34m:\u001b[0m\u001b[0;34m\u001b[0m\u001b[0;34m\u001b[0m\u001b[0m\n\u001b[1;32m     47\u001b[0m         \u001b[0minstance\u001b[0m \u001b[0;34m=\u001b[0m \u001b[0mself\u001b[0m\u001b[0;34m.\u001b[0m\u001b[0m_json_to_instance\u001b[0m\u001b[0;34m(\u001b[0m\u001b[0minputs\u001b[0m\u001b[0;34m)\u001b[0m\u001b[0;34m\u001b[0m\u001b[0;34m\u001b[0m\u001b[0m\n\u001b[0;32m---> 48\u001b[0;31m         \u001b[0;32mreturn\u001b[0m \u001b[0mself\u001b[0m\u001b[0;34m.\u001b[0m\u001b[0mpredict_instance\u001b[0m\u001b[0;34m(\u001b[0m\u001b[0minstance\u001b[0m\u001b[0;34m)\u001b[0m\u001b[0;34m\u001b[0m\u001b[0;34m\u001b[0m\u001b[0m\n\u001b[0m\u001b[1;32m     49\u001b[0m \u001b[0;34m\u001b[0m\u001b[0m\n\u001b[1;32m     50\u001b[0m     \u001b[0;32mdef\u001b[0m \u001b[0mjson_to_labeled_instances\u001b[0m\u001b[0;34m(\u001b[0m\u001b[0mself\u001b[0m\u001b[0;34m,\u001b[0m \u001b[0minputs\u001b[0m\u001b[0;34m:\u001b[0m \u001b[0mJsonDict\u001b[0m\u001b[0;34m)\u001b[0m \u001b[0;34m->\u001b[0m \u001b[0mList\u001b[0m\u001b[0;34m[\u001b[0m\u001b[0mInstance\u001b[0m\u001b[0;34m]\u001b[0m\u001b[0;34m:\u001b[0m\u001b[0;34m\u001b[0m\u001b[0;34m\u001b[0m\u001b[0m\n",
            "\u001b[0;32m/usr/local/lib/python3.6/dist-packages/allennlp/predictors/predictor.py\u001b[0m in \u001b[0;36mpredict_instance\u001b[0;34m(self, instance)\u001b[0m\n\u001b[1;32m    180\u001b[0m \u001b[0;34m\u001b[0m\u001b[0m\n\u001b[1;32m    181\u001b[0m     \u001b[0;32mdef\u001b[0m \u001b[0mpredict_instance\u001b[0m\u001b[0;34m(\u001b[0m\u001b[0mself\u001b[0m\u001b[0;34m,\u001b[0m \u001b[0minstance\u001b[0m\u001b[0;34m:\u001b[0m \u001b[0mInstance\u001b[0m\u001b[0;34m)\u001b[0m \u001b[0;34m->\u001b[0m \u001b[0mJsonDict\u001b[0m\u001b[0;34m:\u001b[0m\u001b[0;34m\u001b[0m\u001b[0;34m\u001b[0m\u001b[0m\n\u001b[0;32m--> 182\u001b[0;31m         \u001b[0moutputs\u001b[0m \u001b[0;34m=\u001b[0m \u001b[0mself\u001b[0m\u001b[0;34m.\u001b[0m\u001b[0m_model\u001b[0m\u001b[0;34m.\u001b[0m\u001b[0mforward_on_instance\u001b[0m\u001b[0;34m(\u001b[0m\u001b[0minstance\u001b[0m\u001b[0;34m)\u001b[0m\u001b[0;34m\u001b[0m\u001b[0;34m\u001b[0m\u001b[0m\n\u001b[0m\u001b[1;32m    183\u001b[0m         \u001b[0;32mreturn\u001b[0m \u001b[0msanitize\u001b[0m\u001b[0;34m(\u001b[0m\u001b[0moutputs\u001b[0m\u001b[0;34m)\u001b[0m\u001b[0;34m\u001b[0m\u001b[0;34m\u001b[0m\u001b[0m\n\u001b[1;32m    184\u001b[0m \u001b[0;34m\u001b[0m\u001b[0m\n",
            "\u001b[0;32m/usr/local/lib/python3.6/dist-packages/allennlp/models/model.py\u001b[0m in \u001b[0;36mforward_on_instance\u001b[0;34m(self, instance)\u001b[0m\n\u001b[1;32m    144\u001b[0m         \u001b[0;31m`\u001b[0m\u001b[0mtorch\u001b[0m\u001b[0;34m.\u001b[0m\u001b[0mTensors\u001b[0m\u001b[0;31m`\u001b[0m \u001b[0minto\u001b[0m \u001b[0mnumpy\u001b[0m \u001b[0marrays\u001b[0m \u001b[0;32mand\u001b[0m \u001b[0mremove\u001b[0m \u001b[0mthe\u001b[0m \u001b[0mbatch\u001b[0m \u001b[0mdimension\u001b[0m\u001b[0;34m.\u001b[0m\u001b[0;34m\u001b[0m\u001b[0;34m\u001b[0m\u001b[0m\n\u001b[1;32m    145\u001b[0m         \"\"\"\n\u001b[0;32m--> 146\u001b[0;31m         \u001b[0;32mreturn\u001b[0m \u001b[0mself\u001b[0m\u001b[0;34m.\u001b[0m\u001b[0mforward_on_instances\u001b[0m\u001b[0;34m(\u001b[0m\u001b[0;34m[\u001b[0m\u001b[0minstance\u001b[0m\u001b[0;34m]\u001b[0m\u001b[0;34m)\u001b[0m\u001b[0;34m[\u001b[0m\u001b[0;36m0\u001b[0m\u001b[0;34m]\u001b[0m\u001b[0;34m\u001b[0m\u001b[0;34m\u001b[0m\u001b[0m\n\u001b[0m\u001b[1;32m    147\u001b[0m \u001b[0;34m\u001b[0m\u001b[0m\n\u001b[1;32m    148\u001b[0m     \u001b[0;32mdef\u001b[0m \u001b[0mforward_on_instances\u001b[0m\u001b[0;34m(\u001b[0m\u001b[0mself\u001b[0m\u001b[0;34m,\u001b[0m \u001b[0minstances\u001b[0m\u001b[0;34m:\u001b[0m \u001b[0mList\u001b[0m\u001b[0;34m[\u001b[0m\u001b[0mInstance\u001b[0m\u001b[0;34m]\u001b[0m\u001b[0;34m)\u001b[0m \u001b[0;34m->\u001b[0m \u001b[0mList\u001b[0m\u001b[0;34m[\u001b[0m\u001b[0mDict\u001b[0m\u001b[0;34m[\u001b[0m\u001b[0mstr\u001b[0m\u001b[0;34m,\u001b[0m \u001b[0mnumpy\u001b[0m\u001b[0;34m.\u001b[0m\u001b[0mndarray\u001b[0m\u001b[0;34m]\u001b[0m\u001b[0;34m]\u001b[0m\u001b[0;34m:\u001b[0m\u001b[0;34m\u001b[0m\u001b[0;34m\u001b[0m\u001b[0m\n",
            "\u001b[0;32m/usr/local/lib/python3.6/dist-packages/allennlp/models/model.py\u001b[0m in \u001b[0;36mforward_on_instances\u001b[0;34m(self, instances)\u001b[0m\n\u001b[1;32m    170\u001b[0m             \u001b[0mdataset\u001b[0m\u001b[0;34m.\u001b[0m\u001b[0mindex_instances\u001b[0m\u001b[0;34m(\u001b[0m\u001b[0mself\u001b[0m\u001b[0;34m.\u001b[0m\u001b[0mvocab\u001b[0m\u001b[0;34m)\u001b[0m\u001b[0;34m\u001b[0m\u001b[0;34m\u001b[0m\u001b[0m\n\u001b[1;32m    171\u001b[0m             \u001b[0mmodel_input\u001b[0m \u001b[0;34m=\u001b[0m \u001b[0mutil\u001b[0m\u001b[0;34m.\u001b[0m\u001b[0mmove_to_device\u001b[0m\u001b[0;34m(\u001b[0m\u001b[0mdataset\u001b[0m\u001b[0;34m.\u001b[0m\u001b[0mas_tensor_dict\u001b[0m\u001b[0;34m(\u001b[0m\u001b[0;34m)\u001b[0m\u001b[0;34m,\u001b[0m \u001b[0mcuda_device\u001b[0m\u001b[0;34m)\u001b[0m\u001b[0;34m\u001b[0m\u001b[0;34m\u001b[0m\u001b[0m\n\u001b[0;32m--> 172\u001b[0;31m             \u001b[0moutputs\u001b[0m \u001b[0;34m=\u001b[0m \u001b[0mself\u001b[0m\u001b[0;34m.\u001b[0m\u001b[0mmake_output_human_readable\u001b[0m\u001b[0;34m(\u001b[0m\u001b[0mself\u001b[0m\u001b[0;34m(\u001b[0m\u001b[0;34m**\u001b[0m\u001b[0mmodel_input\u001b[0m\u001b[0;34m)\u001b[0m\u001b[0;34m)\u001b[0m\u001b[0;34m\u001b[0m\u001b[0;34m\u001b[0m\u001b[0m\n\u001b[0m\u001b[1;32m    173\u001b[0m \u001b[0;34m\u001b[0m\u001b[0m\n\u001b[1;32m    174\u001b[0m             instance_separated_output: List[Dict[str, numpy.ndarray]] = [\n",
            "\u001b[0;32m/usr/local/lib/python3.6/dist-packages/torch/nn/modules/module.py\u001b[0m in \u001b[0;36m__call__\u001b[0;34m(self, *input, **kwargs)\u001b[0m\n\u001b[1;32m    548\u001b[0m             \u001b[0mresult\u001b[0m \u001b[0;34m=\u001b[0m \u001b[0mself\u001b[0m\u001b[0;34m.\u001b[0m\u001b[0m_slow_forward\u001b[0m\u001b[0;34m(\u001b[0m\u001b[0;34m*\u001b[0m\u001b[0minput\u001b[0m\u001b[0;34m,\u001b[0m \u001b[0;34m**\u001b[0m\u001b[0mkwargs\u001b[0m\u001b[0;34m)\u001b[0m\u001b[0;34m\u001b[0m\u001b[0;34m\u001b[0m\u001b[0m\n\u001b[1;32m    549\u001b[0m         \u001b[0;32melse\u001b[0m\u001b[0;34m:\u001b[0m\u001b[0;34m\u001b[0m\u001b[0;34m\u001b[0m\u001b[0m\n\u001b[0;32m--> 550\u001b[0;31m             \u001b[0mresult\u001b[0m \u001b[0;34m=\u001b[0m \u001b[0mself\u001b[0m\u001b[0;34m.\u001b[0m\u001b[0mforward\u001b[0m\u001b[0;34m(\u001b[0m\u001b[0;34m*\u001b[0m\u001b[0minput\u001b[0m\u001b[0;34m,\u001b[0m \u001b[0;34m**\u001b[0m\u001b[0mkwargs\u001b[0m\u001b[0;34m)\u001b[0m\u001b[0;34m\u001b[0m\u001b[0;34m\u001b[0m\u001b[0m\n\u001b[0m\u001b[1;32m    551\u001b[0m         \u001b[0;32mfor\u001b[0m \u001b[0mhook\u001b[0m \u001b[0;32min\u001b[0m \u001b[0mself\u001b[0m\u001b[0;34m.\u001b[0m\u001b[0m_forward_hooks\u001b[0m\u001b[0;34m.\u001b[0m\u001b[0mvalues\u001b[0m\u001b[0;34m(\u001b[0m\u001b[0;34m)\u001b[0m\u001b[0;34m:\u001b[0m\u001b[0;34m\u001b[0m\u001b[0;34m\u001b[0m\u001b[0m\n\u001b[1;32m    552\u001b[0m             \u001b[0mhook_result\u001b[0m \u001b[0;34m=\u001b[0m \u001b[0mhook\u001b[0m\u001b[0;34m(\u001b[0m\u001b[0mself\u001b[0m\u001b[0;34m,\u001b[0m \u001b[0minput\u001b[0m\u001b[0;34m,\u001b[0m \u001b[0mresult\u001b[0m\u001b[0;34m)\u001b[0m\u001b[0;34m\u001b[0m\u001b[0;34m\u001b[0m\u001b[0m\n",
            "\u001b[0;32m/usr/local/lib/python3.6/dist-packages/allennlp_models/coref/models/coref.py\u001b[0m in \u001b[0;36mforward\u001b[0;34m(self, text, spans, span_labels, metadata)\u001b[0m\n\u001b[1;32m    178\u001b[0m         \"\"\"\n\u001b[1;32m    179\u001b[0m         \u001b[0;31m# Shape: (batch_size, document_length, embedding_size)\u001b[0m\u001b[0;34m\u001b[0m\u001b[0;34m\u001b[0m\u001b[0;34m\u001b[0m\u001b[0m\n\u001b[0;32m--> 180\u001b[0;31m         \u001b[0mtext_embeddings\u001b[0m \u001b[0;34m=\u001b[0m \u001b[0mself\u001b[0m\u001b[0;34m.\u001b[0m\u001b[0m_lexical_dropout\u001b[0m\u001b[0;34m(\u001b[0m\u001b[0mself\u001b[0m\u001b[0;34m.\u001b[0m\u001b[0m_text_field_embedder\u001b[0m\u001b[0;34m(\u001b[0m\u001b[0mtext\u001b[0m\u001b[0;34m)\u001b[0m\u001b[0;34m)\u001b[0m\u001b[0;34m\u001b[0m\u001b[0;34m\u001b[0m\u001b[0m\n\u001b[0m\u001b[1;32m    181\u001b[0m \u001b[0;34m\u001b[0m\u001b[0m\n\u001b[1;32m    182\u001b[0m         \u001b[0mbatch_size\u001b[0m \u001b[0;34m=\u001b[0m \u001b[0mspans\u001b[0m\u001b[0;34m.\u001b[0m\u001b[0msize\u001b[0m\u001b[0;34m(\u001b[0m\u001b[0;36m0\u001b[0m\u001b[0;34m)\u001b[0m\u001b[0;34m\u001b[0m\u001b[0;34m\u001b[0m\u001b[0m\n",
            "\u001b[0;32m/usr/local/lib/python3.6/dist-packages/torch/nn/modules/module.py\u001b[0m in \u001b[0;36m__call__\u001b[0;34m(self, *input, **kwargs)\u001b[0m\n\u001b[1;32m    548\u001b[0m             \u001b[0mresult\u001b[0m \u001b[0;34m=\u001b[0m \u001b[0mself\u001b[0m\u001b[0;34m.\u001b[0m\u001b[0m_slow_forward\u001b[0m\u001b[0;34m(\u001b[0m\u001b[0;34m*\u001b[0m\u001b[0minput\u001b[0m\u001b[0;34m,\u001b[0m \u001b[0;34m**\u001b[0m\u001b[0mkwargs\u001b[0m\u001b[0;34m)\u001b[0m\u001b[0;34m\u001b[0m\u001b[0;34m\u001b[0m\u001b[0m\n\u001b[1;32m    549\u001b[0m         \u001b[0;32melse\u001b[0m\u001b[0;34m:\u001b[0m\u001b[0;34m\u001b[0m\u001b[0;34m\u001b[0m\u001b[0m\n\u001b[0;32m--> 550\u001b[0;31m             \u001b[0mresult\u001b[0m \u001b[0;34m=\u001b[0m \u001b[0mself\u001b[0m\u001b[0;34m.\u001b[0m\u001b[0mforward\u001b[0m\u001b[0;34m(\u001b[0m\u001b[0;34m*\u001b[0m\u001b[0minput\u001b[0m\u001b[0;34m,\u001b[0m \u001b[0;34m**\u001b[0m\u001b[0mkwargs\u001b[0m\u001b[0;34m)\u001b[0m\u001b[0;34m\u001b[0m\u001b[0;34m\u001b[0m\u001b[0m\n\u001b[0m\u001b[1;32m    551\u001b[0m         \u001b[0;32mfor\u001b[0m \u001b[0mhook\u001b[0m \u001b[0;32min\u001b[0m \u001b[0mself\u001b[0m\u001b[0;34m.\u001b[0m\u001b[0m_forward_hooks\u001b[0m\u001b[0;34m.\u001b[0m\u001b[0mvalues\u001b[0m\u001b[0;34m(\u001b[0m\u001b[0;34m)\u001b[0m\u001b[0;34m:\u001b[0m\u001b[0;34m\u001b[0m\u001b[0;34m\u001b[0m\u001b[0m\n\u001b[1;32m    552\u001b[0m             \u001b[0mhook_result\u001b[0m \u001b[0;34m=\u001b[0m \u001b[0mhook\u001b[0m\u001b[0;34m(\u001b[0m\u001b[0mself\u001b[0m\u001b[0;34m,\u001b[0m \u001b[0minput\u001b[0m\u001b[0;34m,\u001b[0m \u001b[0mresult\u001b[0m\u001b[0;34m)\u001b[0m\u001b[0;34m\u001b[0m\u001b[0;34m\u001b[0m\u001b[0m\n",
            "\u001b[0;32m/usr/local/lib/python3.6/dist-packages/allennlp/modules/text_field_embedders/basic_text_field_embedder.py\u001b[0m in \u001b[0;36mforward\u001b[0;34m(self, text_field_input, num_wrapping_dims, **kwargs)\u001b[0m\n\u001b[1;32m     86\u001b[0m                 \u001b[0;31m# If there are multiple tensor arguments, we have to require matching names from the\u001b[0m\u001b[0;34m\u001b[0m\u001b[0;34m\u001b[0m\u001b[0;34m\u001b[0m\u001b[0m\n\u001b[1;32m     87\u001b[0m                 \u001b[0;31m# TokenIndexer.  I don't think there's an easy way around that.\u001b[0m\u001b[0;34m\u001b[0m\u001b[0;34m\u001b[0m\u001b[0;34m\u001b[0m\u001b[0m\n\u001b[0;32m---> 88\u001b[0;31m                 \u001b[0mtoken_vectors\u001b[0m \u001b[0;34m=\u001b[0m \u001b[0membedder\u001b[0m\u001b[0;34m(\u001b[0m\u001b[0;34m**\u001b[0m\u001b[0mtensors\u001b[0m\u001b[0;34m,\u001b[0m \u001b[0;34m**\u001b[0m\u001b[0mforward_params_values\u001b[0m\u001b[0;34m)\u001b[0m\u001b[0;34m\u001b[0m\u001b[0;34m\u001b[0m\u001b[0m\n\u001b[0m\u001b[1;32m     89\u001b[0m             \u001b[0;32mif\u001b[0m \u001b[0mtoken_vectors\u001b[0m \u001b[0;32mis\u001b[0m \u001b[0;32mnot\u001b[0m \u001b[0;32mNone\u001b[0m\u001b[0;34m:\u001b[0m\u001b[0;34m\u001b[0m\u001b[0;34m\u001b[0m\u001b[0m\n\u001b[1;32m     90\u001b[0m                 \u001b[0;31m# To handle some very rare use cases, we allow the return value of the embedder to\u001b[0m\u001b[0;34m\u001b[0m\u001b[0;34m\u001b[0m\u001b[0;34m\u001b[0m\u001b[0m\n",
            "\u001b[0;32m/usr/local/lib/python3.6/dist-packages/torch/nn/modules/module.py\u001b[0m in \u001b[0;36m__call__\u001b[0;34m(self, *input, **kwargs)\u001b[0m\n\u001b[1;32m    548\u001b[0m             \u001b[0mresult\u001b[0m \u001b[0;34m=\u001b[0m \u001b[0mself\u001b[0m\u001b[0;34m.\u001b[0m\u001b[0m_slow_forward\u001b[0m\u001b[0;34m(\u001b[0m\u001b[0;34m*\u001b[0m\u001b[0minput\u001b[0m\u001b[0;34m,\u001b[0m \u001b[0;34m**\u001b[0m\u001b[0mkwargs\u001b[0m\u001b[0;34m)\u001b[0m\u001b[0;34m\u001b[0m\u001b[0;34m\u001b[0m\u001b[0m\n\u001b[1;32m    549\u001b[0m         \u001b[0;32melse\u001b[0m\u001b[0;34m:\u001b[0m\u001b[0;34m\u001b[0m\u001b[0;34m\u001b[0m\u001b[0m\n\u001b[0;32m--> 550\u001b[0;31m             \u001b[0mresult\u001b[0m \u001b[0;34m=\u001b[0m \u001b[0mself\u001b[0m\u001b[0;34m.\u001b[0m\u001b[0mforward\u001b[0m\u001b[0;34m(\u001b[0m\u001b[0;34m*\u001b[0m\u001b[0minput\u001b[0m\u001b[0;34m,\u001b[0m \u001b[0;34m**\u001b[0m\u001b[0mkwargs\u001b[0m\u001b[0;34m)\u001b[0m\u001b[0;34m\u001b[0m\u001b[0;34m\u001b[0m\u001b[0m\n\u001b[0m\u001b[1;32m    551\u001b[0m         \u001b[0;32mfor\u001b[0m \u001b[0mhook\u001b[0m \u001b[0;32min\u001b[0m \u001b[0mself\u001b[0m\u001b[0;34m.\u001b[0m\u001b[0m_forward_hooks\u001b[0m\u001b[0;34m.\u001b[0m\u001b[0mvalues\u001b[0m\u001b[0;34m(\u001b[0m\u001b[0;34m)\u001b[0m\u001b[0;34m:\u001b[0m\u001b[0;34m\u001b[0m\u001b[0;34m\u001b[0m\u001b[0m\n\u001b[1;32m    552\u001b[0m             \u001b[0mhook_result\u001b[0m \u001b[0;34m=\u001b[0m \u001b[0mhook\u001b[0m\u001b[0;34m(\u001b[0m\u001b[0mself\u001b[0m\u001b[0;34m,\u001b[0m \u001b[0minput\u001b[0m\u001b[0;34m,\u001b[0m \u001b[0mresult\u001b[0m\u001b[0;34m)\u001b[0m\u001b[0;34m\u001b[0m\u001b[0;34m\u001b[0m\u001b[0m\n",
            "\u001b[0;32m/usr/local/lib/python3.6/dist-packages/allennlp/modules/token_embedders/pretrained_transformer_mismatched_embedder.py\u001b[0m in \u001b[0;36mforward\u001b[0;34m(self, token_ids, mask, offsets, wordpiece_mask, type_ids, segment_concat_mask)\u001b[0m\n\u001b[1;32m     79\u001b[0m         \u001b[0;31m# Shape: [batch_size, num_wordpieces, embedding_size].\u001b[0m\u001b[0;34m\u001b[0m\u001b[0;34m\u001b[0m\u001b[0;34m\u001b[0m\u001b[0m\n\u001b[1;32m     80\u001b[0m         embeddings = self._matched_embedder(\n\u001b[0;32m---> 81\u001b[0;31m             \u001b[0mtoken_ids\u001b[0m\u001b[0;34m,\u001b[0m \u001b[0mwordpiece_mask\u001b[0m\u001b[0;34m,\u001b[0m \u001b[0mtype_ids\u001b[0m\u001b[0;34m=\u001b[0m\u001b[0mtype_ids\u001b[0m\u001b[0;34m,\u001b[0m \u001b[0msegment_concat_mask\u001b[0m\u001b[0;34m=\u001b[0m\u001b[0msegment_concat_mask\u001b[0m\u001b[0;34m\u001b[0m\u001b[0;34m\u001b[0m\u001b[0m\n\u001b[0m\u001b[1;32m     82\u001b[0m         )\n\u001b[1;32m     83\u001b[0m \u001b[0;34m\u001b[0m\u001b[0m\n",
            "\u001b[0;32m/usr/local/lib/python3.6/dist-packages/torch/nn/modules/module.py\u001b[0m in \u001b[0;36m__call__\u001b[0;34m(self, *input, **kwargs)\u001b[0m\n\u001b[1;32m    548\u001b[0m             \u001b[0mresult\u001b[0m \u001b[0;34m=\u001b[0m \u001b[0mself\u001b[0m\u001b[0;34m.\u001b[0m\u001b[0m_slow_forward\u001b[0m\u001b[0;34m(\u001b[0m\u001b[0;34m*\u001b[0m\u001b[0minput\u001b[0m\u001b[0;34m,\u001b[0m \u001b[0;34m**\u001b[0m\u001b[0mkwargs\u001b[0m\u001b[0;34m)\u001b[0m\u001b[0;34m\u001b[0m\u001b[0;34m\u001b[0m\u001b[0m\n\u001b[1;32m    549\u001b[0m         \u001b[0;32melse\u001b[0m\u001b[0;34m:\u001b[0m\u001b[0;34m\u001b[0m\u001b[0;34m\u001b[0m\u001b[0m\n\u001b[0;32m--> 550\u001b[0;31m             \u001b[0mresult\u001b[0m \u001b[0;34m=\u001b[0m \u001b[0mself\u001b[0m\u001b[0;34m.\u001b[0m\u001b[0mforward\u001b[0m\u001b[0;34m(\u001b[0m\u001b[0;34m*\u001b[0m\u001b[0minput\u001b[0m\u001b[0;34m,\u001b[0m \u001b[0;34m**\u001b[0m\u001b[0mkwargs\u001b[0m\u001b[0;34m)\u001b[0m\u001b[0;34m\u001b[0m\u001b[0;34m\u001b[0m\u001b[0m\n\u001b[0m\u001b[1;32m    551\u001b[0m         \u001b[0;32mfor\u001b[0m \u001b[0mhook\u001b[0m \u001b[0;32min\u001b[0m \u001b[0mself\u001b[0m\u001b[0;34m.\u001b[0m\u001b[0m_forward_hooks\u001b[0m\u001b[0;34m.\u001b[0m\u001b[0mvalues\u001b[0m\u001b[0;34m(\u001b[0m\u001b[0;34m)\u001b[0m\u001b[0;34m:\u001b[0m\u001b[0;34m\u001b[0m\u001b[0;34m\u001b[0m\u001b[0m\n\u001b[1;32m    552\u001b[0m             \u001b[0mhook_result\u001b[0m \u001b[0;34m=\u001b[0m \u001b[0mhook\u001b[0m\u001b[0;34m(\u001b[0m\u001b[0mself\u001b[0m\u001b[0;34m,\u001b[0m \u001b[0minput\u001b[0m\u001b[0;34m,\u001b[0m \u001b[0mresult\u001b[0m\u001b[0;34m)\u001b[0m\u001b[0;34m\u001b[0m\u001b[0;34m\u001b[0m\u001b[0m\n",
            "\u001b[0;32m/usr/local/lib/python3.6/dist-packages/allennlp/modules/token_embedders/pretrained_transformer_embedder.py\u001b[0m in \u001b[0;36mforward\u001b[0;34m(self, token_ids, mask, type_ids, segment_concat_mask)\u001b[0m\n\u001b[1;32m    140\u001b[0m             \u001b[0;32mif\u001b[0m \u001b[0mtype_ids\u001b[0m \u001b[0;32mis\u001b[0m \u001b[0;32mnot\u001b[0m \u001b[0;32mNone\u001b[0m\u001b[0;34m:\u001b[0m\u001b[0;34m\u001b[0m\u001b[0;34m\u001b[0m\u001b[0m\n\u001b[1;32m    141\u001b[0m                 \u001b[0mparameters\u001b[0m\u001b[0;34m[\u001b[0m\u001b[0;34m\"token_type_ids\"\u001b[0m\u001b[0;34m]\u001b[0m \u001b[0;34m=\u001b[0m \u001b[0mtype_ids\u001b[0m\u001b[0;34m\u001b[0m\u001b[0;34m\u001b[0m\u001b[0m\n\u001b[0;32m--> 142\u001b[0;31m             \u001b[0membeddings\u001b[0m \u001b[0;34m=\u001b[0m \u001b[0mself\u001b[0m\u001b[0;34m.\u001b[0m\u001b[0mtransformer_model\u001b[0m\u001b[0;34m(\u001b[0m\u001b[0;34m**\u001b[0m\u001b[0mparameters\u001b[0m\u001b[0;34m)\u001b[0m\u001b[0;34m[\u001b[0m\u001b[0;36m0\u001b[0m\u001b[0;34m]\u001b[0m\u001b[0;34m\u001b[0m\u001b[0;34m\u001b[0m\u001b[0m\n\u001b[0m\u001b[1;32m    143\u001b[0m \u001b[0;34m\u001b[0m\u001b[0m\n\u001b[1;32m    144\u001b[0m             \u001b[0;32mif\u001b[0m \u001b[0mfold_long_sequences\u001b[0m\u001b[0;34m:\u001b[0m\u001b[0;34m\u001b[0m\u001b[0;34m\u001b[0m\u001b[0m\n",
            "\u001b[0;32m/usr/local/lib/python3.6/dist-packages/torch/nn/modules/module.py\u001b[0m in \u001b[0;36m__call__\u001b[0;34m(self, *input, **kwargs)\u001b[0m\n\u001b[1;32m    548\u001b[0m             \u001b[0mresult\u001b[0m \u001b[0;34m=\u001b[0m \u001b[0mself\u001b[0m\u001b[0;34m.\u001b[0m\u001b[0m_slow_forward\u001b[0m\u001b[0;34m(\u001b[0m\u001b[0;34m*\u001b[0m\u001b[0minput\u001b[0m\u001b[0;34m,\u001b[0m \u001b[0;34m**\u001b[0m\u001b[0mkwargs\u001b[0m\u001b[0;34m)\u001b[0m\u001b[0;34m\u001b[0m\u001b[0;34m\u001b[0m\u001b[0m\n\u001b[1;32m    549\u001b[0m         \u001b[0;32melse\u001b[0m\u001b[0;34m:\u001b[0m\u001b[0;34m\u001b[0m\u001b[0;34m\u001b[0m\u001b[0m\n\u001b[0;32m--> 550\u001b[0;31m             \u001b[0mresult\u001b[0m \u001b[0;34m=\u001b[0m \u001b[0mself\u001b[0m\u001b[0;34m.\u001b[0m\u001b[0mforward\u001b[0m\u001b[0;34m(\u001b[0m\u001b[0;34m*\u001b[0m\u001b[0minput\u001b[0m\u001b[0;34m,\u001b[0m \u001b[0;34m**\u001b[0m\u001b[0mkwargs\u001b[0m\u001b[0;34m)\u001b[0m\u001b[0;34m\u001b[0m\u001b[0;34m\u001b[0m\u001b[0m\n\u001b[0m\u001b[1;32m    551\u001b[0m         \u001b[0;32mfor\u001b[0m \u001b[0mhook\u001b[0m \u001b[0;32min\u001b[0m \u001b[0mself\u001b[0m\u001b[0;34m.\u001b[0m\u001b[0m_forward_hooks\u001b[0m\u001b[0;34m.\u001b[0m\u001b[0mvalues\u001b[0m\u001b[0;34m(\u001b[0m\u001b[0;34m)\u001b[0m\u001b[0;34m:\u001b[0m\u001b[0;34m\u001b[0m\u001b[0;34m\u001b[0m\u001b[0m\n\u001b[1;32m    552\u001b[0m             \u001b[0mhook_result\u001b[0m \u001b[0;34m=\u001b[0m \u001b[0mhook\u001b[0m\u001b[0;34m(\u001b[0m\u001b[0mself\u001b[0m\u001b[0;34m,\u001b[0m \u001b[0minput\u001b[0m\u001b[0;34m,\u001b[0m \u001b[0mresult\u001b[0m\u001b[0;34m)\u001b[0m\u001b[0;34m\u001b[0m\u001b[0;34m\u001b[0m\u001b[0m\n",
            "\u001b[0;32m/usr/local/lib/python3.6/dist-packages/transformers/modeling_bert.py\u001b[0m in \u001b[0;36mforward\u001b[0;34m(self, input_ids, attention_mask, token_type_ids, position_ids, head_mask, inputs_embeds, encoder_hidden_states, encoder_attention_mask)\u001b[0m\n\u001b[1;32m    732\u001b[0m             \u001b[0mhead_mask\u001b[0m\u001b[0;34m=\u001b[0m\u001b[0mhead_mask\u001b[0m\u001b[0;34m,\u001b[0m\u001b[0;34m\u001b[0m\u001b[0;34m\u001b[0m\u001b[0m\n\u001b[1;32m    733\u001b[0m             \u001b[0mencoder_hidden_states\u001b[0m\u001b[0;34m=\u001b[0m\u001b[0mencoder_hidden_states\u001b[0m\u001b[0;34m,\u001b[0m\u001b[0;34m\u001b[0m\u001b[0;34m\u001b[0m\u001b[0m\n\u001b[0;32m--> 734\u001b[0;31m             \u001b[0mencoder_attention_mask\u001b[0m\u001b[0;34m=\u001b[0m\u001b[0mencoder_extended_attention_mask\u001b[0m\u001b[0;34m,\u001b[0m\u001b[0;34m\u001b[0m\u001b[0;34m\u001b[0m\u001b[0m\n\u001b[0m\u001b[1;32m    735\u001b[0m         )\n\u001b[1;32m    736\u001b[0m         \u001b[0msequence_output\u001b[0m \u001b[0;34m=\u001b[0m \u001b[0mencoder_outputs\u001b[0m\u001b[0;34m[\u001b[0m\u001b[0;36m0\u001b[0m\u001b[0;34m]\u001b[0m\u001b[0;34m\u001b[0m\u001b[0;34m\u001b[0m\u001b[0m\n",
            "\u001b[0;32m/usr/local/lib/python3.6/dist-packages/torch/nn/modules/module.py\u001b[0m in \u001b[0;36m__call__\u001b[0;34m(self, *input, **kwargs)\u001b[0m\n\u001b[1;32m    548\u001b[0m             \u001b[0mresult\u001b[0m \u001b[0;34m=\u001b[0m \u001b[0mself\u001b[0m\u001b[0;34m.\u001b[0m\u001b[0m_slow_forward\u001b[0m\u001b[0;34m(\u001b[0m\u001b[0;34m*\u001b[0m\u001b[0minput\u001b[0m\u001b[0;34m,\u001b[0m \u001b[0;34m**\u001b[0m\u001b[0mkwargs\u001b[0m\u001b[0;34m)\u001b[0m\u001b[0;34m\u001b[0m\u001b[0;34m\u001b[0m\u001b[0m\n\u001b[1;32m    549\u001b[0m         \u001b[0;32melse\u001b[0m\u001b[0;34m:\u001b[0m\u001b[0;34m\u001b[0m\u001b[0;34m\u001b[0m\u001b[0m\n\u001b[0;32m--> 550\u001b[0;31m             \u001b[0mresult\u001b[0m \u001b[0;34m=\u001b[0m \u001b[0mself\u001b[0m\u001b[0;34m.\u001b[0m\u001b[0mforward\u001b[0m\u001b[0;34m(\u001b[0m\u001b[0;34m*\u001b[0m\u001b[0minput\u001b[0m\u001b[0;34m,\u001b[0m \u001b[0;34m**\u001b[0m\u001b[0mkwargs\u001b[0m\u001b[0;34m)\u001b[0m\u001b[0;34m\u001b[0m\u001b[0;34m\u001b[0m\u001b[0m\n\u001b[0m\u001b[1;32m    551\u001b[0m         \u001b[0;32mfor\u001b[0m \u001b[0mhook\u001b[0m \u001b[0;32min\u001b[0m \u001b[0mself\u001b[0m\u001b[0;34m.\u001b[0m\u001b[0m_forward_hooks\u001b[0m\u001b[0;34m.\u001b[0m\u001b[0mvalues\u001b[0m\u001b[0;34m(\u001b[0m\u001b[0;34m)\u001b[0m\u001b[0;34m:\u001b[0m\u001b[0;34m\u001b[0m\u001b[0;34m\u001b[0m\u001b[0m\n\u001b[1;32m    552\u001b[0m             \u001b[0mhook_result\u001b[0m \u001b[0;34m=\u001b[0m \u001b[0mhook\u001b[0m\u001b[0;34m(\u001b[0m\u001b[0mself\u001b[0m\u001b[0;34m,\u001b[0m \u001b[0minput\u001b[0m\u001b[0;34m,\u001b[0m \u001b[0mresult\u001b[0m\u001b[0;34m)\u001b[0m\u001b[0;34m\u001b[0m\u001b[0;34m\u001b[0m\u001b[0m\n",
            "\u001b[0;32m/usr/local/lib/python3.6/dist-packages/transformers/modeling_bert.py\u001b[0m in \u001b[0;36mforward\u001b[0;34m(self, hidden_states, attention_mask, head_mask, encoder_hidden_states, encoder_attention_mask)\u001b[0m\n\u001b[1;32m    406\u001b[0m \u001b[0;34m\u001b[0m\u001b[0m\n\u001b[1;32m    407\u001b[0m             layer_outputs = layer_module(\n\u001b[0;32m--> 408\u001b[0;31m                 \u001b[0mhidden_states\u001b[0m\u001b[0;34m,\u001b[0m \u001b[0mattention_mask\u001b[0m\u001b[0;34m,\u001b[0m \u001b[0mhead_mask\u001b[0m\u001b[0;34m[\u001b[0m\u001b[0mi\u001b[0m\u001b[0;34m]\u001b[0m\u001b[0;34m,\u001b[0m \u001b[0mencoder_hidden_states\u001b[0m\u001b[0;34m,\u001b[0m \u001b[0mencoder_attention_mask\u001b[0m\u001b[0;34m\u001b[0m\u001b[0;34m\u001b[0m\u001b[0m\n\u001b[0m\u001b[1;32m    409\u001b[0m             )\n\u001b[1;32m    410\u001b[0m             \u001b[0mhidden_states\u001b[0m \u001b[0;34m=\u001b[0m \u001b[0mlayer_outputs\u001b[0m\u001b[0;34m[\u001b[0m\u001b[0;36m0\u001b[0m\u001b[0;34m]\u001b[0m\u001b[0;34m\u001b[0m\u001b[0;34m\u001b[0m\u001b[0m\n",
            "\u001b[0;32m/usr/local/lib/python3.6/dist-packages/torch/nn/modules/module.py\u001b[0m in \u001b[0;36m__call__\u001b[0;34m(self, *input, **kwargs)\u001b[0m\n\u001b[1;32m    548\u001b[0m             \u001b[0mresult\u001b[0m \u001b[0;34m=\u001b[0m \u001b[0mself\u001b[0m\u001b[0;34m.\u001b[0m\u001b[0m_slow_forward\u001b[0m\u001b[0;34m(\u001b[0m\u001b[0;34m*\u001b[0m\u001b[0minput\u001b[0m\u001b[0;34m,\u001b[0m \u001b[0;34m**\u001b[0m\u001b[0mkwargs\u001b[0m\u001b[0;34m)\u001b[0m\u001b[0;34m\u001b[0m\u001b[0;34m\u001b[0m\u001b[0m\n\u001b[1;32m    549\u001b[0m         \u001b[0;32melse\u001b[0m\u001b[0;34m:\u001b[0m\u001b[0;34m\u001b[0m\u001b[0;34m\u001b[0m\u001b[0m\n\u001b[0;32m--> 550\u001b[0;31m             \u001b[0mresult\u001b[0m \u001b[0;34m=\u001b[0m \u001b[0mself\u001b[0m\u001b[0;34m.\u001b[0m\u001b[0mforward\u001b[0m\u001b[0;34m(\u001b[0m\u001b[0;34m*\u001b[0m\u001b[0minput\u001b[0m\u001b[0;34m,\u001b[0m \u001b[0;34m**\u001b[0m\u001b[0mkwargs\u001b[0m\u001b[0;34m)\u001b[0m\u001b[0;34m\u001b[0m\u001b[0;34m\u001b[0m\u001b[0m\n\u001b[0m\u001b[1;32m    551\u001b[0m         \u001b[0;32mfor\u001b[0m \u001b[0mhook\u001b[0m \u001b[0;32min\u001b[0m \u001b[0mself\u001b[0m\u001b[0;34m.\u001b[0m\u001b[0m_forward_hooks\u001b[0m\u001b[0;34m.\u001b[0m\u001b[0mvalues\u001b[0m\u001b[0;34m(\u001b[0m\u001b[0;34m)\u001b[0m\u001b[0;34m:\u001b[0m\u001b[0;34m\u001b[0m\u001b[0;34m\u001b[0m\u001b[0m\n\u001b[1;32m    552\u001b[0m             \u001b[0mhook_result\u001b[0m \u001b[0;34m=\u001b[0m \u001b[0mhook\u001b[0m\u001b[0;34m(\u001b[0m\u001b[0mself\u001b[0m\u001b[0;34m,\u001b[0m \u001b[0minput\u001b[0m\u001b[0;34m,\u001b[0m \u001b[0mresult\u001b[0m\u001b[0;34m)\u001b[0m\u001b[0;34m\u001b[0m\u001b[0;34m\u001b[0m\u001b[0m\n",
            "\u001b[0;32m/usr/local/lib/python3.6/dist-packages/transformers/modeling_bert.py\u001b[0m in \u001b[0;36mforward\u001b[0;34m(self, hidden_states, attention_mask, head_mask, encoder_hidden_states, encoder_attention_mask)\u001b[0m\n\u001b[1;32m    367\u001b[0m         \u001b[0mencoder_attention_mask\u001b[0m\u001b[0;34m=\u001b[0m\u001b[0;32mNone\u001b[0m\u001b[0;34m,\u001b[0m\u001b[0;34m\u001b[0m\u001b[0;34m\u001b[0m\u001b[0m\n\u001b[1;32m    368\u001b[0m     ):\n\u001b[0;32m--> 369\u001b[0;31m         \u001b[0mself_attention_outputs\u001b[0m \u001b[0;34m=\u001b[0m \u001b[0mself\u001b[0m\u001b[0;34m.\u001b[0m\u001b[0mattention\u001b[0m\u001b[0;34m(\u001b[0m\u001b[0mhidden_states\u001b[0m\u001b[0;34m,\u001b[0m \u001b[0mattention_mask\u001b[0m\u001b[0;34m,\u001b[0m \u001b[0mhead_mask\u001b[0m\u001b[0;34m)\u001b[0m\u001b[0;34m\u001b[0m\u001b[0;34m\u001b[0m\u001b[0m\n\u001b[0m\u001b[1;32m    370\u001b[0m         \u001b[0mattention_output\u001b[0m \u001b[0;34m=\u001b[0m \u001b[0mself_attention_outputs\u001b[0m\u001b[0;34m[\u001b[0m\u001b[0;36m0\u001b[0m\u001b[0;34m]\u001b[0m\u001b[0;34m\u001b[0m\u001b[0;34m\u001b[0m\u001b[0m\n\u001b[1;32m    371\u001b[0m         \u001b[0moutputs\u001b[0m \u001b[0;34m=\u001b[0m \u001b[0mself_attention_outputs\u001b[0m\u001b[0;34m[\u001b[0m\u001b[0;36m1\u001b[0m\u001b[0;34m:\u001b[0m\u001b[0;34m]\u001b[0m  \u001b[0;31m# add self attentions if we output attention weights\u001b[0m\u001b[0;34m\u001b[0m\u001b[0;34m\u001b[0m\u001b[0m\n",
            "\u001b[0;32m/usr/local/lib/python3.6/dist-packages/torch/nn/modules/module.py\u001b[0m in \u001b[0;36m__call__\u001b[0;34m(self, *input, **kwargs)\u001b[0m\n\u001b[1;32m    548\u001b[0m             \u001b[0mresult\u001b[0m \u001b[0;34m=\u001b[0m \u001b[0mself\u001b[0m\u001b[0;34m.\u001b[0m\u001b[0m_slow_forward\u001b[0m\u001b[0;34m(\u001b[0m\u001b[0;34m*\u001b[0m\u001b[0minput\u001b[0m\u001b[0;34m,\u001b[0m \u001b[0;34m**\u001b[0m\u001b[0mkwargs\u001b[0m\u001b[0;34m)\u001b[0m\u001b[0;34m\u001b[0m\u001b[0;34m\u001b[0m\u001b[0m\n\u001b[1;32m    549\u001b[0m         \u001b[0;32melse\u001b[0m\u001b[0;34m:\u001b[0m\u001b[0;34m\u001b[0m\u001b[0;34m\u001b[0m\u001b[0m\n\u001b[0;32m--> 550\u001b[0;31m             \u001b[0mresult\u001b[0m \u001b[0;34m=\u001b[0m \u001b[0mself\u001b[0m\u001b[0;34m.\u001b[0m\u001b[0mforward\u001b[0m\u001b[0;34m(\u001b[0m\u001b[0;34m*\u001b[0m\u001b[0minput\u001b[0m\u001b[0;34m,\u001b[0m \u001b[0;34m**\u001b[0m\u001b[0mkwargs\u001b[0m\u001b[0;34m)\u001b[0m\u001b[0;34m\u001b[0m\u001b[0;34m\u001b[0m\u001b[0m\n\u001b[0m\u001b[1;32m    551\u001b[0m         \u001b[0;32mfor\u001b[0m \u001b[0mhook\u001b[0m \u001b[0;32min\u001b[0m \u001b[0mself\u001b[0m\u001b[0;34m.\u001b[0m\u001b[0m_forward_hooks\u001b[0m\u001b[0;34m.\u001b[0m\u001b[0mvalues\u001b[0m\u001b[0;34m(\u001b[0m\u001b[0;34m)\u001b[0m\u001b[0;34m:\u001b[0m\u001b[0;34m\u001b[0m\u001b[0;34m\u001b[0m\u001b[0m\n\u001b[1;32m    552\u001b[0m             \u001b[0mhook_result\u001b[0m \u001b[0;34m=\u001b[0m \u001b[0mhook\u001b[0m\u001b[0;34m(\u001b[0m\u001b[0mself\u001b[0m\u001b[0;34m,\u001b[0m \u001b[0minput\u001b[0m\u001b[0;34m,\u001b[0m \u001b[0mresult\u001b[0m\u001b[0;34m)\u001b[0m\u001b[0;34m\u001b[0m\u001b[0;34m\u001b[0m\u001b[0m\n",
            "\u001b[0;32m/usr/local/lib/python3.6/dist-packages/transformers/modeling_bert.py\u001b[0m in \u001b[0;36mforward\u001b[0;34m(self, hidden_states, attention_mask, head_mask, encoder_hidden_states, encoder_attention_mask)\u001b[0m\n\u001b[1;32m    313\u001b[0m     ):\n\u001b[1;32m    314\u001b[0m         self_outputs = self.self(\n\u001b[0;32m--> 315\u001b[0;31m             \u001b[0mhidden_states\u001b[0m\u001b[0;34m,\u001b[0m \u001b[0mattention_mask\u001b[0m\u001b[0;34m,\u001b[0m \u001b[0mhead_mask\u001b[0m\u001b[0;34m,\u001b[0m \u001b[0mencoder_hidden_states\u001b[0m\u001b[0;34m,\u001b[0m \u001b[0mencoder_attention_mask\u001b[0m\u001b[0;34m\u001b[0m\u001b[0;34m\u001b[0m\u001b[0m\n\u001b[0m\u001b[1;32m    316\u001b[0m         )\n\u001b[1;32m    317\u001b[0m         \u001b[0mattention_output\u001b[0m \u001b[0;34m=\u001b[0m \u001b[0mself\u001b[0m\u001b[0;34m.\u001b[0m\u001b[0moutput\u001b[0m\u001b[0;34m(\u001b[0m\u001b[0mself_outputs\u001b[0m\u001b[0;34m[\u001b[0m\u001b[0;36m0\u001b[0m\u001b[0;34m]\u001b[0m\u001b[0;34m,\u001b[0m \u001b[0mhidden_states\u001b[0m\u001b[0;34m)\u001b[0m\u001b[0;34m\u001b[0m\u001b[0;34m\u001b[0m\u001b[0m\n",
            "\u001b[0;32m/usr/local/lib/python3.6/dist-packages/torch/nn/modules/module.py\u001b[0m in \u001b[0;36m__call__\u001b[0;34m(self, *input, **kwargs)\u001b[0m\n\u001b[1;32m    548\u001b[0m             \u001b[0mresult\u001b[0m \u001b[0;34m=\u001b[0m \u001b[0mself\u001b[0m\u001b[0;34m.\u001b[0m\u001b[0m_slow_forward\u001b[0m\u001b[0;34m(\u001b[0m\u001b[0;34m*\u001b[0m\u001b[0minput\u001b[0m\u001b[0;34m,\u001b[0m \u001b[0;34m**\u001b[0m\u001b[0mkwargs\u001b[0m\u001b[0;34m)\u001b[0m\u001b[0;34m\u001b[0m\u001b[0;34m\u001b[0m\u001b[0m\n\u001b[1;32m    549\u001b[0m         \u001b[0;32melse\u001b[0m\u001b[0;34m:\u001b[0m\u001b[0;34m\u001b[0m\u001b[0;34m\u001b[0m\u001b[0m\n\u001b[0;32m--> 550\u001b[0;31m             \u001b[0mresult\u001b[0m \u001b[0;34m=\u001b[0m \u001b[0mself\u001b[0m\u001b[0;34m.\u001b[0m\u001b[0mforward\u001b[0m\u001b[0;34m(\u001b[0m\u001b[0;34m*\u001b[0m\u001b[0minput\u001b[0m\u001b[0;34m,\u001b[0m \u001b[0;34m**\u001b[0m\u001b[0mkwargs\u001b[0m\u001b[0;34m)\u001b[0m\u001b[0;34m\u001b[0m\u001b[0;34m\u001b[0m\u001b[0m\n\u001b[0m\u001b[1;32m    551\u001b[0m         \u001b[0;32mfor\u001b[0m \u001b[0mhook\u001b[0m \u001b[0;32min\u001b[0m \u001b[0mself\u001b[0m\u001b[0;34m.\u001b[0m\u001b[0m_forward_hooks\u001b[0m\u001b[0;34m.\u001b[0m\u001b[0mvalues\u001b[0m\u001b[0;34m(\u001b[0m\u001b[0;34m)\u001b[0m\u001b[0;34m:\u001b[0m\u001b[0;34m\u001b[0m\u001b[0;34m\u001b[0m\u001b[0m\n\u001b[1;32m    552\u001b[0m             \u001b[0mhook_result\u001b[0m \u001b[0;34m=\u001b[0m \u001b[0mhook\u001b[0m\u001b[0;34m(\u001b[0m\u001b[0mself\u001b[0m\u001b[0;34m,\u001b[0m \u001b[0minput\u001b[0m\u001b[0;34m,\u001b[0m \u001b[0mresult\u001b[0m\u001b[0;34m)\u001b[0m\u001b[0;34m\u001b[0m\u001b[0;34m\u001b[0m\u001b[0m\n",
            "\u001b[0;32m/usr/local/lib/python3.6/dist-packages/transformers/modeling_bert.py\u001b[0m in \u001b[0;36mforward\u001b[0;34m(self, hidden_states, attention_mask, head_mask, encoder_hidden_states, encoder_attention_mask)\u001b[0m\n\u001b[1;32m    233\u001b[0m \u001b[0;34m\u001b[0m\u001b[0m\n\u001b[1;32m    234\u001b[0m         \u001b[0;31m# Take the dot product between \"query\" and \"key\" to get the raw attention scores.\u001b[0m\u001b[0;34m\u001b[0m\u001b[0;34m\u001b[0m\u001b[0;34m\u001b[0m\u001b[0m\n\u001b[0;32m--> 235\u001b[0;31m         \u001b[0mattention_scores\u001b[0m \u001b[0;34m=\u001b[0m \u001b[0mtorch\u001b[0m\u001b[0;34m.\u001b[0m\u001b[0mmatmul\u001b[0m\u001b[0;34m(\u001b[0m\u001b[0mquery_layer\u001b[0m\u001b[0;34m,\u001b[0m \u001b[0mkey_layer\u001b[0m\u001b[0;34m.\u001b[0m\u001b[0mtranspose\u001b[0m\u001b[0;34m(\u001b[0m\u001b[0;34m-\u001b[0m\u001b[0;36m1\u001b[0m\u001b[0;34m,\u001b[0m \u001b[0;34m-\u001b[0m\u001b[0;36m2\u001b[0m\u001b[0;34m)\u001b[0m\u001b[0;34m)\u001b[0m\u001b[0;34m\u001b[0m\u001b[0;34m\u001b[0m\u001b[0m\n\u001b[0m\u001b[1;32m    236\u001b[0m         \u001b[0mattention_scores\u001b[0m \u001b[0;34m=\u001b[0m \u001b[0mattention_scores\u001b[0m \u001b[0;34m/\u001b[0m \u001b[0mmath\u001b[0m\u001b[0;34m.\u001b[0m\u001b[0msqrt\u001b[0m\u001b[0;34m(\u001b[0m\u001b[0mself\u001b[0m\u001b[0;34m.\u001b[0m\u001b[0mattention_head_size\u001b[0m\u001b[0;34m)\u001b[0m\u001b[0;34m\u001b[0m\u001b[0;34m\u001b[0m\u001b[0m\n\u001b[1;32m    237\u001b[0m         \u001b[0;32mif\u001b[0m \u001b[0mattention_mask\u001b[0m \u001b[0;32mis\u001b[0m \u001b[0;32mnot\u001b[0m \u001b[0;32mNone\u001b[0m\u001b[0;34m:\u001b[0m\u001b[0;34m\u001b[0m\u001b[0;34m\u001b[0m\u001b[0m\n",
            "\u001b[0;31mRuntimeError\u001b[0m: CUDA out of memory. Tried to allocate 20.00 MiB (GPU 0; 11.17 GiB total capacity; 8.61 GiB already allocated; 5.81 MiB free; 8.77 GiB reserved in total by PyTorch)"
          ]
        }
      ]
    },
    {
      "cell_type": "code",
      "metadata": {
        "id": "sD7a_VBJ2aXN",
        "colab_type": "code",
        "colab": {}
      },
      "source": [
        "!rm GraphWriter-master/data/preprocessed.test.tsv"
      ],
      "execution_count": null,
      "outputs": []
    },
    {
      "cell_type": "code",
      "metadata": {
        "id": "jvXGn7VDvgBl",
        "colab_type": "code",
        "colab": {}
      },
      "source": [
        "m=pd.DataFrame(data=graphWriterData)\n",
        "m.to_csv('GraphWriter-master/data/preprocessed.test.tsv', sep='\\t', index=False, header=False)"
      ],
      "execution_count": null,
      "outputs": []
    },
    {
      "cell_type": "code",
      "metadata": {
        "id": "CdPdcf-uG3yS",
        "colab_type": "code",
        "colab": {}
      },
      "source": [
        "for knowledgeGraph in knowledgeGraphs:\n",
        "  knowledgeGraph.draw()"
      ],
      "execution_count": null,
      "outputs": []
    },
    {
      "cell_type": "markdown",
      "metadata": {
        "id": "pAEw1xYZz7yk",
        "colab_type": "text"
      },
      "source": [
        "Text Generation via GraphWriter"
      ]
    },
    {
      "cell_type": "code",
      "metadata": {
        "id": "TZUQj4TxyJ47",
        "colab_type": "code",
        "colab": {}
      },
      "source": [
        "!python GraphWriter-master/generator.py -save=GraphWriter-master/partisan-responses/2.vloss-3.949412.lr-0.05"
      ],
      "execution_count": null,
      "outputs": []
    }
  ]
}