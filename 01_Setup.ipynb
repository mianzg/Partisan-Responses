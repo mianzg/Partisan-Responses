{
 "cells": [
  {
   "cell_type": "markdown",
   "metadata": {
    "colab_type": "text",
    "id": "view-in-github"
   },
   "source": [
    "<a href=\"https://colab.research.google.com/github/rostro36/Partisan-Responses/blob/master/01_Setup.ipynb\" target=\"_parent\"><img src=\"https://colab.research.google.com/assets/colab-badge.svg\" alt=\"Open In Colab\"/></a>"
   ]
  },
  {
   "cell_type": "markdown",
   "metadata": {
    "colab_type": "text",
    "id": "MyWVhIpscXT7"
   },
   "source": [
    "Give permission to use My Drive"
   ]
  },
  {
   "cell_type": "code",
   "execution_count": null,
   "metadata": {
    "colab": {},
    "colab_type": "code",
    "id": "cx3Q0JWrcS2Q"
   },
   "outputs": [],
   "source": [
    "from google.colab import drive\n",
    "drive.mount('/content/drive')\n",
    "\n",
    "import os\n",
    "os.chdir('/content/drive/My Drive')"
   ]
  },
  {
   "cell_type": "markdown",
   "metadata": {
    "colab_type": "text",
    "id": "49gPwzjNce8M"
   },
   "source": [
    "Clone Partisan-Responses and GraphWriter repo."
   ]
  },
  {
   "cell_type": "code",
   "execution_count": null,
   "metadata": {
    "colab": {},
    "colab_type": "code",
    "id": "YA8AOOmhc5DS"
   },
   "outputs": [],
   "source": [
    "!git clone https://github.com/rostro36/Partisan-Responses.git\n",
    "!wget https://github.com/rikdz/GraphWriter/archive/f228420aa48697dfb7a1ced3a62f955031664ed3.zip\n",
    "!unzip f228420aa48697dfb7a1ced3a62f955031664ed3.zip\n",
    "!mv GraphWriter-f228420aa48697dfb7a1ced3a62f955031664ed3 GraphWriter-master\n",
    "!rm f228420aa48697dfb7a1ced3a62f955031664ed3.zip"
   ]
  },
  {
   "cell_type": "markdown",
   "metadata": {
    "colab_type": "text",
    "id": "_gDFwWdegu9K"
   },
   "source": [
    "Alter GraphWriter"
   ]
  },
  {
   "cell_type": "code",
   "execution_count": null,
   "metadata": {
    "colab": {},
    "colab_type": "code",
    "id": "GquSuSWVgt9w"
   },
   "outputs": [],
   "source": [
    "!sed -i 's/generics =\\['\\''<method>'\\'','\\''<material>'\\'','\\''<otherscientificterm>'\\'','\\''<metric>'\\'','\\''<task>'\\''\\]/generics =\\['\\''phrase'\\''\\]/g' GraphWriter-master/lastDataset.py\n",
    "!sed -i 's/specials = \"method material otherscientificterm metric task\".split(\" \")/specials = \"phrase\".split(\" \")/g' GraphWriter-master/lastDataset.py\n",
    "!rm -r GraphWriter-master/data\n",
    "!mkdir GraphWriter-master/data"
   ]
  },
  {
   "cell_type": "markdown",
   "metadata": {
    "colab_type": "text",
    "id": "engljxJ6eQfv"
   },
   "source": [
    "Download data from [Stanford](https://data.stanford.edu/congress_text#download-data)"
   ]
  },
  {
   "cell_type": "code",
   "execution_count": null,
   "metadata": {
    "colab": {},
    "colab_type": "code",
    "id": "LeLi5VG5eURY"
   },
   "outputs": [],
   "source": [
    "!wget https://stacks.stanford.edu/file/druid:md374tz9962/hein-bound.zip\n",
    "!unzip hein-bound.zip"
   ]
  },
  {
   "cell_type": "code",
   "execution_count": null,
   "metadata": {
    "colab": {},
    "colab_type": "code",
    "id": "AZKjKbhVoJ8T"
   },
   "outputs": [],
   "source": [
    "!cd hein-bound\n",
    "!wget https://stacks.stanford.edu/file/druid:md374tz9962/phrase_clusters.zip\n",
    "!unzip phrase_clusters\n",
    "!mv phrase_clusters/topic_phrases.txt topic_phrases.txt"
   ]
  },
  {
   "cell_type": "markdown",
   "metadata": {
    "colab_type": "text",
    "id": "JOSUh2MLfGTr"
   },
   "source": [
    "There should now be three folders in My Drive:\n",
    "- Partisan-Responses-master\n",
    "- GraphWriter-master\n",
    "- hein-bound"
   ]
  }
 ],
 "metadata": {
  "colab": {
   "include_colab_link": true,
   "name": "01. Setup.ipynb",
   "provenance": []
  },
  "kernelspec": {
   "display_name": "Python 3",
   "language": "python",
   "name": "python3"
  },
  "language_info": {
   "codemirror_mode": {
    "name": "ipython",
    "version": 3
   },
   "file_extension": ".py",
   "mimetype": "text/x-python",
   "name": "python",
   "nbconvert_exporter": "python",
   "pygments_lexer": "ipython3",
   "version": "3.7.4"
  }
 },
 "nbformat": 4,
 "nbformat_minor": 1
}
