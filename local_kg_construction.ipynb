{
 "cells": [
  {
   "cell_type": "code",
   "execution_count": null,
   "metadata": {},
   "outputs": [],
   "source": [
    "from allennlp.predictors.predictor import Predictor\n",
    "import allennlp_models.structured_prediction\n",
    "import allennlp_models.coref"
   ]
  },
  {
   "cell_type": "code",
   "execution_count": null,
   "metadata": {},
   "outputs": [],
   "source": [
    "#Full speech\n",
    "filepath = \"./data/hein-bound/speeches_111.txt\"\n",
    "with open(filepath, errors=\"ignore\") as f:\n",
    "    speech = f.readlines()\n",
    "    speech = [s.replace(\"\\n\", \"\").replace(\" | \", \" \").split(\"|\") for s in speech]#Full speech\n",
    "filepath = \"./data/hein-bound/speeches_111.txt\"\n",
    "with open(filepath, errors=\"ignore\") as f:\n",
    "    speech = f.readlines()\n",
    "    speech = [s.replace(\"\\n\", \"\").replace(\" | \", \" \").split(\"|\") for s in speech]\n",
    "    \n",
    "sample_speech = speech[341][1]\n",
    "sample_speechsample_speech = speech[341][1]\n",
    "sample_speech"
   ]
  },
  {
   "cell_type": "code",
   "execution_count": null,
   "metadata": {},
   "outputs": [],
   "source": [
    "sents = nltk.tokenize.sent_tokenize(sample_speech)\n",
    "sents = nltk.tokenize.sent_tokenize(sample_speech)\n"
   ]
  }
 ],
 "metadata": {
  "language_info": {
   "codemirror_mode": {
    "name": "ipython",
    "version": 3
   },
   "file_extension": ".py",
   "mimetype": "text/x-python",
   "name": "python",
   "nbconvert_exporter": "python",
   "pygments_lexer": "ipython3",
   "version": 3
  },
  "orig_nbformat": 2
 },
 "nbformat": 4,
 "nbformat_minor": 2
}