{
 "cells": [
  {
   "cell_type": "code",
   "execution_count": 3,
   "metadata": {},
   "outputs": [],
   "source": [
    "from allennlp.predictors.predictor import Predictor\n",
    "import allennlp_models.structured_prediction\n",
    "import allennlp_models.coref\n",
    "import nltk\n",
    "import re\n",
    "import utils "
   ]
  },
  {
   "cell_type": "markdown",
   "metadata": {},
   "source": [
    "## Read Data"
   ]
  },
  {
   "cell_type": "code",
   "execution_count": 2,
   "metadata": {},
   "outputs": [],
   "source": [
    "#Full speech\n",
    "filepath = \"./data/hein-bound/speeches_111.txt\"\n",
    "speech_df = utils.read_full_speech(filepath)\n",
    "#speech_df.head()"
   ]
  },
  {
   "cell_type": "code",
   "execution_count": 3,
   "metadata": {},
   "outputs": [],
   "source": [
    "speakermap = \"./data/hein-bound/111_SpeakerMap.txt\"\n",
    "speakermap_df = utils.read_speakermap(speakermap)\n",
    "#speakermap_df.head()"
   ]
  },
  {
   "cell_type": "code",
   "execution_count": 4,
   "metadata": {},
   "outputs": [],
   "source": [
    "merged_speech_df  = utils.merge_speech_speaker(speech_df, speakermap_df)"
   ]
  },
  {
   "cell_type": "code",
   "execution_count": 12,
   "metadata": {},
   "outputs": [
    {
     "output_type": "execute_result",
     "data": {
      "text/plain": "(112550, 11)"
     },
     "metadata": {},
     "execution_count": 12
    }
   ],
   "source": [
    "merged_speech_df.shape"
   ]
  },
  {
   "cell_type": "markdown",
   "metadata": {},
   "source": [
    "## Build Triplets"
   ]
  },
  {
   "cell_type": "code",
   "execution_count": 5,
   "metadata": {},
   "outputs": [
    {
     "output_type": "stream",
     "name": "stderr",
     "text": "WARNING:allennlp.nn.initializers:Did not use initialization regex that was passed: _context_layer._module.weight_ih.*\nWARNING:allennlp.nn.initializers:Did not use initialization regex that was passed: _context_layer._module.weight_hh.*\n"
    }
   ],
   "source": [
    "open_info_extractor = Predictor.from_path(\"https://storage.googleapis.com/allennlp-public-models/openie-model.2020.03.26.tar.gz\")\n",
    "coref_extractor = Predictor.from_path(\"https://storage.googleapis.com/allennlp-public-models/coref-spanbert-large-2020.02.27.tar.gz\")"
   ]
  },
  {
   "cell_type": "code",
   "execution_count": 6,
   "metadata": {},
   "outputs": [],
   "source": [
    "from Speech import Speech"
   ]
  },
  {
   "cell_type": "code",
   "execution_count": 7,
   "metadata": {
    "tags": [
     "outputPrepend"
    ]
   },
   "outputs": [
    {
     "output_type": "stream",
     "name": "stdout",
     "text": "35 s ± 1.93 s per loop (mean ± std. dev. of 7 runs, 1 loop each)\n"
    }
   ],
   "source": [
    "%%timeit\n",
    "sample_speech = Speech(merged_speech_df.loc[200]) # 566 , 341\n",
    "sample_speech.change_comma()\n",
    "sample_triplets = sample_speech.create_triplet(coref_extractor, open_info_extractor)"
   ]
  },
  {
   "cell_type": "code",
   "execution_count": 8,
   "metadata": {},
   "outputs": [
    {
     "output_type": "execute_result",
     "data": {
      "text/plain": "'Mr. President. I rise today to offer legislation to provide lawful permanent residence status to Alfredo Plascencia Lopez and his wife. Maria del Refugio Plascencia. Mexican nationals who live in the San Bruno area of California. I have decided to offer legislation on their behalf because I believe that. without it. this hardworking couple and their four United States citizen children would endure an immense and unfair hardship. Indeed. without this legislation. this family may not remain a family for much longer. The Plascencias have worked for years to adjust their status through the appropriate legal channels. only to have their efforts thwarted by inattentive legal counsel. Repeatedly. the Plascencias lawyer refused to return their calls or otherwise communicate with them in anyway. He also failed to forward crucial immigration documents. or even notify the Plascencias that he had them. Because of the poor representation they received. Mr. and Mrs. Plascencia only became aware that they had been ordered to leave the country 15 days prior to their deportation. Although the family was stunned and devastated by this discovery. they acted quickly to secure legitimate counsel and to file the appropriate paperwork to delay their deportation to determine if any other legal action could be taken. For several reasons. it would be tragic for this family to be removed from the United States. First. since arriving in the United States in 1988. Mr. and Mrs. Plascencia have proven themselves to be a responsible and civicminded couple who share our American values of hard work. dedication to family. and devotion to community. Second. Mr. Plascencia has been gainfully employed at Vinces Shellfish for the over 14 years. where his dedication and willingness to learn have propelled him from parttime work to a managerial position. He now overseas the markets entire packing operation and several employees. The president of the market. in one of the several dozen letters I have received in support of Mr. Plascencia. referred to him as \"a valuable and respected employee\" who \"handles himself in a very professional manner\" and serves as \"a role model\" to other employees. Others who have written to me praising Mr. Plascencias job performance have referred to him as \"gifted.\" \"trusted.\" \"honest.\" and \"reliable.\" Third. like her husband. Mrs. Plascencia has distinguished herself as a medical assistant at a Kaiser Permanente hospital in the Bay Area. 55. Pt. 1 January 6. 2009 Not satisfied with working as a maid at a local hotel. Mrs. Plascencia went to school. earned her high school equivalency degree and improved her skills to become a medical assistant. Those who have written to me in support of Mrs. Plascencia. of which there are several. have described her work as \"responsible.\" \"efficient.\" and \"compassionate.\" In fact. Kaiser Permanentes Director of Internal Medicine. Nurse Rose Carino. wrote to say that Mrs. Plascencia is \"an asset to the community and exemplifies the virtues we Americans extol: hardworking. devoted to her family. trustworthy and loyal. [and] involved in her community. She and her family are a solid example of the type of immigrant that America should welcome wholeheartedly.\" Mrs. Carino went on to write that Mrs. Plascencia is \"an excellent employee and role model for her colleagues. She works in a very demanding unit. Oncology. and is valued and depended on by the physicians she works with.\" Together. Mr. and Mrs. Plascencia have used their professional successes to realize many of the goals dreamed of by all Americans. They saved up and bought a home. They own a car. They have good health care benefits and they each have begun saving for retirement. They want to send their children to college and give them an even better life. This legislation is important because it would preserve these achievements and ensure that Mr. and Mrs. Plascencia will be able to make substantive contributions to the community in the future. It is important. also. because of the positive impact it will have on the couples children. each of whom is a United States citizen and each of whom is well on their way to becoming productive members of the Bay Area community. Christina. 17. is the Plascencias oldest child. and an honor student. Erika. 14. and Alfredo. Jr.. 12. have worked hard at their studies and received praise and good grades from their teachers. In fact. the principal of Erikas school has recognized her as the \"Most Artistic\" student in her class. Erikas teacher. Mrs. Nascon. remarked on a report card. \"Erika is a bright spot in my classroom.\" The Plascencias also have two young children: 6yearold Daisy and 2yearold JuanPablo. Removing Mr. and Mrs. Plascencia from the United States would be tragic for their children. Children who were born in the United States and who through no fault of their own have been thrust into a situation that has the potential to dramatically alter their lives. It would be especially tragic for the Plascencias older childrenChristina. January 6. 2009 CONGRE Erika. and Alfredoto have to leave the United States. They are old enough to understand that they are leaving their schools. their teachers. their friends. and their home. They would leave everything that is familiar to them. Their parents would find themselves in Mexico without a job and without a house. The children would have to acclimate to a different culture. language. and way of life. The only other option would be for Mr. and Mrs. Plascencia to leave their children here with relatives. This separation is a choice which no parents should have to make. Many of the words I have used to describe Mr. and Mrs. Plascencia are not my own. They are the words of the Americans who live and work with the Plascencias day in and day out and who find them to embody the American spirit. I have sponsored this legislation. and asked my colleagues to support it. because I believe that this is a spirit that we must nurture wherever we can find it. Forcing the Plascencias to leave the United States would extinguish that spirit. I ask my colleagues to support this private bill on behalf of the Plascencia family. Mr. President. I ask unanimous consent that the text of the bill be printed in the RECORD.'"
     },
     "metadata": {},
     "execution_count": 8
    }
   ],
   "source": [
    "merged_speech_df.loc[200,\"speech\"]"
   ]
  },
  {
   "cell_type": "code",
   "execution_count": 8,
   "metadata": {},
   "outputs": [],
   "source": [
    "from Search import Search\n",
    "import pandas as pd\n",
    "import io\n",
    "import pyarrow"
   ]
  },
  {
   "cell_type": "code",
   "execution_count": 3,
   "metadata": {},
   "outputs": [],
   "source": [
    "#!conda install pyarrow"
   ]
  },
  {
   "cell_type": "code",
   "execution_count": 11,
   "metadata": {},
   "outputs": [
    {
     "output_type": "error",
     "ename": "ArrowInvalid",
     "evalue": "Not a feather file",
     "traceback": [
      "\u001b[0;31m---------------------------------------------------------------------------\u001b[0m",
      "\u001b[0;31mArrowInvalid\u001b[0m                              Traceback (most recent call last)",
      "\u001b[0;32m<ipython-input-11-2eac39140154>\u001b[0m in \u001b[0;36m<module>\u001b[0;34m\u001b[0m\n\u001b[1;32m      1\u001b[0m \u001b[0;32mwith\u001b[0m \u001b[0mopen\u001b[0m\u001b[0;34m(\u001b[0m\u001b[0;34m\"./context.feather\"\u001b[0m\u001b[0;34m,\u001b[0m \u001b[0;34m\"rb\"\u001b[0m\u001b[0;34m)\u001b[0m \u001b[0;32mas\u001b[0m \u001b[0mf\u001b[0m\u001b[0;34m:\u001b[0m\u001b[0;34m\u001b[0m\u001b[0;34m\u001b[0m\u001b[0m\n\u001b[0;32m----> 2\u001b[0;31m     \u001b[0mdf\u001b[0m \u001b[0;34m=\u001b[0m \u001b[0mpyarrow\u001b[0m\u001b[0;34m.\u001b[0m\u001b[0mfeather\u001b[0m\u001b[0;34m.\u001b[0m\u001b[0mread_feather\u001b[0m\u001b[0;34m(\u001b[0m\u001b[0mf\u001b[0m\u001b[0;34m)\u001b[0m\u001b[0;34m\u001b[0m\u001b[0;34m\u001b[0m\u001b[0m\n\u001b[0m\u001b[1;32m      3\u001b[0m \u001b[0mspeeches\u001b[0m \u001b[0;34m=\u001b[0m \u001b[0mdf\u001b[0m\u001b[0;34m.\u001b[0m\u001b[0mcontext\u001b[0m\u001b[0;34m\u001b[0m\u001b[0;34m\u001b[0m\u001b[0m\n\u001b[1;32m      4\u001b[0m \u001b[0mlemmas\u001b[0m \u001b[0;34m=\u001b[0m \u001b[0mdf\u001b[0m\u001b[0;34m.\u001b[0m\u001b[0mlemmas\u001b[0m\u001b[0;34m\u001b[0m\u001b[0;34m\u001b[0m\u001b[0m\n\u001b[1;32m      5\u001b[0m \u001b[0;34m\u001b[0m\u001b[0m\n",
      "\u001b[0;32m/anaconda3/lib/python3.7/site-packages/pyarrow/feather.py\u001b[0m in \u001b[0;36mread_feather\u001b[0;34m(source, columns, use_threads)\u001b[0m\n\u001b[1;32m    212\u001b[0m \u001b[0;34m\u001b[0m\u001b[0m\n\u001b[1;32m    213\u001b[0m \u001b[0;32mdef\u001b[0m \u001b[0mread_table\u001b[0m\u001b[0;34m(\u001b[0m\u001b[0msource\u001b[0m\u001b[0;34m,\u001b[0m \u001b[0mcolumns\u001b[0m\u001b[0;34m=\u001b[0m\u001b[0;32mNone\u001b[0m\u001b[0;34m)\u001b[0m\u001b[0;34m:\u001b[0m\u001b[0;34m\u001b[0m\u001b[0;34m\u001b[0m\u001b[0m\n\u001b[0;32m--> 214\u001b[0;31m     \"\"\"\n\u001b[0m\u001b[1;32m    215\u001b[0m     \u001b[0mRead\u001b[0m \u001b[0ma\u001b[0m \u001b[0mpyarrow\u001b[0m\u001b[0;34m.\u001b[0m\u001b[0mTable\u001b[0m \u001b[0;32mfrom\u001b[0m \u001b[0mFeather\u001b[0m \u001b[0mformat\u001b[0m\u001b[0;34m\u001b[0m\u001b[0;34m\u001b[0m\u001b[0m\n\u001b[1;32m    216\u001b[0m \u001b[0;34m\u001b[0m\u001b[0m\n",
      "\u001b[0;32m/anaconda3/lib/python3.7/site-packages/pyarrow/feather.py\u001b[0m in \u001b[0;36m__init__\u001b[0;34m(self, source)\u001b[0m\n\u001b[1;32m     38\u001b[0m     \u001b[0;32mraise\u001b[0m \u001b[0mImportError\u001b[0m\u001b[0;34m(\u001b[0m\u001b[0;34m\"feather requires pandas >= 0.17.0\"\u001b[0m\u001b[0;34m)\u001b[0m\u001b[0;34m\u001b[0m\u001b[0;34m\u001b[0m\u001b[0m\n\u001b[1;32m     39\u001b[0m \u001b[0;34m\u001b[0m\u001b[0m\n\u001b[0;32m---> 40\u001b[0;31m \u001b[0;34m\u001b[0m\u001b[0m\n\u001b[0m\u001b[1;32m     41\u001b[0m \u001b[0;32mclass\u001b[0m \u001b[0mFeatherReader\u001b[0m\u001b[0;34m(\u001b[0m\u001b[0mext\u001b[0m\u001b[0;34m.\u001b[0m\u001b[0mFeatherReader\u001b[0m\u001b[0;34m)\u001b[0m\u001b[0;34m:\u001b[0m\u001b[0;34m\u001b[0m\u001b[0;34m\u001b[0m\u001b[0m\n\u001b[1;32m     42\u001b[0m \u001b[0;34m\u001b[0m\u001b[0m\n",
      "\u001b[0;32m/anaconda3/lib/python3.7/site-packages/pyarrow/feather.pxi\u001b[0m in \u001b[0;36mpyarrow.lib.FeatherReader.open\u001b[0;34m()\u001b[0m\n",
      "\u001b[0;32m/anaconda3/lib/python3.7/site-packages/pyarrow/error.pxi\u001b[0m in \u001b[0;36mpyarrow.lib.check_status\u001b[0;34m()\u001b[0m\n",
      "\u001b[0;31mArrowInvalid\u001b[0m: Not a feather file"
     ]
    }
   ],
   "source": [
    "with open(\"./context.feather\", \"rb\") as f:\n",
    "    df = pyarrow.feather.read_feather(f)\n",
    "speeches = df.context\n",
    "lemmas = df.lemmas\n",
    "\n",
    "search = Search(speeches, lemmas)\n",
    "question = \"What reforms were adopted by the 110th Congress?\"\n",
    "results = search.search(question)\n",
    "print(\"----- Search Done -----\")\n",
    "\n",
    "#sample_speech = Speech() # 566 , 341\n",
    "#sample_triplets = sample_speech.change_comma().create_triplet(coref_extractor, open_info_extractor)"
   ]
  },
  {
   "cell_type": "code",
   "execution_count": null,
   "metadata": {},
   "outputs": [],
   "source": []
  }
 ],
 "metadata": {
  "language_info": {
   "codemirror_mode": {
    "name": "ipython",
    "version": 3
   },
   "file_extension": ".py",
   "mimetype": "text/x-python",
   "name": "python",
   "nbconvert_exporter": "python",
   "pygments_lexer": "ipython3",
   "version": "3.7.4-final"
  },
  "orig_nbformat": 2,
  "kernelspec": {
   "name": "python3",
   "display_name": "Python 3"
  }
 },
 "nbformat": 4,
 "nbformat_minor": 2
}