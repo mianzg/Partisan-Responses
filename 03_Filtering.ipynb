{
 "cells": [
  {
   "cell_type": "code",
   "execution_count": null,
   "metadata": {},
   "outputs": [],
   "source": [
    "from google.colab import drive\n",
    "drive.mount('/content/drive')\n",
    "\n",
    "import os\n",
    "os.chdir('/content/drive/My Drive/Partisan-Responses-master')"
   ]
  },
  {
   "cell_type": "markdown",
   "metadata": {},
   "source": [
    "Import libraries"
   ]
  },
  {
   "cell_type": "code",
   "execution_count": 2,
   "metadata": {
    "tags": []
   },
   "outputs": [],
   "source": [
    "import pandas as pd\n",
    "import numpy as np\n",
    "import spacy\n",
    "import nltk\n",
    "from nltk.stem import PorterStemmer\n",
    "from nltk.tokenize import word_tokenize\n",
    "import re\n",
    "from tqdm import tqdm\n",
    "import time\n",
    "\n",
    "import matplotlib.pyplot as plt\n",
    "%matplotlib inline"
   ]
  },
  {
   "cell_type": "markdown",
   "metadata": {},
   "source": [
    "#### Get questions and answers from all years"
   ]
  },
  {
   "cell_type": "code",
   "execution_count": 7,
   "metadata": {
    "scrolled": true
   },
   "outputs": [
    {
     "name": "stderr",
     "output_type": "stream",
     "text": [
      "100%|█████████████████████████████████████████████████████████████████████████| 141407/141407 [14:41<00:00, 160.41it/s]\n"
     ]
    },
    {
     "name": "stdout",
     "output_type": "stream",
     "text": [
      "finished file 106. 58394 pairs found\n"
     ]
    },
    {
     "name": "stderr",
     "output_type": "stream",
     "text": [
      "100%|█████████████████████████████████████████████████████████████████████████| 116415/116415 [11:44<00:00, 165.27it/s]\n"
     ]
    },
    {
     "name": "stdout",
     "output_type": "stream",
     "text": [
      "finished file 107. 47803 pairs found\n"
     ]
    },
    {
     "name": "stderr",
     "output_type": "stream",
     "text": [
      "100%|█████████████████████████████████████████████████████████████████████████| 125664/125664 [12:26<00:00, 168.34it/s]\n"
     ]
    },
    {
     "name": "stdout",
     "output_type": "stream",
     "text": [
      "finished file 108. 52659 pairs found\n"
     ]
    },
    {
     "name": "stderr",
     "output_type": "stream",
     "text": [
      "100%|█████████████████████████████████████████████████████████████████████████| 119506/119506 [12:10<00:00, 163.56it/s]\n"
     ]
    },
    {
     "name": "stdout",
     "output_type": "stream",
     "text": [
      "finished file 109. 52532 pairs found\n"
     ]
    },
    {
     "name": "stderr",
     "output_type": "stream",
     "text": [
      "100%|█████████████████████████████████████████████████████████████████████████| 133182/133182 [13:47<00:00, 160.87it/s]\n"
     ]
    },
    {
     "name": "stdout",
     "output_type": "stream",
     "text": [
      "finished file 110. 58011 pairs found\n"
     ]
    },
    {
     "name": "stderr",
     "output_type": "stream",
     "text": [
      "100%|█████████████████████████████████████████████████████████████████████████| 112550/112550 [11:01<00:00, 170.05it/s]\n"
     ]
    },
    {
     "name": "stdout",
     "output_type": "stream",
     "text": [
      "finished file 111. 52966 pairs found\n"
     ]
    },
    {
     "data": {
      "text/plain": [
       "'01:16:03'"
      ]
     },
     "execution_count": 7,
     "metadata": {},
     "output_type": "execute_result"
    }
   ],
   "source": [
    "start_time = time.time()\n",
    "bound = Heinbound(PATH)\n",
    "df = bound.filter_multiple_editions(range(106, 112))  #final range?"
   ]
  },
  {
   "cell_type": "code",
   "execution_count": 8,
   "metadata": {},
   "outputs": [],
   "source": [
    "df.to_pickle(\"all_speeches.pkl\")"
   ]
  },
  {
   "cell_type": "markdown",
   "metadata": {},
   "source": [
    "### Dataset Analysis"
   ]
  },
  {
   "cell_type": "code",
   "execution_count": 10,
   "metadata": {},
   "outputs": [],
   "source": [
    "df = pd.read_pickle(\"all_speeches.pkl\")"
   ]
  },
  {
   "cell_type": "code",
   "execution_count": 11,
   "metadata": {},
   "outputs": [],
   "source": [
    "no_sentences = []\n",
    "for i in range(len(df)):\n",
    "    answer = df.iloc[i].Questions\n",
    "    sents = nltk.sent_tokenize(answer)\n",
    "    no_sentences.append(len(sents))"
   ]
  },
  {
   "cell_type": "code",
   "execution_count": 12,
   "metadata": {},
   "outputs": [
    {
     "data": {
      "text/plain": [
       "(array([11050.,  9800.,  8985.,  9090.,  9570., 10249., 10791., 11160.,\n",
       "        11280., 10715., 10292.,  9726.,  9509.,  8752.,  8327.,  7891.,\n",
       "         7300.,  6904.,  6632.,  6228.,  5970.,  5503.,  5176.,  4972.,\n",
       "         4739.,  4486.,  4235.,  4114.,  3784.,  3680.,  3425.,  3318.,\n",
       "         3100.,  2988.,  2814.,  2669.,  2439.,  2452.,  2195.,  2054.,\n",
       "         2049.,  1944.,  1864.,  1691.,  1596.,  1570.,  1503.,  1414.,\n",
       "         1283.,     0.,  1276.,  1211.,  1087.,  1069.,  1004.,  1031.,\n",
       "          859.,   871.,   895.,   794.,   831.,   782.,   716.,   664.,\n",
       "          727.,   675.,   660.,   586.,   542.,   599.,   578.,   475.,\n",
       "          543.,   448.,   441.,   462.,   458.,   402.,   402.,   397.,\n",
       "          373.,   368.,   346.,   363.,   333.,   324.,   327.,   312.,\n",
       "          296.,   278.,   266.,   295.,   284.,   251.,   218.,   252.,\n",
       "          250.,   235.,   213.,   234.]),\n",
       " array([  2.  ,   2.98,   3.96,   4.94,   5.92,   6.9 ,   7.88,   8.86,\n",
       "          9.84,  10.82,  11.8 ,  12.78,  13.76,  14.74,  15.72,  16.7 ,\n",
       "         17.68,  18.66,  19.64,  20.62,  21.6 ,  22.58,  23.56,  24.54,\n",
       "         25.52,  26.5 ,  27.48,  28.46,  29.44,  30.42,  31.4 ,  32.38,\n",
       "         33.36,  34.34,  35.32,  36.3 ,  37.28,  38.26,  39.24,  40.22,\n",
       "         41.2 ,  42.18,  43.16,  44.14,  45.12,  46.1 ,  47.08,  48.06,\n",
       "         49.04,  50.02,  51.  ,  51.98,  52.96,  53.94,  54.92,  55.9 ,\n",
       "         56.88,  57.86,  58.84,  59.82,  60.8 ,  61.78,  62.76,  63.74,\n",
       "         64.72,  65.7 ,  66.68,  67.66,  68.64,  69.62,  70.6 ,  71.58,\n",
       "         72.56,  73.54,  74.52,  75.5 ,  76.48,  77.46,  78.44,  79.42,\n",
       "         80.4 ,  81.38,  82.36,  83.34,  84.32,  85.3 ,  86.28,  87.26,\n",
       "         88.24,  89.22,  90.2 ,  91.18,  92.16,  93.14,  94.12,  95.1 ,\n",
       "         96.08,  97.06,  98.04,  99.02, 100.  ]),\n",
       " <a list of 100 Patch objects>)"
      ]
     },
     "execution_count": 12,
     "metadata": {},
     "output_type": "execute_result"
    },
    {
     "data": {
      "image/png": "[encoded data removed]",
      "text/plain": [
       "<Figure size 432x288 with 1 Axes>"
      ]
     },
     "metadata": {
      "needs_background": "light"
     },
     "output_type": "display_data"
    }
   ],
   "source": [
    "plt.hist(no_sentences, bins=100, range=(2, 100), log=True)"
   ]
  },
  {
   "cell_type": "markdown",
   "metadata": {},
   "source": [
    "## Sentence Removal\n",
    "In this section, we continue preprocess speeches with the aim of removing administrative phrases and sentencese, e.g. \"Mr. Speker\", \"I reserve the balance of my time\""
   ]
  }
 ],
 "metadata": {
  "kernelspec": {
   "display_name": "Python 3",
   "language": "python",
   "name": "python3"
  },
  "language_info": {
   "codemirror_mode": {
    "name": "ipython",
    "version": 3
   },
   "file_extension": ".py",
   "mimetype": "text/x-python",
   "name": "python",
   "nbconvert_exporter": "python",
   "pygments_lexer": "ipython3",
   "version": "3.7.4"
  }
 },
 "nbformat": 4,
 "nbformat_minor": 2
}