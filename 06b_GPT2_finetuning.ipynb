{
  "nbformat": 4,
  "nbformat_minor": 0,
  "metadata": {
    "colab": {
      "name": "06b_GPT2_finetuning.ipynb",
      "provenance": [],
      "collapsed_sections": [],
      "toc_visible": true,
      "include_colab_link": true
    },
    "kernelspec": {
      "name": "python3",
      "display_name": "Python 3"
    },
    "accelerator": "GPU"
  },
  "cells": [
    {
      "cell_type": "markdown",
      "metadata": {
        "id": "view-in-github",
        "colab_type": "text"
      },
      "source": [
        "<a href=\"https://colab.research.google.com/github/rostro36/Partisan-Responses/blob/master/06b_GPT2_finetuning.ipynb\" target=\"_parent\"><img src=\"https://colab.research.google.com/assets/colab-badge.svg\" alt=\"Open In Colab\"/></a>"
      ]
    },
    {
      "cell_type": "code",
      "metadata": {
        "id": "Ssvoo9mA4UQ_",
        "colab_type": "code",
        "colab": {
          "base_uri": "https://localhost:8080/",
          "height": 35
        },
        "outputId": "ae9b8f73-15d5-4755-8189-2189e170c2ef"
      },
      "source": [
        "from google.colab import drive\n",
        "drive.mount('/content/drive')\n",
        "\n",
        "import os\n",
        "os.chdir('/content/drive/My Drive')"
      ],
      "execution_count": 1,
      "outputs": [
        {
          "output_type": "stream",
          "text": [
            "Drive already mounted at /content/drive; to attempt to forcibly remount, call drive.mount(\"/content/drive\", force_remount=True).\n"
          ],
          "name": "stdout"
        }
      ]
    },
    {
      "cell_type": "markdown",
      "metadata": {
        "id": "PNkqu9suKUa-",
        "colab_type": "text"
      },
      "source": [
        "Import libraries, make sure you don't reinstall gpt_2_simple if you have already sone so by commenting that line"
      ]
    },
    {
      "cell_type": "code",
      "metadata": {
        "id": "kbWDARPU4-j5",
        "colab_type": "code",
        "colab": {
          "base_uri": "https://localhost:8080/",
          "height": 173
        },
        "outputId": "d0f34b66-443a-4307-d325-f55b7c4ac506"
      },
      "source": [
        "%tensorflow_version 1.x\n",
        "#!pip install -q gpt-2-simple\n",
        "import gpt_2_simple as gpt2\n",
        "from datetime import datetime\n",
        "from google.colab import files\n",
        "import pandas as pd"
      ],
      "execution_count": 2,
      "outputs": [
        {
          "output_type": "stream",
          "text": [
            "TensorFlow 1.x selected.\n",
            "WARNING:tensorflow:\n",
            "The TensorFlow contrib module will not be included in TensorFlow 2.0.\n",
            "For more information, please see:\n",
            "  * https://github.com/tensorflow/community/blob/master/rfcs/20180907-contrib-sunset.md\n",
            "  * https://github.com/tensorflow/addons\n",
            "  * https://github.com/tensorflow/io (for I/O related ops)\n",
            "If you depend on functionality not listed there, please file an issue.\n",
            "\n"
          ],
          "name": "stdout"
        }
      ]
    },
    {
      "cell_type": "markdown",
      "metadata": {
        "id": "YTAgdx5dKnsx",
        "colab_type": "text"
      },
      "source": [
        "Load and check the data"
      ]
    },
    {
      "cell_type": "code",
      "metadata": {
        "id": "eLeInesF50Tf",
        "colab_type": "code",
        "colab": {
          "base_uri": "https://localhost:8080/",
          "height": 35
        },
        "outputId": "37f74e2e-4ca3-4f67-d9f1-ba6f0b62377f"
      },
      "source": [
        "speeches = pd.read_pickle(\"all_speech_sentence_filtered.pkl\")\n",
        "\n",
        "print(\"Number of speeches: {}\".format(len(speeches)))\n",
        "speeches = speeches.head(5000)"
      ],
      "execution_count": 3,
      "outputs": [
        {
          "output_type": "stream",
          "text": [
            "Number of speeches: 298792\n"
          ],
          "name": "stdout"
        }
      ]
    },
    {
      "cell_type": "markdown",
      "metadata": {
        "id": "X2SsiJlUKu1c",
        "colab_type": "text"
      },
      "source": [
        "Make .txt files for republican and democrat data as gpt_2_simple needs the data in this format"
      ]
    },
    {
      "cell_type": "code",
      "metadata": {
        "id": "LX-D2sn56czc",
        "colab_type": "code",
        "colab": {
          "base_uri": "https://localhost:8080/",
          "height": 210
        },
        "outputId": "7d79e534-4e76-4692-9633-7b1378f6794b"
      },
      "source": [
        "# make separate txt files for republicans and democrats\n",
        "with open(\"rep_speeches.txt\", 'w') as f1, open(\"dem_speeches.txt\", 'w') as f2:\n",
        "  for i in range(len(speeches)):\n",
        "    speech = speeches.iloc[i].Questions\n",
        "    party = speeches.iloc[i].Party\n",
        "    if party == 'R':\n",
        "      f1.write(speech + '\\n')\n",
        "    else:\n",
        "      f2.write(speech + '\\n')\n",
        "\n",
        "# check files \n",
        "with open('rep_speeches.txt', 'r') as f:\n",
        "  lines = f.readlines()\n",
        "  for line in lines[:5]:\n",
        "    print(line)"
      ],
      "execution_count": 4,
      "outputs": [
        {
          "output_type": "stream",
          "text": [
            "as all Members are aware, I have been working for some time on various rules changes that would ensure a more efficient process by which the Senate considers appropriations bills. One of our concerns has been reinstating rule XVI with respect to legislation on appropriations bills, I believe that many of the extraneous items that have been added to appropriations bills over the past few Congresses would have been ruled out of order if the Senate still had the ability to raise a point of order against legislation on appropriations bills formerly contained in rule XVI. Other rule abuses occurred during the closing days of the 105th Congress. Consequently, I will shortly introduce five Senate resolutions regarding rules and budget process changes and will ask for their proper referral. Once the resolutions have been referred to the appropriate committee, it is my hope the chairmen of the committees will begin swift committee work on the resolutions so the committees can act on the changes as early as possible in the 106th Congress, I urge Senators to consider these resolutions and hope when the Senate votes on these measures they will receive huge bipartisan votes.\n",
            "\n",
            "during the impeachment trial of President Andrew Johnson, the Senate limited access to the Senate wing of the Capitol, the Senate floor, and the Senate galleries to those with official business and those with tickets to the proceedings. Over the Christmas holidays, staff of the Office of the Secretary of including the Parliamentarian, legislative clerk and staff of the Office of the Sergeant at Arms, have reviewed the historical precedents but also considered what we could do to facilitate the publics access to the proceedings while taking into account contemporary security requirements and the flow of business here in the Chamber. Staff have recommended some restrictions to the access of the Senate wing, floor, and galleries coupled with a ticketing system that will make as many seats in the gallery available to the public and others as is possible for us to do. Accordingly, in a few minutes I will ask unanimous consent be given to a set of policies that reflect the staff recommendations which will confine access to the Senate floor and galleries and to the second and third floors of the Senate wing of the Capitol during the consideration of the articles of impeachment and at all times the Chief Justice is presiding, I thank the distinguished Democratic leader for his efforts and his cooperation in this matter. We have been very careful to make sure we reviewed all the precedents, all the rules, that he has had a chance to check off on these rules, as I have. And I wish to thank all staff who researched the precedent and evaluated current conditions to develop these recommendations. Before seeking unanimous consent, however, I will now yield to the assistant Democratic leader.\n",
            "\n",
            "I want to welcome all the Senators to the 106th Congress. We have had an all too brief and somewhat overwhelming interlude since the last day of the 105th Congress in October. That interval turned out to be dramatic and eventful in more ways than one, and because of events that occurred therein, the Senates agenda for this year will be more important than ever. We will soon be considering charges brought by the House of Representatives against the President of the United States, I cannot think of a more serious subject. Yet, the Senate has its wellestablished procedures to deal with this situation. While it is not exactly routine, neither is it totally unique. We have our responsibilities under the Constitution, and we will meet those responsibilities in an orderly fashion. That is why I have met several times and talked by phone other times with Senator DASCHLE, the Democratic leader, and why the two of us have met with the Chief Justice of the Supreme Court, whose duty it is to preside over a Senate trial involving the President. We have both consulted and are still very actively involved in consulting with fellow Senators, with constitutional scholars, with officers of in terms of the law and the rules of the Senate. Our duty is clear: To demonstrate anew our national commitment to justice and fair play. That is what the public expects from us, regardless of their individual opinions concerning the President. That is why I am confident that is what they will receive. No Senator in this Chamber needs to be reminded that we are here first and foremost to serve the American people. Americans today look to the future with the same hopes that have inspired and sustained this country for more than 200 years. They want a better life for themselves and, for their children. Not just economically, but also in terms of a decent future and a just and caring society, I want to emphasize now that I have not gone to the media and outlined exactly how this impeachment process will go forward because no final conclusion has been made. This is not something that can be reported in an evolutionary way because there are too many things that have to be considered, too many different parties--Senate Republicans. Senate Democrats. House Members, the White Houseand we have had to continue to consider the opinions of all to try to develop a fair way to have an expeditious trial that gets justice based on the rule of law, I think that it is more important that we hear from all parties and come to, hopefully, a conclusion that sets an outline of how we will proceed from beginning to end than it is to always be reporting on the current developments. Never before have I had so much reported about what I was thinking, doing, or saying when I have said so little, I have been accused of being \"holed up\" in my hometown of Pascagoula. MS. Where would you expect me to be during the holidays? How about at home with my family and with my constituents, enjoying that precious season of the year. However, I had no moss growing under my feet, I was talking with my colleagues on both sides of the aisle, listening and thinking and developing and evolving a process that I think will get the job done, I believe we can very well achieve that goal within the next 24 hoursone that neither the House nor the White House will necessarily think is wonderfulgiving all parties a fair chance to make the case and reach a conclusion that is equitable. We will get that done. And we will get it done, hopefully, in a relatively short period of time, without limiting it to a day or 3 days, or 3 weeks for that matter. It could very well take longer than that. But it will be a fair trial. Then we have other very serious responsibilities that we must deal with. It has been said as long as we are dealing with this issue that we cant deal with any other substantive issue in the Senate. Wrong. We have responsibilities that go forward, and we will do our very best to have a dual track. Now, we may not be having debate and votes on the floor of the Senate on bills or on changes in the budget procedures around here, but we will begin to prepare. We will have our committee assignments all completed today. There will be committee hearings this week before the Judiciary Committee, before the Armed Services Committee, before the Education and Labor Committeealthough it has a different name here in I prefer to call it the Education Committee because it has that very important jurisdiction under its responsibilities. We will begin the process and have hearings and meetings. Depending on how this process goes forward, and realizing that we have to understand the Supreme Court has a schedule that it has to comply with, which might give us some time to do some business, we will do our very best to get prepared for the regular legislative process while we are doing our duty with regard to impeachment. But the goal that I hope we will move to immediately after the completion of the impeachment process, whenever that may be, is to develop some constant themes we want to work on during the 106th Congress, I think they can be described In words like these: security, responsibility, opportunity, and freedom. Now, those are not conflicting goals, they complement and support one another. Security, enables responsibility, responsibility gives purpose to freedom, freedom ensures opportunity, and opportunity fosters security. When I talk about security, I think about security for my mother, security for my son and my daughter and my grandson, I think about health security. Social Security, national security, security in our neighborhoods. So that word encompasses an awful lot. Our task is to advance on all four fronts this year: To enhance security, promote responsibility, strengthen freedom, and foster opportunity for all. In doing so, we face a tight schedule. We always do, but it is a manageable one if the Senators will help the leadership do our jobs. There are matters that we can consider promptly before our legislative committees even begin reporting major bills that must compete for a place and time on the Senate schedule. One of the first matters we should take up is a clarification of Senate rules, to restore this institutions position regarding the consideration of authorizing legislation on appropriation bills. It is out of hand. The biggest fight now in all the appropriations bills occurs not on the appropriations but on amendments that are legislating on appropriations bills, I believe we can accomplish that change back to the way it was in a bipartisan fashion, I certainly hope so, I hope we can do the same thing regarding our budget process, although I may be erring on the side of optimism in that regard. This is priority legislation, that is required to restore public confidence in the budget process. Do any of us feel that the process at the end of the last year was a good one? I dont think so. In the end, it is going to require will and determination by Senators and House Members to do their jobs on time and on schedule. There are some changes in the process that will help facilitate that. It will enable us to prevent Government shutdowns. It is ridiculous that there is even that possibility. It will control emergency spending. It has reached the point where we have not one super or extra special emergency bill each year, now we have to have two. And it makes a requirement that we take a long, hard look at how that is paid for and at current budget rules. Important as budget reform is, rebuilding Americas national security is even more pressing. Press reports have indicated that the administration will propose some increases in defense spending. That is good, and the Senate will take a very close look at that in committee and in the full Senate, I worry that those proposals are not sufficient or maybe the way it would be done is not the best way in trying to address the questions of pay and pensions and readiness for our military. But we should give that a very high priority. We have been losing ground in this area. This Congress must stop that erosion of our readiness and the morale of our military if we are going to be able to preserve our own national security and protect peace wherever our interests are in the world. Education is going to be a central issue this year. Democrats say it is important and it will be a high priority. Republicans say it is a high priority. This past Congress passed not one, not two, but five major education bills, and we got very little credit for it. There was everything from some additional funds for IDEA to vocational education, higher education, and other things in between. For starters, we must reauthorize the Elementary and Secondary Education Act. That is important. Since its enactment more than 30 years ago, that legislation has been the channel through which tens of billions of dollars have flown from the taxpayers to Washington and back to the school districts again at the local level. In retrospect, perhaps that has not been the most productive system that we could devise, to put it mildly, I think we need to look at ways to cut out some of those stops along the way, the distance between the taxpayers, parents, and government, and how we Improve our schools. We need to find more ways to get more dollars back to the schools and especially back to the classrooms. We need to strengthen local decisionmaking so the parents and teachersthe people most involved with their childrencan act in the best interest of those youngsters. We should foster quality teaching and promote family choice in education, especially for poor families whose kids are stuck in deadend schools that are dangerous and drug infested and where they are not learning. We should not, presume to dictate to parents and educators what their priorities should be and how they should spend their tax dollars. So, clearly, this is something on which we will spend a lot of time. We must continue to address the question of oppressive taxation. Most people will acknowledge that Americans are paying a heavy burden in taxes now. It affects the way they think and act as a family or how they save or invest. One of the most crushing tax burdens in this country is the payroll tax, it is a high percentage. That is the one in everybodys check at the end of the work week and they say, gee, this FICA tax is the one that is nailing me. Congress needs to look at that. We need more tax relief for working families so they can keep more of their own money. We need to have a tax code that is pro growth, pro investment, and pro jobs, so that we dont just give people a tax break but we give consideration to how the changes or tax reductions would lead to improvement in lives and jobs all across this country. Tax simplification is a continuing need. We need to think about how we can get lower insurance premiums for the taxpayers, whether it is for their automobile insurance or their health insurance. We need to promote regulatory reform and relief across the board, but especially for small businesses. Nothing this 106th Congress might dowhether in education, tax policy, or environmental protectionwould mean as much to the American people as a longterm solution to the problems of Social Security and Medicare. So from the first day of this Congress right up to the last day toward the end of the year 2000, it will be my goal to see if we can find a broad, bipartisan agreement in those two crucial areas. The Congress cant do it alone, though. The President has to provide leadership. It is not enough to just have conferences and talk about options. What is the solution? What are we going to be able to do to resolve the problems on Medicare? Will the Medicare Commission that reports back in March have a report we can act on or not? Or will it decay in partisan disagreement? Can we find a way to act in good faith on Social Security? To show my good faith, I have said that if the President will send us a proposal he would like for us to consider, I will introduce his bill and we will begin hearings the next day in the Senate Finance Committee and see if we can go forward. Or if that is not the way it can be done, I am willing to look at other ways that we can accomplish that goal. It is too important to just set it aside because it is too tough. There are a lot of other issues we will deal with in the regular order. For example, bankruptcy reform, liability reform for charities, charitable choice in Federal programs, to end discrimination against faithbased organizations, prohibition against partialbirth abortions, as well as child custody protections to safeguard family rights, and modernization of financial services, I have spoken with Senator GRAMM and encouraged him, as the new chairman of the Banking Committee, which has jurisdiction, to pick up the legislation and see if he can forge an agreement that we can move forward on so that we will have broader choices and better service for consumers. In due time, we will deal with all of those and a great many other subjects. During the next few weeks, I realize that the news media will be focused on one thing. My remarks here will be little noted or rememberedother than the part on the impeachment proceedings. But the record must begin to be made now that we have other very important priorities that are the peoples priorities back in our respective States. This Senate was designed by the Framers of the Constitution to be the steady element in Government, the place where passions are cooled and judgments come slowly. It serves us well when we take our time and we make sure that the process is fair and the result is equitable, I expect that to happen In the days ahead. No one can predict the outcome of the deliberations on impeachment, but everyone can expect the calm and careful exercise of our duty under the Constitution. That will not conflict with our role as legislators. It will rather confirm that we are more than mere lawmakers. As Members of we are guardians of the rule of law and defenders of the rights of every American. That is our most important role, our most solemn charge, and our most enduring honor, I observe the absence of a quorum.\n",
            "\n",
            "it is a great honor and privilege to extend congratulations to the Reverend Peter (Yee Chung) Chei as he celebrates the granting of his United States citizenship on Friday. October 16th, 1998. Reverend Peter Chei has served our nation admirably during the thirtythree years he has made his home on our shores, and now, as a United States citizen, his continuing commitment to this nation has been sealed with the words of the Oath of Allegiance. The United States has thereby greatly profited. The Reverend Peter Chei has long been held in my highest regard. His dedication to the redemptive mission of Christ has been an inspiration for many people across the state of Missouri, this country, and the world. It was my good fortune to meet Reverend Chei when he was still living in Hong Kong. His father had escaped with the Chei family to Hong Kong after the communists took over the Chinese mainland in 1950. The trials faced by the Chei family as they were uprooted from Peters birthplace parallel the trials faced by many of Americas first adopted citizens escaping religious persecution. Peter Cheis decision to move to the United States in 1965 and his decision to become a United States citizen are made all the more meaningful by this stark comparison. Having arrived in this country. Reverend Chei determined to serve God and his adopted country through a life of evangelism. His long history of ministerial and community service demonstrates his commitment. Reverend Chei has volunteered as Head Start Policy Council President. Head Start Parents Association President. Coordinator for the American Bible Society. Coordinator for the National Day of Prayer. Coordinator .for the International Year of Bible Reading. Coordinator for the 1999 Year of the Bible, and as a member of the Crosswalk Teen Center. The Reverend Peter Chei founded Missouri Head Start Parents Association. Singles and Families Educational Seminar. Christians Together in the City of Nevada. His Hope House, the Christian Artist Series. Hope for America, and Missionary to America. He has taken on all of these extra responsibilities while serving faithfully as a minister of music and as a pastor, I consider it a great blessing to be counted among Reverend Cheis friends and it is my distinct honor to salute this patriot on the occasion of his swearing in as a citizen of our great country.\n",
            "\n",
            "although the late Honorable Harold A. Shaub was not a citizen of my State, I regarded his friendship, and his interest in North Carolina, sufficient to qualify him to be declared an honorary Tar Heel. He was a remarkable gentleman whom I met casually one morning when he was trying to find the office of then Senator Curtis of Nebraska. From that day on, he was a friend for whom I had great admiration. He visited occasionally when he was in Washington, and I enjoyed his company fairly often in the Senate Dining Room. Occasionally. Mrs. Shaub and one or more of his and Mrs. Shaubs children joined us. there was not one iota of pretense in Harold Shaubs personality. Yet he was one of Americas leading business men, perhaps most notably as president and chief executive officer of the Campbell Soup Co, I never asked Harold for a special favor, nor did he of me. There was one occasion, a number of years ago, when North Carolina was one of the States seeking to acquire a Campbell Soup Co, plant, I had studied the data on each of the States competing against mine for the Campbell plant, I was convinced that North Carolina met Campbell Soups needs better than did our competitors. So I called Harold, told him of my interest in the proposed plant, and asked if he would object to my sending to him the details of why I sincerely believed North Carolina should be chosen. His response was that I should send the information as quickly as possible because the first decision deadline was near, I didthat very day. Within a week, he was on the telephone. He said, simply: \"I suspect you would be wise to make arrangements for some news about a new corporate citizen coming to \" I have at hand an obituary about my friend. Harold Shaub, published in Pennsylvania, I ask that it be printed In the RECORD.\n",
            "\n"
          ],
          "name": "stdout"
        }
      ]
    },
    {
      "cell_type": "markdown",
      "metadata": {
        "id": "dz_QnKpYCpbo",
        "colab_type": "text"
      },
      "source": [
        "Finetunine GPT-2"
      ]
    },
    {
      "cell_type": "code",
      "metadata": {
        "id": "CntxXErpa9aS",
        "colab_type": "code",
        "colab": {
          "base_uri": "https://localhost:8080/",
          "height": 138
        },
        "outputId": "2ddff0ed-8191-4178-8c47-f2f05068470b"
      },
      "source": [
        "gpt2.download_gpt2(model_name=\"124M\")"
      ],
      "execution_count": 7,
      "outputs": [
        {
          "output_type": "stream",
          "text": [
            "Fetching checkpoint: 1.05Mit [00:00, 224Mit/s]                                                      \n",
            "Fetching encoder.json: 1.05Mit [00:00, 73.6Mit/s]                                                   \n",
            "Fetching hparams.json: 1.05Mit [00:00, 230Mit/s]                                                    \n",
            "Fetching model.ckpt.data-00000-of-00001: 498Mit [00:02, 169Mit/s]                                   \n",
            "Fetching model.ckpt.index: 1.05Mit [00:00, 320Mit/s]                                                \n",
            "Fetching model.ckpt.meta: 1.05Mit [00:00, 139Mit/s]                                                 \n",
            "Fetching vocab.bpe: 1.05Mit [00:00, 129Mit/s]                                                       \n"
          ],
          "name": "stderr"
        }
      ]
    },
    {
      "cell_type": "code",
      "metadata": {
        "id": "LXw14pG1b94X",
        "colab_type": "code",
        "colab": {
          "base_uri": "https://localhost:8080/",
          "height": 35
        },
        "outputId": "71b95033-dbdb-4fcc-b553-45fa5a7b0911"
      },
      "source": [
        "gpt2.mount_gdrive()"
      ],
      "execution_count": 5,
      "outputs": [
        {
          "output_type": "stream",
          "text": [
            "Drive already mounted at /content/drive; to attempt to forcibly remount, call drive.mount(\"/content/drive\", force_remount=True).\n"
          ],
          "name": "stdout"
        }
      ]
    },
    {
      "cell_type": "code",
      "metadata": {
        "id": "k8MwSsHsfQ7f",
        "colab_type": "code",
        "colab": {
          "base_uri": "https://localhost:8080/",
          "height": 35
        },
        "outputId": "b31e9722-4b45-4d6e-e584-209747e1a3dd"
      },
      "source": [
        "!pwd"
      ],
      "execution_count": 6,
      "outputs": [
        {
          "output_type": "stream",
          "text": [
            "/content/drive/My Drive\n"
          ],
          "name": "stdout"
        }
      ]
    },
    {
      "cell_type": "markdown",
      "metadata": {
        "id": "2RW5SZP5LziI",
        "colab_type": "text"
      },
      "source": [
        "Train for republican data"
      ]
    },
    {
      "cell_type": "code",
      "metadata": {
        "id": "SdpWfnzicHlr",
        "colab_type": "code",
        "colab": {}
      },
      "source": [
        "file_name = \"rep_speeches.txt\"\n",
        "gpt2.copy_file_from_gdrive(file_name)"
      ],
      "execution_count": 7,
      "outputs": []
    },
    {
      "cell_type": "code",
      "metadata": {
        "id": "PjrX_GtqcSAm",
        "colab_type": "code",
        "colab": {
          "base_uri": "https://localhost:8080/",
          "height": 555
        },
        "outputId": "b7735da1-6549-4b5c-a72d-94bfce4c9b9d"
      },
      "source": [
        "RUN_NAME = 'rep'\n",
        "sess = gpt2.start_tf_sess()\n",
        "\n",
        "gpt2.finetune(sess,\n",
        "              dataset=file_name,\n",
        "              model_name='124M',\n",
        "              steps=200,\n",
        "              restore_from='fresh',\n",
        "              run_name=RUN_NAME,\n",
        "              print_every=10,\n",
        "              sample_every=200,\n",
        "              save_every=500\n",
        "              )\n",
        "\n",
        "gpt2.copy_checkpoint_to_gdrive(run_name=RUN_NAME)"
      ],
      "execution_count": 10,
      "outputs": [
        {
          "output_type": "stream",
          "text": [
            "WARNING:tensorflow:From /usr/local/lib/python3.6/dist-packages/gpt_2_simple/src/sample.py:17: where (from tensorflow.python.ops.array_ops) is deprecated and will be removed in a future version.\n",
            "Instructions for updating:\n",
            "Use tf.where in 2.0, which has the same broadcast rule as np.where\n",
            "Loading checkpoint models/124M/model.ckpt\n",
            "INFO:tensorflow:Restoring parameters from models/124M/model.ckpt\n"
          ],
          "name": "stdout"
        },
        {
          "output_type": "stream",
          "text": [
            "\r  0%|          | 0/1 [00:00<?, ?it/s]"
          ],
          "name": "stderr"
        },
        {
          "output_type": "stream",
          "text": [
            "Loading dataset...\n"
          ],
          "name": "stdout"
        },
        {
          "output_type": "stream",
          "text": [
            "100%|██████████| 1/1 [01:34<00:00, 94.90s/it]\n"
          ],
          "name": "stderr"
        },
        {
          "output_type": "stream",
          "text": [
            "dataset has 16267829 tokens\n",
            "Training...\n",
            "[10 | 53.45] loss=3.51 avg=3.51\n",
            "[20 | 99.52] loss=3.14 avg=3.33\n",
            "[30 | 145.48] loss=3.12 avg=3.26\n",
            "[40 | 191.37] loss=3.22 avg=3.25\n",
            "[50 | 237.30] loss=3.18 avg=3.23\n",
            "[60 | 283.19] loss=3.05 avg=3.20\n",
            "[70 | 329.14] loss=3.05 avg=3.18\n",
            "[80 | 375.09] loss=2.91 avg=3.14\n",
            "[90 | 421.04] loss=3.02 avg=3.13\n",
            "[100 | 466.95] loss=3.18 avg=3.14\n",
            "[110 | 513.01] loss=3.11 avg=3.13\n",
            "[120 | 559.01] loss=3.03 avg=3.12\n",
            "[130 | 605.08] loss=3.12 avg=3.12\n",
            "[140 | 651.16] loss=3.14 avg=3.12\n",
            "[150 | 697.18] loss=2.99 avg=3.11\n",
            "[160 | 743.29] loss=3.12 avg=3.11\n",
            "[170 | 789.48] loss=3.03 avg=3.11\n",
            "[180 | 835.63] loss=2.96 avg=3.10\n",
            "[190 | 881.76] loss=2.94 avg=3.09\n",
            "[200 | 927.88] loss=2.98 avg=3.09\n",
            "Saving checkpoint/run1/model-200\n"
          ],
          "name": "stdout"
        }
      ]
    },
    {
      "cell_type": "markdown",
      "metadata": {
        "id": "AFK52MZ9M0ZZ",
        "colab_type": "text"
      },
      "source": [
        "Make sure you restart runtime before running this cell!"
      ]
    },
    {
      "cell_type": "code",
      "metadata": {
        "id": "m-It91kVf-ar",
        "colab_type": "code",
        "colab": {
          "base_uri": "https://localhost:8080/",
          "height": 52
        },
        "outputId": "f2306598-0e8c-437d-a8bf-70b4cba7bd02"
      },
      "source": [
        "sess = gpt2.start_tf_sess()\n",
        "gpt2.load_gpt2(sess, run_name=RUN_NAME)"
      ],
      "execution_count": 3,
      "outputs": [
        {
          "output_type": "stream",
          "text": [
            "Loading checkpoint checkpoint/run1/model-200\n",
            "INFO:tensorflow:Restoring parameters from checkpoint/run1/model-200\n"
          ],
          "name": "stdout"
        }
      ]
    },
    {
      "cell_type": "markdown",
      "metadata": {
        "id": "_8SUbywJM5GA",
        "colab_type": "text"
      },
      "source": [
        "Generate republican answers"
      ]
    },
    {
      "cell_type": "code",
      "metadata": {
        "id": "X4r5VGPqWxiY",
        "colab_type": "code",
        "colab": {}
      },
      "source": [
        "questions = [\"Should abortion be illegal?\",\n",
        "             \"What do you believe about tax increases?\",\n",
        "             \"Should same-sex marriage be legal?\",\n",
        "             \"Is climate change real?\",\n",
        "             \"Should immigrants be allowed to obtain citizenship?\",\n",
        "             \"Who should be given voting rights?\",\n",
        "             \"Should we have higher taxes for higher incomes?\",\n",
        "             \"Should we allow death penalty?\",\n",
        "             \"Should we have universal healthcare?\",\n",
        "             \"Do government regulations hinder free market capitalism?\",\n",
        "             \"What do you think about the current president?\",\n",
        "             \"Should we reduce national debt?\",\n",
        "             \"Should we increase spending on healthcare?\",\n",
        "             \"Should we increase spending on education?\",\n",
        "             \"Should every American have equal opportunities regardless of sex, age and race?\",\n",
        "             \"Should be introduce more gun control measures?\",\n",
        "             \"What do you think about the current president?\",\n",
        "             \"Should Americans be free?\",\n",
        "             \"What party do you support?\",\n",
        "             \"What is the biggest threat to America?\"\n",
        "             ]"
      ],
      "execution_count": 7,
      "outputs": []
    },
    {
      "cell_type": "code",
      "metadata": {
        "id": "Lb36B8L_W-xJ",
        "colab_type": "code",
        "colab": {
          "base_uri": "https://localhost:8080/",
          "height": 694
        },
        "outputId": "d85a2455-f004-43b5-ec47-b63b52d51671"
      },
      "source": [
        "with open(\"rep_generated.txt\", 'w') as f:\n",
        "  for i in range(len(questions)):\n",
        "    text = gpt2.generate(sess,\n",
        "              length=250,\n",
        "              temperature=0.7,\n",
        "              prefix=questions[i],\n",
        "              nsamples=1,\n",
        "              batch_size=1,\n",
        "              return_as_list=True)[0]\n",
        "    print(text)\n",
        "    f.write(text + '\\n')"
      ],
      "execution_count": 9,
      "outputs": [
        {
          "output_type": "stream",
          "text": [
            "Should abortion be illegal? We do not want to say that. We do not want to say that our laws are wrong. So I am open to the idea of legislation to ease the issue. No. We will have to make sure that we do not do that. But I will say something that is obviously wrong. We have laws that are just too complicated, too complicated, and it is difficult to do the same thing on a State level. We put in this system where we have a number of different rules that can be applied. What I am trying to do is to get to the bottom of many of these problems. What I am trying to do is to find some practical solutions. We have laws that we can pass in the State level that will keep it from being overruled by the Supreme Court. We will ban abortions under federal law, but we will not allow abortion rights to be dictated to the Federal Government. So we will have to find ways to deal with these laws so that they are not so complicated. We will have to find ways to deal with the many problems that we have when we do it. It is a really good idea. We have been trying to do that for a number of years. We will talk a little bit about it.\n",
            "What do you believe about tax increases?\n",
            "I believe about 40 percent is a fair amount of income, but the other 40 percent is probably the most what they were saying, because about 40 percent is the real number, I think the most interesting thing is that Republicans slipped down to $10.000 for their own people. It is not that there is a real tax cut in the bill, it is not that there is a real tax increase. There is not a real tax increase in this bill that is going to raise the national debt. But there is a real tax increase in this bill that will be a tax increase that is going to help people around the country.\n",
            "I think I understand that there are going to be a lot of Republicans out there who are opposed to tax cuts, but I think what they want to do is to put together some sort of agreement to deal with the budget deficits. But what they want to do is to pass a tax bill that really is just a tax cut for the wealthy. They want to limit the tax burden on the middle class. They want to make Social Security a little bit more generous. They want to give the middle class a little bit more of an edge. But they want to take away a little bit of the benefits of the\n",
            "Should same-sex marriage be legal? Because that would be a very big change, and I have been in favor of it, and I think it would be a huge change, I think it would be a very big change. And I think it would be a big change. But we are going to have to wait until we get a very detailed marriage resolution, because we have to make sure there is a marriage resolution on the floor of the Senate on Monday.\n",
            "I support the marriage resolution and have been in favor of it. But I think we will have to wait until we get a marriage resolution, because we have to wait as long as we can, I think there will be a marriage resolution, and it is going to come out, I think it is going to be very important, because it is going to be very important. And I think the gentleman from Wisconsin has indicated to me that, I think we have to wait to get a marriage resolution, because it will be very important, and I think it will be an enormous change, and I think it is going to be a very big change. We will have to wait until we get a marriage resolution, because the gentleman from Wisconsin indicated in his remarks that he is going to be very critical of the marriage resolution.\n",
            "Is climate change real? And what is the only factor to be considered in deciding whether or not we should continue to adopt this policy. What is the most significant change the U.S.I. should be considering? In 1997, the U.S.I. had an average of 13 million people and a median age of 56. The U.S.I. is the first country in the world to address the problem of climate change. At the same time, the U.S.I. was number one in the world in terms of greenhouse gas emissions. The U.S. I. is the only country in the world that has been able to address the problem of climate change. The U.S.I. is the only country that has been able to address the problem of climate change. What will the U.S.I. do next? It will decide this issue. What policy should we adopt next? In 1997, the U.S.I. was ranked in the top 10 countries in terms of greenhouse gas emissions. Had the U.S.I. adopted a national emissions reduction policy, the U.I. would have had a national carbon dioxide emissions reduction policy. The U.S.I. is the only country\n",
            "Should immigrants be allowed to obtain citizenship?\n",
            "I am pleased to report that, on the agenda of the Committee on Immigration and Naturalization, the Committee on the Judiciary, and the Committee on the Judiciary will begin to consider a bill to allow Mexican immigrants to obtain citizenship. It will be in the RECORD this evening, I was pleased to report. In my view, this bill is important and important because it is a good first step towards providing a legal status to the Mexican immigrants who have served in the U.S. military. This bill is good legislation, I am very pleased it is offered by the Committees on Judiciary, I am pleased to report that, on the agenda of the Committee on Immigration and Naturalization, the Committee on the Judiciary, and the Committee on the Judiciary will begin to consider a bill to allow Mexican immigrants to obtain citizenship. It will be in the RECORD this evening, I am pleased to report.\n",
            "I rise today to introduce legislation regulating the development of the draft press. The First Amendment right to the press is protected by the Bill of Rights. The First Amendment right to the press is protected by the First Amendment. This bill would provide no protection to the press, but would provide a right that the press does not have. One of the important things\n",
            "Who should be given voting rights? Should we give them back to the people, or should we give them back to the corporations?\n",
            "I want to ask my colleagues to join me in my thoughts on the House floor, I know there is a lot of debate on this. One of the main things the committee has been considering over the last 6 weeks is a measure that would make it easier for citizens to obtain and vote on a variety of school board and school boards. There are a lot of reasons why the gentleman from Indiana has been an advocate for it, and I think that is one of the reasons that it is so important to me, but the other is that it is so important for our community, and it is so important for our country, to have an expression of our democracy. It is important for our children to be able to express their ideas, to have a fair opportunity to participate in the democratic process, I think that is one of the reasons why we have the opportunity to have a fair process. But let me come back to the middle of the floor to try to answer that question: When do we have the opportunity to have a fair process? When do we have the opportunity to have a fair process?\n",
            "I am just going to have to say that this\n",
            "Should we have higher taxes for higher incomes? It is very difficult to answer that question. It is true that the U.S. Congress and the Federal Government have a fixed amount of money they can use to pay for the use of their money, but for the very same thing to occur? That is when the Federal Government and the State governments and the Federal Government and the Federal Government and the State governments, as we now know, have a fixed amount of money they can use to pay for the use of their money. I would like to point out that the Federal Government has a fixed amount of money they can use to pay for the use of their money, but it is not that the Federal Government is not able to use that money to pay for the use of their money. The Federal Government has a fixed amount of money it can use to pay for the use of their money. What is a Federal Government doing? It is paying down the debt, paying down the debt. When the Federal Government is paying down the debt, the Federal Government is reducing the debt. The Federal Government is paying down the debt. If this debt is reduced, the Federal Government is paying down the debt. But that is not going to occur, I have heard, and I have heard, that the Federal\n",
            "Should we allow death penalty? No, we should not. If we want to have the death penalty, we should not allow it to be used as a way of life. It is a very narrow standard. It is a broad standard. We should not have a death penalty. We should not allow it to be used as a way of life. We should not allow it to be used as a way of life. We should not allow it to be used as a method of life. We should not allow it to be used as a method of life. We should not allow it to be used as a method of life. We should not allow it to be used as a method of life. We should not allow it to be used as a method of life. We should not allow it to be used as a method of life. We should not allow it to be used as a method of life. And we should not allow it to be used as a method of life. But we should not allow it to be used as a method of life. We should not allow it to be used as a method of life. And we should not allow it to be used as a method of life. And we should not allow it to be used as a method of life.\n",
            "Should we have universal healthcare? I think we can agree that health care is a right of the American people, and I think we can agree that it is very important to do it with the right of the American people to decide whether or not they want to have health care, I think that the issue is it is a right of the American people.\n",
            "I would like to talk about the issue of health care. Let me briefly talk about health care. We know in the United States, there is an annual budget surplus, and it is the Federal budget surplus, and the question has come up with the Federal Government not paying the bills. We know that we did that, and we know that the Federal Government is not paid the bills. In fact, we have no budget surplus at all. We have one where the Federal Government is paying the bills, but in a different way than we have a budget surplus. We have to pay the bills every year. We have to pay the bills when these people are sick. We have to pay the bills when the Federal Government is not paying the bills. We have to pay the bills when the Federal Government is not paying the bills. We have to pay the bills when the Federal Government is not paying the bills. That is what it\n",
            "Do government regulations hinder free market capitalism?\n",
            "First, the Federal Government is the only one that controls the economic and financial life of the country. When people buy a house, the Federal Government controls its own economy. The Federal Government controls housing. It controls the economy. It controls the housing market. So it controls the economy. It controls the housing market. Why? Because the Federal Government controls it. It controls the economy. And it lets you sell it, and it lets you sell it. So it lets you sell it to people who are willing to pay the price they buy. So the Federal Government controls the economy. It is the only one that controls the economy. It is the only one that controls the housing market. It is the only one that controls the housing market. So if you buy a house, the Federal Government controls the economy. It controls the housing market. It controls the economy. It controls the housing market. So it is the only one that controls the economy. And it lets you sell it to people who are willing to pay the price they buy. So the Federal Government controls the economy. It is the only one that controls the economy.\n",
            "I know that the gentleman from California is going to throw a couple of amendments, but I want to make\n",
            "What do you think about the current president? With the current budget, that program has been in place for nearly a decade. By the time we passed the budget resolution, we were talking about a period of roughly a year. If we had the budget resolution that passed earlier, we would have it in the Budget Committee. But we have not. We have not passed the budget resolution. We have not passed the budget resolution. In fact, we have not passed the budget resolution. We have not passed the budget resolution, but we have passed the budget resolution, and we have not had a budget resolution. We have passed the budget resolution. We have not had a budget resolution. We have not had a budget resolution. So, in fact, that's why we have not passed the budget resolution. It is because we are not funding the programs of the first year. We are not passing the budget resolution. The budget resolution is the budget resolution. But we have not passed the budget resolution, because we have not had a budget resolution. The budget resolution is the budget resolution. We have not passed the budget resolution. The budget resolution is the budget resolution. The budget resolution is required by law. The budget resolution is required by law. And so it is very important that we pass this budget\n",
            "Should we reduce national debt? It is not difficult to do that. As the chairman of the Natural Resources Committee, I have been involved in the committee on the appropriations process as well as the subcommittee on the environment, and I have been involved in the appropriations process as well as the subcommittee on the education, and I am now working with Senator HATCH to come up with a bill to reduce it, I am a strong supporter of this bill. We now face another year of gridlock regarding the budget. The first one has been reported, the second one is reported, the last one is reported. We have been working on the budget and we are meeting the budget. We are on the budget. We are meeting the budget. We have met the budget. The budget has been passed and the budget is being passed.\n",
            "This is a budget. This is a budget. This is a budget. This is a budget. This is a budget. This is a budget. This is a budget. This is a budget. This is a budget. This is a budget. This is a budget. This is a budget. This is a budget. This is a budget. This is a budget, and this is a budget. This is a budget. This is a budget.\n",
            "Should we increase spending on healthcare? I ask this because, based on the number of uninsured people, that is actually a very low number, but it is a very low number because the uninsured are actually paying more in higher taxes. We have seen the same taxes that we pay in Medicare, we have seen the same taxes on Social Security, we have seen the same taxes on pensions, we have seen the same taxes on the military. We have already seen that. But the number has been reduced: the number of people with health insurance has gone down, I think there is a good reason for that, that is because the number of uninsured people was reduced. We see the same costs as we did with insurance. We have seen the same costs in Medicare. We see the same costs in Social Security. We have seen that in Medicare. We have seen that in pensions. We have seen the same costs in the military. There is a good reason for that. We have seen the same costs in Medicare, we have seen the same costs in the military, I just want to tell you a little bit about the problem that we have in the health insurance bill, the problem that we have in the health insurance bill is that it provides a huge subsidy for the people who are uninsured.\n",
            "Should we increase spending on education?\n",
            "As I stated in the debate, the fact is that we are in a very tight budget and that we are not changing the way we spend money. We are not changing it. We are not changing it. We are doing it. But we are not doing it with the money we are raising. And the Congress is not doing it with the money we are raising. We are doing it with the money we are raising. So it is not a total change. But it is a change that is occurring. We are not changing it. We are not changing it with the money we are raising. We are doing it without saying, \"We are not changing it.\" We are doing it with the money we are raising. We are doing it with the money we are raising. And as it goes forward, it will be a simple matter of how to do it. It will be a simple matter of how to raise the money. But we are not changing it.\n",
            "I think they were on the left side of the aisle. Senator MCCONNELLs right hand man is a Democrat, and the Democrats are on the right side of the aisle. They are in a good position because they are concerned about education. They are concerned\n",
            "Should every American have equal opportunities regardless of sex, age and race?\n",
            "I ask that the House consider a resolution that would ensure that all American adults, regardless of their sex, race and religion, are treated equally, I ask that this House take a moment to consider this resolution. We all know that our schools have been affected by the sexual assault and domestic violence that is occurring in our schools. It is important that we educate our young people about these issues, and that we do that by giving them the resources they need to begin to deal with these issues. The American people need to know that this is not a joke. We need to know that this is not a joke, and we need to be given the same opportunity to begin to deal with these issues in our schools. We need to be given the same opportunity to begin to deal with these issues. We need to be given the same opportunity to begin to deal with these issues if we want to be a part of the solution. As I have said in previous speeches, the American people need to know that this is not a joke. They need to know that this is not a joke in order to begin to deal with this problem. They need to know that this is not a joke and that these schools are going to be affected. We need to make\n",
            "Should be introduce more gun control measures? No. It does not pass in the Senate. There are no simple legislative solutions. We have to take a lot of measures. It is a very simple bill. What is clear is that the law is there. We can pass it, but the question is, what is it going to work? The answer is, it will not. It will not work. And that is what we have to pass as a matter of fact, not a matter of fact, that I would agree with with. But it is the law, the law of the United States, not the law of the states, and it is not the law of the country that is going to work.\n",
            "I am very pleased to join the Senators who were on this side as we have done in a very good way in terms of the bill itself, I think it is important to address some of the problems that we have had in the past with respect to background checks. In the 1930s, prior to 1940, when we had compulsory background checks, it was the first time in the history of this country that the government had to go through a background check. It was a good idea, but the fact of the matter is that in the 1930s, we had no police\n",
            "What do you think about the current president? What do you think about the current administration? I hope we can maintain the peace, I hope we can maintain a healthy economy, I hope we can maintain the peace, and I hope we can maintain the peace, I hope we can maintain the peace, and I hope we can maintain the peace, and I hope we can maintain the peace, and I hope we can maintain the peace, and I hope we can maintain the peace, and I hope we can maintain the peace, and I hope we can assume quickly and agree that we can maintain the peace, I hope we can maintain the peace, and I hope we can maintain the peace, and I hope we can maintain the peace, I hope we can maintain the peace, and I hope we can maintain the peace, and I hope we can maintain the peace, and I hope we can maintain the peace, and I hope we can maintain the peace, and I hope we can maintain the peace, and I hope we can maintain the peace, and I hope we can maintain the peace, and I hope we can maintain the peace, and I hope we can maintain the peace, and I hope we can maintain the peace, and I hope we can maintain the peace, and I hope we can\n",
            "Should Americans be free? So what happens when the government removes the ability to buy health insurance? It would be a mistake for the American people to think we have the ability to buy health insurance. As these legislation has grown in price, the government has taken the position that there is a subsidy there, I believe that is a good thing. There are some people who say that is a subsidy. But that is not the case. The subsidy is the same, the same, and it is not the responsibility of the government. It is the responsibility of the insurance companies. As long as it is bogus, that is not the case. The government has a right to promote the health insurance market. But the insurance companies are liable for costs. It is the responsibility of the insurance companies to promote the health insurance market. It is not the duty of the insurance company to promote the market. In fact, it is the responsibility of the insurance companies to promote the health insurance market. There is a subsidy. There is a subsidy. The insurance companies are not liable for costs. The government is not liable for the insurance companies, only the government. So it is the responsibility of the insurance companies to promote the health insurance market. And the insurance companies should not be charged for the cost\n",
            "What party do you support? Which party do you oppose? Which party do you oppose? Vote up whether you like what party you support. Vote up whether you like what party you oppose.\n",
            "I ask unanimous consent that the text of the bill be printed in the RECORD.\n",
            "I rise today to pay tribute to the late Senator MURRAY. Senator MURRAY. Mr. Speaker. A few weeks ago, the Committee on the Judiciary, the Committee on the Judiciary. the Committee on the Judiciary, and the Committee on the Judiciary held a hearing, and I was privileged to have a chance to testify. It was a very difficult occasion, but it was an opportunity to speak on a number of issues. In the Committee on the Judiciary, the Committee on the Judiciary held an examination of every provision of legislation. That examination was very thorough, and I was privileged to be able to offer testimony on some of the provisions that were so important to me. But the Committee on the Judiciary held a hearing, and I was very privileged to be able to testify. The hearing was very thorough, and I was privileged to have a chance to speak on a number of issues. On one issue, in fact, we had a hearing on the Committee on the Judiciary, and the\n",
            "What is the biggest threat to America? We have an idea of what an American must do, and here it is. The answer is to go after the people who are the greatest threat to America. We are talking about spreading the word about the disease. That is the biggest threat and the biggest message we should be encouraging our people to get down to the street.\n",
            "I want to speak to my colleagues. That is a very important question. Last year, we had a great debate about what the health care bill was going to do. The bill was drafted with the help of Senator CHUCK GRASS and the American Medical Association, a group of physicians. There were a couple of bills that we got in the House that we had the support of, we have come to the floor, and we have been working very hard to get the bill passed. What is it going to do? Well, it is going to do two things. It is going to create a new care facility, and it is going to give us a new and very unique opportunity. It is going to help us find the best doctors and hospitals to give us the best care. It is going to help us find the best doctors who will give us the best care. It is going to help us find the best\n"
          ],
          "name": "stdout"
        }
      ]
    },
    {
      "cell_type": "markdown",
      "metadata": {
        "id": "2Z4A6N92Xryb",
        "colab_type": "text"
      },
      "source": [
        "Train for democrat data"
      ]
    },
    {
      "cell_type": "code",
      "metadata": {
        "id": "NgWuoltFXz79",
        "colab_type": "code",
        "colab": {}
      },
      "source": [
        "file_name = \"dem_speeches.txt\"\n",
        "gpt2.copy_file_from_gdrive(file_name)\n",
        "\n",
        "sess = gpt2.start_tf_sess()\n",
        "RUN_NAME = 'dem'\n",
        "\n",
        "gpt2.finetune(sess,\n",
        "              dataset=file_name,\n",
        "              model_name='124M',\n",
        "              steps=200,\n",
        "              restore_from='fresh',\n",
        "              run_name=RUN_NAME,\n",
        "              print_every=10,\n",
        "              sample_every=200,\n",
        "              save_every=500\n",
        "              )\n",
        "\n",
        "gpt2.copy_checkpoint_to_gdrive(run_name=RUN_NAME)"
      ],
      "execution_count": null,
      "outputs": []
    },
    {
      "cell_type": "markdown",
      "metadata": {
        "id": "asXfBQP4YTkp",
        "colab_type": "text"
      },
      "source": [
        "Make sure you restart runtime before running this cell!"
      ]
    },
    {
      "cell_type": "code",
      "metadata": {
        "id": "IhQXixd0YGz3",
        "colab_type": "code",
        "colab": {}
      },
      "source": [
        "sess = gpt2.start_tf_sess()\n",
        "gpt2.load_gpt2(sess, run_name=RUN_NAME)"
      ],
      "execution_count": null,
      "outputs": []
    },
    {
      "cell_type": "markdown",
      "metadata": {
        "id": "TBRBT6weYppS",
        "colab_type": "text"
      },
      "source": [
        "Generate republican answers"
      ]
    },
    {
      "cell_type": "code",
      "metadata": {
        "id": "wOqdvacCYvCv",
        "colab_type": "code",
        "colab": {}
      },
      "source": [
        "questions = [\"Should abortion be illegal?\",\n",
        "             \"What do you believe about tax increases?\",\n",
        "             \"Should same-sex marriage be legal?\",\n",
        "             \"Is climate change real?\",\n",
        "             \"Should immigrants be allowed to obtain citizenship?\",\n",
        "             \"Who should be given voting rights?\",\n",
        "             \"Should we have higher taxes for higher incomes?\",\n",
        "             \"Should we allow death penalty?\",\n",
        "             \"Should we have universal healthcare?\",\n",
        "             \"Do government regulations hinder free market capitalism?\",\n",
        "             \"What do you think about the current president?\",\n",
        "             \"Should we reduce national debt?\",\n",
        "             \"Should we increase spending on healthcare?\",\n",
        "             \"Should we increase spending on education?\",\n",
        "             \"Should every American have equal opportunities regardless of sex, age and race?\",\n",
        "             \"Should be introduce more gun control measures?\",\n",
        "             \"What do you think about the current president?\",\n",
        "             \"Should Americans be free?\",\n",
        "             \"What party do you support?\",\n",
        "             \"What is the biggest threat to America?\"\n",
        "             ]"
      ],
      "execution_count": null,
      "outputs": []
    },
    {
      "cell_type": "code",
      "metadata": {
        "id": "WNMG5JpxYxSJ",
        "colab_type": "code",
        "colab": {}
      },
      "source": [
        "with open(\"dem_generated.txt\", 'w') as f:\n",
        "  for i in range(len(questions)):\n",
        "    text = gpt2.generate(sess,\n",
        "              length=250,\n",
        "              temperature=0.7,\n",
        "              prefix=questions[i],\n",
        "              nsamples=1,\n",
        "              batch_size=1,\n",
        "              return_as_list=True)[0]\n",
        "    print(text)\n",
        "    f.write(text + '\\n')"
      ],
      "execution_count": null,
      "outputs": []
    }
  ]
}