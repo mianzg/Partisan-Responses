{
 "cells": [
  {
   "cell_type": "code",
   "execution_count": null,
   "metadata": {},
   "outputs": [
    {
     "name": "stderr",
     "output_type": "stream",
     "text": [
      "INFO:absl:Using C:\\Users\\Jannik\\AppData\\Local\\Temp\\tfhub_modules to cache modules.\n",
      "WARNING:allennlp.common.params:error loading _jsonnet (this is expected on Windows), treating C:\\Users\\Jannik\\AppData\\Local\\Temp\\tmpxqw8oysj\\config.json as plain json\n",
      "WARNING:allennlp.common.params:error loading _jsonnet (this is expected on Windows), treating C:\\Users\\Jannik\\AppData\\Local\\Temp\\tmp_pomirqu\\config.json as plain json\n",
      "WARNING:allennlp.nn.initializers:Did not use initialization regex that was passed: _context_layer._module.weight_ih.*\n",
      "WARNING:allennlp.nn.initializers:Did not use initialization regex that was passed: _context_layer._module.weight_hh.*\n"
     ]
    }
   ],
   "source": [
    "import pandas as pd\n",
    "import spacy\n",
    "from Answer import Answer\n",
    "import utils\n",
    "import re\n",
    "\n",
    "df = pd.read_pickle(\"final_data.pkl\")\n",
    "def parse_entry(entry,verb_dict,verb_list):\n",
    "    result=dict()\n",
    "    result['question']=' '.join([token.text for token in utils.sp(entry['question'])])\n",
    "    phrase_corpus, triplet_id, parsed_text,parsed=Answer(entry['answer']).create_training(verb_dict,verb_list)\n",
    "    result['corpus']=' ; '.join(phrase_corpus)\n",
    "    result['tags']=' '.join(['<phrase>']*len(phrase_corpus))\n",
    "    result['triplet_id']=' ; '.join([re.sub('\\,','',str(x))[1:-1] for x in triplet_id])\n",
    "    result['parsed_text']=parsed_text\n",
    "    result['parsed']=' '.join([str(x) for x in parsed])\n",
    "    return result\n",
    "\n",
    "verb_dict=dict()\n",
    "verb_list=[]\n",
    "result=[]\n",
    "df[:5].apply(lambda x: result.append(parse_entry(x,verb_dict,verb_list)), axis=1)\n",
    "m=pd.DataFrame(result) \n",
    "m.to_csv('test123.tsv', sep='\\t', index=False, header=False)\n",
    "with open('test123.vocab', 'w') as filehandle:\n",
    "    filehandle.writelines(\"%s\\n\" % verb.upper() for verb in verb_list)"
   ]
  }
 ],
 "metadata": {
  "kernelspec": {
   "display_name": "Python 3",
   "language": "python",
   "name": "python3"
  },
  "language_info": {
   "codemirror_mode": {
    "name": "ipython",
    "version": 3
   },
   "file_extension": ".py",
   "mimetype": "text/x-python",
   "name": "python",
   "nbconvert_exporter": "python",
   "pygments_lexer": "ipython3",
   "version": "3.7.4"
  }
 },
 "nbformat": 4,
 "nbformat_minor": 2
}
