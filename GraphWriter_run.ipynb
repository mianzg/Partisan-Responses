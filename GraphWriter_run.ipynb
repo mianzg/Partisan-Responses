{
  "nbformat": 4,
  "nbformat_minor": 0,
  "metadata": {
    "colab": {
      "name": "GraphWriter_run.ipynb",
      "provenance": [],
      "collapsed_sections": [],
      "include_colab_link": true
    },
    "kernelspec": {
      "name": "python3",
      "display_name": "Python 3"
    },
    "accelerator": "GPU"
  },
  "cells": [
    {
      "cell_type": "markdown",
      "metadata": {
        "id": "view-in-github",
        "colab_type": "text"
      },
      "source": [
        "<a href=\"https://colab.research.google.com/github/rostro36/Partisan-Responses/blob/master/GraphWriter_run.ipynb\" target=\"_parent\"><img src=\"https://colab.research.google.com/assets/colab-badge.svg\" alt=\"Open In Colab\"/></a>"
      ]
    },
    {
      "cell_type": "markdown",
      "metadata": {
        "id": "I_lpeRFa34jd",
        "colab_type": "text"
      },
      "source": [
        "Mount Google Drive"
      ]
    },
    {
      "cell_type": "code",
      "metadata": {
        "id": "2_JcyaEJb7BY",
        "colab_type": "code",
        "colab": {
          "base_uri": "https://localhost:8080/",
          "height": 122
        },
        "outputId": "a859db57-d28e-4d31-fe2a-12a7ddd1b816"
      },
      "source": [
        "from google.colab import drive\n",
        "drive.mount('/content/drive')\n",
        "\n",
        "# Change accordingly\n",
        "import os\n",
        "os.chdir('/content/drive/My Drive/Partisan-Responses-master')"
      ],
      "execution_count": 2,
      "outputs": [
        {
          "output_type": "stream",
          "text": [
            "Go to this URL in a browser: https://accounts.google.com/o/oauth2/auth?client_id=947318989803-6bn6qk8qdgf4n4g3pfee6491hc0brc4i.apps.googleusercontent.com&redirect_uri=urn%3aietf%3awg%3aoauth%3a2.0%3aoob&response_type=code&scope=email%20https%3a%2f%2fwww.googleapis.com%2fauth%2fdocs.test%20https%3a%2f%2fwww.googleapis.com%2fauth%2fdrive%20https%3a%2f%2fwww.googleapis.com%2fauth%2fdrive.photos.readonly%20https%3a%2f%2fwww.googleapis.com%2fauth%2fpeopleapi.readonly\n",
            "\n",
            "Enter your authorization code:\n",
            "··········\n",
            "Mounted at /content/drive\n"
          ],
          "name": "stdout"
        }
      ]
    },
    {
      "cell_type": "markdown",
      "metadata": {
        "id": "-dFdfU1a38rz",
        "colab_type": "text"
      },
      "source": [
        "Install all requirements."
      ]
    },
    {
      "cell_type": "code",
      "metadata": {
        "id": "48m_6NnTcA_R",
        "colab_type": "code",
        "colab": {
          "base_uri": "https://localhost:8080/",
          "height": 1000
        },
        "outputId": "ffcf585e-2caf-474e-ec23-f3ccc70fb9f7"
      },
      "source": [
        "#!pip install -r requirements.txt\n",
        "!pip install torchtext -U\n",
        "!pip install spacy==2.1.0\n",
        "!pip install neuralcoref allennlp hnswlib allennlp-models\n",
        "!pip install wandb\n",
        "!python -m spacy download en\n",
        "\n",
        "#  RESTART RUNTIME AFTER INSTALLATION"
      ],
      "execution_count": 2,
      "outputs": [
        {
          "output_type": "stream",
          "text": [
            "Successfully installed blis-0.2.4 plac-0.9.6 preshed-2.0.1 spacy-2.1.0 thinc-7.0.8\n",
            "Collecting neuralcoref\n",
            "\u001b[?25l  Downloading https://files.pythonhosted.org/packages/ea/24/0ec7845a5b73b637aa691ff4d1b9b48f3a0f3369f4002a59ffd7a7462fdb/neuralcoref-4.0-cp36-cp36m-manylinux1_x86_64.whl (287kB)\n",
            "\u001b[K     |████████████████████████████████| 296kB 8.6MB/s \n",
            "\u001b[?25hCollecting allennlp\n",
            "\u001b[?25l  Downloading https://files.pythonhosted.org/packages/2c/49/bf0ec241496a82c9dd2f0b6ff6f8156b6b2b72b849df8c00a4f2bcf61485/allennlp-1.0.0-py3-none-any.whl (473kB)\n",
            "\u001b[K     |████████████████████████████████| 481kB 16.6MB/s \n",
            "\u001b[?25hCollecting hnswlib\n",
            "  Downloading https://files.pythonhosted.org/packages/97/f0/2fa53f02227df57a566a0f25b910066a50fa0cb12ee120717770d657aabd/hnswlib-0.4.0.tar.gz\n",
            "Collecting allennlp-models\n",
            "\u001b[?25l  Downloading https://files.pythonhosted.org/packages/3d/d5/9ee1d0b8c217b6978e42e54fbab8bafe9e792f0f8262f381dde44cee44ae/allennlp_models-1.0.0-py3-none-any.whl (282kB)\n",
            "\u001b[K     |████████████████████████████████| 286kB 28.6MB/s \n",
            "\u001b[?25hRequirement already satisfied: boto3 in /usr/local/lib/python3.6/dist-packages (from neuralcoref) (1.14.24)\n",
            "Requirement already satisfied: spacy>=2.1.0 in /usr/local/lib/python3.6/dist-packages (from neuralcoref) (2.1.0)\n",
            "Requirement already satisfied: requests<3.0.0,>=2.13.0 in /usr/local/lib/python3.6/dist-packages (from neuralcoref) (2.23.0)\n",
            "Requirement already satisfied: numpy>=1.15.0 in /usr/local/lib/python3.6/dist-packages (from neuralcoref) (1.18.5)\n",
            "Requirement already satisfied: tqdm>=4.19 in /usr/local/lib/python3.6/dist-packages (from allennlp) (4.41.1)\n",
            "Requirement already satisfied: nltk in /usr/local/lib/python3.6/dist-packages (from allennlp) (3.2.5)\n",
            "Requirement already satisfied: torch<1.6.0,>=1.5.0 in /usr/local/lib/python3.6/dist-packages (from allennlp) (1.5.1+cu101)\n",
            "Requirement already satisfied: pytest in /usr/local/lib/python3.6/dist-packages (from allennlp) (3.6.4)\n",
            "Requirement already satisfied: filelock<3.1,>=3.0 in /usr/local/lib/python3.6/dist-packages (from allennlp) (3.0.12)\n",
            "Collecting jsonnet>=0.10.0; sys_platform != \"win32\"\n",
            "\u001b[?25l  Downloading https://files.pythonhosted.org/packages/86/70/ed1ba808a87d896b9f4d25400dda54e089ca7a97e87cee620b3744997c89/jsonnet-0.16.0.tar.gz (256kB)\n",
            "\u001b[K     |████████████████████████████████| 266kB 31.0MB/s \n",
            "\u001b[?25hRequirement already satisfied: dataclasses; python_version < \"3.7\" in /usr/local/lib/python3.6/dist-packages (from allennlp) (0.7)\n",
            "Requirement already satisfied: scipy in /usr/local/lib/python3.6/dist-packages (from allennlp) (1.4.1)\n",
            "Collecting jsonpickle\n",
            "  Downloading https://files.pythonhosted.org/packages/af/ca/4fee219cc4113a5635e348ad951cf8a2e47fed2e3342312493f5b73d0007/jsonpickle-1.4.1-py2.py3-none-any.whl\n",
            "Collecting overrides==3.0.0\n",
            "  Downloading https://files.pythonhosted.org/packages/42/8d/caa729f809ecdf8e76fac3c1ff7d3f0b72c398c9dd8a6919927a30a873b3/overrides-3.0.0.tar.gz\n",
            "Requirement already satisfied: scikit-learn in /usr/local/lib/python3.6/dist-packages (from allennlp) (0.22.2.post1)\n",
            "Requirement already satisfied: h5py in /usr/local/lib/python3.6/dist-packages (from allennlp) (2.10.0)\n",
            "Collecting transformers<2.12,>=2.9\n",
            "\u001b[?25l  Downloading https://files.pythonhosted.org/packages/48/35/ad2c5b1b8f99feaaf9d7cdadaeef261f098c6e1a6a2935d4d07662a6b780/transformers-2.11.0-py3-none-any.whl (674kB)\n",
            "\u001b[K     |████████████████████████████████| 675kB 30.7MB/s \n",
            "\u001b[?25hCollecting tensorboardX>=1.2\n",
            "\u001b[?25l  Downloading https://files.pythonhosted.org/packages/af/0c/4f41bcd45db376e6fe5c619c01100e9b7531c55791b7244815bac6eac32c/tensorboardX-2.1-py2.py3-none-any.whl (308kB)\n",
            "\u001b[K     |████████████████████████████████| 317kB 51.3MB/s \n",
            "\u001b[?25hCollecting pybind11>=2.0\n",
            "\u001b[?25l  Downloading https://files.pythonhosted.org/packages/89/e3/d576f6f02bc75bacbc3d42494e8f1d063c95617d86648dba243c2cb3963e/pybind11-2.5.0-py2.py3-none-any.whl (296kB)\n",
            "\u001b[K     |████████████████████████████████| 296kB 57.4MB/s \n",
            "\u001b[?25hCollecting conllu==3.0\n",
            "  Downloading https://files.pythonhosted.org/packages/66/0b/a8863b5c14aee200a13a0f8c28550fd0132e947ae88441c9f517eb84613b/conllu-3.0-py2.py3-none-any.whl\n",
            "Collecting py-rouge==1.1\n",
            "\u001b[?25l  Downloading https://files.pythonhosted.org/packages/9c/1d/0bdbaf559fb7afe32308ebc84a2028600988212d7eb7fb9f69c4e829e4a0/py_rouge-1.1-py3-none-any.whl (56kB)\n",
            "\u001b[K     |████████████████████████████████| 61kB 8.8MB/s \n",
            "\u001b[?25hCollecting word2number>=1.1\n",
            "  Downloading https://files.pythonhosted.org/packages/4a/29/a31940c848521f0725f0df6b25dca8917f13a2025b0e8fcbe5d0457e45e6/word2number-1.1.zip\n",
            "Requirement already satisfied: s3transfer<0.4.0,>=0.3.0 in /usr/local/lib/python3.6/dist-packages (from boto3->neuralcoref) (0.3.3)\n",
            "Requirement already satisfied: botocore<1.18.0,>=1.17.24 in /usr/local/lib/python3.6/dist-packages (from boto3->neuralcoref) (1.17.24)\n",
            "Requirement already satisfied: jmespath<1.0.0,>=0.7.1 in /usr/local/lib/python3.6/dist-packages (from boto3->neuralcoref) (0.10.0)\n",
            "Requirement already satisfied: preshed<2.1.0,>=2.0.1 in /usr/local/lib/python3.6/dist-packages (from spacy>=2.1.0->neuralcoref) (2.0.1)\n",
            "Requirement already satisfied: cymem<2.1.0,>=2.0.2 in /usr/local/lib/python3.6/dist-packages (from spacy>=2.1.0->neuralcoref) (2.0.3)\n",
            "Requirement already satisfied: blis<0.3.0,>=0.2.2 in /usr/local/lib/python3.6/dist-packages (from spacy>=2.1.0->neuralcoref) (0.2.4)\n",
            "Requirement already satisfied: thinc<7.1.0,>=7.0.2 in /usr/local/lib/python3.6/dist-packages (from spacy>=2.1.0->neuralcoref) (7.0.8)\n",
            "Requirement already satisfied: srsly<1.1.0,>=0.0.5 in /usr/local/lib/python3.6/dist-packages (from spacy>=2.1.0->neuralcoref) (1.0.2)\n",
            "Requirement already satisfied: wasabi<1.1.0,>=0.0.12 in /usr/local/lib/python3.6/dist-packages (from spacy>=2.1.0->neuralcoref) (0.7.1)\n",
            "Requirement already satisfied: jsonschema<3.0.0,>=2.6.0 in /usr/local/lib/python3.6/dist-packages (from spacy>=2.1.0->neuralcoref) (2.6.0)\n",
            "Requirement already satisfied: murmurhash<1.1.0,>=0.28.0 in /usr/local/lib/python3.6/dist-packages (from spacy>=2.1.0->neuralcoref) (1.0.2)\n",
            "Requirement already satisfied: plac<1.0.0,>=0.9.6 in /usr/local/lib/python3.6/dist-packages (from spacy>=2.1.0->neuralcoref) (0.9.6)\n",
            "Requirement already satisfied: certifi>=2017.4.17 in /usr/local/lib/python3.6/dist-packages (from requests<3.0.0,>=2.13.0->neuralcoref) (2020.6.20)\n",
            "Requirement already satisfied: urllib3!=1.25.0,!=1.25.1,<1.26,>=1.21.1 in /usr/local/lib/python3.6/dist-packages (from requests<3.0.0,>=2.13.0->neuralcoref) (1.24.3)\n",
            "Requirement already satisfied: idna<3,>=2.5 in /usr/local/lib/python3.6/dist-packages (from requests<3.0.0,>=2.13.0->neuralcoref) (2.10)\n",
            "Requirement already satisfied: chardet<4,>=3.0.2 in /usr/local/lib/python3.6/dist-packages (from requests<3.0.0,>=2.13.0->neuralcoref) (3.0.4)\n",
            "Requirement already satisfied: six in /usr/local/lib/python3.6/dist-packages (from nltk->allennlp) (1.15.0)\n",
            "Requirement already satisfied: future in /usr/local/lib/python3.6/dist-packages (from torch<1.6.0,>=1.5.0->allennlp) (0.16.0)\n",
            "Requirement already satisfied: py>=1.5.0 in /usr/local/lib/python3.6/dist-packages (from pytest->allennlp) (1.9.0)\n",
            "Requirement already satisfied: attrs>=17.4.0 in /usr/local/lib/python3.6/dist-packages (from pytest->allennlp) (19.3.0)\n",
            "Requirement already satisfied: pluggy<0.8,>=0.5 in /usr/local/lib/python3.6/dist-packages (from pytest->allennlp) (0.7.1)\n",
            "Requirement already satisfied: setuptools in /usr/local/lib/python3.6/dist-packages (from pytest->allennlp) (49.1.0)\n",
            "Requirement already satisfied: more-itertools>=4.0.0 in /usr/local/lib/python3.6/dist-packages (from pytest->allennlp) (8.4.0)\n",
            "Requirement already satisfied: atomicwrites>=1.0 in /usr/local/lib/python3.6/dist-packages (from pytest->allennlp) (1.4.0)\n",
            "Requirement already satisfied: importlib-metadata in /usr/local/lib/python3.6/dist-packages (from jsonpickle->allennlp) (1.7.0)\n",
            "Requirement already satisfied: joblib>=0.11 in /usr/local/lib/python3.6/dist-packages (from scikit-learn->allennlp) (0.16.0)\n",
            "Requirement already satisfied: regex!=2019.12.17 in /usr/local/lib/python3.6/dist-packages (from transformers<2.12,>=2.9->allennlp) (2019.12.20)\n",
            "Collecting sacremoses\n",
            "\u001b[?25l  Downloading https://files.pythonhosted.org/packages/7d/34/09d19aff26edcc8eb2a01bed8e98f13a1537005d31e95233fd48216eed10/sacremoses-0.0.43.tar.gz (883kB)\n",
            "\u001b[K     |████████████████████████████████| 890kB 50.9MB/s \n",
            "\u001b[?25hCollecting tokenizers==0.7.0\n",
            "\u001b[?25l  Downloading https://files.pythonhosted.org/packages/14/e5/a26eb4716523808bb0a799fcfdceb6ebf77a18169d9591b2f46a9adb87d9/tokenizers-0.7.0-cp36-cp36m-manylinux1_x86_64.whl (3.8MB)\n",
            "\u001b[K     |████████████████████████████████| 3.8MB 51.7MB/s \n",
            "\u001b[?25hRequirement already satisfied: sentencepiece in /usr/local/lib/python3.6/dist-packages (from transformers<2.12,>=2.9->allennlp) (0.1.91)\n",
            "Requirement already satisfied: packaging in /usr/local/lib/python3.6/dist-packages (from transformers<2.12,>=2.9->allennlp) (20.4)\n",
            "Requirement already satisfied: protobuf>=3.8.0 in /usr/local/lib/python3.6/dist-packages (from tensorboardX>=1.2->allennlp) (3.12.2)\n",
            "Requirement already satisfied: docutils<0.16,>=0.10 in /usr/local/lib/python3.6/dist-packages (from botocore<1.18.0,>=1.17.24->boto3->neuralcoref) (0.15.2)\n",
            "Requirement already satisfied: python-dateutil<3.0.0,>=2.1 in /usr/local/lib/python3.6/dist-packages (from botocore<1.18.0,>=1.17.24->boto3->neuralcoref) (2.8.1)\n",
            "Requirement already satisfied: zipp>=0.5 in /usr/local/lib/python3.6/dist-packages (from importlib-metadata->jsonpickle->allennlp) (3.1.0)\n",
            "Requirement already satisfied: click in /usr/local/lib/python3.6/dist-packages (from sacremoses->transformers<2.12,>=2.9->allennlp) (7.1.2)\n",
            "Requirement already satisfied: pyparsing>=2.0.2 in /usr/local/lib/python3.6/dist-packages (from packaging->transformers<2.12,>=2.9->allennlp) (2.4.7)\n",
            "Building wheels for collected packages: hnswlib, jsonnet, overrides, word2number, sacremoses\n",
            "  Building wheel for hnswlib (setup.py) ... \u001b[?25lerror\n",
            "\u001b[31m  ERROR: Failed building wheel for hnswlib\u001b[0m\n",
            "\u001b[?25h  Running setup.py clean for hnswlib\n",
            "  Building wheel for jsonnet (setup.py) ... \u001b[?25l\u001b[?25hdone\n",
            "  Created wheel for jsonnet: filename=jsonnet-0.16.0-cp36-cp36m-linux_x86_64.whl size=3321603 sha256=4dabf8bf47283c8493b5ee39073cdf865fb0bb128874eed424d932a84f6c4933\n",
            "  Stored in directory: /root/.cache/pip/wheels/64/a9/43/bc5e0463deeec89dfca928a2a64595f1bdb520c891f6fbd09c\n",
            "  Building wheel for overrides (setup.py) ... \u001b[?25l\u001b[?25hdone\n",
            "  Created wheel for overrides: filename=overrides-3.0.0-cp36-none-any.whl size=5669 sha256=846ea20120bc90e285f02d44ca107566fd3a83230d4a297fcb6de4d72fbdcba1\n",
            "  Stored in directory: /root/.cache/pip/wheels/6f/1b/ec/6c71a1eb823df7f850d956b2d8c50a6d49c191e1063d73b9be\n",
            "  Building wheel for word2number (setup.py) ... \u001b[?25l\u001b[?25hdone\n",
            "  Created wheel for word2number: filename=word2number-1.1-cp36-none-any.whl size=5587 sha256=529339027d5823577e9bb273de8f0318beb1d4930c17ef45355c5e0bc3518592\n",
            "  Stored in directory: /root/.cache/pip/wheels/46/2f/53/5f5c1d275492f2fce1cdab9a9bb12d49286dead829a4078e0e\n",
            "  Building wheel for sacremoses (setup.py) ... \u001b[?25l\u001b[?25hdone\n",
            "  Created wheel for sacremoses: filename=sacremoses-0.0.43-cp36-none-any.whl size=893260 sha256=52055341c7fb5ccab299ebd6e88916815446281ab7c92c25d4e1ded1e0a467d7\n",
            "  Stored in directory: /root/.cache/pip/wheels/29/3c/fd/7ce5c3f0666dab31a50123635e6fb5e19ceb42ce38d4e58f45\n",
            "Successfully built jsonnet overrides word2number sacremoses\n",
            "Failed to build hnswlib\n",
            "Installing collected packages: neuralcoref, jsonnet, jsonpickle, overrides, sacremoses, tokenizers, transformers, tensorboardX, allennlp, pybind11, hnswlib, conllu, py-rouge, word2number, allennlp-models\n",
            "    Running setup.py install for hnswlib ... \u001b[?25l\u001b[?25hdone\n",
            "Successfully installed allennlp-1.0.0 allennlp-models-1.0.0 conllu-3.0 hnswlib-0.4.0 jsonnet-0.16.0 jsonpickle-1.4.1 neuralcoref-4.0 overrides-3.0.0 py-rouge-1.1 pybind11-2.5.0 sacremoses-0.0.43 tensorboardX-2.1 tokenizers-0.7.0 transformers-2.11.0 word2number-1.1\n",
            "Collecting wandb\n",
            "\u001b[?25l  Downloading https://files.pythonhosted.org/packages/b4/8c/683d6112dfeaca2c6bc47ef6b4a92b60a310e5054df90bd8d920d6c7a275/wandb-0.9.3-py2.py3-none-any.whl (1.4MB)\n",
            "\u001b[K     |████████████████████████████████| 1.4MB 9.1MB/s \n",
            "\u001b[?25hRequirement already satisfied: PyYAML>=3.10 in /usr/local/lib/python3.6/dist-packages (from wandb) (3.13)\n",
            "Collecting GitPython>=1.0.0\n",
            "\u001b[?25l  Downloading https://files.pythonhosted.org/packages/f9/1e/a45320cab182bf1c8656107b3d4c042e659742822fc6bff150d769a984dd/GitPython-3.1.7-py3-none-any.whl (158kB)\n",
            "\u001b[K     |████████████████████████████████| 163kB 39.8MB/s \n",
            "\u001b[?25hRequirement already satisfied: python-dateutil>=2.6.1 in /usr/local/lib/python3.6/dist-packages (from wandb) (2.8.1)\n",
            "Requirement already satisfied: six>=1.10.0 in /usr/local/lib/python3.6/dist-packages (from wandb) (1.15.0)\n",
            "Requirement already satisfied: Click>=7.0 in /usr/local/lib/python3.6/dist-packages (from wandb) (7.1.2)\n",
            "Collecting watchdog>=0.8.3\n",
            "\u001b[?25l  Downloading https://files.pythonhosted.org/packages/0e/06/121302598a4fc01aca942d937f4a2c33430b7181137b35758913a8db10ad/watchdog-0.10.3.tar.gz (94kB)\n",
            "\u001b[K     |████████████████████████████████| 102kB 10.7MB/s \n",
            "\u001b[?25hCollecting sentry-sdk>=0.4.0\n",
            "\u001b[?25l  Downloading https://files.pythonhosted.org/packages/19/2a/5461e1fe0026d6eab10571f81d052894328e97f15614abb6a576c65bc82d/sentry_sdk-0.16.2-py2.py3-none-any.whl (109kB)\n",
            "\u001b[K     |████████████████████████████████| 112kB 40.9MB/s \n",
            "\u001b[?25hCollecting configparser>=3.8.1\n",
            "  Downloading https://files.pythonhosted.org/packages/4b/6b/01baa293090240cf0562cc5eccb69c6f5006282127f2b846fad011305c79/configparser-5.0.0-py3-none-any.whl\n",
            "Requirement already satisfied: psutil>=5.0.0 in /usr/local/lib/python3.6/dist-packages (from wandb) (5.4.8)\n",
            "Requirement already satisfied: requests>=2.0.0 in /usr/local/lib/python3.6/dist-packages (from wandb) (2.23.0)\n",
            "Requirement already satisfied: nvidia-ml-py3>=7.352.0 in /usr/local/lib/python3.6/dist-packages (from wandb) (7.352.0)\n",
            "Collecting subprocess32>=3.5.3\n",
            "\u001b[?25l  Downloading https://files.pythonhosted.org/packages/32/c8/564be4d12629b912ea431f1a50eb8b3b9d00f1a0b1ceff17f266be190007/subprocess32-3.5.4.tar.gz (97kB)\n",
            "\u001b[K     |████████████████████████████████| 102kB 11.5MB/s \n",
            "\u001b[?25hCollecting docker-pycreds>=0.4.0\n",
            "  Downloading https://files.pythonhosted.org/packages/f5/e8/f6bd1eee09314e7e6dee49cbe2c5e22314ccdb38db16c9fc72d2fa80d054/docker_pycreds-0.4.0-py2.py3-none-any.whl\n",
            "Collecting gql==0.2.0\n",
            "  Downloading https://files.pythonhosted.org/packages/c4/6f/cf9a3056045518f06184e804bae89390eb706168349daa9dff8ac609962a/gql-0.2.0.tar.gz\n",
            "Collecting shortuuid>=0.5.0\n",
            "  Downloading https://files.pythonhosted.org/packages/25/a6/2ecc1daa6a304e7f1b216f0896b26156b78e7c38e1211e9b798b4716c53d/shortuuid-1.0.1-py3-none-any.whl\n",
            "Collecting gitdb<5,>=4.0.1\n",
            "\u001b[?25l  Downloading https://files.pythonhosted.org/packages/48/11/d1800bca0a3bae820b84b7d813ad1eff15a48a64caea9c823fc8c1b119e8/gitdb-4.0.5-py3-none-any.whl (63kB)\n",
            "\u001b[K     |████████████████████████████████| 71kB 9.6MB/s \n",
            "\u001b[?25hCollecting pathtools>=0.1.1\n",
            "  Downloading https://files.pythonhosted.org/packages/e7/7f/470d6fcdf23f9f3518f6b0b76be9df16dcc8630ad409947f8be2eb0ed13a/pathtools-0.1.2.tar.gz\n",
            "Requirement already satisfied: certifi in /usr/local/lib/python3.6/dist-packages (from sentry-sdk>=0.4.0->wandb) (2020.6.20)\n",
            "Requirement already satisfied: urllib3>=1.10.0 in /usr/local/lib/python3.6/dist-packages (from sentry-sdk>=0.4.0->wandb) (1.24.3)\n",
            "Requirement already satisfied: chardet<4,>=3.0.2 in /usr/local/lib/python3.6/dist-packages (from requests>=2.0.0->wandb) (3.0.4)\n",
            "Requirement already satisfied: idna<3,>=2.5 in /usr/local/lib/python3.6/dist-packages (from requests>=2.0.0->wandb) (2.10)\n",
            "Collecting graphql-core<2,>=0.5.0\n",
            "\u001b[?25l  Downloading https://files.pythonhosted.org/packages/b0/89/00ad5e07524d8c523b14d70c685e0299a8b0de6d0727e368c41b89b7ed0b/graphql-core-1.1.tar.gz (70kB)\n",
            "\u001b[K     |████████████████████████████████| 71kB 7.4MB/s \n",
            "\u001b[?25hRequirement already satisfied: promise<3,>=2.0 in /usr/local/lib/python3.6/dist-packages (from gql==0.2.0->wandb) (2.3)\n",
            "Collecting smmap<4,>=3.0.1\n",
            "  Downloading https://files.pythonhosted.org/packages/b0/9a/4d409a6234eb940e6a78dfdfc66156e7522262f5f2fecca07dc55915952d/smmap-3.0.4-py2.py3-none-any.whl\n",
            "Building wheels for collected packages: watchdog, subprocess32, gql, pathtools, graphql-core\n",
            "  Building wheel for watchdog (setup.py) ... \u001b[?25l\u001b[?25hdone\n",
            "  Created wheel for watchdog: filename=watchdog-0.10.3-cp36-none-any.whl size=73870 sha256=55e63c9ea52546753518f949c5f40b72e22402e1ce3601e8d19129cb00797100\n",
            "  Stored in directory: /root/.cache/pip/wheels/a8/1d/38/2c19bb311f67cc7b4d07a2ec5ea36ab1a0a0ea50db994a5bc7\n",
            "  Building wheel for subprocess32 (setup.py) ... \u001b[?25l\u001b[?25hdone\n",
            "  Created wheel for subprocess32: filename=subprocess32-3.5.4-cp36-none-any.whl size=6489 sha256=ae91ec9dc7f4186d626797fd09b59aa357a4bb5fbb9d0f8d75e74b5738e49c57\n",
            "  Stored in directory: /root/.cache/pip/wheels/68/39/1a/5e402bdfdf004af1786c8b853fd92f8c4a04f22aad179654d1\n",
            "  Building wheel for gql (setup.py) ... \u001b[?25l\u001b[?25hdone\n",
            "  Created wheel for gql: filename=gql-0.2.0-cp36-none-any.whl size=7630 sha256=78149b42d3f8eff9648b1df81aac3ee55a883d66a6cb389da9322cf9e5ad070a\n",
            "  Stored in directory: /root/.cache/pip/wheels/ce/0e/7b/58a8a5268655b3ad74feef5aa97946f0addafb3cbb6bd2da23\n",
            "  Building wheel for pathtools (setup.py) ... \u001b[?25l\u001b[?25hdone\n",
            "  Created wheel for pathtools: filename=pathtools-0.1.2-cp36-none-any.whl size=8784 sha256=d8feedb50122118cdd50f757e6b66d09672d6d8ce3ac027561bb9bc99e3924f6\n",
            "  Stored in directory: /root/.cache/pip/wheels/0b/04/79/c3b0c3a0266a3cb4376da31e5bfe8bba0c489246968a68e843\n",
            "  Building wheel for graphql-core (setup.py) ... \u001b[?25l\u001b[?25hdone\n",
            "  Created wheel for graphql-core: filename=graphql_core-1.1-cp36-none-any.whl size=104650 sha256=955307e22f3f538016af4d13114108f838f8fa973d668f85aa4120949af692ca\n",
            "  Stored in directory: /root/.cache/pip/wheels/45/99/d7/c424029bb0fe910c63b68dbf2aa20d3283d023042521bcd7d5\n",
            "Successfully built watchdog subprocess32 gql pathtools graphql-core\n",
            "Installing collected packages: smmap, gitdb, GitPython, pathtools, watchdog, sentry-sdk, configparser, subprocess32, docker-pycreds, graphql-core, gql, shortuuid, wandb\n",
            "Successfully installed GitPython-3.1.7 configparser-5.0.0 docker-pycreds-0.4.0 gitdb-4.0.5 gql-0.2.0 graphql-core-1.1 pathtools-0.1.2 sentry-sdk-0.16.2 shortuuid-1.0.1 smmap-3.0.4 subprocess32-3.5.4 wandb-0.9.3 watchdog-0.10.3\n",
            "Collecting en_core_web_sm==2.1.0\n",
            "\u001b[?25l  Downloading https://github.com/explosion/spacy-models/releases/download/en_core_web_sm-2.1.0/en_core_web_sm-2.1.0.tar.gz (11.1MB)\n",
            "\u001b[K     |████████████████████████████████| 11.1MB 365kB/s \n",
            "\u001b[?25hBuilding wheels for collected packages: en-core-web-sm\n",
            "  Building wheel for en-core-web-sm (setup.py) ... \u001b[?25l\u001b[?25hdone\n",
            "  Created wheel for en-core-web-sm: filename=en_core_web_sm-2.1.0-cp36-none-any.whl size=11074435 sha256=4a0f445969117efcc9452ff5039bd88075ae29b0100ff8e8847292d0acd075b6\n",
            "  Stored in directory: /tmp/pip-ephem-wheel-cache-ak_g4a4m/wheels/39/ea/3b/507f7df78be8631a7a3d7090962194cf55bc1158572c0be77f\n",
            "Successfully built en-core-web-sm\n",
            "Installing collected packages: en-core-web-sm\n",
            "  Found existing installation: en-core-web-sm 2.2.5\n",
            "    Uninstalling en-core-web-sm-2.2.5:\n",
            "      Successfully uninstalled en-core-web-sm-2.2.5\n",
            "Successfully installed en-core-web-sm-2.1.0\n",
            "\u001b[38;5;2m✔ Download and installation successful\u001b[0m\n",
            "You can now load the model via spacy.load('en_core_web_sm')\n",
            "\u001b[38;5;2m✔ Linking successful\u001b[0m\n",
            "/usr/local/lib/python3.6/dist-packages/en_core_web_sm -->\n",
            "/usr/local/lib/python3.6/dist-packages/spacy/data/en\n",
            "You can now load the model via spacy.load('en')\n"
          ],
          "name": "stdout"
        }
      ]
    },
    {
      "cell_type": "markdown",
      "metadata": {
        "id": "xqzaqs5Q68sV",
        "colab_type": "text"
      },
      "source": [
        "Import everything"
      ]
    },
    {
      "cell_type": "code",
      "metadata": {
        "id": "1Ygv1emO4Ki0",
        "colab_type": "code",
        "colab": {
          "base_uri": "https://localhost:8080/",
          "height": 85
        },
        "outputId": "fa41a70b-3966-4df6-d341-4a55db432798"
      },
      "source": [
        "import neuralcoref\n",
        "import spacy\n",
        "import re\n",
        "import pickle\n",
        "import pandas as pd\n",
        "import gc\n",
        "from Answer import Answer\n",
        "import utils"
      ],
      "execution_count": 2,
      "outputs": [
        {
          "output_type": "stream",
          "text": [
            "\u001b[34m\u001b[1mwandb\u001b[0m: \u001b[33mWARNING\u001b[0m W&B installed but not logged in.  Run `wandb login` or set the WANDB_API_KEY env variable.\n",
            "INFO:absl:Using /tmp/tfhub_modules to cache modules.\n",
            "WARNING:allennlp.nn.initializers:Did not use initialization regex that was passed: _context_layer._module.weight_ih.*\n",
            "WARNING:allennlp.nn.initializers:Did not use initialization regex that was passed: _context_layer._module.weight_hh.*\n"
          ],
          "name": "stderr"
        }
      ]
    },
    {
      "cell_type": "markdown",
      "metadata": {
        "id": "hle7707K7JBV",
        "colab_type": "text"
      },
      "source": [
        "Setup everything for coref"
      ]
    },
    {
      "cell_type": "code",
      "metadata": {
        "id": "rgAs3DSn7GKD",
        "colab_type": "code",
        "colab": {}
      },
      "source": [
        "'''\n",
        "nlp = spacy.load('en')\n",
        "neuralcoref.add_to_pipe(nlp)\n",
        "\n",
        "identifier='coref'\n",
        "last_check=0\n",
        "step_size=1000\n",
        "\n",
        "def load_pickles(identifier, checkpoint):\n",
        "  if os.path.exists(\"df\"+identifier+str(checkpoint)+\".pickle\"):\n",
        "    df = pd.read_pickle(\"df\"+identifier+str(checkpoint)+\".pickle\")\n",
        "  return df\n",
        "\n",
        "def dump_pickles(identifier, checkpoint, df):\n",
        "  df.to_pickle(\"df\"+identifier+str(checkpoint)+\".pickle\")\n",
        "  gc.collect()\n",
        "  return \n",
        "\n",
        "def make_corefs(content):\n",
        "    content=str(re.sub(\"\\.(?=\\s[a-z0-9]|\\sI[\\W\\s])\", \",\", content))\n",
        "    doc=nlp(content)\n",
        "    return doc._.coref_resolved\n",
        "\n",
        "df = pd.read_pickle(\"final_data.pkl\")\n",
        "'''\n"
      ],
      "execution_count": null,
      "outputs": []
    },
    {
      "cell_type": "markdown",
      "metadata": {
        "id": "VdpMgaKm7RwM",
        "colab_type": "text"
      },
      "source": [
        "Do coref"
      ]
    },
    {
      "cell_type": "code",
      "metadata": {
        "id": "JKZijOCs7gQF",
        "colab_type": "code",
        "colab": {
          "base_uri": "https://localhost:8080/",
          "height": 204
        },
        "outputId": "4053fd44-307d-403c-a445-baf5736ada0e"
      },
      "source": [
        "'''\n",
        "for i in range(last_check+1,int(df.shape[0]/step_size)):\n",
        "  print(i)\n",
        "  for j in range(step_size):\n",
        "    df.iloc[step_size*(i-1)+j]['answer']=make_corefs(df.iloc[step_size*(i-1)+j]['answer'])\n",
        "  dump_pickles(identifier,i,df)\n",
        "print('done with ordered')\n",
        "for j in range(df.shape[0]-int(df.shape[0]/step_size)*step_size):\n",
        "  df.iloc[step_size*int(df.shape[0]/step_size)+j]['answer']=make_corefs(df.iloc[step_size*int(df.shape[0]/step_size)+j]['answer'])\n",
        "df.to_pickle(identifier+\".pkl\")\n",
        "'''\n",
        "df = pd.read_pickle(\"coref.pkl\")\n",
        "df.head()"
      ],
      "execution_count": 6,
      "outputs": [
        {
          "output_type": "execute_result",
          "data": {
            "text/html": [
              "<div>\n",
              "<style scoped>\n",
              "    .dataframe tbody tr th:only-of-type {\n",
              "        vertical-align: middle;\n",
              "    }\n",
              "\n",
              "    .dataframe tbody tr th {\n",
              "        vertical-align: top;\n",
              "    }\n",
              "\n",
              "    .dataframe thead th {\n",
              "        text-align: right;\n",
              "    }\n",
              "</style>\n",
              "<table border=\"1\" class=\"dataframe\">\n",
              "  <thead>\n",
              "    <tr style=\"text-align: right;\">\n",
              "      <th></th>\n",
              "      <th>question</th>\n",
              "      <th>answer</th>\n",
              "      <th>party</th>\n",
              "    </tr>\n",
              "  </thead>\n",
              "  <tbody>\n",
              "    <tr>\n",
              "      <th>0</th>\n",
              "      <td>Should abortion be illegal?</td>\n",
              "      <td>Mr. Speaker. Congress now has an opportunity t...</td>\n",
              "      <td>R</td>\n",
              "    </tr>\n",
              "    <tr>\n",
              "      <th>1</th>\n",
              "      <td>Should abortion be illegal?</td>\n",
              "      <td>Mr. Speaker, I rise today to express my opposi...</td>\n",
              "      <td>R</td>\n",
              "    </tr>\n",
              "    <tr>\n",
              "      <th>2</th>\n",
              "      <td>Should abortion be illegal?</td>\n",
              "      <td>so eloquently pointed out earlier, partialbirt...</td>\n",
              "      <td>R</td>\n",
              "    </tr>\n",
              "    <tr>\n",
              "      <th>3</th>\n",
              "      <td>Should abortion be illegal?</td>\n",
              "      <td>Mr. Chairman, I rise in reluctant support of t...</td>\n",
              "      <td>D</td>\n",
              "    </tr>\n",
              "    <tr>\n",
              "      <th>4</th>\n",
              "      <td>Should abortion be illegal?</td>\n",
              "      <td>Will the Senator yield to answer a question so...</td>\n",
              "      <td>D</td>\n",
              "    </tr>\n",
              "  </tbody>\n",
              "</table>\n",
              "</div>"
            ],
            "text/plain": [
              "                      question  ... party\n",
              "0  Should abortion be illegal?  ...     R\n",
              "1  Should abortion be illegal?  ...     R\n",
              "2  Should abortion be illegal?  ...     R\n",
              "3  Should abortion be illegal?  ...     D\n",
              "4  Should abortion be illegal?  ...     D\n",
              "\n",
              "[5 rows x 3 columns]"
            ]
          },
          "metadata": {
            "tags": []
          },
          "execution_count": 6
        }
      ]
    },
    {
      "cell_type": "markdown",
      "metadata": {
        "id": "xcG4Kx3i89Ar",
        "colab_type": "text"
      },
      "source": [
        "Setup for parsing"
      ]
    },
    {
      "cell_type": "code",
      "metadata": {
        "id": "-NOPFTwb7vyD",
        "colab_type": "code",
        "colab": {}
      },
      "source": [
        "identifier='oie'\n",
        "last_check=1\n",
        "step_size=100\n",
        "#df is still from the cell above above\n",
        "\n",
        "def parse_entry(entry,verb_dict,verb_list):\n",
        "    #print(entry)\n",
        "    #print(\"+\"*20)\n",
        "    result=dict()\n",
        "    result['question']=' '.join([token.text for token in utils.sp(entry['question'])])\n",
        "    phrase_corpus, triplet_id, parsed_text,parsed=Answer(entry['answer']).create_test(verb_dict,verb_list)\n",
        "    result['corpus']=' ; '.join(phrase_corpus)\n",
        "    result['tags']=' '.join(['<phrase>']*len(phrase_corpus))\n",
        "    result['triplet_id']=' ; '.join([re.sub('\\,','',str(x))[1:-1] for x in triplet_id])\n",
        "    result['parsed_text']=parsed_text\n",
        "    result['parsed']=' '.join([str(x) for x in parsed])\n",
        "    return result\n",
        "\n",
        "def load_pickles(identifier, checkpoint):\n",
        "  if os.path.exists(\"verb_dict\"+identifier+str(checkpoint)+\".pickle\"):\n",
        "    with open('verb_dict'+identifier+str(checkpoint)+'.pickle', 'rb') as handle:\n",
        "      verb_dict = pickle.load(handle)\n",
        "    with open('verb_list'+identifier+str(checkpoint)+'.pickle', 'rb') as handle:\n",
        "      verb_list = pickle.load(handle)\n",
        "    with open('result'+identifier+str(checkpoint)+'.pickle', 'rb') as handle:\n",
        "      result = pickle.load(handle)\n",
        "  else:\n",
        "    print('File does not exist yet.')\n",
        "    verb_dict=dict()\n",
        "    verb_list=[]\n",
        "    result=[]\n",
        "  return verb_dict, verb_list, result\n",
        "\n",
        "def dump_pickles(identifier, checkpoint, verb_dict, verb_list, result):\n",
        "  with open(\"verb_dict\"+identifier+str(checkpoint)+\".pickle\", 'wb') as handle:\n",
        "      pickle.dump(verb_dict, handle, protocol=pickle.HIGHEST_PROTOCOL)\n",
        "  with open(\"verb_list\"+identifier+str(checkpoint)+\".pickle\", 'wb') as handle:\n",
        "      pickle.dump(verb_list, handle, protocol=pickle.HIGHEST_PROTOCOL)\n",
        "  with open(\"result\"+identifier+str(checkpoint)+\".pickle\", 'wb') as handle:\n",
        "      pickle.dump(result, handle, protocol=pickle.HIGHEST_PROTOCOL)\n",
        "  return \n",
        "\n",
        "verb_dict = pickle.load(open(\"verb_dict.pickle\", \"rb\"))\n",
        "verb_list = None"
      ],
      "execution_count": 4,
      "outputs": []
    },
    {
      "cell_type": "markdown",
      "metadata": {
        "id": "KFSGYiCU9gat",
        "colab_type": "text"
      },
      "source": [
        "Process data"
      ]
    },
    {
      "cell_type": "code",
      "metadata": {
        "id": "q0om52TA9et4",
        "colab_type": "code",
        "colab": {
          "base_uri": "https://localhost:8080/",
          "height": 425
        },
        "outputId": "c6781ee1-6b00-4d7c-b962-1b339a7726b4"
      },
      "source": [
        "result = []\n",
        "for i in range(last_check+1,int(df.shape[0]/step_size)):\n",
        "  print(i)\n",
        "  df[step_size*(i-1):step_size*i].apply(lambda x: result.append(parse_entry(x,verb_dict,verb_list)), axis=1)\n",
        "  dump_pickles(identifier,i,verb_dict,verb_list,result)\n",
        "print('done with ordered')\n",
        "df = df[df['answer'].apply(lambda x: len(x)) < 1000]\n",
        "df.apply(lambda x: result.append(parse_entry(x,verb_dict,verb_list)), axis=1)\n",
        "dump_pickles(identifier,1+df.shape[0]/step_size,verb_dict,verb_list,result)"
      ],
      "execution_count": 6,
      "outputs": [
        {
          "output_type": "stream",
          "text": [
            "done with ordered\n",
            "DO\n",
            "DO\n",
            "DO\n",
            "BELLYACHE\n",
            "DO\n",
            "DISFAVOR\n",
            "DO\n",
            "DO\n",
            "GENDERBASE\n",
            "DO\n",
            "GENDERBASE\n",
            "DISCUSS\n",
            "DENOTE\n",
            "DO\n",
            "DO\n",
            "DO\n",
            "DO\n",
            "DO\n",
            "COOK\n",
            "COOK\n",
            "DO\n",
            "INFECT\n",
            "DO\n"
          ],
          "name": "stdout"
        }
      ]
    },
    {
      "cell_type": "markdown",
      "metadata": {
        "id": "JxmENzAm8Z5a",
        "colab_type": "text"
      },
      "source": [
        "Post-processing of data"
      ]
    },
    {
      "cell_type": "code",
      "metadata": {
        "id": "cN-zxpPs8ZKk",
        "colab_type": "code",
        "colab": {}
      },
      "source": [
        "df=pd.DataFrame(result) \n",
        "df=df.sample(frac=1, random_state=36)\n",
        "df=df.dropna(axis=0, how='any')"
      ],
      "execution_count": 7,
      "outputs": []
    },
    {
      "cell_type": "markdown",
      "metadata": {
        "id": "L1wsMNkf8PHk",
        "colab_type": "text"
      },
      "source": [
        "Write to variables"
      ]
    },
    {
      "cell_type": "code",
      "metadata": {
        "id": "aKhXCZ6r8OKG",
        "colab_type": "code",
        "colab": {}
      },
      "source": [
        "identifier='../GraphWriter-master/data/preprocessed'\n",
        "df.to_csv(\"/content/drive/My Drive/GraphWriter-master/data/preprocessed.test.tsv\", sep='\\t', index=False, header=False)"
      ],
      "execution_count": 8,
      "outputs": []
    },
    {
      "cell_type": "markdown",
      "metadata": {
        "id": "-hI-lDTb-thC",
        "colab_type": "text"
      },
      "source": [
        "Train with GraphWriter"
      ]
    },
    {
      "cell_type": "code",
      "metadata": {
        "id": "yJEQ67DecD4R",
        "colab_type": "code",
        "colab": {}
      },
      "source": [
        "#!python ../GraphWriter-master/train.py -save ../GraphWriter-master/partisanResponses"
      ],
      "execution_count": null,
      "outputs": []
    },
    {
      "cell_type": "markdown",
      "metadata": {
        "id": "5zC3KRld2_YH",
        "colab_type": "text"
      },
      "source": [
        "Use file with lowest vloss in the folder \"partisanResponses\" of GraphWriter-master to generate responses on test data.\n",
        "\n",
        "\n",
        "E.g. in the next cell \"9.vloss-3.980539.lr-0.1\" was used."
      ]
    },
    {
      "cell_type": "code",
      "metadata": {
        "id": "Ek1BF81C7h1T",
        "colab_type": "code",
        "colab": {
          "base_uri": "https://localhost:8080/",
          "height": 1000
        },
        "outputId": "422c434f-bcc3-4d15-9350-9a8eb8f6f05a"
      },
      "source": [
        "os.chdir('/content/drive/My Drive/GraphWriter-master')\n",
        "!python generator.py -save=partisan-responses/first_20_ckpt/9.vloss-3.980539.lr-0.1"
      ],
      "execution_count": 12,
      "outputs": [
        {
          "output_type": "stream",
          "text": [
            "2020-07-24 20:13:56.955420: I tensorflow/stream_executor/platform/default/dso_loader.cc:44] Successfully opened dynamic library libcudart.so.10.1\n",
            "\u001b[34m\u001b[1mwandb\u001b[0m: \u001b[33mWARNING\u001b[0m W&B installed but not logged in.  Run `wandb login` or set the WANDB_API_KEY env variable.\n",
            "Loading Data from  data/preprocessed.train.tsv\n",
            "data/\n",
            "preprocessed.train.tsv\n",
            "building vocab\n",
            "done\n",
            "Vocab sizes:\n",
            "src 6847\n",
            "ent 18458\n",
            "nerd 4\n",
            "rel 18429\n",
            "out 9801\n",
            "graph\n",
            "0 42\n",
            "/content/drive/My Drive/GraphWriter-master/models/newmodel.py:152: UserWarning: To copy construct from a tensor, it is recommended to use sourceTensor.clone().detach() or sourceTensor.clone().detach().requires_grad_(True), rather than torch.tensor(sourceTensor).\n",
            "  cx = torch.tensor(hx)\n",
            "That is correct . What we are trying to do is restate in simple , easy to understand language THE BALANCE that THE COURTS , I think , have properly struck between <unk> THE PURPOSE OF THE 21ST AMENDMENT and at the same time making sure that WE do not subtract in any way FROM THE INTERSTATE COMMERCE CLAUSE , both are both parts of the Constitution , both read together , I think that THE CURRENT CASE LAW that WE have cited and that WE repeat in the statute expresses it as <unk> and simply as it can be expressed . \n",
            "Mr. Chairman , if the gentleman will yield , WE the gentleman will find that WE the gentleman would get the information . If WE were the same , WE would have to come back to the House . If WE were the same , WE would have to come back to the House . If WE were the same , WE would have to come back to the House . If WE were the same , WE would have to come before the House , and WE would be the same . If WE were the same , WE would have to come back to the House . If WE were the same , WE would have to come back to the House . If WE were the same , WE would have to come back to the House . If WE were the same , WE would have to come back to the House . If WE were the same , WE would be the same , and WE would be the same . If WE were the same , WE would have to come back to the House . If WE were the same , WE would\n",
            "\n",
            "1 42\n",
            "Madam Speaker , I have been assured BY MADAM SPEAKER AND THE HOUSE REPUBLICAN LEADERSHIP that I will be able to offer an amendment that would eliminate <unk> and <unk> <unk> programs for the awarding of Federal contracts , and I intend to do so . I have agreed to utilize THE DOD APPROPRIATIONS BILL as We means , I say I to give Members due notice . Prior to the vote , I intend to hold <unk> meetings on an amendment that would eliminate <unk> and <unk> <unk> programs for the awarding of Federal contracts . Wednesday , and Thursday of next week , I will hold THESE SESSIONS FOR REPUBLICANS AND DEMOCRATS to discuss the <unk> appropriations bill . <unk> will be going to every Members office <unk> the time and the location . <unk> , <unk> , and <unk> from all interested Members prior to the vote is desired , because we all would like to offer every American an equal opportunity to succeed in this great country . \n",
            "Mr. President , I that I have to say that I has been that we have been able to get I on the floor of the House , and I I have been able to work with the chairman of the House , and I I have been able to work with the chairman of the House , I I have been able to work with the chairman of the House , and I THE DOD APPROPRIATIONS BILL have been able to work with the chairman of the House , and I I have been able to work with the chairman of the House , and I I have been able to work with the chairman of the House , and I I have been able to work with the chairman of the committee , and I I have been able to work with the chairman of the House , and I I have been able to work with the chairman of the House , and I I have been able to work with the chairman of the committee , and I I have been able to work with the chairman of the House , and I I have been able to work\n",
            "\n",
            "2 42\n",
            "MR. CHAIRMAN , reclaiming MY TIME for a moment , my think what we have done in this legislation is entirely consistent with the executive order and the current process . State and local governments are <unk> . It is appropriate that State and local governments have the <unk> that is provided in the title . Again , although my think the intent of the gentlemans amendment WE ALL agree WITH , we all think there currently is the ability for CITIZENS to have THE KIND OF INPUT THAT THE GENTLEMAN DESIRES . Again , we all must reluctantly oppose THE GENTLEMANS AMENDMENT WE ALL agree . \n",
            "Mr. Chairman , if the gentleman will yield further , that this is a very important question . Mr. Chairman , if the gentleman will yield further , that THE GENTLEMANS AMENDMENT , and the gentleman will find that WE ALL the gentleman would agree with the gentleman . Mr. Chairman , if the gentleman will yield further , that MR. CHAIRMAN , WE ALL , and CITIZENS , and WE ALL which would agree with my good friend , the gentleman from Illinois , to agree with the gentleman from Illinois , to agree with the gentleman from Illinois , to agree with the gentleman , and I think THE GENTLEMANS AMENDMENT that CITIZENS and agree that CITIZENS have been able to do it . Mr. Chairman , if the gentleman will yield further , that MR. CHAIRMAN , and the gentleman from Illinois , who is a member of the committee , to agree with the chairman of the committee . Mr. Chairman , if the gentleman will yield further , that MR. CHAIRMAN , and the gentleman from Illinois , who is a member of the committee , to agree with the distinguished chairman of the Committee on Foreign Affairs , on the floor of the House\n",
            "\n",
            "3 42\n",
            "Mr. President , I see SENATOR LIEBERMAN . Senator <unk> , is on the floor . If I may , I wish to direct A QUESTION Senator <unk> way . One of the <unk> of the testimony from General <unk> is that after the <unk> has <unk> to this stage , the biggest threat to Iraqi stability is no longer <unk> or sectarian violence but SPECIAL GROUPS trained BY THE IRANIAN GOVERNMENT sent back into Iraq to <unk> this effort of <unk> . Mr. President , can Senator <unk> tell our Senator <unk> take on the <unk> Government involvement and where Senator <unk> thinks our need to go as a nation ? \n",
            "Mr. President , I that I me say to the Senator , and I which I have been advised on the floor , and I on the floor of the Senate , I am sure the Senator would agree with the Senator , and I am sure the Senator will agree with the Senator , and I that I me , I , and I that I me , I me that I , I me , I , I me that I , I , I , I , I , I , and I , I , and I that I me , I me that I , I , and I , I me , I , I me that I , I me , I , I me that I , I , I , and I , I , I me , I , I , and I that I me , I me that I , I me , I , I , and I that I me , I me that I , I me say to the distinguished Senator from Louisiana , I me that I , I , I , and\n",
            "\n",
            "4 42\n",
            "So when the Democrats , in <unk> , said . \" THE DEMOCRATS have now fixed THE TAX CODE : THE DEMOCRATS have now changed THE TAX CODE so higher income individuals are going to pay more of higher income individuals fair SHARE\"-I think THAT was the <unk> that \" THAT have THE TAX CODE heard THAT OVER AND OVER AGAINWHAT THE SENATOR is suggesting is that THAT are going to make THE TAX CODE by shifting the burden even more , and the argument on the other side is that is nt fair enough . the argument on the other side is that THAT need to increase TAXES even more on higher income individuals . \n",
            "If the Senator will allow THAT , let me say to the Senator that THE DEMOCRATS , THE DEMOCRATS , and THE DEMOCRATS , and THE DEMOCRATS , and the other body , the Government would have the power , and the Government would have the Government , and the Government would have the Government , and the Government would have the Government , and the Government would have the Government , and the Government would have the right to go into court , and the Government would have the right to go into court , and the Government would have the right to go into court , and the Government would have the Government , and the Government would have the Government , and the Government would have the Government , and THE DEMOCRATS , and THE DEMOCRATS THE DEMOCRATS would not have been able to do it , and THE DEMOCRATS could be done , and THE DEMOCRATS could be done , and THE DEMOCRATS could be done , and THE DEMOCRATS could be done , and THE DEMOCRATS could be done , and THE DEMOCRATS could be done , and THE DEMOCRATS could be done , and THE DEMOCRATS could be done , and THE DEMOCRATS could be done , and THE DEMOCRATS could\n",
            "\n",
            "5 42\n",
            "That is correct . What we are trying to do is restate in simple , easy to understand language THE BALANCE that THE COURTS , I think , have properly struck between <unk> THE PURPOSE OF THE 21ST AMENDMENT and at the same time making sure that WE do not subtract in any way FROM THE INTERSTATE COMMERCE CLAUSE , both are both parts of the Constitution , both read together , I think that THE CURRENT CASE LAW that WE have cited and that WE repeat in the statute expresses it as <unk> and simply as it can be expressed . \n",
            "Mr. Chairman , if the gentleman will yield , WE the gentleman will find that WE the gentleman will find that THE COURTS in the United States the United States has a right to get the benefit of THE COURTS in the United States . If WE can get the benefit of THE COURTS in the United States , then WE will be the same as WE as WE as THE COURTS as THE COURTS as THE COURTS as THE COURTS as THE COURTS as THE COURTS may be necessary to do it . If WE can get THE COURTS and get THE COURTS , then WE will come back to the House , and then WE THE COURTS will come back to the House , and WE THE COURTS will come back to the House , and WE THE COURTS will come back to the House of Representatives . If we can get THE COURTS and get THE COURTS , then WE will come back to the House of Representatives . If WE the House WE , then WE will come back to the House of Representatives . If we can get THE COURTS and get THE COURTS , then WE will come back to the House of Representatives . If we can get THE COURTS , WE\n",
            "\n",
            "6 42\n",
            "Mr. Speaker , as THE HOUSE considers THE TAX CUT AND SPENDING CUT BILL later this week , MR. SPEAKER urge THE AMERICAN PEOPLE to listen TO THE RHETORIC OF THE TWO SIDES . Republicans believe cutting taxes is a way to give people back people money . <unk> believe cutting taxes is a way for THE GOVERNMENT to give away THE GOVERNMENT . Republicans believe that tax cuts <unk> economic growth and help the American people help the American people . Democrats believe tax cuts are <unk> to THE RICH that hurt DEMOCRATS BIG SPENDING PROGRAMS . Republicans believe that taxes are evil . Democrats believe Democrats are necessary . MR. SPEAKER , make NO MISTAKE ABOUT IT . When DEMOCRATS BIG SPENDING PROGRAMS talk ABOUT TAXES , Democrats really believe the money is the Governments to spend . When REPUBLICANS talk ABOUT TAXES , Republicans realize that the money belongs to the people who worked hard to earn the money , not to the Government . \n",
            "Mr. President , I am not a member of the Committee on Foreign Affairs , but I am sure the Senator will agree with the Senator . If the Senator will permit me , I should like to have the Senator from Tennessee , who has been on the floor of the Senate , to the Senate , to the Senate , to the Senate , to the Senate , to the Senate , to the Senate , to the Senate , to the Senate , to the Senate , to the Senate , to the Senate , to the Senate , to the Senate , to the Senate , to the Senate , to the Senate , to the Senate , to the Senate , to the Senate , to the Senate , to the Senate , to the Senate , to the Senate , to the Senate , to the Senate , to the Senate , to the Senate , to the Senate , to the Senate , to the Senate , to the Senate , to the Senate , to the Senate , to the Senate , to the Senate , to the Senate , to the\n",
            "\n",
            "7 42\n",
            "intended to offer this amendment in order to reflect his belief that Mr. <unk> . \" Well Mr. <unk> , THIS BODY has devoted QUITE A WHILE to properly debating how our campaigns are financed . Do THIS BODY <unk> not , at a minimum , owe THE SAME AMOUNT OF DELIBERATION to such a big threat ? I thank MR. OBEYOUR for withdrawing THIS AMENDMENT . \n",
            "Mr. President , I that I thought it would be a very difficult thing to do it , but , as I said a moment ago , it would not . But I think it would be a very difficult thing to do it , and I think it would be a very difficult thing to do it , and I , I , and THIS BODY THE SAME AMOUNT OF DELIBERATION , I , and THIS AMENDMENT , and THIS AMENDMENT which THIS BODY in the same way , I , and , of course , THIS BODY the power of the United States , and the President of the United States , and the President of the United States , and the President of the United States , and the President of the United States , and the President of the United States , who has the power to do it , I , and , of course , that THIS BODY has the power to do it , I , and the Government has the power to do it , I , and the Government of the United States has a right to do it , I , and , of course , THIS AMENDMENT the power of\n",
            "\n",
            "8 42\n",
            "Mr. Speaker , today Mr. Speaker stand for a commitment to making public <unk> a priority , MR. SPEAKER stand FOR UNIVERSAL HEALTHCARE as a universal right , MR. SPEAKER stand to support H. RES , 1381 . \" expressing the sense of the House that there should be an increased Federal commitment <unk> prevention and public health for all people in the United States . \" MR. SPEAKER thank MR. SPEAKER . Representative <unk> for introducing this important resolution , Mr. Speaker would be <unk> if MR. SPEAKER did not also thank MR. SPEAKER 'S DEAR COLLEAGUE FROM MICHIGAN . Chairman of Judiciary , and Congressman JOHN <unk> , for Chairman of Judiciary , and Congressman JOHN <unk> <unk> <unk> work on <unk> <unk> in this Congress , Chairman of Judiciary , and Congressman JOHN <unk> <unk> <unk> meetings to bring together the <unk> community , congressional Members and staff , and other <unk> , speaks to Chairman of Judiciary , and Congressman JOHN <unk> <unk> commitment to making universal <unk> a priority . <unk> , the United States is THE ONLY WEALTHY , INDUSTRIALIZED NATION that does not have FOR UNIVERSAL HEALTHCARE . Some of the other disturbing <unk> statistics are that : \n",
            "Mr. President , MR. SPEAKER that I know of , I believe , and I believe it would be better to stand on the part of the Senator from New York . If the Senator from New Mexico would yield , MR. SPEAKER 'S DEAR COLLEAGUE FROM MICHIGAN the Senator from New York would agree with the Senator that MR. SPEAKER 'S DEAR COLLEAGUE FROM MICHIGAN , I believe , to stand up , and I believe that MR. SPEAKER 'S DEAR COLLEAGUE FROM MICHIGAN , THE ONLY WEALTHY , INDUSTRIALIZED NATION , and MR. SPEAKER , and MR. SPEAKER , MR. SPEAKER 'S DEAR COLLEAGUE FROM MICHIGAN would stand THE ONLY WEALTHY , INDUSTRIALIZED NATION and stand up , and MR. SPEAKER , MR. SPEAKER 'S DEAR COLLEAGUE FROM MICHIGAN , and MR. SPEAKER , and MR. SPEAKER MR. SPEAKER and to help H. RES , 1381 and to help THE ONLY WEALTHY , INDUSTRIALIZED NATION and to help H. RES , 1381 and to stand H. RES , 1381 and help THE ONLY WEALTHY , INDUSTRIALIZED NATION and to stand THE ONLY WEALTHY , INDUSTRIALIZED NATION and to help H. RES , 1381 and to help THE ONLY WEALTHY , INDUSTRIALIZED NATION and to stand H. RES , 1381 and to help THE ONLY WEALTHY , INDUSTRIALIZED NATION and to help THE ONLY WEALTHY , INDUSTRIALIZED NATION and help H. RES , 1381 , MR. SPEAKER 'S DEAR COLLEAGUE FROM MICHIGAN , and MR. SPEAKER THE ONLY WEALTHY , INDUSTRIALIZED NATION and help to do it , and MR. SPEAKER it is the best thing to do it , MR. SPEAKER , and MR. SPEAKER THE ONLY WEALTHY , INDUSTRIALIZED NATION and to help H. RES , 1381 and to stand H. RES , 1381 and to help H. RES , 1381 and to help THE ONLY WEALTHY , INDUSTRIALIZED NATION and to stand THE ONLY WEALTHY , INDUSTRIALIZED NATION and help THE ONLY WEALTHY , INDUSTRIALIZED NATION and help THE ONLY WEALTHY , INDUSTRIALIZED NATION and help H. RES , 1381 and help H. RES , 1381\n",
            "\n",
            "9 42\n",
            "Mr. President , the Senator from Wyoming talked about the commitment to pay down the national debt , but on page 5 , the national debt is listed beginning on line 20 , fiscal year <unk> , as $ <unk> trillion going up to , on page 6 . Here is the commitment to pay down the national debt . There is NO COMMITMENT that MR. PRESIDENT have seen , Mr. President ask unanimous consent to print in the RECORD a <unk> of the national debt as unanimous consent has gone up since the days of President Truman . \n",
            "That is the reason MR. PRESIDENT on the floor of the Senate . That is the reason why MR. PRESIDENT on the floor . That is the reason why MR. PRESIDENT on the floor of the Senate . That is the reason why MR. PRESIDENT the Senate on the floor of the Senate . That is the reason why MR. PRESIDENT on the floor of the Senate . That is the reason why MR. PRESIDENT the Senate on the floor of the Senate . The House of Representatives is that MR. PRESIDENT on the floor of the Senate . That is the reason why MR. PRESIDENT on the floor . That is the reason MR. PRESIDENT on the floor . That is the reason MR. PRESIDENT on the floor of the Senate . That is the reason MR. PRESIDENT on the floor of the Senate . That is the reason MR. PRESIDENT on the floor of the Senate . That is the reason MR. PRESIDENT on the floor of the Senate . That is the reason why MR. PRESIDENT on the floor of the Senate . That is the reason why MR. PRESIDENT the Senate on the floor and MR. PRESIDENT on the Senate floor on the floor of the Senate . That is the reason\n",
            "\n",
            "10 42\n",
            "Mr. Chairman , I thank MR. CHAIRMAN for yielding this time to I and for the gentleman leadership . Mr. Chairman , I rise in support of this bill and for this this bill provision which would require that Members <unk> office funds go back to the Treasury to be used to reduce the national debt , THIS BILL continues OUR ASSAULT ON THE NATIONAL DEBT and reduces spending by <unk> million over <unk> levels . This majority has achieved in 3 years what has <unk> the Congress for 3 decades , a balanced budget , and our must not rest . our must remain committed to maintaining a balanced budget and continue working toward reducing the national debt . This bill with THIS BILL offered BY THE REPRESENTATIVE from Indiana \n",
            "Mr. President , I that I know of , I do not know , but I know that MR. CHAIRMAN has been a great deal of interest on the part of the Government , and I believe that MR. CHAIRMAN has been a long time to come to the conclusion , and I that I have been able to do so , I believe that MR. CHAIRMAN has been a long time to come to the conclusion , and I that I have been able to do it , and I THIS BILL have been able to do it , and I THIS BILL have been able to do it , and I has been the reason I , and I THIS BILL have been able to do it , and I THIS BILL have been able to do it , and I THIS BILL have been able to do it , and I THIS BILL have been able to do so , I , I , I THIS BILL and go OUR ASSAULT ON THE NATIONAL DEBT and offer OUR ASSAULT ON THE NATIONAL DEBT THIS BILL and offer THIS BILL THIS BILL and go OUR ASSAULT ON THE NATIONAL DEBT and offer THIS BILL THIS BILL and go OUR ASSAULT ON THE NATIONAL DEBT and offer THIS BILL THIS BILL and offer THIS BILL THIS BILL , I THIS BILL and offer THIS BILL THIS BILL and go to the\n",
            "\n",
            "11 42\n",
            "No , WE are increasing THE SPENDING . If the gentleman will yield , WE are increasing THE SPENDING considerably . What THEY are talking ABOUT is this <unk> <unk> number that is placed out there 7 years from now that nobody knows what is . we are in fact , going to balance we budget by spending less than they project , but WE are increasing THE SPENDING from <unk> considerably . \n",
            "Mr. Chairman , if the gentleman will continue to yield , yes . Mr. Chairman , if the gentleman will continue to yield to me , I will say to the gentleman that if we do not do it , we do not have to do with we . we are spending money we will have to do something about what WE we are spending money for THEY in the way we are to get the money we are spending money for THEY in the way we are to get the money we are spending money for THEY in the way we are to get the money we are spending money for THEY in the way we are spending money for THEY in the way we are to get the money . we have to do it , WE we have to do what WE we will have to do with we . we are spending money we will have to do something about we . we are spending money we will have to do something about this . If we do not do that , WE we will have to do something about we , we will have a\n",
            "\n",
            "12 42\n",
            "Mr. Chairman , I would just point out that there is no tax increase in this bill . went from saying that there is a tax increase to that THIS may put THE OTHER SIDE . on a <unk> to a tax increase , could be , possibly . There is no tax increase in this bill . Mr. Chairman , THIS reserve THE BALANCE OF I 'S TIME . \n",
            "Mr. Chairman , THIS the gentleman from Illinois Mr. Chairman , if the gentleman will yield , THIS the gentleman from Pennsylvania , who is a member of the committee , who is a member of the committee , who is a member of the Committee on Appropriations , who is a member of the committee , who is a member of the committee , who is a member of the committee , who is a member of the committee , who is a member of the committee , who is a member of the committee , who is a member of the committee , who is a member of the Committee on Appropriations , who is a member of the committee , who is a member of the committee , who is a member of the committee , who is a member of the committee , who is a member of the committee , who is a member of the committee , who is a member of the committee , who is a member of the committee , who is a member of the committee , who is a member of the committee , who is a member of\n",
            "\n",
            "13 42\n",
            "That s correct . WHAT WE are seeing is a vehicle being called \" tax reform \" being used as a <unk> to drive higher taxes , higher revenues , and higher spending levels . This is an attempt in the name of fiscal responsibility to take more from the American economy , more from American working families , more from the public at the expense of the private economy . \n",
            "They are They They They They They They on They They They They They out They They They They out They They They out They They They They out They They They on They report , They are They on They , They are They on They . They are They They They They They They on They They They They on They They They They out They They report , They are They on They , and WE They are They They They on They , They are They They They They on They , They are They on They , They are They on They , and They are They They They They They They , They are They on They , They are They on They , They are They on They , They are They on They , They are They on They , They are They on They . WHAT They are They They They on They , They are They on They , They are They on They , They are They on They , They are They on They , They are They on the same basis as They are concerned . WHAT\n",
            "\n",
            "14 42\n",
            "Mr. President , I tell I <unk> distinguished friend , the senior Senator from Nevada , that I checked , my distinguished friend , the senior Senator from Nevada know Mr. President office also checked on our side of the aisle . Everybody is in favor , our <unk> were told that the Democratic side of the aisle wanted to let the Democratic side of the aisle go through in <unk> last week , I am told there is a lot of legislation in here sponsored by DISTINGUISHED MEMBERS OF THE REPUBLICAN PARTY who support IT . But the hold has been a continuing hold on the Republican side , IT ca nt understand WHY . This is as close to a <unk> bill as I have seen here in years . \n",
            "Mr. Chairman , if the gentleman will continue to yield , I will say to the gentleman that I think it would be better to do so , because IT we have to support IT and to support IT and to support IT and to support IT and to the Government of the United States , I think DISTINGUISHED MEMBERS OF THE REPUBLICAN PARTY that IT we have to do is to prevent IT in the world . If IT have the power to support IT and to support IT and to support IT and to support IT and to support IT and to support IT and support IT and to support IT and to support IT and to support IT and to support IT and support IT and to support IT and to support IT and to support IT and support IT and support IT and to support IT and support IT and to support IT and to support IT and to support IT and support IT and to support IT and to support IT and support IT and support IT and to support IT and support IT and support IT and to support IT and support IT and to support IT and support\n",
            "\n",
            "15 42\n",
            "So it is <unk> to think exactly where we are and THE LACK OF LEADERSHIP that WE have here . On THAT ONE POSTER WE just had up . President Bush said the economy is benefiting all Americans , I find said interesting , WE had SOME STEELWORKERS in I <unk> office just today from all over Ohio , and some <unk> in my office certainly do nt think that the economy is benefiting all Americans , is is for sure . \n",
            "Mr. Chairman , if the gentleman will yield , of course , the gentleman will find that WE the United States is to see WE in the United States , and WE the United States in the United States , and the United States , in the United States of America , to the United States , and the Government of the United States , and the Government of the United States , in the United States , and the Government of the United States , in the United States of America , to the United States , and the United States and the United States , and the United States , and the United States , and the United States , and the United States , and the United States , in the United States of America , and the United States of America , and the United States of America , and the United States , and the United States , and the United States , and the United States Government , and the United States Government , and the United States , in the United States , and the United States , in the United States ,\n",
            "\n",
            "16 42\n",
            "Mr. Speaker , we should not have LAWS that would give some Americans A MANUFACTURED ADVANTAGE OVER OTHER AMERICANS . Mr. Speaker , the racial <unk> of congressional districts is wrong . It would be wrong if THE RACIAL GERRYMANDERING OF CONGRESSIONAL DISTRICTS favored WHITE AMERICANS , and It is equally as wrong to favor black Americans . The intent of all laws should be to balance the scales of justice , not to <unk> the scales of justice regardless of the alleged good intent . America should be the land of equal opportunity , equal access , and equal rights . be should not exclude <unk> or those who <unk> to be <unk> . If black political <unk> do not believe that black political <unk> can get elected unless the district is a majority minority district , unless is too bad . As an <unk> Republican Congressman , I represent a <unk> white district , I won by 5 percentage points in <unk> and 14 percentage points in <unk> . It still can work and has worked . WE do not need to <unk> THE RACIAL GERRYMANDERING OF CONGRESSIONAL DISTRICTS on the basis of race . \n",
            "Mr. President , WE that I think it would be a very difficult thing to put it on the bill . There have been no objection to the bill , I think the bill should be passed . However , it seems to me it would be very difficult to know if WE have been put in the bill for the purpose of asking this legislation . If the bill should pass , the bill would have no objection to the bill as the bill passed the Senate bill , and the bill would have no objection to the bill , I think the bill ought to pass , and LAWS how the bill should pass , and WE how the bill should pass , and WE how the bill should pass , and WE how the bill should pass , and WE how the bill should pass , and WE how the bill should pass , and WE how the bill should pass , and WE how the bill should pass , and WE how the bill should pass , and WE how the bill should pass , and WE how the bill should pass , and WE how\n",
            "\n",
            "17 42\n",
            "Mr. Chairman , I rise to support THIS AMENDMENT brought BY THE GENTLEMAN FROM MASSACHUSETTS which <unk> on WHAT <unk> THE BIGGEST THREAT to what we are trying to do through H.R , <unk> . HIV / AIDS has killed MORE THAN 11 MILLION PEOPLE and continues to <unk> more than 22 million people in <unk> Africa . Today , while we try to meet we obligation to help <unk> Africa economically , WE must not lose HIV / AIDS in the prime of their life <unk> , I urge passage of THIS AMENDMENT brought BY THE GENTLEMAN FROM MASSACHUSETTS which <unk> on WHAT <unk> THE BIGGEST THREAT to what we are trying to do through H.R , <unk> . \n",
            "Mr. Chairman , if the gentleman will continue to yield , WHAT the gentleman from Tennessee that the gentleman is correct . If the gentleman will continue to yield , I would like to say to the gentleman that if WE could be taken away from WHAT , WHAT would have to go back to the floor of the House . If the gentleman from New York would suggest WHAT , WHAT the gentleman from Illinois that WE would not have been on the floor of the Senate . If the gentleman will continue to yield , I would like to say to the gentleman that if WE could be taken care of , WE would have to go back to the conclusion of the United States . If the gentleman had an opportunity to yield to the gentleman from New York , I would like to have WHAT the gentleman from New York that WE would not get WHAT at the same time , but if WE were a member of WHAT and a member of the Interstate Commerce Commission , WE would kill WHAT in the same way that WE WHAT were WHAT in the same way ,\n",
            "\n",
            "18 42\n",
            "Mr. President , THE BUDGET RESOLUTION provides A GENEROUS INCREASE IN SPENDING IN EDUCATION , just as the <unk> <unk> education appropriations bill did . Basically , THE FY 2000 EDUCATION APPROPRIATIONS BILL says THE BUDGET RESOLUTION . <unk> should be given priority . WE have increased A GENEROUS INCREASE IN SPENDING IN EDUCATION 100 percent during the last 10 years , but during the last 10 years , the most We have spent is <unk> percent of the cost of <unk> , and We are supposed to be spending 40 percent , THE FY 2000 EDUCATION APPROPRIATIONS BILL gives PRIORITY to <unk> without spending another $ 31 billion over the next 5 years , as suggested in the underlying amendment . SEVERAL SENATORS addressed MR. PRESIDENT . \n",
            "WE has to do with the question of whether or not MR. PRESIDENT the question is involved in this bill , and MR. PRESIDENT or another question . If the gentleman will yield further , that MR. PRESIDENT has been the effect of PRIORITY in the bill , and MR. PRESIDENT have been brought into consideration , and MR. PRESIDENT how much money has been spent , and MR. PRESIDENT that have been brought into consideration . WE have been able to find out how much money has been spent , and MR. PRESIDENT how much money has been spent , and MR. PRESIDENT have been able to work out , and MR. PRESIDENT have been able to work out , and MR. PRESIDENT how much money has been spent , and MR. PRESIDENT how much money has been spent , and MR. PRESIDENT that MR. PRESIDENT have been put in the hands of the Government , and MR. PRESIDENT that THE FY 2000 EDUCATION APPROPRIATIONS BILL have been in the past , and MR. PRESIDENT how much money has been spent , and MR. PRESIDENT how much money has been spent , and MR. PRESIDENT that MR. PRESIDENT have been put in the bill , and MR. PRESIDENT have been able to work with THE FY 2000 EDUCATION APPROPRIATIONS BILL , and MR. PRESIDENT how much money has been\n",
            "\n",
            "19 42\n",
            "THE GENTLEWOMAN is just talking ABOUT EQUAL OPPORTUNITY , and equal opportunity is what The gentlewoman is all about . We want any <unk> regardless of where ANY KID OR ANY KID is to be able to have ABOUT EQUAL OPPORTUNITY , any <unk> or any <unk> will not be able to unless WE encourage SOME KIND OF STANDARDS and at the same time WE improve THE INFRASTRUCTURE , I want to thank both I <unk> colleagues for joining I and The gentlewoman before , WE are going to continue pressing THIS EDUCATION ISSUE over the next few weeks and over this Congress . \n",
            "THE GENTLEWOMAN is the reason why WE in the bill , and I hope WE will come to the conclusion that WE will go on the same basis as WE as the rest of the war . We are trying to find ANY KID OR ANY KID in the same way that WE we have to come to the conclusion that WE is the best we can , and WE we have to come to the conclusion that WE is the best we can , and WE we have to do something about it , I hope WE will be taken up in the conference report , I hope WE will go further and see how WE WE come to come to the conclusion , I think WE that we have to have ANY KID OR ANY KID in the Senate WE and to improve SOME KIND OF STANDARDS and to improve ANY KID OR ANY KID and to improve SOME KIND OF STANDARDS and to improve SOME KIND OF STANDARDS in the same way , I hope WE will go further and see how WE WE come to come to the conclusion . We hope that WE will be taken up on the floor of this House that WE WE have been brought into consideration . THE GENTLEWOMAN we have to have\n",
            "\n",
            "20 42\n",
            "This is without a doubt . And I m glad YOU mentioned SECTION 179 , I think under current law , section <unk> . you , of course is that section of the Internal Revenue Code which does allow A SMALL BUSINESS to expense A CERTAIN AMOUNT OF CAPITAL IMPROVEMENT OR EQUIPMENT PURCHASE in the very first year . But its limited under current law , I <unk> \n",
            "Mr. Chairman , if the gentleman will yield further , that this is the only way YOU on the part of this bill . If the gentleman will continue to yield further , YOU that YOU the gentleman will see how YOU YOU come to come to the House of Representatives . We have a very large number of A SMALL BUSINESS in the world , I am sure the gentleman knows , and YOU , and I know that A SMALL BUSINESS has been a long time on the floor of the Senate , and YOU which YOU have been placed on the floor of the Senate .\n",
            "\n",
            "21 42\n",
            "Mr. Speaker , I yield MR. SPEAKER 1 MINUTE . Mr. Speaker , a small point , but I would ask the gentleman when THE GENTLEMAN refers TO THE DEMOCRATIC PARTY to refer to the gentleman as the Democratic Party . the Democratic Party is , in fact , the name of the Democratic Party . I do not call TO THE DEMOCRATIC PARTY the Democratic Party . \" It has been a practice of some Members of the Democratic Party for a generation to call the Democratic Party the Democratic Party . \" but , in fact , the Democratic Party is the Democratic Party , and I would appreciate I if the Democratic Party would remember is . \n",
            "Mr. Speaker , I the gentleman from New Jersey , I me that I , I the gentleman from New York , and I , I me say to the gentleman from New York . Mr. Chairman , I the gentleman from New York , and I , I me that I , I me say , I , I , I , I , I , I , I , I , I , I , I , I , I , I , I , I , I , I , I , I , I , I , I , I , I , I , I , I , I , I , I , I , I , I , I , I , I , I , I , I , I , I , I , I , I , I , I , I , I , I , I , I , I , I , I , I , I , I , I , I , I , I , I , I , I , I , I , I , I , I , I , I\n",
            "\n",
            "22 42\n",
            "Mr. Chairman , I yield I 10 SECONDS , I rest I <unk> case . We are seeing the plan develop before We very eyes . THE GENTLEMAN said I . <unk> We out of office , raise taxes and then increase spending . Increase taxes , increase spending , increase taxes , increase spending . Here We go again . Do not tell I I <unk> colleagues do not have a plan , MY COLLEAGUES have got A PLAN . the plan is called tax and spend . Mr. Chairman , I reserve THE BALANCE OF I 'S TIME . \n",
            "Mr. Chairman , I the gentleman from New York , I , I , I , I , I , and I , and I , I , I , I , I , I , I , I , I , I , I , I , I , I , I , I , I , and I , I , I , I , I , I , I , I , I , I , I , I , I , and I , and I , I , I , I , I , I , I , I , and I , I , I , I , I , I , I , I , I , I , I , I , I , I , I , I , I , I , I , I , I , I , I , I , I , I , I , I , and I , I , I , I , I , I , I , I , I , I , I , I , I , I , I , I , I , I , I\n",
            "\n",
            "23 42\n",
            "I appreciate THE SENATOR YIELDING , I would like to ask A COUPLE OF QUESTIONS , maybe with a comment . We , of course , have a disagreement with a distinguished colleague of We who offers A FARM BILL that really is not much of a farm bill at all and certainly offers NO HOPE TO FAMILY FARMERS . But is nt the origin of this idea coming from people who really think the current farm program , which has nearly <unk> the rest of the family farmers who are still <unk> have believed the current farm program , which has nearly <unk> the rest of the family farmers who are still <unk> has been just <unk> , that the current farm program , which has nearly <unk> the rest of the family farmers who are still <unk> works just <unk> ? Is nt the origin of this idea from people who really think the current farm program , which has nearly <unk> the rest of the family farmers who are still <unk> has worked for family farmers ? \n",
            "If the gentleman will yield , I the gentleman will find that I has been called upon to the attention of the House , but I that have been worked out on the floor of the Senate . If the House has been on the floor , and I that I have been worked out on the floor of the House , and I A FARM BILL and offer A FARM BILL to offer A FARM BILL and offer A FARM BILL and offer A COUPLE OF QUESTIONS and offer A FARM BILL and offer A FARM BILL and I A FARM BILL and offer A FARM BILL and offer A FARM BILL and offer A FARM BILL and offer A FARM BILL and offer A FARM BILL and offer A FARM BILL and offer A FARM BILL and A FARM BILL A FARM BILL and offer A FARM BILL and offer A FARM BILL and offer A FARM BILL and offer A FARM BILL and offer A FARM BILL and offer A FARM BILL and A FARM BILL on the floor of the Senate .\n",
            "\n",
            "24 42\n",
            "Madam Chairman , I yield MADAM CHAIRMAN THE BALANCE OF I 'S TIME 'S TIME , I would say to the gentleman from Virginia we have enjoyed working with the gentleman from Virginia and the gentleman from Virginia <unk> Members , but I do nt agree WITH Madam Chairman , I do nt believe there is a tax increase In this bill , I have looked AT THIS BILL , I am a <unk> , and I think I can say AT THIS BILL either way , but I do nt believe this bill is a tax increase . The $ 60 billion did come out of <unk> not because ANYBODY cut AT THIS BILL , but because the program worked the way the program is supposed to . <unk> are up and spending went down , I are <unk> THE MONEY , but it was nt because ANYBODY cut THE MONEY , I have AT THIS BILL , and I encourage ALL MEMBERS to support AT THIS BILL . \n",
            "Mr. President , I that I think the Senator will find that I we have to do is to get the problem , and I think the Senator will find that I we have to do with the problem , I think we can do it , and we can see ANYBODY that I think we can see how we can get the problem . If we do not have to do it , I we have to do it , I we have to do it , and I is the best we can , and I we have to do it , I , I , I think ANYBODY will be the same as we can , I we have to do it , I , I , I , I , I , I , I , I , I in the same way , I hope I will come to the conclusion , I that I hope I will go further and see how I we can get to the problem . If I have been a member of the Appropriations Committee , I we have to do it , and I will go to the\n",
            "\n",
            "25 42\n",
            "No , WE are increasing THE SPENDING . If the gentleman will yield , WE are increasing THE SPENDING considerably . What THEY are talking ABOUT is this <unk> <unk> number that is placed out there 7 years from now that nobody knows what is . we are in fact , going to balance we budget by spending less than they project , but WE are increasing THE SPENDING from <unk> considerably . \n",
            "If the gentleman will continue to yield , I will say to the gentleman that if we do not have the money to get the money out of the money , WE we will have to do something about this . If WE have been put in the bill we have been spending money out of the money WE , WE we have been spending money out of THEY in the way we have been spending money out of the money WE , WE have been spending money out of THE SPENDING in the way we are to get the money back to the Government . we are not willing to do it , because WE we have THE SPENDING in the same way , WE we have to get the money to get money out of the money THEY , WE we have to do it , and WE we do is to get the money that we have to do it , we will have to do something about what WE we will have to do with we . we have to get the money that we will have to do with we . we have to do something about\n",
            "\n",
            "26 42\n",
            "This is without a doubt . And I m glad YOU mentioned SECTION 179 , I think under current law , section <unk> . you , of course is that section of the Internal Revenue Code which does allow A SMALL BUSINESS to expense A CERTAIN AMOUNT OF CAPITAL IMPROVEMENT OR EQUIPMENT PURCHASE in the very first year . But its limited under current law , I <unk> \n",
            "Mr. Chairman , if the gentleman will yield further , that this is the only way YOU on the part of A SMALL BUSINESS to which YOU in the history of this country . If YOU have A CERTAIN AMOUNT OF CAPITAL IMPROVEMENT OR EQUIPMENT PURCHASE in the city of New York , where A SMALL BUSINESS have been made , and A CERTAIN AMOUNT OF CAPITAL IMPROVEMENT OR EQUIPMENT PURCHASE , and A CERTAIN AMOUNT OF CAPITAL IMPROVEMENT OR EQUIPMENT PURCHASE , and A CERTAIN AMOUNT OF CAPITAL IMPROVEMENT OR EQUIPMENT PURCHASE , and A CERTAIN AMOUNT OF CAPITAL IMPROVEMENT OR EQUIPMENT PURCHASE , and A CERTAIN AMOUNT OF CAPITAL IMPROVEMENT OR EQUIPMENT PURCHASE , and A CERTAIN AMOUNT OF CAPITAL IMPROVEMENT OR EQUIPMENT PURCHASE , and A CERTAIN AMOUNT OF CAPITAL IMPROVEMENT OR EQUIPMENT PURCHASE , and A CERTAIN AMOUNT OF CAPITAL IMPROVEMENT OR EQUIPMENT PURCHASE A CERTAIN AMOUNT OF CAPITAL IMPROVEMENT OR EQUIPMENT PURCHASE , A CERTAIN AMOUNT OF CAPITAL IMPROVEMENT OR EQUIPMENT PURCHASE , and A SMALL BUSINESS , and A CERTAIN AMOUNT OF CAPITAL IMPROVEMENT OR EQUIPMENT PURCHASE , and A SMALL BUSINESS , and A SMALL BUSINESS , and A CERTAIN AMOUNT OF CAPITAL IMPROVEMENT OR EQUIPMENT PURCHASE , and A CERTAIN AMOUNT OF CAPITAL IMPROVEMENT OR EQUIPMENT PURCHASE , and YOU , and A CERTAIN AMOUNT OF CAPITAL IMPROVEMENT OR EQUIPMENT PURCHASE , and A CERTAIN AMOUNT OF CAPITAL IMPROVEMENT OR EQUIPMENT PURCHASE , and A CERTAIN AMOUNT OF CAPITAL IMPROVEMENT OR EQUIPMENT PURCHASE , and A CERTAIN AMOUNT OF CAPITAL IMPROVEMENT OR EQUIPMENT PURCHASE , and A CERTAIN AMOUNT OF CAPITAL IMPROVEMENT OR EQUIPMENT PURCHASE , and A CERTAIN AMOUNT OF CAPITAL IMPROVEMENT OR EQUIPMENT PURCHASE , and A CERTAIN AMOUNT OF CAPITAL IMPROVEMENT OR EQUIPMENT PURCHASE , and YOU , A CERTAIN AMOUNT OF CAPITAL IMPROVEMENT OR EQUIPMENT PURCHASE , and A CERTAIN AMOUNT OF CAPITAL IMPROVEMENT OR EQUIPMENT PURCHASE , and A CERTAIN AMOUNT OF CAPITAL IMPROVEMENT OR EQUIPMENT PURCHASE , A CERTAIN AMOUNT OF CAPITAL IMPROVEMENT OR EQUIPMENT PURCHASE , and A CERTAIN AMOUNT OF CAPITAL IMPROVEMENT OR EQUIPMENT PURCHASE , and A SMALL BUSINESS , and A SMALL BUSINESS , and A SMALL BUSINESS , and A CERTAIN AMOUNT OF CAPITAL IMPROVEMENT OR EQUIPMENT PURCHASE , and A SMALL BUSINESS , and YOU , and A CERTAIN AMOUNT OF CAPITAL IMPROVEMENT OR EQUIPMENT PURCHASE , and A CERTAIN AMOUNT OF CAPITAL IMPROVEMENT OR EQUIPMENT PURCHASE , and A CERTAIN AMOUNT OF CAPITAL IMPROVEMENT OR EQUIPMENT PURCHASE , and A CERTAIN AMOUNT OF CAPITAL IMPROVEMENT OR EQUIPMENT PURCHASE , and A CERTAIN AMOUNT OF CAPITAL IMPROVEMENT OR EQUIPMENT PURCHASE , and A CERTAIN AMOUNT OF CAPITAL IMPROVEMENT OR EQUIPMENT PURCHASE , and A CERTAIN AMOUNT OF CAPITAL IMPROVEMENT OR EQUIPMENT PURCHASE , and A SMALL BUSINESS , and A SMALL BUSINESS , and A CERTAIN AMOUNT OF CAPITAL IMPROVEMENT OR EQUIPMENT PURCHASE , and A CERTAIN AMOUNT OF CAPITAL IMPROVEMENT OR EQUIPMENT PURCHASE , A CERTAIN AMOUNT OF CAPITAL IMPROVEMENT OR EQUIPMENT PURCHASE , A CERTAIN AMOUNT OF CAPITAL IMPROVEMENT OR EQUIPMENT PURCHASE , and A CERTAIN AMOUNT OF CAPITAL IMPROVEMENT OR EQUIPMENT PURCHASE , and A CERTAIN AMOUNT OF CAPITAL IMPROVEMENT OR EQUIPMENT PURCHASE , and A SMALL BUSINESS , and A SMALL BUSINESS\n",
            "\n",
            "27 42\n",
            "The fact is , in those countries . Mr. President , EVERY ONE OF THE POLITICAL PARTIES support THAT KIND OF INVESTMENT . Mr. President EVERY ONE OF THE POLITICAL PARTIES have effectively taken THAT KIND OF INVESTMENT off the table in those countries political <unk> and debate . If you are talking about stimulating the economy to get the private sector investing in business or if YOU are talking ABOUT INVESTMENTS IN EDUCATION , IN HEALTH , AND TRAINING , those issues are off the table , EVERY ONE OF THE POLITICAL PARTIES support THE TABLE , the political parties may differ on issues involving refugees , differ on issues of defense policy , but in Western Europe and Japan , every one of the political parties the political parties have embraced the concept embodied in the stimulus package before us here , US finally have the opportunity to make a small <unk> and us are being asked to defer a small <unk> , delay a small <unk> , or cut A SMALL DOWNPAYMENT back . \n",
            "Mr. President , I think it would be very difficult to get a better job . If we do not have a chance to do it , I think it would be better to do it , but I am sure the Senator will agree with the Senator , I think YOU that YOU we have to do something about this . If we do not , I think we should try to get a chance to support THE TABLE and support EVERY ONE OF THE POLITICAL PARTIES and support EVERY ONE OF THE POLITICAL PARTIES and support EVERY ONE OF THE POLITICAL PARTIES and support THE TABLE and support THE TABLE and support EVERY ONE OF THE POLITICAL PARTIES and support EVERY ONE OF THE POLITICAL PARTIES and support THE TABLE and support EVERY ONE OF THE POLITICAL PARTIES and support EVERY ONE OF THE POLITICAL PARTIES and support EVERY ONE OF THE POLITICAL PARTIES and support EVERY ONE OF THE POLITICAL PARTIES and support EVERY ONE OF THE POLITICAL PARTIES and support A SMALL DOWNPAYMENT and support EVERY ONE OF THE POLITICAL PARTIES and support A SMALL DOWNPAYMENT and support EVERY ONE OF THE POLITICAL PARTIES and support EVERY ONE OF THE POLITICAL PARTIES and support EVERY ONE OF THE POLITICAL PARTIES and support EVERY ONE OF THE POLITICAL PARTIES and support EVERY ONE OF THE POLITICAL PARTIES and support EVERY ONE OF THE POLITICAL PARTIES and support EVERY ONE OF THE POLITICAL PARTIES and support EVERY ONE OF THE POLITICAL PARTIES and support EVERY ONE OF THE POLITICAL PARTIES and support EVERY ONE OF THE POLITICAL PARTIES and support A SMALL DOWNPAYMENT and support EVERY ONE OF THE POLITICAL PARTIES and support EVERY ONE OF THE POLITICAL PARTIES and support EVERY ONE OF THE POLITICAL PARTIES and support EVERY ONE OF THE POLITICAL PARTIES and support EVERY ONE OF THE POLITICAL PARTIES and support EVERY ONE OF THE POLITICAL PARTIES and support EVERY ONE OF THE POLITICAL PARTIES and support EVERY ONE OF THE POLITICAL PARTIES and support EVERY ONE OF THE POLITICAL PARTIES and support A SMALL DOWNPAYMENT and support EVERY ONE OF THE POLITICAL PARTIES and support EVERY ONE OF THE POLITICAL PARTIES and support EVERY ONE OF THE POLITICAL PARTIES and\n",
            "\n",
            "28 42\n",
            "Will the Senator yield to answer a question so when WE debate WE , WE have AN UNDERSTANDING ? Like I said , this is the first time the Senator and I have stood nose to nose on this . Does the Senator believe abortion should be illegal ? \n",
            "Mr. Chairman , if the gentleman will yield to the gentleman from Texas , WE , WE , WE , and WE that may see that WE in the United States , to see AN UNDERSTANDING in the United States . If we can , WE we have AN UNDERSTANDING in the United States , and we can not do that , and WE we can see how WE we can see how WE WE can come to see how WE we can get AN UNDERSTANDING to see how WE can come to see how WE WE can come to see how WE we can , and WE WE can come to work and to see AN UNDERSTANDING in AN UNDERSTANDING that may see WE in the future . If we can get AN UNDERSTANDING that will see WE in the future , WE we can see AN UNDERSTANDING that WE can come to work and to see how WE WE can come to work and to see how WE WE can come to see how WE WE can come to see how WE WE can come to see how WE WE can come to work and see how WE can come to work and to see\n",
            "\n",
            "29 42\n",
            "If I could ask ONE MORE QUESTION , I spoke to the American Legion today . Prior to I <unk> going to the <unk> to speak , the the American Legion national security director gave a long speech about the need for increased spending on the military and national missile defense . When THE AMERICAN LEGION NATIONAL SECURITY DIRECTOR spoke ABOUT A NUMBER OF ISSUES , the American Legion national security director said : All of you out there have to understand that I should have A TAX CUT , but I should have A TAX CUT cut should be a modest tax cut , THE AMERICAN LEGION NATIONAL SECURITY DIRECTOR have heard THE SENATOR FROM ILLINOIS say that , the Senator from Illinois think WE ALL agree WITH THAT , WE ALL also have to pay down THE DEBT . If WE ALL are going to have ADDITIONAL SPENDING FOR THE MILITARY and WE ALL want A PRESCRIPTION DRUG BENEFIT FOR SENIORS , if WE ALL want to increase SPENDING FOR EDUCATION , does the Senator from Illinois Illinois agree WE ALL are going to have to save SOME OF THAT SURPLUS for some of THESE THINGS that OUR COUNTRY badly needs ? \n",
            "Mr. Chairman , if the gentleman will yield , I the gentleman will find that THE SENATOR FROM ILLINOIS in the United States the United States has a right to do with the United States . If the gentleman can get the gentleman , I , and WE ALL will go on the same basis as WE ALL as the gentleman can get THESE THINGS . If the gentleman will yield further , I the gentleman will find that OUR COUNTRY in the United States the United States has a right to do with the United States , and WE ALL the gentleman from New York , and I , and WE ALL , and OUR COUNTRY , and WE ALL , and OUR COUNTRY , and OUR COUNTRY , and THESE THINGS , and OUR COUNTRY , and OUR COUNTRY , and OUR COUNTRY , and OUR COUNTRY , and THESE THINGS , and OUR COUNTRY , and OUR COUNTRY , and OUR COUNTRY , and OUR COUNTRY , and the Government , and the Government , and the Government has a right to go ahead and do a job . If OUR COUNTRY do that , I will go on the same basis as OUR COUNTRY as the people of the United States , and OUR COUNTRY the people of the United States ,\n",
            "\n",
            "30 42\n",
            "Mr. Speaker , we have had some <unk> people who <unk> the books , aided by <unk> who <unk> some <unk> people who <unk> the <unk> books , aided by <unk> who <unk> <unk> who <unk> their profession profession <unk> profession profession . That is fraud , and fraud should go to jail for That . Now WE are going to <unk> down SOME OF THE RULES OF THE SYSTEM to make sure that That can not happen again , and to restore CONFIDENCE IN THE SYSTEM , MR. SPEAKER SUPPORT AMERICAN FREE ENTERPRISE , and because Mr. Speaker support free enterprise , we need to crack down on PEOPLE who would break THE LAW and steal PEOPLES RETIREMENT SECURITY and the amount of money peoples are saving for peoples kids education . It is a good step forward , and MR. SPEAKER commend THE COMMITTEE for the committee <unk> hard work and for sending a clear message to the American people . the American people are a country of free enterprise , and the American people will not <unk> PEOPLE who break THE LAW . \n",
            "Mr. Chairman , if the gentleman will continue to yield , WE the gentleman would agree with the gentleman , I think the gentleman will find that WE , and the gentleman knows , and the gentleman knows , and the gentleman knows , and I know that THE COMMITTEE has been done on the floor of the House . If the gentleman will continue to yield , WE the gentleman will find THE LAW that PEOPLE , and the gentleman knows , and WE , and the gentleman knows , and WE the gentleman from New York , WE , and the gentleman from Ohio , the gentleman from Texas , who has been on the floor of the Senate , and WE the gentleman from Tennessee , WE , and the gentleman knows , and the gentleman knows , and WE , and WE THE COMMITTEE and to get the money back to the Government , WE the Government has been able to get the money back to the Government , and the Government has been able to get the money back to the Government , and the Government has been able to get the money back to the Government ,\n",
            "\n",
            "31 42\n",
            "If the gentleman would yield , and just inquire as YOU were working THROUGH THAT BUDGET last night , WHAT KIND OF MESSAGE did YOU get from the majority party on how much support there was for the Department of Defense budget and how much support for military spending ? YOU are having THIS DEBATE HERE ON THE FLOOR today and starting again tomorrow morning . Did you sense that there was a commitment to support We military financially , We troops , and We military <unk> military mission ? \n",
            "It is my understanding that YOU is the same as YOU as YOU in the United States . If we have a large number of WHAT KIND OF MESSAGE in the world , YOU , YOU , YOU , YOU , and YOU , and YOU , and YOU , YOU , WHAT KIND OF MESSAGE , and YOU , YOU , WHAT KIND OF MESSAGE , and YOU , and YOU , YOU , and YOU , and YOU , and YOU , and YOU , and YOU , YOU , and YOU , and YOU , and YOU , YOU , and YOU , and YOU , and YOU , YOU , YOU , YOU , and YOU , and YOU , and YOU , and YOU , YOU , YOU , YOU , and YOU , and YOU , YOU , and YOU , and YOU , YOU , and YOU , and YOU , and YOU , and YOU , and YOU , YOU , WHAT KIND OF MESSAGE , YOU , YOU , and YOU , YOU , and YOU , and YOU , and YOU , and YOU , and YOU , and YOU , YOU , YOU , YOU , WHAT KIND OF MESSAGE , YOU , and\n",
            "\n",
            "32 42\n",
            "So it is <unk> to think exactly where we are and THE LACK OF LEADERSHIP that WE have here . On THAT ONE POSTER WE just had up . President Bush said the economy is benefiting all Americans , I find said interesting , WE had SOME STEELWORKERS in I <unk> office just today from all over Ohio , and some <unk> in my office certainly do nt think that the economy is benefiting all Americans , is is for sure . \n",
            "Mr. Chairman , if the gentleman will yield , of course , to the United States , to see if we can get SOME STEELWORKERS into the United States , to see if we can not get the foreign countries we have to go into the market . If we have a large number of WE we have been trying to see WE in the United States , WE we have SOME STEELWORKERS in the United States , and WE WE have been trying as to the industries of the world . If we have SOME STEELWORKERS in the United States , WE we have SOME STEELWORKERS in the United States , and WE WE have to come to the United States , and if we can not get the foreign countries of the world , WE we have to have SOME STEELWORKERS in the United States , and WE we have SOME STEELWORKERS in the United States , WE we have SOME STEELWORKERS in the United States , and WE we have SOME STEELWORKERS in the United States , and we can have SOME STEELWORKERS in the United States , and WE we have SOME STEELWORKERS in the United States , and WE WE have been trying as to\n",
            "\n",
            "33 42\n",
            "MR. CHAIRMAN , reclaiming MY TIME for a moment , my think what we have done in this legislation is entirely consistent with the executive order and the current process . State and local governments are <unk> . It is appropriate that State and local governments have the <unk> that is provided in the title . Again , although my think the intent of the gentlemans amendment WE ALL agree WITH , we all think there currently is the ability for CITIZENS to have THE KIND OF INPUT THAT THE GENTLEMAN DESIRES . Again , we all must reluctantly oppose THE GENTLEMANS AMENDMENT WE ALL agree . \n",
            "Mr. Chairman , if the gentleman will yield , yes . Mr. Chairman , if the gentleman will yield further , that MR. CHAIRMAN , the gentleman would agree with the gentleman . Mr. Chairman , if the gentleman will yield further , that MR. CHAIRMAN , WE ALL , and CITIZENS and agree with the distinguished chairman of the distinguished chairman of the subcommittee . Mr. Chairman , if the gentleman will yield further , that WE ALL , and WE ALL the gentleman from New Jersey , who , if the gentleman will yield , to the gentleman from Iowa Mr. Chairman , if the gentleman will yield further , that MR. CHAIRMAN , WE ALL the gentleman from Virginia , who is the ranking minority member of the committee , to agree with the distinguished chairman of the committee . Mr. Chairman , if the gentleman will yield further , that WE ALL , and the gentleman from Illinois , who is the ranking minority member of the committee , would agree with the gentleman that CITIZENS and agree that MR. CHAIRMAN and agree that CITIZENS have been able to agree with the Army and the Navy , and the Army , and the Navy ,\n",
            "\n",
            "34 42\n",
            "CONGRESS now has an opportunity to put AN END to one of the most <unk> acts known to <unk> . <unk> , one of the most <unk> acts known to <unk> is perfectly legal in the United States of America , one of the most <unk> acts known to <unk> is called <unk> abortion . Actually one of the most <unk> acts known to <unk> is a procedure in which a <unk> is partially delivered , THE DOCTOR actually reaches in and turns A BABY for a <unk> birth , and then is killed in a procedure too horrible to describe . Congress has voted twice to make one of the most <unk> acts known to <unk> illegal , but the previous President vetoed one of the most <unk> acts known to <unk> both times . Today we have A NEW PRESIDENT who will do the right thing and make PARTIALBIRTH ABORTION ILLEGAL , but first WE have to send A NEW PRESIDENT the bill , we will have the chance to vote on the bill later this summer , and we will do the right thing . It will be up to the other body to act . No one knows what the other body will do . It is time to make <unk> abortion illegal . <unk> abortion should have been illegal long ago . \n",
            "Mr. Chairman , if the gentleman will yield further , that this is the first time on the part of THE DOCTOR that have been put on the free list , and WE the Senate on the floor of the House , to which WE in the House CONGRESS have been able to work , and WE that to have the Army , and WE who work out for the Army , and WE who work in the Army , and CONGRESS who work in the Army , and CONGRESS who work in the Army , and CONGRESS who work in the Army Army officers who had to do with the Army , and CONGRESS who work in the Army Army officers who had to work with the Army , and WE who work in the Army Army officers who had to do with the Army , and the Army officers who had to do with the Army , and CONGRESS who work in the Army Army officers who had to do with the Army , and CONGRESS who work in the Army Army officers who had to work with the Army , and the Army , and the Army ,\n",
            "\n",
            "35 42\n",
            "Mr. Speaker , I yield MR. SPEAKER such time as I may consume , I would like to clarify the actual wording of what this bill does , THIS BILL does not favor or <unk> ANY PARTICULAR RESULT or any group of people , this bill is motivated by a desire to preserve for the States the authority to decide whether the <unk> Congress enacted to protect the States from having to accept same sex marriage licenses issued out of State will hold . There is no ill will here toward anyone . THIS BILL does not dictate THE RESULTS , either . this bill only places final authority over whether the States the States must accept same sex marriage licenses granted in other States in the hands of the States the States , this bill should be supported , I believe , by any Member who supports the proposition that lifetime appointed Federal judges must not be allowed to <unk> marriage policies for the States . \n",
            "Mr. Chairman , if the gentleman will yield , I the gentleman from Texas , who is a member of the Communist Party , who is a member of the Communist Party , who is a member of the Communist Party , who is a member of the Communist Party , who is a member of the Communist Party , who is a member of the Communist Party , who is a member of the Communist Party , who is a member of the Communist Party , who is a member of the Communist Party . Mr. President , I on the floor of the Senate . Mr. Chairman , I the gentleman from Tennessee Mr. Chairman , I the gentleman from Texas , who has been a member of the Communist Party ? Mr. Chairman , I has been a member of the committee . Mr. Chairman , I the gentleman from Texas , who is a member of the Communist Party , who has been a member of the Communist Party , who has been a member of the Communist Party , who has been a member of the Communist Party ? Mr. Chairman , I has been\n",
            "\n",
            "36 42\n",
            "Mr. Speaker , the Presidents own <unk> council reported to Congress last week that with regard to <unk> reform \" <unk> it is the worker who pays for most of the <unk> system , through lower wages and lower quality <unk> . ALL AMERICANS should be concerned about bearing THE BURDEN OF HEALTHCARE REFORM . If CONGRESS imposes EMPLOYER MANDATES , quality of care will decrease , wages will be lower , and there will be less jobs due to <unk> to pay for employer mandates . Small business owners from all over the country have said EMPLOYER MANDATES mean WEAKER BUSINESSES AND FEWER JOBS . We have A CHOICEWE can ruin THE AMERICAN ECONOMY so that PEOPLE can pay MORE for <unk> We can pass RESPONSIBLE REFORMS that preserve THE BURDEN OF HEALTHCARE REFORM and keep the country small businesses strong . \n",
            "That is the reason CONGRESS , and I do not know , but I do not know , but I do not know what the cost of the money is to be spent . ALL AMERICANS the money has been spent on this money , and I do not know what the cost of the money is to be spent . ALL AMERICANS the money has been spent on this money . ALL AMERICANS do you know how much money has been spent , and I do not know how much money has been spent in the past . ALL AMERICANS has the money that has been put into the hands of the Government , and EMPLOYER MANDATES the people of the United States and the people of the Union , and the people of the Union have been able to get the people out of the people , and the people of the Union have been able to do that , and CONGRESS , and EMPLOYER MANDATES , and EMPLOYER MANDATES , and EMPLOYER MANDATES , and PEOPLE , and EMPLOYER MANDATES , and EMPLOYER MANDATES , and EMPLOYER MANDATES , and EMPLOYER MANDATES , and EMPLOYER MANDATES , and EMPLOYER MANDATES , and CONGRESS , and EMPLOYER MANDATES , and EMPLOYER MANDATES in the\n",
            "\n",
            "37 42\n",
            "Mr. Speaker , how much longer do families have to live in fear before Congress acts ? HOW MANY MORE MEMORIALS must THE NATION have before CONGRESS passes SENSIBLE GUN CONTROL ? Those are the questions . It appears that the answer is that some politicians would rather have the National <unk> Association invest in some politicians than for Congress to invest in our childrens future , investing with a sensible gun control measure . <unk> of families across the Nation agree that WE need to <unk> SENSIBLE GUN CONTROL . So it is time for the House to act , the House has done the right thing . Now the House must do the same . If done means coming to the floor every day demanding that THE REPUBLICAN LEADERSHIP bring DEBATE ON CHILD SAFETY LOCKS BACKGROUND CHECKS AT GUN SHOWS , on DEBATE ON CHILD SAFETY LOCKS BACKGROUND CHECKS AT GUN SHOWS , and a prohibition on the import of large magazines , so be it , the House are going to do done , THE NATION must pass SENSIBLE GUN CONTROL , THE NATION must make WE SCHOOLS SAFE , and the House must do gun safety legislation now . \n",
            "It is my understanding that THE REPUBLICAN LEADERSHIP , and the other agencies , to the Government , and the Government has the power to the Government and the Government of the United States , and the Government has no power to the Government to the Government , and the Government has the power , and the Government has no jurisdiction over the Government , and the Government has the power , and the Government has no power to the Government , and the Government has no power to the Government , and the Government has no power to the Government , and the Government has no power to the Government to the Government , and the Government has no power to the Government , and the Government has no power to the Government , and the Government has the power to the Government and the Government of the United States , and the Government has no power to the Government to the Government , and the Government has no power to the Government , and the Government has no power to the Government and the Government , and the Government has no power to the Government , and the Government has\n",
            "\n",
            "38 42\n",
            "I think YOU are making AN OUTSTANDING POINT . This is one of the reasons YOU went back and looked BACK OVER THESE 16 YEARS OF LEGISLATION . <unk> , of these 16 years of legislation , at different times THE DEMOCRATIC PARTY supported BACK OVER THESE 16 YEARS OF LEGISLATION , and THE DEMOCRATIC PARTY supported 12 . \n",
            "Mr. Chairman , if the gentleman will continue to yield , YOU the gentleman from Illinois , if YOU , to support THE DEMOCRATIC PARTY and support THE DEMOCRATIC PARTY and support THE DEMOCRATIC PARTY and support THE DEMOCRATIC PARTY and support THE DEMOCRATIC PARTY and support THE DEMOCRATIC PARTY and support THE DEMOCRATIC PARTY and support AN OUTSTANDING POINT and support THE DEMOCRATIC PARTY and support THE DEMOCRATIC PARTY and support THE DEMOCRATIC PARTY and support THE DEMOCRATIC PARTY and support THE DEMOCRATIC PARTY and support THE DEMOCRATIC PARTY and support THE DEMOCRATIC PARTY and support THE DEMOCRATIC PARTY and support THE DEMOCRATIC PARTY and support THE DEMOCRATIC PARTY and support THE DEMOCRATIC PARTY and support THE DEMOCRATIC PARTY and support THE DEMOCRATIC PARTY and support 12 and support THE DEMOCRATIC PARTY and support THE DEMOCRATIC PARTY and support THE DEMOCRATIC PARTY and support THE DEMOCRATIC PARTY and support THE DEMOCRATIC PARTY and support THE DEMOCRATIC PARTY and support THE DEMOCRATIC PARTY and support THE DEMOCRATIC PARTY and support THE DEMOCRATIC PARTY and support THE DEMOCRATIC PARTY and support 12 and support THE DEMOCRATIC PARTY and support THE DEMOCRATIC PARTY and support THE DEMOCRATIC PARTY and support THE DEMOCRATIC PARTY and support THE DEMOCRATIC PARTY and support THE DEMOCRATIC PARTY and support 12 and support THE DEMOCRATIC PARTY and support THE DEMOCRATIC PARTY and support THE DEMOCRATIC PARTY and support THE DEMOCRATIC PARTY and support THE DEMOCRATIC PARTY and support THE DEMOCRATIC PARTY and support THE DEMOCRATIC PARTY and support THE DEMOCRATIC PARTY and support THE DEMOCRATIC PARTY and support THE DEMOCRATIC PARTY and support THE DEMOCRATIC PARTY and support THE DEMOCRATIC PARTY and support THE DEMOCRATIC PARTY and support THE DEMOCRATIC PARTY and support THE DEMOCRATIC PARTY and support THE DEMOCRATIC PARTY and support THE DEMOCRATIC PARTY and support THE DEMOCRATIC PARTY and support THE DEMOCRATIC PARTY and support THE DEMOCRATIC PARTY\n",
            "\n",
            "39 42\n",
            "I appreciate THE SENATOR YIELDING , I would like to ask A COUPLE OF QUESTIONS , maybe with a comment . We , of course , have a disagreement with a distinguished colleague of We who offers A FARM BILL that really is not much of a farm bill at all and certainly offers NO HOPE TO FAMILY FARMERS . But is nt the origin of this idea coming from people who really think the current farm program , which has nearly <unk> the rest of the family farmers who are still <unk> have believed the current farm program , which has nearly <unk> the rest of the family farmers who are still <unk> has been just <unk> , that the current farm program , which has nearly <unk> the rest of the family farmers who are still <unk> works just <unk> ? Is nt the origin of this idea from people who really think the current farm program , which has nearly <unk> the rest of the family farmers who are still <unk> has worked for family farmers ? \n",
            "Yes , I , and I , and I , I me , and I , and I , I and offer an amendment which has been worked out on the floor of the House . If the gentleman had been a member of the committee , I me that I and offer A FARM BILL and A FARM BILL would offer A FARM BILL and offer A FARM BILL and offer an amendment to A FARM BILL and offer A FARM BILL and offer A FARM BILL as A FARM BILL as A FARM BILL would offer A FARM BILL and offer an amendment to the effect that A FARM BILL would have to offer an amendment which would offer an amendment to A FARM BILL on the floor of the Senate .\n",
            "\n",
            "40 42\n",
            "Mr. Chairman , quite frankly , I can not give the gentleman THAT INFORMATION because I did not bring THAT INFORMATION to the floor with Mr. Chairman . It may be important for the gentleman to recognize the fact that THIS AMENDMENT that I am offering passed the floor . THIS AMENDMENT that I am offering passed not only with the membership of the Republican Party but also with a number of Members of the Republican Party supporting THIS AMENDMENT that I am offering , as a number of Members of the Republican Party again do last year . \n",
            "Mr. Speaker , I that I know of that , I know that THIS AMENDMENT has been that I in the District of Columbia have been in the past , and I know that I has been that I in the District of Columbia have been in the past , and I have been able to know how much money has been expended on the floor of the House , and I the gentleman to know how I I have been in the past , and I how much money has been expended on the floor of the House of Representatives , and I the gentleman to know how I I have been able to know how much money has been expended on the floor of the House , I know that THIS AMENDMENT has been that I in the District of Columbia , and I how much money has been expended in the past , and I have been able to work out THIS AMENDMENT and how THIS AMENDMENT the money that has been expended on the floor of the House of Representatives , and I how much money has been expended on the floor of the House of Representatives , and I\n",
            "\n",
            "41 42\n",
            "Mr. Speaker , I heard MR. SPEAKER complaining a while ago ABOUT THE TAX INCREASES OF 1993 . Would Mr. Speaker believe that none of the tax increases of <unk> are repealed in Mr. Speaker <unk> tax bill this year . Not a single one , I do not know what Mr. Speaker are <unk> about . \n",
            "Yes , sir , it would not . There have been no objection to that , I say to the gentleman that it would not . There have been no objection to it , but , as I say , it would be very difficult for MR. SPEAKER to say that MR. SPEAKER would be the same as MR. SPEAKER as MR. SPEAKER as MR. SPEAKER as MR. SPEAKER as MR. SPEAKER were present at the present time , and MR. SPEAKER MR. SPEAKER have to work with other States , and MR. SPEAKER with respect to other countries , and MR. SPEAKER MR. SPEAKER have to work with other States , and MR. SPEAKER with other States , and MR. SPEAKER with other States , and MR. SPEAKER with other provisions of this bill .\n",
            "\n"
          ],
          "name": "stdout"
        }
      ]
    },
    {
      "cell_type": "code",
      "metadata": {
        "id": "AGQXRbyxOcjH",
        "colab_type": "code",
        "colab": {
          "base_uri": "https://localhost:8080/",
          "height": 289
        },
        "outputId": "9beb2636-aee1-4a51-936e-30328580ca73"
      },
      "source": [
        "df.head()"
      ],
      "execution_count": 13,
      "outputs": [
        {
          "output_type": "execute_result",
          "data": {
            "text/html": [
              "<div>\n",
              "<style scoped>\n",
              "    .dataframe tbody tr th:only-of-type {\n",
              "        vertical-align: middle;\n",
              "    }\n",
              "\n",
              "    .dataframe tbody tr th {\n",
              "        vertical-align: top;\n",
              "    }\n",
              "\n",
              "    .dataframe thead th {\n",
              "        text-align: right;\n",
              "    }\n",
              "</style>\n",
              "<table border=\"1\" class=\"dataframe\">\n",
              "  <thead>\n",
              "    <tr style=\"text-align: right;\">\n",
              "      <th></th>\n",
              "      <th>question</th>\n",
              "      <th>corpus</th>\n",
              "      <th>tags</th>\n",
              "      <th>triplet_id</th>\n",
              "      <th>parsed_text</th>\n",
              "      <th>parsed</th>\n",
              "    </tr>\n",
              "  </thead>\n",
              "  <tbody>\n",
              "    <tr>\n",
              "      <th>28</th>\n",
              "      <td>What do you think about the current president ?</td>\n",
              "      <td>the courts ; the balance ; the purpose of the ...</td>\n",
              "      <td>&lt;phrase&gt; &lt;phrase&gt; &lt;phrase&gt; &lt;phrase&gt; &lt;phrase&gt; &lt;...</td>\n",
              "      <td>0 252 1 ; 0 500 2 ; 3 7406 4 ; 3 1388 5 ; 3 12...</td>\n",
              "      <td>That is correct . What we are trying to do is ...</td>\n",
              "      <td>6 -1 0 1 7 2 8 3 4 9 5 10 11 6 -1</td>\n",
              "    </tr>\n",
              "    <tr>\n",
              "      <th>24</th>\n",
              "      <td>Should every American have equal opportunities...</td>\n",
              "      <td>by Madam Speaker and the House Republican lead...</td>\n",
              "      <td>&lt;phrase&gt; &lt;phrase&gt; &lt;phrase&gt; &lt;phrase&gt;</td>\n",
              "      <td>0 905 1 ; 1 2039 2 ; 1 8310 1 ; 1 58 3</td>\n",
              "      <td>Madam Speaker , &lt;phrase_1&gt; have been assured &lt;...</td>\n",
              "      <td>0 1 5 4 -1 2 6 7 4 -1 4 -1 4 -1 3 8 4 -1 4 -1 ...</td>\n",
              "    </tr>\n",
              "    <tr>\n",
              "      <th>11</th>\n",
              "      <td>What do you think about the current president ?</td>\n",
              "      <td>Mr. Chairman ; my time ; we all ; with ; citiz...</td>\n",
              "      <td>&lt;phrase&gt; &lt;phrase&gt; &lt;phrase&gt; &lt;phrase&gt; &lt;phrase&gt; &lt;...</td>\n",
              "      <td>0 3932 1 ; 2 285 3 ; 4 5158 5 ; 2 285 6</td>\n",
              "      <td>&lt;phrase_0&gt; , reclaiming &lt;phrase_1&gt; for a momen...</td>\n",
              "      <td>0 1 8 7 -1 7 -1 7 -1 2 3 9 4 5 10 7 -1 6 11 7 -1</td>\n",
              "    </tr>\n",
              "    <tr>\n",
              "      <th>39</th>\n",
              "      <td>What is the biggest threat to America ?</td>\n",
              "      <td>I ; Senator LIEBERMAN ; a question ; by the Ir...</td>\n",
              "      <td>&lt;phrase&gt; &lt;phrase&gt; &lt;phrase&gt; &lt;phrase&gt; &lt;phrase&gt;</td>\n",
              "      <td>0 4201 1 ; 0 1309 2 ; 3 4790 4</td>\n",
              "      <td>Mr. President , &lt;phrase_0&gt; see &lt;phrase_1&gt; . Se...</td>\n",
              "      <td>0 1 6 5 -1 5 -1 2 7 5 -1 3 4 8 5 -1 5 -1</td>\n",
              "    </tr>\n",
              "    <tr>\n",
              "      <th>7</th>\n",
              "      <td>Should we have higher taxes for higher incomes ?</td>\n",
              "      <td>the Democrats ; the Tax Code ; share\"-I ; that...</td>\n",
              "      <td>&lt;phrase&gt; &lt;phrase&gt; &lt;phrase&gt; &lt;phrase&gt; &lt;phrase&gt; &lt;...</td>\n",
              "      <td>0 82 1 ; 0 237 1 ; 2 15 3 ; 3 5158 1 ; 1 565 3...</td>\n",
              "      <td>So when the Democrats , in 1993 , said . \" &lt;ph...</td>\n",
              "      <td>7 -1 0 1 8 9 2 3 10 11 12 4 5 13 14 7 -1 6 15 ...</td>\n",
              "    </tr>\n",
              "  </tbody>\n",
              "</table>\n",
              "</div>"
            ],
            "text/plain": [
              "                                             question  ...                                             parsed\n",
              "28    What do you think about the current president ?  ...                  6 -1 0 1 7 2 8 3 4 9 5 10 11 6 -1\n",
              "24  Should every American have equal opportunities...  ...  0 1 5 4 -1 2 6 7 4 -1 4 -1 4 -1 3 8 4 -1 4 -1 ...\n",
              "11    What do you think about the current president ?  ...   0 1 8 7 -1 7 -1 7 -1 2 3 9 4 5 10 7 -1 6 11 7 -1\n",
              "39            What is the biggest threat to America ?  ...           0 1 6 5 -1 5 -1 2 7 5 -1 3 4 8 5 -1 5 -1\n",
              "7    Should we have higher taxes for higher incomes ?  ...  7 -1 0 1 8 9 2 3 10 11 12 4 5 13 14 7 -1 6 15 ...\n",
              "\n",
              "[5 rows x 6 columns]"
            ]
          },
          "metadata": {
            "tags": []
          },
          "execution_count": 13
        }
      ]
    },
    {
      "cell_type": "code",
      "metadata": {
        "id": "_ArVGcxzRyLX",
        "colab_type": "code",
        "colab": {}
      },
      "source": [
        "with open(\"/content/drive/My Drive/GraphWriter-master/outputs/9.vloss-3.980539.lr-0.1.inputs.beam_predictions.cmdline\") as f:\n",
        "  gw_gen_answers = f.readlines()"
      ],
      "execution_count": 16,
      "outputs": []
    },
    {
      "cell_type": "code",
      "metadata": {
        "id": "GQNO2fE2hW7x",
        "colab_type": "code",
        "colab": {}
      },
      "source": [
        "df['GW_ANS'] = gw_gen_answers"
      ],
      "execution_count": 19,
      "outputs": []
    },
    {
      "cell_type": "code",
      "metadata": {
        "id": "Okf59k4ehvIU",
        "colab_type": "code",
        "colab": {}
      },
      "source": [
        "pickle.dump(df, open(\"GW_output_200724.pkl\", \"wb\"))"
      ],
      "execution_count": 24,
      "outputs": []
    },
    {
      "cell_type": "code",
      "metadata": {
        "id": "J59y4MwpidD0",
        "colab_type": "code",
        "colab": {
          "base_uri": "https://localhost:8080/",
          "height": 374
        },
        "outputId": "60cdeea4-bd2c-4e1b-c576-445fbc56c0d0"
      },
      "source": [
        "gw_df = pickle.load(open(\"GW_output_200724.pkl\", \"rb\"))\n",
        "gw_df.head(5)"
      ],
      "execution_count": 13,
      "outputs": [
        {
          "output_type": "execute_result",
          "data": {
            "text/html": [
              "<div>\n",
              "<style scoped>\n",
              "    .dataframe tbody tr th:only-of-type {\n",
              "        vertical-align: middle;\n",
              "    }\n",
              "\n",
              "    .dataframe tbody tr th {\n",
              "        vertical-align: top;\n",
              "    }\n",
              "\n",
              "    .dataframe thead th {\n",
              "        text-align: right;\n",
              "    }\n",
              "</style>\n",
              "<table border=\"1\" class=\"dataframe\">\n",
              "  <thead>\n",
              "    <tr style=\"text-align: right;\">\n",
              "      <th></th>\n",
              "      <th>question</th>\n",
              "      <th>corpus</th>\n",
              "      <th>tags</th>\n",
              "      <th>triplet_id</th>\n",
              "      <th>parsed_text</th>\n",
              "      <th>parsed</th>\n",
              "      <th>GW_ANS</th>\n",
              "    </tr>\n",
              "  </thead>\n",
              "  <tbody>\n",
              "    <tr>\n",
              "      <th>28</th>\n",
              "      <td>What do you think about the current president ?</td>\n",
              "      <td>the courts ; the balance ; the purpose of the ...</td>\n",
              "      <td>&lt;phrase&gt; &lt;phrase&gt; &lt;phrase&gt; &lt;phrase&gt; &lt;phrase&gt; &lt;...</td>\n",
              "      <td>0 252 1 ; 0 500 2 ; 3 7406 4 ; 3 1388 5 ; 3 12...</td>\n",
              "      <td>That is correct . What we are trying to do is ...</td>\n",
              "      <td>6 -1 0 1 7 2 8 3 4 9 5 10 11 6 -1</td>\n",
              "      <td>mr. chairman , if the gentleman will yield , w...</td>\n",
              "    </tr>\n",
              "    <tr>\n",
              "      <th>24</th>\n",
              "      <td>Should every American have equal opportunities...</td>\n",
              "      <td>by Madam Speaker and the House Republican lead...</td>\n",
              "      <td>&lt;phrase&gt; &lt;phrase&gt; &lt;phrase&gt; &lt;phrase&gt;</td>\n",
              "      <td>0 905 1 ; 1 2039 2 ; 1 8310 1 ; 1 58 3</td>\n",
              "      <td>Madam Speaker , &lt;phrase_1&gt; have been assured &lt;...</td>\n",
              "      <td>0 1 5 4 -1 2 6 7 4 -1 4 -1 4 -1 3 8 4 -1 4 -1 ...</td>\n",
              "      <td>mr. president , i that i have to say that i ha...</td>\n",
              "    </tr>\n",
              "    <tr>\n",
              "      <th>11</th>\n",
              "      <td>What do you think about the current president ?</td>\n",
              "      <td>Mr. Chairman ; my time ; we all ; with ; citiz...</td>\n",
              "      <td>&lt;phrase&gt; &lt;phrase&gt; &lt;phrase&gt; &lt;phrase&gt; &lt;phrase&gt; &lt;...</td>\n",
              "      <td>0 3932 1 ; 2 285 3 ; 4 5158 5 ; 2 285 6</td>\n",
              "      <td>&lt;phrase_0&gt; , reclaiming &lt;phrase_1&gt; for a momen...</td>\n",
              "      <td>0 1 8 7 -1 7 -1 7 -1 2 3 9 4 5 10 7 -1 6 11 7 -1</td>\n",
              "      <td>mr. chairman , if the gentleman will yield fur...</td>\n",
              "    </tr>\n",
              "    <tr>\n",
              "      <th>39</th>\n",
              "      <td>What is the biggest threat to America ?</td>\n",
              "      <td>I ; Senator LIEBERMAN ; a question ; by the Ir...</td>\n",
              "      <td>&lt;phrase&gt; &lt;phrase&gt; &lt;phrase&gt; &lt;phrase&gt; &lt;phrase&gt;</td>\n",
              "      <td>0 4201 1 ; 0 1309 2 ; 3 4790 4</td>\n",
              "      <td>Mr. President , &lt;phrase_0&gt; see &lt;phrase_1&gt; . Se...</td>\n",
              "      <td>0 1 6 5 -1 5 -1 2 7 5 -1 3 4 8 5 -1 5 -1</td>\n",
              "      <td>mr. president , i that i me say to the senator...</td>\n",
              "    </tr>\n",
              "    <tr>\n",
              "      <th>7</th>\n",
              "      <td>Should we have higher taxes for higher incomes ?</td>\n",
              "      <td>the Democrats ; the Tax Code ; share\"-I ; that...</td>\n",
              "      <td>&lt;phrase&gt; &lt;phrase&gt; &lt;phrase&gt; &lt;phrase&gt; &lt;phrase&gt; &lt;...</td>\n",
              "      <td>0 82 1 ; 0 237 1 ; 2 15 3 ; 3 5158 1 ; 1 565 3...</td>\n",
              "      <td>So when the Democrats , in 1993 , said . \" &lt;ph...</td>\n",
              "      <td>7 -1 0 1 8 9 2 3 10 11 12 4 5 13 14 7 -1 6 15 ...</td>\n",
              "      <td>if the senator will allow that , let me say to...</td>\n",
              "    </tr>\n",
              "  </tbody>\n",
              "</table>\n",
              "</div>"
            ],
            "text/plain": [
              "                                             question  ...                                             GW_ANS\n",
              "28    What do you think about the current president ?  ...  mr. chairman , if the gentleman will yield , w...\n",
              "24  Should every American have equal opportunities...  ...  mr. president , i that i have to say that i ha...\n",
              "11    What do you think about the current president ?  ...  mr. chairman , if the gentleman will yield fur...\n",
              "39            What is the biggest threat to America ?  ...  mr. president , i that i me say to the senator...\n",
              "7    Should we have higher taxes for higher incomes ?  ...  if the senator will allow that , let me say to...\n",
              "\n",
              "[5 rows x 7 columns]"
            ]
          },
          "metadata": {
            "tags": []
          },
          "execution_count": 13
        }
      ]
    },
    {
      "cell_type": "markdown",
      "metadata": {
        "id": "246Ozjtrxnn4",
        "colab_type": "text"
      },
      "source": [
        "Will the Senator yield to answer a question so when WE debate WE , WE have AN UNDERSTANDING ? Like I said , this is the first time the Senator and I have stood nose to nose on this . Does the Senator believe abortion should be illegal ? \n",
        "\n",
        "Mr. Chairman , if the gentleman will yield to the gentleman from Texas , WE , WE , WE , and WE that may see that WE in the United States , to see AN UNDERSTANDING in the United States . If we can , WE we have AN UNDERSTANDING in the United States , and we can not do that , and WE we can see how WE we can see how WE WE can come to see how WE we can get AN UNDERSTANDING to see how WE can come to see how WE WE can come to see how WE we can , and WE WE can come to work and to see AN UNDERSTANDING in AN UNDERSTANDING that may see WE in the future . If we can get AN UNDERSTANDING that will see WE in the future , WE we can see AN UNDERSTANDING that WE can come to work and to see how WE WE can come to work and to see how WE WE can come to see how WE WE can come to see how WE WE can come to see how WE WE can come to work and see how WE can come to work and to see\n"
      ]
    },
    {
      "cell_type": "code",
      "metadata": {
        "id": "LdHvre4wjjBL",
        "colab_type": "code",
        "colab": {
          "base_uri": "https://localhost:8080/",
          "height": 181
        },
        "outputId": "dd962441-6a0a-4434-fe39-90e99008094a"
      },
      "source": [
        "df = df[df['answer'].apply(lambda x: len(x)) < 1000]\n",
        "df.head(10)"
      ],
      "execution_count": 4,
      "outputs": [
        {
          "output_type": "error",
          "ename": "NameError",
          "evalue": "ignored",
          "traceback": [
            "\u001b[0;31m---------------------------------------------------------------------------\u001b[0m",
            "\u001b[0;31mNameError\u001b[0m                                 Traceback (most recent call last)",
            "\u001b[0;32m<ipython-input-4-4f10f9719a36>\u001b[0m in \u001b[0;36m<module>\u001b[0;34m()\u001b[0m\n\u001b[0;32m----> 1\u001b[0;31m \u001b[0mdf\u001b[0m \u001b[0;34m=\u001b[0m \u001b[0mdf\u001b[0m\u001b[0;34m[\u001b[0m\u001b[0mdf\u001b[0m\u001b[0;34m[\u001b[0m\u001b[0;34m'answer'\u001b[0m\u001b[0;34m]\u001b[0m\u001b[0;34m.\u001b[0m\u001b[0mapply\u001b[0m\u001b[0;34m(\u001b[0m\u001b[0;32mlambda\u001b[0m \u001b[0mx\u001b[0m\u001b[0;34m:\u001b[0m \u001b[0mlen\u001b[0m\u001b[0;34m(\u001b[0m\u001b[0mx\u001b[0m\u001b[0;34m)\u001b[0m\u001b[0;34m)\u001b[0m \u001b[0;34m<\u001b[0m \u001b[0;36m1000\u001b[0m\u001b[0;34m]\u001b[0m\u001b[0;34m\u001b[0m\u001b[0;34m\u001b[0m\u001b[0m\n\u001b[0m\u001b[1;32m      2\u001b[0m \u001b[0mdf\u001b[0m\u001b[0;34m.\u001b[0m\u001b[0mhead\u001b[0m\u001b[0;34m(\u001b[0m\u001b[0;36m10\u001b[0m\u001b[0;34m)\u001b[0m\u001b[0;34m\u001b[0m\u001b[0;34m\u001b[0m\u001b[0m\n",
            "\u001b[0;31mNameError\u001b[0m: name 'df' is not defined"
          ]
        }
      ]
    },
    {
      "cell_type": "code",
      "metadata": {
        "id": "nKS8ABdlZB83",
        "colab_type": "code",
        "colab": {
          "base_uri": "https://localhost:8080/",
          "height": 137
        },
        "outputId": "23ad812b-02e9-4e1b-c987-8c668b8c5753"
      },
      "source": [
        "df.loc[0, 'answer']"
      ],
      "execution_count": 11,
      "outputs": [
        {
          "output_type": "execute_result",
          "data": {
            "application/vnd.google.colaboratory.intrinsic+json": {
              "type": "string"
            },
            "text/plain": [
              "'Mr. Speaker. Congress now has an opportunity to put an end to one of the most barbaric acts known to mankind. Amazingly, this barbaric act is perfectly legal in the United States of America. this barbaric act is called partialbirth abortion. Actually this barbaric act is a procedure in which a baby is partially delivered, the doctor actually reaches in and turns a baby for a breech birth, and then is killed in a procedure too horrible to describe. Congress has voted twice to make it illegal, but the previous President vetoed it both times. Today we have a new President who will do the right thing and make partialbirth abortion illegal, but first we have to send the previous President the bill. we in the House will have the chance to vote on the bill later this summer, and we will do the right thing. It will be up to the other body to act. No one knows what they will do. It is time to make partialbirth abortion illegal. It should have been illegal long ago.'"
            ]
          },
          "metadata": {
            "tags": []
          },
          "execution_count": 11
        }
      ]
    },
    {
      "cell_type": "code",
      "metadata": {
        "id": "CYhXnNFGx5WY",
        "colab_type": "code",
        "colab": {}
      },
      "source": [
        ""
      ],
      "execution_count": null,
      "outputs": []
    }
  ]
}