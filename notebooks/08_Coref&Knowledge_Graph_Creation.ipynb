{
  "nbformat": 4,
  "nbformat_minor": 0,
  "metadata": {
    "colab": {
      "name": "08_Coref&Knowledge_Graph_Creation.ipynb",
      "provenance": [],
      "collapsed_sections": [],
      "authorship_tag": "ABX9TyNavFQaYjTkviGcsnaG4gTF",
      "include_colab_link": true
    },
    "kernelspec": {
      "name": "python3",
      "display_name": "Python 3"
    },
    "accelerator": "GPU"
  },
  "cells": [
    {
      "cell_type": "markdown",
      "metadata": {
        "id": "view-in-github",
        "colab_type": "text"
      },
      "source": [
        "<a href=\"https://colab.research.google.com/github/rostro36/Partisan-Responses/blob/master/08_Coref%26Knowledge_Graph_Creation.ipynb\" target=\"_parent\"><img src=\"https://colab.research.google.com/assets/colab-badge.svg\" alt=\"Open In Colab\"/></a>"
      ]
    },
    {
      "cell_type": "markdown",
      "metadata": {
        "id": "I_lpeRFa34jd",
        "colab_type": "text"
      },
      "source": [
        "Mount Google Drive"
      ]
    },
    {
      "cell_type": "code",
      "metadata": {
        "id": "2_JcyaEJb7BY",
        "colab_type": "code",
        "colab": {}
      },
      "source": [
        "from google.colab import drive\n",
        "drive.mount('/content/drive')\n",
        "\n",
        "import os\n",
        "os.chdir('/content/drive/My Drive/Partisan-Responses-master')"
      ],
      "execution_count": null,
      "outputs": []
    },
    {
      "cell_type": "markdown",
      "metadata": {
        "id": "-dFdfU1a38rz",
        "colab_type": "text"
      },
      "source": [
        "Install all requirements."
      ]
    },
    {
      "cell_type": "code",
      "metadata": {
        "id": "48m_6NnTcA_R",
        "colab_type": "code",
        "colab": {}
      },
      "source": [
        "!pip install torchtext -U\n",
        "!pip install spacy==2.1.0\n",
        "!pip install neuralcoref allennlp hnswlib allennlp-models\n",
        "!python -m spacy download en\n",
        "!pip install wandb"
      ],
      "execution_count": null,
      "outputs": []
    },
    {
      "cell_type": "markdown",
      "metadata": {
        "id": "xqzaqs5Q68sV",
        "colab_type": "text"
      },
      "source": [
        "Import everything"
      ]
    },
    {
      "cell_type": "code",
      "metadata": {
        "id": "1Ygv1emO4Ki0",
        "colab_type": "code",
        "colab": {}
      },
      "source": [
        "import neuralcoref\n",
        "import spacy\n",
        "import re\n",
        "import pickle\n",
        "import pandas as pd\n",
        "import gc\n",
        "from Answer import Answer\n",
        "import utils\n",
        "from Speech import Speech\n",
        "from KnowledgeGraph import KnowledgeGraph\n",
        "import nltk"
      ],
      "execution_count": null,
      "outputs": []
    },
    {
      "cell_type": "markdown",
      "metadata": {
        "id": "fsMfpdMNEDAE",
        "colab_type": "text"
      },
      "source": [
        "Load search results"
      ]
    },
    {
      "cell_type": "code",
      "metadata": {
        "id": "g4UYfIcnRAqA",
        "colab_type": "code",
        "colab": {}
      },
      "source": [
        "df = pd.read_pickle(\"search_results.pkl\")"
      ],
      "execution_count": null,
      "outputs": []
    },
    {
      "cell_type": "markdown",
      "metadata": {
        "id": "hle7707K7JBV",
        "colab_type": "text"
      },
      "source": [
        "Setup everything for coref"
      ]
    },
    {
      "cell_type": "code",
      "metadata": {
        "id": "rgAs3DSn7GKD",
        "colab_type": "code",
        "colab": {}
      },
      "source": [
        "nlp = spacy.load('en')\n",
        "neuralcoref.add_to_pipe(nlp)\n",
        "\n",
        "identifier='coref'\n",
        "last_check=0\n",
        "step_size=1000\n",
        "\n",
        "def load_pickles(identifier, checkpoint):\n",
        "  if os.path.exists(\"df\"+identifier+str(checkpoint)+\".pickle\"):\n",
        "    df = pd.read_pickle(\"df\"+identifier+str(checkpoint)+\".pickle\")\n",
        "  return df\n",
        "\n",
        "def dump_pickles(identifier, checkpoint, df):\n",
        "  df.to_pickle(\"df\"+identifier+str(checkpoint)+\".pickle\")\n",
        "  gc.collect()\n",
        "  return \n",
        "\n",
        "def make_corefs(content):\n",
        "    content=str(re.sub(\"\\.(?=\\s[a-z0-9]|\\sI[\\W\\s])\", \",\", content))\n",
        "    doc=nlp(content)\n",
        "    return doc._.coref_resolved\n",
        "\n",
        "df = pd.read_pickle(\"final_data.pkl\")"
      ],
      "execution_count": null,
      "outputs": []
    },
    {
      "cell_type": "markdown",
      "metadata": {
        "id": "VdpMgaKm7RwM",
        "colab_type": "text"
      },
      "source": [
        "Do coref"
      ]
    },
    {
      "cell_type": "code",
      "metadata": {
        "id": "JKZijOCs7gQF",
        "colab_type": "code",
        "colab": {
          "base_uri": "https://localhost:8080/",
          "height": 35
        },
        "outputId": "894be918-824d-4c95-f36a-5c77b633407e"
      },
      "source": [
        "for i in range(last_check+1,int(df.shape[0]/step_size)):\n",
        "  print(i)\n",
        "  for j in range(step_size):\n",
        "    df.iloc[step_size*(i-1)+j]['answer']=make_corefs(df.iloc[step_size*(i-1)+j]['answer'])\n",
        "  dump_pickles(identifier,i,df)\n",
        "print('done with ordered')\n",
        "for j in range(df.shape[0]-int(df.shape[0]/step_size)*step_size):\n",
        "  df.iloc[step_size*int(df.shape[0]/step_size)+j]['answer']=make_corefs(df.iloc[step_size*int(df.shape[0]/step_size)+j]['answer'])\n",
        "df.to_pickle(identifier+\".pkl\")"
      ],
      "execution_count": null,
      "outputs": [
        {
          "output_type": "stream",
          "text": [
            "done with ordered\n"
          ],
          "name": "stdout"
        }
      ]
    },
    {
      "cell_type": "code",
      "metadata": {
        "id": "i5aow5JEjLGf",
        "colab_type": "code",
        "colab": {}
      },
      "source": [
        "auxillary_verbs=['can','could','may','might','must','shall','should','will','would'] #https://englishstudyonline.org/auxiliary-verbs/\n",
        "distance_threshold=0.5\n",
        "\n",
        "class Speech:\n",
        "    def __init__(self, speech):\n",
        "        #self.speaker = speech['lastname'] + \" \" + speech['firstname']\n",
        "        self.party = speech['party']\n",
        "        self.content = speech['speech']\n",
        "        \n",
        "    def change_comma(self):\n",
        "        \"\"\"\n",
        "        Replace improper period to comma\n",
        "        \"\"\"\n",
        "        self.content = re.sub(\"\\.(?=\\s[a-z0-9]|\\sI[\\W\\s])\", \",\", self.content)\n",
        "\n",
        "    def _find_triplets(self, openinfo_result):\n",
        "        \"\"\"\n",
        "        Find one or more triplets of each sentence from allennlp OIE results\n",
        "        Param:\n",
        "        ========\n",
        "        Return:\n",
        "        ========\n",
        "        speech_triplets: list, a list of lists of triplet tuples (of a speech)\n",
        "        \"\"\"\n",
        "        arg0 = \"ARG0: \"\n",
        "        arg1 = \"ARG1: \"\n",
        "        modalverbs = [\"can\", \"could\", \"may\", \"might\", \"must\", \"shall\", \"should\", \"will\", \"would\"]\n",
        "        speech_triplet = []\n",
        "        for sentence in openinfo_result:\n",
        "            sent_triplet = []\n",
        "            if sentence is not []:\n",
        "                for d in sentence: # Extract from 'description' result of OIE\n",
        "                    verb = d['verb']\n",
        "                    if verb not in modalverbs:\n",
        "                        subjidx = d['description'].rfind(arg0) \n",
        "                        predidx = d['description'].rfind(arg1)\n",
        "                        if subjidx != -1 and predidx != -1:\n",
        "                            subj = re.search(\"(?<=ARG0: )[^\\]]*(?=])\", d['description']).group(0)\n",
        "                            predicate = re.search(\"(?<=ARG1: )[^\\]]*(?=])\", d['description']).group(0)\n",
        "                            \n",
        "                            sent_triplet.append((subj, verb, predicate))\n",
        "            speech_triplet.append(sent_triplet)\n",
        "        return speech_triplet\n",
        "                \n",
        "    def create_triplet(self):\n",
        "        \"\"\"\n",
        "        Generate (subject, verb, object) triplets of a speech text\n",
        "        Param:\n",
        "        ========\n",
        "        coref_extractor: allennlp coreferece resolution predictor\n",
        "        oi_extractor: allennlp open information extractor\n",
        "        Return:\n",
        "        ========\n",
        "        triplets: list, a list of triplet tuples except the last item being party string\n",
        "        \"\"\"\n",
        "        oie_result=self.create_oieresult()\n",
        "        triplets = self._find_triplets(oie_result)\n",
        "        triplets.append(self.party)\n",
        "        return triplets\n",
        "    \n",
        "    def create_oieresult(self):\n",
        "        coref_content = utils.coref_extractor.coref_resolved(self.content)\n",
        "        sents = nltk.tokenize.sent_tokenize(coref_content)\n",
        "        sents = [{\"sentence\":s} for s in sents] #Format for oie batch predictor\n",
        "        oie_result = utils.open_info_extractor.predict_batch_json(sents)\n",
        "        oie_result = [i['verbs'] for i in oie_result]\n",
        "        return oie_result"
      ],
      "execution_count": null,
      "outputs": []
    },
    {
      "cell_type": "code",
      "metadata": {
        "id": "5d3d-EN3RI9x",
        "colab_type": "code",
        "colab": {
          "base_uri": "https://localhost:8080/",
          "height": 206
        },
        "outputId": "0e4cbfed-1bca-451a-a283-057067d3f3ca"
      },
      "source": [
        "df.rename(columns={'answer': 'speech'}, inplace=True)\n",
        "df.head()"
      ],
      "execution_count": null,
      "outputs": [
        {
          "output_type": "execute_result",
          "data": {
            "text/html": [
              "<div>\n",
              "<style scoped>\n",
              "    .dataframe tbody tr th:only-of-type {\n",
              "        vertical-align: middle;\n",
              "    }\n",
              "\n",
              "    .dataframe tbody tr th {\n",
              "        vertical-align: top;\n",
              "    }\n",
              "\n",
              "    .dataframe thead th {\n",
              "        text-align: right;\n",
              "    }\n",
              "</style>\n",
              "<table border=\"1\" class=\"dataframe\">\n",
              "  <thead>\n",
              "    <tr style=\"text-align: right;\">\n",
              "      <th></th>\n",
              "      <th>question</th>\n",
              "      <th>speech</th>\n",
              "      <th>party</th>\n",
              "    </tr>\n",
              "  </thead>\n",
              "  <tbody>\n",
              "    <tr>\n",
              "      <th>0</th>\n",
              "      <td>Should abortion be illegal?</td>\n",
              "      <td>Mr. Speaker. Congress now has an opportunity t...</td>\n",
              "      <td>R</td>\n",
              "    </tr>\n",
              "    <tr>\n",
              "      <th>1</th>\n",
              "      <td>Should abortion be illegal?</td>\n",
              "      <td>Mr. Speaker, I rise today to express my opposi...</td>\n",
              "      <td>R</td>\n",
              "    </tr>\n",
              "    <tr>\n",
              "      <th>2</th>\n",
              "      <td>Should abortion be illegal?</td>\n",
              "      <td>so eloquently pointed out earlier, partialbirt...</td>\n",
              "      <td>R</td>\n",
              "    </tr>\n",
              "    <tr>\n",
              "      <th>3</th>\n",
              "      <td>Should abortion be illegal?</td>\n",
              "      <td>Mr. Chairman, I rise in reluctant support of t...</td>\n",
              "      <td>D</td>\n",
              "    </tr>\n",
              "    <tr>\n",
              "      <th>4</th>\n",
              "      <td>Should abortion be illegal?</td>\n",
              "      <td>Will the Senator yield to answer a question so...</td>\n",
              "      <td>D</td>\n",
              "    </tr>\n",
              "  </tbody>\n",
              "</table>\n",
              "</div>"
            ],
            "text/plain": [
              "                      question  ... party\n",
              "0  Should abortion be illegal?  ...     R\n",
              "1  Should abortion be illegal?  ...     R\n",
              "2  Should abortion be illegal?  ...     R\n",
              "3  Should abortion be illegal?  ...     D\n",
              "4  Should abortion be illegal?  ...     D\n",
              "\n",
              "[5 rows x 3 columns]"
            ]
          },
          "metadata": {
            "tags": []
          },
          "execution_count": 16
        }
      ]
    },
    {
      "cell_type": "markdown",
      "metadata": {
        "id": "2ebfZISyE_B9",
        "colab_type": "text"
      },
      "source": [
        "Initialize empty knowledge graphs"
      ]
    },
    {
      "cell_type": "code",
      "metadata": {
        "id": "IraBh33newZh",
        "colab_type": "code",
        "colab": {}
      },
      "source": [
        "knowledgeGraphs=dict()\n",
        "for i in range(df.shape[0]):\n",
        "  question=df.iloc[i,0]\n",
        "  knowledgeGraphs[question]=KnowledgeGraph(question)"
      ],
      "execution_count": null,
      "outputs": []
    },
    {
      "cell_type": "markdown",
      "metadata": {
        "id": "dvUIwKxdE2BO",
        "colab_type": "text"
      },
      "source": [
        "Build knowledge graph"
      ]
    },
    {
      "cell_type": "code",
      "metadata": {
        "id": "AJ_2509sdegQ",
        "colab_type": "code",
        "colab": {}
      },
      "source": [
        "for i in range(df.shape[0]):\n",
        "  question=df.iloc[i,0]\n",
        "  drawer=False\n",
        "  triplets=Speech(df.iloc[i]).create_triplet()\n",
        "  if knowledgeGraphs[question].node_index is None:\n",
        "    drawer=True\n",
        "  knowledgeGraphs[question].add_edges(triplets)\n",
        "  if drawer:\n",
        "    knowledgeGraphs[knowledgeGraph].draw(\"start\"+question[:10])"
      ],
      "execution_count": null,
      "outputs": []
    },
    {
      "cell_type": "markdown",
      "metadata": {
        "id": "9GWHSVSAEw-c",
        "colab_type": "text"
      },
      "source": [
        "Draw knowledge graph"
      ]
    },
    {
      "cell_type": "code",
      "metadata": {
        "id": "7PnwLvGcfZ0T",
        "colab_type": "code",
        "colab": {
          "base_uri": "https://localhost:8080/",
          "height": 1000
        },
        "outputId": "9600ed0f-b844-4e03-e387-f7123bbbab73"
      },
      "source": [
        "for knowledgeGraph in knowledgeGraphs:\n",
        "  knowledgeGraphs[knowledgeGraph].draw(knowledgeGraph[:10])"
      ],
      "execution_count": null,
      "outputs": [
        {
          "output_type": "display_data",
          "data": {
            "image/png": "[encoded data removed]",
            "text/plain": [
              "<Figure size 432x288 with 1 Axes>"
            ]
          },
          "metadata": {
            "tags": []
          }
        },
        {
          "output_type": "display_data",
          "data": {
            "image/png": "[encoded data removed]",
            "text/plain": [
              "<Figure size 432x288 with 1 Axes>"
            ]
          },
          "metadata": {
            "tags": []
          }
        },
        {
          "output_type": "display_data",
          "data": {
            "image/png": "[encoded data removed]",
            "text/plain": [
              "<Figure size 432x288 with 1 Axes>"
            ]
          },
          "metadata": {
            "tags": []
          }
        },
        {
          "output_type": "display_data",
          "data": {
            "image/png": "[encoded data removed]",
            "text/plain": [
              "<Figure size 432x288 with 1 Axes>"
            ]
          },
          "metadata": {
            "tags": []
          }
        },
        {
          "output_type": "display_data",
          "data": {
            "image/png": "[encoded data removed]",
            "text/plain": [
              "<Figure size 432x288 with 1 Axes>"
            ]
          },
          "metadata": {
            "tags": []
          }
        },
        {
          "output_type": "display_data",
          "data": {
            "image/png": "[encoded data removed]",
            "text/plain": [
              "<Figure size 432x288 with 1 Axes>"
            ]
          },
          "metadata": {
            "tags": []
          }
        },
        {
          "output_type": "display_data",
          "data": {
            "image/png": "[encoded data removed]",
            "text/plain": [
              "<Figure size 432x288 with 1 Axes>"
            ]
          },
          "metadata": {
            "tags": []
          }
        },
        {
          "output_type": "display_data",
          "data": {
            "image/png": "[encoded data removed]",
            "text/plain": [
              "<Figure size 432x288 with 1 Axes>"
            ]
          },
          "metadata": {
            "tags": []
          }
        },
        {
          "output_type": "display_data",
          "data": {
            "image/png": "[encoded data removed]",
            "text/plain": [
              "<Figure size 432x288 with 1 Axes>"
            ]
          },
          "metadata": {
            "tags": []
          }
        },
        {
          "output_type": "display_data",
          "data": {
            "image/png": "[encoded data removed]",
            "text/plain": [
              "<Figure size 432x288 with 1 Axes>"
            ]
          },
          "metadata": {
            "tags": []
          }
        },
        {
          "output_type": "display_data",
          "data": {
            "image/png": "[encoded data removed]",
            "text/plain": [
              "<Figure size 432x288 with 1 Axes>"
            ]
          },
          "metadata": {
            "tags": []
          }
        },
        {
          "output_type": "display_data",
          "data": {
            "image/png": "[encoded data removed]",
            "text/plain": [
              "<Figure size 432x288 with 1 Axes>"
            ]
          },
          "metadata": {
            "tags": []
          }
        },
        {
          "output_type": "display_data",
          "data": {
            "image/png": "[encoded data removed]",
            "text/plain": [
              "<Figure size 432x288 with 1 Axes>"
            ]
          },
          "metadata": {
            "tags": []
          }
        },
        {
          "output_type": "display_data",
          "data": {
            "image/png": "[encoded data removed]",
            "text/plain": [
              "<Figure size 432x288 with 1 Axes>"
            ]
          },
          "metadata": {
            "tags": []
          }
        },
        {
          "output_type": "display_data",
          "data": {
            "image/png": "[encoded data removed]",
            "text/plain": [
              "<Figure size 432x288 with 1 Axes>"
            ]
          },
          "metadata": {
            "tags": []
          }
        },
        {
          "output_type": "display_data",
          "data": {
            "image/png": "[encoded data removed]",
            "text/plain": [
              "<Figure size 432x288 with 1 Axes>"
            ]
          },
          "metadata": {
            "tags": []
          }
        },
        {
          "output_type": "display_data",
          "data": {
            "image/png": "[encoded data removed]",
            "text/plain": [
              "<Figure size 432x288 with 1 Axes>"
            ]
          },
          "metadata": {
            "tags": []
          }
        },
        {
          "output_type": "display_data",
          "data": {
            "image/png": "[encoded data removed]",
            "text/plain": [
              "<Figure size 432x288 with 1 Axes>"
            ]
          },
          "metadata": {
            "tags": []
          }
        },
        {
          "output_type": "display_data",
          "data": {
            "image/png": "[encoded data removed]",
            "text/plain": [
              "<Figure size 432x288 with 1 Axes>"
            ]
          },
          "metadata": {
            "tags": []
          }
        }
      ]
    }
  ]
}