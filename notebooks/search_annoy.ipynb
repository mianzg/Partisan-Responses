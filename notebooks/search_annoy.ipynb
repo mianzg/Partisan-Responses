{
 "cells": [
  {
   "cell_type": "code",
   "execution_count": 18,
   "metadata": {},
   "outputs": [],
   "source": [
    "import annoy\n",
    "from annoy import AnnoyIndex\n",
    "import random\n",
    "from transformers import pipeline\n",
    "from sklearn.feature_extraction.text import TfidfVectorizer\n",
    "import numpy as np\n",
    "import pandas as pd\n",
    "import nltk\n",
    "from nltk.tokenize import word_tokenize\n",
    "from nltk.stem import PorterStemmer\n",
    "import time\n",
    "from tqdm import tqdm"
   ]
  },
  {
   "cell_type": "code",
   "execution_count": 2,
   "metadata": {},
   "outputs": [],
   "source": [
    "speech = pd.read_pickle(\"Partisan-Responses/search_dataset_small.pkl\")"
   ]
  },
  {
   "cell_type": "code",
   "execution_count": 3,
   "metadata": {},
   "outputs": [
    {
     "data": {
      "text/plain": [
       "931553"
      ]
     },
     "execution_count": 3,
     "metadata": {},
     "output_type": "execute_result"
    }
   ],
   "source": [
    "len(speech)"
   ]
  },
  {
   "cell_type": "code",
   "execution_count": 4,
   "metadata": {},
   "outputs": [
    {
     "data": {
      "text/html": [
       "<div>\n",
       "<style scoped>\n",
       "    .dataframe tbody tr th:only-of-type {\n",
       "        vertical-align: middle;\n",
       "    }\n",
       "\n",
       "    .dataframe tbody tr th {\n",
       "        vertical-align: top;\n",
       "    }\n",
       "\n",
       "    .dataframe thead th {\n",
       "        text-align: right;\n",
       "    }\n",
       "</style>\n",
       "<table border=\"1\" class=\"dataframe\">\n",
       "  <thead>\n",
       "    <tr style=\"text-align: right;\">\n",
       "      <th></th>\n",
       "      <th>speech</th>\n",
       "      <th>party</th>\n",
       "      <th>stemmed_speech</th>\n",
       "      <th>year</th>\n",
       "    </tr>\n",
       "  </thead>\n",
       "  <tbody>\n",
       "    <tr>\n",
       "      <td>0</td>\n",
       "      <td>Mr. President, I wish to report on behalf of m...</td>\n",
       "      <td>R</td>\n",
       "      <td>mr. presid , i wish to report on behalf of mys...</td>\n",
       "      <td>098</td>\n",
       "    </tr>\n",
       "    <tr>\n",
       "      <td>1</td>\n",
       "      <td>Mr. President, as most of my colleagues are aw...</td>\n",
       "      <td>D</td>\n",
       "      <td>mr. presid , as most of my colleagu are awar ,...</td>\n",
       "      <td>098</td>\n",
       "    </tr>\n",
       "    <tr>\n",
       "      <td>2</td>\n",
       "      <td>Madam President, I send to the desk a resoluti...</td>\n",
       "      <td>R</td>\n",
       "      <td>madam presid , i send to the desk a resolut on...</td>\n",
       "      <td>098</td>\n",
       "    </tr>\n",
       "    <tr>\n",
       "      <td>3</td>\n",
       "      <td>Madam President, before I send a concurrent re...</td>\n",
       "      <td>R</td>\n",
       "      <td>madam presid , befor i send a concurr resolut ...</td>\n",
       "      <td>098</td>\n",
       "    </tr>\n",
       "    <tr>\n",
       "      <td>4</td>\n",
       "      <td>Madam President, I ask unanimous consent that ...</td>\n",
       "      <td>R</td>\n",
       "      <td>madam presid , i ask unanim consent that for t...</td>\n",
       "      <td>098</td>\n",
       "    </tr>\n",
       "  </tbody>\n",
       "</table>\n",
       "</div>"
      ],
      "text/plain": [
       "                                              speech party  \\\n",
       "0  Mr. President, I wish to report on behalf of m...     R   \n",
       "1  Mr. President, as most of my colleagues are aw...     D   \n",
       "2  Madam President, I send to the desk a resoluti...     R   \n",
       "3  Madam President, before I send a concurrent re...     R   \n",
       "4  Madam President, I ask unanimous consent that ...     R   \n",
       "\n",
       "                                      stemmed_speech year  \n",
       "0  mr. presid , i wish to report on behalf of mys...  098  \n",
       "1  mr. presid , as most of my colleagu are awar ,...  098  \n",
       "2  madam presid , i send to the desk a resolut on...  098  \n",
       "3  madam presid , befor i send a concurr resolut ...  098  \n",
       "4  madam presid , i ask unanim consent that for t...  098  "
      ]
     },
     "execution_count": 4,
     "metadata": {},
     "output_type": "execute_result"
    }
   ],
   "source": [
    "speech.head()"
   ]
  },
  {
   "cell_type": "code",
   "execution_count": null,
   "metadata": {},
   "outputs": [],
   "source": [
    "start = time.time()\n",
    "vectorizer = TfidfVectorizer(stop_words='english', min_df=5, max_df=.5, ngram_range=(1,2))\n",
    "tfidf = vectorizer.fit_transform(speech['stemmed_speech'])\n",
    "end = time.time()\n",
    "print(end - start)"
   ]
  },
  {
   "cell_type": "code",
   "execution_count": null,
   "metadata": {},
   "outputs": [],
   "source": [
    "tfidf.shape"
   ]
  },
  {
   "cell_type": "code",
   "execution_count": 5,
   "metadata": {},
   "outputs": [],
   "source": [
    "def lemmatize(phrase):\n",
    "    \"\"\"\n",
    "    Given some text, returns the lemmatized text\n",
    "\n",
    "    :param phrase: text to lemmatize\n",
    "    :return: lemmatized text\n",
    "    \"\"\"\n",
    "    ps = PorterStemmer()\n",
    "    return \" \".join([ps.stem(w.lower()) for w in word_tokenize(phrase)])"
   ]
  },
  {
   "cell_type": "code",
   "execution_count": 6,
   "metadata": {},
   "outputs": [],
   "source": [
    "def search(question, topk=5):\n",
    "    query = vectorizer.transform([lemmatize(question)])\n",
    "    scores = (tfidf * query.T).toarray()\n",
    "    results = (np.flip(np.argsort(scores, axis=0)))\n",
    "    return speech.iloc[results[:topk, 0]]"
   ]
  },
  {
   "cell_type": "code",
   "execution_count": 20,
   "metadata": {},
   "outputs": [
    {
     "name": "stdout",
     "output_type": "stream",
     "text": [
      "2.9871609210968018\n"
     ]
    }
   ],
   "source": [
    "question = \"What reforms were adopted by the 110th Congress?\"\n",
    "\n",
    "start = time.time()\n",
    "results = search(question, topk=10)\n",
    "end = time.time()\n",
    "print(end - start)\n",
    "\n",
    "qa_pipeline = pipeline(\"question-answering\")\n",
    "question_df = pd.DataFrame.from_records([{\n",
    "        'question': question,\n",
    "        'context': res\n",
    "    } for res in results[\"speech\"]])\n",
    "preds = qa_pipeline(question_df.to_dict('records'))\n",
    "answer_df = pd.DataFrame.from_records(preds).sort_values(by=\"score\", ascending=False)"
   ]
  },
  {
   "cell_type": "code",
   "execution_count": 21,
   "metadata": {},
   "outputs": [
    {
     "data": {
      "text/html": [
       "<div>\n",
       "<style scoped>\n",
       "    .dataframe tbody tr th:only-of-type {\n",
       "        vertical-align: middle;\n",
       "    }\n",
       "\n",
       "    .dataframe tbody tr th {\n",
       "        vertical-align: top;\n",
       "    }\n",
       "\n",
       "    .dataframe thead th {\n",
       "        text-align: right;\n",
       "    }\n",
       "</style>\n",
       "<table border=\"1\" class=\"dataframe\">\n",
       "  <thead>\n",
       "    <tr style=\"text-align: right;\">\n",
       "      <th></th>\n",
       "      <th>score</th>\n",
       "      <th>start</th>\n",
       "      <th>end</th>\n",
       "      <th>answer</th>\n",
       "    </tr>\n",
       "  </thead>\n",
       "  <tbody>\n",
       "    <tr>\n",
       "      <td>9</td>\n",
       "      <td>8.759375e-01</td>\n",
       "      <td>160</td>\n",
       "      <td>176</td>\n",
       "      <td>floor privileges</td>\n",
       "    </tr>\n",
       "    <tr>\n",
       "      <td>1</td>\n",
       "      <td>4.887475e-01</td>\n",
       "      <td>94</td>\n",
       "      <td>110</td>\n",
       "      <td>The AMERICA Act.</td>\n",
       "    </tr>\n",
       "    <tr>\n",
       "      <td>2</td>\n",
       "      <td>4.428043e-01</td>\n",
       "      <td>50</td>\n",
       "      <td>108</td>\n",
       "      <td>Republican Members of the Senate who will not ...</td>\n",
       "    </tr>\n",
       "    <tr>\n",
       "      <td>4</td>\n",
       "      <td>3.855834e-01</td>\n",
       "      <td>914</td>\n",
       "      <td>935</td>\n",
       "      <td>welfaretowork reform.</td>\n",
       "    </tr>\n",
       "    <tr>\n",
       "      <td>8</td>\n",
       "      <td>2.647674e-01</td>\n",
       "      <td>764</td>\n",
       "      <td>793</td>\n",
       "      <td>banning gifts from lobbyists,</td>\n",
       "    </tr>\n",
       "    <tr>\n",
       "      <td>3</td>\n",
       "      <td>2.288905e-01</td>\n",
       "      <td>184</td>\n",
       "      <td>189</td>\n",
       "      <td>rules</td>\n",
       "    </tr>\n",
       "    <tr>\n",
       "      <td>7</td>\n",
       "      <td>1.644282e-01</td>\n",
       "      <td>152</td>\n",
       "      <td>173</td>\n",
       "      <td>emergency designation</td>\n",
       "    </tr>\n",
       "    <tr>\n",
       "      <td>5</td>\n",
       "      <td>5.213201e-02</td>\n",
       "      <td>35</td>\n",
       "      <td>40</td>\n",
       "      <td>rules</td>\n",
       "    </tr>\n",
       "    <tr>\n",
       "      <td>6</td>\n",
       "      <td>2.507880e-07</td>\n",
       "      <td>1873</td>\n",
       "      <td>1953</td>\n",
       "      <td>stepping forward to defend freedom against the...</td>\n",
       "    </tr>\n",
       "    <tr>\n",
       "      <td>0</td>\n",
       "      <td>1.789373e-07</td>\n",
       "      <td>1102</td>\n",
       "      <td>1140</td>\n",
       "      <td>charting a new course for our country,</td>\n",
       "    </tr>\n",
       "  </tbody>\n",
       "</table>\n",
       "</div>"
      ],
      "text/plain": [
       "          score  start   end  \\\n",
       "9  8.759375e-01    160   176   \n",
       "1  4.887475e-01     94   110   \n",
       "2  4.428043e-01     50   108   \n",
       "4  3.855834e-01    914   935   \n",
       "8  2.647674e-01    764   793   \n",
       "3  2.288905e-01    184   189   \n",
       "7  1.644282e-01    152   173   \n",
       "5  5.213201e-02     35    40   \n",
       "6  2.507880e-07   1873  1953   \n",
       "0  1.789373e-07   1102  1140   \n",
       "\n",
       "                                              answer  \n",
       "9                                   floor privileges  \n",
       "1                                   The AMERICA Act.  \n",
       "2  Republican Members of the Senate who will not ...  \n",
       "4                              welfaretowork reform.  \n",
       "8                      banning gifts from lobbyists,  \n",
       "3                                              rules  \n",
       "7                              emergency designation  \n",
       "5                                              rules  \n",
       "6  stepping forward to defend freedom against the...  \n",
       "0             charting a new course for our country,  "
      ]
     },
     "execution_count": 21,
     "metadata": {},
     "output_type": "execute_result"
    }
   ],
   "source": [
    "answer_df"
   ]
  },
  {
   "cell_type": "code",
   "execution_count": 22,
   "metadata": {
    "scrolled": true
   },
   "outputs": [
    {
     "name": "stdout",
     "output_type": "stream",
     "text": [
      "Mr. Speaker, tonight I would like to welcome you. Mr. Speaker, and the American people to the Accountability Congress. Over the next 1 hour, my freshman colleagues and I will be claiming this hour to talk about the accomplishments of this 110th Congress. We have seen not only an auspicious and bold, brave, new agenda for the first 100 hours, but also the first 100 days. And we are not just going to talk about and celebrate the accomplishments of the last 100 days. We are going to talk about a vision for our country and talk about what will happen in the days to come. It is important. Mr. Speaker, that the American people know that by getting a new majority in the Congress that they have signed up to get a vision that is inclusive, that brings Americans all together, that makes for a safer America, a fairer economy, that makes for an economy where working people, middleclass people can strive and do well in our society. And joining me tonight with the members of the freshman class are a host of tremendously brave and tremenclously intelligent, capable leaders who are aiding not only in charting a new course for our country, but who in this very 110th Congress. Mr. Speaker, are fully engaged from the very top. The leadership has engaged our talents, our skills, our ability, and we have been proud to be able to help this 110th Congress be a stronger, better place. And tonight I am going to be anchoring the one hour, but I am not going to hang on to it long, I think the American people want to hear from the brilliance that this 110th Congress class has to offer. So in the very beginning, I am just going to pass it right off to\n",
      "\n",
      "There are thousands of bills introduced. But this was in the 110th Congress, and it is styled The AMERICA Act. A Modest Effort to Read and Instill the Constitution Again.\n",
      "\n",
      "Mr. President, I would like to pay tribute to the Republican Members of the Senate who will not be returning in the 110th Congress. Senators GEORGE ALLEN. CONRAD\n",
      "\n",
      "Madam Speaker. In accordance with clause 2(a)(2) of Rule XI of the Rules of the House of Representatives, I am reporting that the Committee on Financial Services adopted the following rules for the 110th Congress on January 31, 2007, and as amended on February 13, 2007, in open session, a quorum being present, and submit those rules for publication U.S. House of Representatives, 110th Congress. First Session\n",
      "\n",
      "Mr. President, first, let me praise our great majority leader and Senator MCCONNELL, the minority leader, for bringing us together for a good start to the 110th Congress. The idea of a joint caucus, both parties coming together to send a signal that we were going to work together in the 110th Congress as we begin, was a very good step, I believe Senator REID said we are now entering a season of hope and that we can move forward with hope for positive results in the 110th Congress. Senator MCCONNELL talked about how a government, even though it may be divided by the two parties and the executive branch, can be the kind of government that can bring about good results for the people of America. That was a very good statement as well. Citing what happened in the 1981 Reagan Social Security revision, that was an example of how a divided Government could get a result, as well as his speaking about the 1996 welfaretowork reform. That was another good example of how we can get things done.\n",
      "\n",
      "It is simply implementation of the rules that have existed for the 109th Congress, I clearly was talking about the rules for the 110th Congress. In fact, if the gentleman was here when I had an exchange with the distinguished new Chair of the Rules Committee when she tried to argue that we somehow were debating the rules for the 109th Congress, the Chair confirmed the fact that we are in fact considering in toto the package for the 110th Congress using as base text the 109th. What I have here and if I am able to gain unanimous consent for this. Mr. Speaker, to include in the RECORD, is the draft which uses the 109th base text and has the proposed changes, the different titles for the proposed changes for the rules of the 110th Congress, I would ask unanimous consent to include this draft with the date and the time on it showing that it did not fall within the 24hour notification period of time that my friends have consistently insisted on.\n",
      "\n",
      "Mr. President, I rise to pay tribute to the members of the 110th A.A.A. Gun Battalion. This weekend, the 110th will be holding a reunion in Cromwell. CT, to commemorate the 60th anniversary of the Allied victory in the Second World War. The 110th played a critical role in the campaign in Europe. They were trained in England in preparation for the Allied invasion in 1944. On June 7 a day after DDay they reached Omaha Beach in France with orders to \"protect all ground forces from enemy aircraft.\" Members of the 110th also participated in the liberation of Paris, the crossing of the Rhine, and the Battle of the Bulge. The bravery and accomplishments of the 110th earned the unit considerable praise. Brigadier General E.W. Timberlake commended the men of the 110th for their \"outstanding drive, tenacity of purpose, and aggressiveness.\" while Colonel Thomas Munford lauded the battalion for its \"outstanding performance of every assigned mission, both in training and in battle.\" A few of the achievements of the 110th deserve particular recognition. They successfully shot down what is believed to be the first German plane downed in France during the liberation of Europe. Members of their reconnaissance team were among the first Americans to enter Paris. In total, the 110th destroyed 65 enemy planes, 11 tanks, and 80 ground vehicles. It gives me a good deal of pride to note that many of the members of the 110th hailed from Massachusetts and Connecticut. As the birthplace of our Nation. New England boasts a long and honored tradition of deep patriotism and dedicated service to our country. New Englanders have served in every single one of our Nations conflicts, from the Revolutionary War to Operation Iraqi Freedom. During the Second World War, the fate of not only our own Nation but the world was at stake. And New Englanders joined our entire Nation in stepping forward to defend freedom against the forces of tyranny and oppression. Sadly, with each passing year, fewer and fewer of our World War II veterans remain with us. We can all remember the deeply emotional moment last year when thousands of World War II vets gathered here in our Nations capital for the opening of the National World War II Memorial. Just as notable, though, are the smaller gatherings that take place around our Nation that provide veterans with the opportunity to renew old ties, to meet each others families, and to reminisce about the unforgettable experiences they shared many years ago. On that note, I would like to offer congratulations to Leo Kania of Middletown. CT, who served as a corporal in the 110th. This weeks reunion is the 6th such event Mr. Kania has organized over the years. This weekend, members of the 110th will have the opportunity to tour the very boat that took them to Omaha Beach six decades ago. The dedication Mr. Kania has shown is a testament to his devotion to his battalion, his pride in his country, and his spirit of friendship, I offer my congratulations and my humble thanks to the members of the 110th A.A.A. Gun Battalion, and I extend my best wishes to them and their families on this momentous anniversary.\n",
      "\n",
      "Madam President, pursuant to section 204(a) of the 2008 budget resolution. S. Con. Res, 21, of the 110th Congress, I raise a point of order against the emergency designation in section 5(a) of the conference report.\n",
      "\n",
      "Madam Speaker, let me congratulate you for your reelection as Speaker of the House. It is an honor that you tave served with great distinction and verve, I look forward to more of your continued leadership in the 111th Congress. Mr. Speaker, I rise today in support of H. Res, 5. Adopting the rules for the One Hundred Eleventh Congress. The House Rules Package provides commonsense reforms that will enable Congress to work more efficiently for America. In the 110th Congress. Democrats put forth critical measures to restore integrity and accountability to the House. These reforms were the most sweeping ethics and lobbying reforms since Watergate and has changed the way Congress does business in Washington. The reforms adopted by the 110th Congress included banning gifts from lobbyists, prohibiting the use of corporate jets, mandating ethics training for all House employees, establishing a new, independent Office of Congressional Ethics, and ensuring transparency for budget earmarks by requiring the full disclosure of earmarks in all bills and conference reports. The Rule Package for the 111th Congress builds upon these reforms to further strengthen the integrity of Congress. Key provisions include closing the loophole regarding \"lameduck\" Members negotiating postCongressional employment, codifying additional earmark reforms adopted in midterm in the 1 10th Congress, continuing the Office of Congressional Ethics, maintaining strong PAYGO rules, and improving Congresss effectiveness by removing an abusive practice where popular measures are killed through unrelated. \"gotcha\" amendments on motions to recommit. On this last point, noted Congressional scholar Norm Ornstein pointed out in the Roll Call. August 13, 2007. \"Using promptly . . , is a subterfuge, a way to kill bills, and reflects a desire not to legislate but embarrass vulnerable majority Members through a \"gotcha\" process. The Rules Package protects the minority and still preserves its ability to recommit. Specifically, the minority can offer a motion to recommit \"forthwith.\" where the GOP amendment is immediately voted upon and, if adopted, is added to the bill. Additionally, the minority can offer a straight motion to recommit the bill to committee (in which case the vote occurs on the merits of the bill itself). Mr. Speaker, the Rules Package removes term limits for Committee Chairmen from House Rules. Instead, each party should determine its own rules on the tenure of Committee Chairs and/or Ranking Membersand they should be reflected in Democratic Caucus Rules and Republican Conference Rules. In practice, term limits have resulted in the creation of a \"paytoplay\" system, where the chief criterion for being selected as a new Chair has in many instances been a Members fundraising prowess. This had the effect of focusing upon fundraising and undermining the integrity of Congress and the legislative process. Lastly, I am pleased that the Select Committee on Energy independence and Global Warming, the Tom Lantos Human Rights Commission, and the House Democracy Assistance Commission will be continued. These entities have done tremendous work, I urge my colleagues to support the Rules Package, I believe this package restores integrity and accountability.\n",
      "\n",
      "Mr. President, I ask unanimous consent that the following detailees and fellows on my staff. Mary Giovagnoll. Todd Kushner, and Mischelle VanBrakle, be granted floor privileges for the remainder of the first session of the 110th Congress.\n",
      "\n"
     ]
    }
   ],
   "source": [
    "for res in results[\"speech\"]:\n",
    "    print(res)\n",
    "    print()"
   ]
  },
  {
   "cell_type": "code",
   "execution_count": 7,
   "metadata": {},
   "outputs": [
    {
     "name": "stdout",
     "output_type": "stream",
     "text": [
      "55439\n"
     ]
    }
   ],
   "source": [
    "speech_111 = speech[speech['year'] == '111']\n",
    "print(len(speech_111))"
   ]
  },
  {
   "cell_type": "code",
   "execution_count": 21,
   "metadata": {},
   "outputs": [
    {
     "name": "stdout",
     "output_type": "stream",
     "text": [
      "90.48930287361145\n"
     ]
    }
   ],
   "source": [
    "start = time.time()\n",
    "vectorizer_111 = TfidfVectorizer(stop_words='english', min_df=5, max_df=.5, ngram_range=(1,3))\n",
    "tfidf_111 = vectorizer_111.fit_transform(speech_111['stemmed_speech'])\n",
    "end = time.time()\n",
    "print(end - start)"
   ]
  },
  {
   "cell_type": "code",
   "execution_count": null,
   "metadata": {},
   "outputs": [],
   "source": [
    "data = {\n",
    "    'vec': vectorizer_111,\n",
    "    'tfidf': tfidf_111\n",
    "}\n",
    "with open(\"tfidf_data_111.pkl\", 'wb') as file:\n",
    "    pickle.dump(data, file)"
   ]
  },
  {
   "cell_type": "code",
   "execution_count": 22,
   "metadata": {},
   "outputs": [
    {
     "data": {
      "text/plain": [
       "(55439, 374167)"
      ]
     },
     "execution_count": 22,
     "metadata": {},
     "output_type": "execute_result"
    }
   ],
   "source": [
    "tfidf_111.shape"
   ]
  },
  {
   "cell_type": "code",
   "execution_count": 23,
   "metadata": {},
   "outputs": [],
   "source": [
    "def search(question, topk=5):\n",
    "    query = vectorizer_111.transform([lemmatize(question)])\n",
    "    scores = (tfidf_111 * query.T).toarray()\n",
    "    results = (np.flip(np.argsort(scores, axis=0)))\n",
    "    return speech_111.iloc[results[:topk, 0]]"
   ]
  },
  {
   "cell_type": "code",
   "execution_count": 24,
   "metadata": {},
   "outputs": [
    {
     "name": "stdout",
     "output_type": "stream",
     "text": [
      "0.15324115753173828\n"
     ]
    },
    {
     "data": {
      "text/html": [
       "<div>\n",
       "<style scoped>\n",
       "    .dataframe tbody tr th:only-of-type {\n",
       "        vertical-align: middle;\n",
       "    }\n",
       "\n",
       "    .dataframe tbody tr th {\n",
       "        vertical-align: top;\n",
       "    }\n",
       "\n",
       "    .dataframe thead th {\n",
       "        text-align: right;\n",
       "    }\n",
       "</style>\n",
       "<table border=\"1\" class=\"dataframe\">\n",
       "  <thead>\n",
       "    <tr style=\"text-align: right;\">\n",
       "      <th></th>\n",
       "      <th>score</th>\n",
       "      <th>start</th>\n",
       "      <th>end</th>\n",
       "      <th>answer</th>\n",
       "    </tr>\n",
       "  </thead>\n",
       "  <tbody>\n",
       "    <tr>\n",
       "      <td>5</td>\n",
       "      <td>0.592445</td>\n",
       "      <td>395</td>\n",
       "      <td>411</td>\n",
       "      <td>procedural rules</td>\n",
       "    </tr>\n",
       "    <tr>\n",
       "      <td>3</td>\n",
       "      <td>0.532642</td>\n",
       "      <td>2744</td>\n",
       "      <td>2793</td>\n",
       "      <td>National Adoption Month and National Adoption Day</td>\n",
       "    </tr>\n",
       "    <tr>\n",
       "      <td>0</td>\n",
       "      <td>0.264767</td>\n",
       "      <td>764</td>\n",
       "      <td>793</td>\n",
       "      <td>banning gifts from lobbyists,</td>\n",
       "    </tr>\n",
       "    <tr>\n",
       "      <td>2</td>\n",
       "      <td>0.254573</td>\n",
       "      <td>504</td>\n",
       "      <td>586</td>\n",
       "      <td>Congress made significant advances in providin...</td>\n",
       "    </tr>\n",
       "    <tr>\n",
       "      <td>6</td>\n",
       "      <td>0.201100</td>\n",
       "      <td>113</td>\n",
       "      <td>127</td>\n",
       "      <td>rules package,</td>\n",
       "    </tr>\n",
       "    <tr>\n",
       "      <td>4</td>\n",
       "      <td>0.192795</td>\n",
       "      <td>502</td>\n",
       "      <td>588</td>\n",
       "      <td>Congress has made significant advances in prov...</td>\n",
       "    </tr>\n",
       "    <tr>\n",
       "      <td>1</td>\n",
       "      <td>0.164428</td>\n",
       "      <td>152</td>\n",
       "      <td>173</td>\n",
       "      <td>emergency designation</td>\n",
       "    </tr>\n",
       "    <tr>\n",
       "      <td>8</td>\n",
       "      <td>0.001296</td>\n",
       "      <td>854</td>\n",
       "      <td>922</td>\n",
       "      <td>staff members of congressional liaison offices...</td>\n",
       "    </tr>\n",
       "    <tr>\n",
       "      <td>9</td>\n",
       "      <td>0.000596</td>\n",
       "      <td>620</td>\n",
       "      <td>689</td>\n",
       "      <td>a family from their district that exemplifies ...</td>\n",
       "    </tr>\n",
       "    <tr>\n",
       "      <td>7</td>\n",
       "      <td>0.000212</td>\n",
       "      <td>334</td>\n",
       "      <td>426</td>\n",
       "      <td>strengthen the adoption tax credit and make we...</td>\n",
       "    </tr>\n",
       "  </tbody>\n",
       "</table>\n",
       "</div>"
      ],
      "text/plain": [
       "      score  start   end                                             answer\n",
       "5  0.592445    395   411                                   procedural rules\n",
       "3  0.532642   2744  2793  National Adoption Month and National Adoption Day\n",
       "0  0.264767    764   793                      banning gifts from lobbyists,\n",
       "2  0.254573    504   586  Congress made significant advances in providin...\n",
       "6  0.201100    113   127                                     rules package,\n",
       "4  0.192795    502   588  Congress has made significant advances in prov...\n",
       "1  0.164428    152   173                              emergency designation\n",
       "8  0.001296    854   922  staff members of congressional liaison offices...\n",
       "9  0.000596    620   689  a family from their district that exemplifies ...\n",
       "7  0.000212    334   426  strengthen the adoption tax credit and make we..."
      ]
     },
     "execution_count": 24,
     "metadata": {},
     "output_type": "execute_result"
    }
   ],
   "source": [
    "question = \"What reforms were adopted by the 110th Congress?\"\n",
    "\n",
    "start = time.time()\n",
    "results = search(question, topk=10)\n",
    "end = time.time()\n",
    "print(end - start)\n",
    "\n",
    "qa_pipeline = pipeline(\"question-answering\")\n",
    "question_df = pd.DataFrame.from_records([{\n",
    "        'question': question,\n",
    "        'context': res\n",
    "    } for res in results[\"speech\"]])\n",
    "preds = qa_pipeline(question_df.to_dict('records'))\n",
    "answer_df = pd.DataFrame.from_records(preds).sort_values(by=\"score\", ascending=False)\n",
    "answer_df"
   ]
  },
  {
   "cell_type": "markdown",
   "metadata": {},
   "source": [
    "### Annoy"
   ]
  },
  {
   "cell_type": "code",
   "execution_count": 19,
   "metadata": {},
   "outputs": [
    {
     "name": "stdout",
     "output_type": "stream",
     "text": [
      "275835\n"
     ]
    }
   ],
   "source": [
    "VECTOR_LENGTH = tfidf_111.shape[1]\n",
    "METRIC = 'angular'\n",
    "print(VECTOR_LENGTH)"
   ]
  },
  {
   "cell_type": "code",
   "execution_count": null,
   "metadata": {},
   "outputs": [],
   "source": [
    "annoy_index = AnnoyIndex(VECTOR_LENGTH, metric=METRIC)\n",
    "\n",
    "item_counter = 0\n",
    "for i in tqdm(range(len(speech_111))):\n",
    "    annoy_index.add_item(item_counter, tfidf_111.toarray()[i, :])\n",
    "    item_counter += 1\n",
    "\n",
    "question_index = item_counter"
   ]
  },
  {
   "cell_type": "code",
   "execution_count": null,
   "metadata": {},
   "outputs": [],
   "source": [
    "question = \"What reforms were adopted by the 110th Congress?\"\n",
    "query = vectorizer_111.transform([lemmatize(question)])\n",
    "\n",
    "annoy_index.add_item(question_index, query)"
   ]
  },
  {
   "cell_type": "code",
   "execution_count": null,
   "metadata": {},
   "outputs": [],
   "source": [
    "annoy_index.build(n_trees=100)\n",
    "nr_items = annoy_index.get_n_items()\n",
    "print(nr_items)"
   ]
  },
  {
   "cell_type": "code",
   "execution_count": null,
   "metadata": {},
   "outputs": [],
   "source": [
    "print(annoy_index.get_nns_by_item(question_index, 10))"
   ]
  }
 ],
 "metadata": {
  "kernelspec": {
   "display_name": "Python 3",
   "language": "python",
   "name": "python3"
  },
  "language_info": {
   "codemirror_mode": {
    "name": "ipython",
    "version": 3
   },
   "file_extension": ".py",
   "mimetype": "text/x-python",
   "name": "python",
   "nbconvert_exporter": "python",
   "pygments_lexer": "ipython3",
   "version": "3.7.4"
  }
 },
 "nbformat": 4,
 "nbformat_minor": 2
}
