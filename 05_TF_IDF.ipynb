{
  "nbformat": 4,
  "nbformat_minor": 0,
  "metadata": {
    "colab": {
      "name": "05_TF-IDF.ipynb",
      "provenance": [],
      "authorship_tag": "ABX9TyOwRbi6ZDLh3mLNbpDsCJnU",
      "include_colab_link": true
    },
    "kernelspec": {
      "name": "python3",
      "display_name": "Python 3"
    }
  },
  "cells": [
    {
      "cell_type": "markdown",
      "metadata": {
        "id": "view-in-github",
        "colab_type": "text"
      },
      "source": [
        "<a href=\"https://colab.research.google.com/github/rostro36/Partisan-Responses/blob/master/05_TF_IDF.ipynb\" target=\"_parent\"><img src=\"https://colab.research.google.com/assets/colab-badge.svg\" alt=\"Open In Colab\"/></a>"
      ]
    },
    {
      "cell_type": "code",
      "metadata": {
        "id": "PlrSGTQd9Qpw",
        "colab_type": "code",
        "colab": {}
      },
      "source": [
        "from google.colab import drive\n",
        "drive.mount('/content/drive')\n",
        "\n",
        "import os\n",
        "os.chdir('/content/drive/My Drive/Partisan-Responses-master')"
      ],
      "execution_count": null,
      "outputs": []
    },
    {
      "cell_type": "code",
      "metadata": {
        "id": "s10ACcFv9bA8",
        "colab_type": "code",
        "colab": {}
      },
      "source": [
        "!pip install allennlp\n",
        "!pip install transformers\n",
        "!pip install neuralcoref allennlp hnswlib allennlp-models torch==1.5.0+cu101 -f https://download.pytorch.org/whl/torch_stable.html\n",
        "!pip install -U spacy[cuda101]==2.1.1\n",
        "!python -m spacy download en\n",
        "!pip install wandb"
      ],
      "execution_count": null,
      "outputs": []
    },
    {
      "cell_type": "code",
      "metadata": {
        "id": "F6Kh3XXX8p2M",
        "colab_type": "code",
        "colab": {}
      },
      "source": [
        "import pandas as pd\n",
        "from utils import add_stemmed_col_to_df\n",
        "from Search import Search"
      ],
      "execution_count": null,
      "outputs": []
    },
    {
      "cell_type": "markdown",
      "metadata": {
        "id": "vUyhkZL98yTj",
        "colab_type": "text"
      },
      "source": [
        "Add new column for stemmed speeches"
      ]
    },
    {
      "cell_type": "code",
      "metadata": {
        "id": "uheSPbgD8aI7",
        "colab_type": "code",
        "colab": {}
      },
      "source": [
        "speeches = pd.read_pickle(\"all_speech_sentence_filtered.pkl\")\n",
        "new_speeches = add_stemmed_col_to_df(speeches, \"Questions\", \"Stemmed\")\n",
        "new_speeches.to_pickle(\"all_speech_filtered_stemmed.pkl\")"
      ],
      "execution_count": null,
      "outputs": []
    },
    {
      "cell_type": "markdown",
      "metadata": {
        "id": "_vkTUwRF82xf",
        "colab_type": "text"
      },
      "source": [
        "Create TF-IDF vectorizers and pretrain them on the speeches for later use"
      ]
    },
    {
      "cell_type": "code",
      "metadata": {
        "id": "g1KyAoND9AGk",
        "colab_type": "code",
        "colab": {}
      },
      "source": [
        "speeches = pd.read_pickle(\"all_speech_filtered_stemmed.pkl\")\n",
        "search = Search(speeches=speeches)\n",
        "print(\"----- Saving data -----\")\n",
        "search.save_data()"
      ],
      "execution_count": null,
      "outputs": []
    }
  ]
}